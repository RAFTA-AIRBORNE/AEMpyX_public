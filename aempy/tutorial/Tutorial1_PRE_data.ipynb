{
 "cells": [
  {
   "cell_type": "code",
   "execution_count": null,
   "id": "689861f1",
   "metadata": {},
   "outputs": [],
   "source": [
    "%matplotlib inline"
   ]
  },
  {
   "cell_type": "code",
   "execution_count": null,
   "id": "e3574e50",
   "metadata": {},
   "outputs": [],
   "source": [
    "\n",
    "# -*- coding: utf-8 -*-\n",
    "# ---\n",
    "# jupyter:\n",
    "#   jupytext:\n",
    "#     cell_metadata_filter: title,-all\n",
    "#     formats: py:light,ipynb\n",
    "#     text_representation:\n",
    "#       extension: .py\n",
    "#       format_name: light\n",
    "#       format_version: '1.5'\n",
    "#       jupytext_version: 1.11.4\n",
    "#   kernelspec:\n",
    "#     display_name: Python 3\n",
    "#     language: python\n",
    "#     name: python3\n",
    "# ---"
   ]
  },
  {
   "cell_type": "markdown",
   "id": "a6283b11",
   "metadata": {
    "cell_marker": "\"\"\"",
    "lines_to_next_cell": 0
   },
   "source": [
    "\n",
    "This script present a work flow preparing data for further\n",
    "preprocessing with PREP_Process.\n",
    "\n",
    "Current options are :\n",
    "    - change projection for spatial coordinates\n",
    "    - split data into flightOutLines\n",
    "    - choose data subset by rectangle (polygon in preparation)\n",
    "    - write as ASCII file and NETCDF\n",
    "    (- project data to profile in preparation)\n",
    "\n",
    "@author: vrath nov 2020"
   ]
  },
  {
   "cell_type": "code",
   "execution_count": null,
   "id": "807be9c8",
   "metadata": {
    "lines_to_next_cell": 0
   },
   "outputs": [],
   "source": [
    "import os\n",
    "import sys\n",
    "from sys import exit as error\n",
    "from time import process_time\n",
    "from datetime import datetime\n",
    "import warnings\n",
    "# import pickle\n",
    "\n",
    "import numpy\n",
    "\n",
    "\n",
    "AEMPYX_ROOT = os.environ[\"AEMPYX_ROOT\"]\n",
    "mypath = [AEMPYX_ROOT+\"/aempy/modules/\", AEMPYX_ROOT+\"/aempy/scripts/\"]\n",
    "for pth in mypath:\n",
    "    if pth not in sys.path:\n",
    "        sys.path.insert(0,pth)\n",
    "\n",
    "from version import versionstrg\n",
    "import util\n",
    "import aesys\n",
    "\n",
    "warnings.simplefilter(action=\"ignore\", category=FutureWarning)\n",
    "\n",
    "\n",
    "OutInfo = True\n",
    "AEMPYX_DATA = os.environ[\"AEMPYX_DATA\"]\n",
    "\n",
    "version, _ = versionstrg()\n",
    "titstrng = util.print_title(version=version, fname=__file__, out=False)\n",
    "print(titstrng+\"\\n\\n\")\n",
    "\n",
    "now = datetime.now()\n",
    "Header = titstrng\n",
    "\n",
    "\n",
    "OutInfo = True\n",
    "\n",
    "\n",
    "OutFileFmt = \".npz\"#\".asc\" #\".npz\"\n",
    "FileList = \"search\"  # \"search\", \"read\"\n",
    "LinesOut = True\n",
    "LinesMin = 30\n",
    "CheckNaN = True\n",
    "MergeOut = True\n",
    "SearchStr = \".xyz\""
   ]
  },
  {
   "cell_type": "markdown",
   "id": "f14026ea",
   "metadata": {
    "cell_marker": "\"\"\"",
    "lines_to_next_cell": 0
   },
   "source": [
    "Change data projection\n"
   ]
  },
  {
   "cell_type": "code",
   "execution_count": null,
   "id": "27a10f86",
   "metadata": {},
   "outputs": [],
   "source": [
    "SetProj = False\n",
    "if SetProj:\n",
    "    ProjInp = \"\"\n",
    "    ProjOut = \"\""
   ]
  },
  {
   "cell_type": "markdown",
   "id": "4324e8c1",
   "metadata": {
    "cell_marker": "\"\"\"",
    "lines_to_next_cell": 0
   },
   "source": [
    "Put all flightlines in same direction"
   ]
  },
  {
   "cell_type": "code",
   "execution_count": null,
   "id": "fc826854",
   "metadata": {},
   "outputs": [],
   "source": [
    "TellusAng = 345.\n",
    "Spread = 5.\n",
    "CorrectDirection = True\n"
   ]
  },
  {
   "cell_type": "markdown",
   "id": "bcb26a1d",
   "metadata": {
    "cell_marker": "\"\"\"",
    "lines_to_next_cell": 0
   },
   "source": [
    "Data selection\n"
   ]
  },
  {
   "cell_type": "markdown",
   "id": "ddf6ca4d",
   "metadata": {},
   "source": []
  },
  {
   "cell_type": "code",
   "execution_count": null,
   "id": "8304d637",
   "metadata": {},
   "outputs": [],
   "source": [
    "RectCorners = []\n",
    "PolyFiles = []\n",
    "DataSelect = \"\""
   ]
  },
  {
   "cell_type": "markdown",
   "id": "b82b123d",
   "metadata": {
    "lines_to_next_cell": 0
   },
   "source": [
    "Full Blocks\n",
    "##############################################################################"
   ]
  },
  {
   "cell_type": "code",
   "execution_count": null,
   "id": "9599b51e",
   "metadata": {},
   "outputs": [],
   "source": [
    "AEM_system = \"aem05\"\n",
    "_, NN, _, _, _, = aesys.get_system_params(AEM_system)\n",
    "nD = NN[0]\n",
    "\n",
    "# InDatDir = AEMPYX_DATA+\"/Blocks/A1/orig/\"\n",
    "# OutDatDir = AEMPYX_DATA+\"/Blocks/A1/raw/\"\n",
    "# InSurvey = \"A1\"\n",
    "# InPoly = \"A1_2019_utm.npz\"\n",
    "# OutStrng = InSurvey\n",
    "\n",
    "# InDatDir = AEMPYX_DATA+\"/Blocks/A2/orig/\"\n",
    "# OutDatDir = AEMPYX_DATA+\"/Blocks/A2/raw/\"\n",
    "# InSurvey = \"A2\"\n",
    "# InPoly = \"A2_2019_utm.npz\"\n",
    "# OutStrng = InSurvey\n",
    "\n",
    "# InDatDir = AEMPYX_DATA+\"/Blocks/A3/orig/\"\n",
    "# OutDatDir = AEMPYX_DATA+\"/Blocks/A3/raw/\"\n",
    "# InSurvey = \"A3\"\n",
    "# InPoly = \"A3_2019_utm.npz\"\n",
    "# OutStrng = InSurvey\n",
    "\n",
    "# InDatDir = AEMPYX_DATA+\"/Blocks/A4/orig/\"\n",
    "# OutDatDir = AEMPYX_DATA+\"/Blocks/A4/raw/\"\n",
    "# InSurvey = \"A4\"\n",
    "# InPoly = \"A4_2019_utm.npz\"\n",
    "# OutStrng = InSurvey\n",
    "\n",
    "# InDatDir = AEMPYX_DATA+\"/Blocks/A5/orig/\"\n",
    "# OutDatDir = AEMPYX_DATA+\"/Blocks/A5/raw/\"\n",
    "# InSurvey = \"A5\"\n",
    "# InPoly = \"A5_2019_utm.npz\"\n",
    "# OutStrng = InSurvey\n",
    "\n",
    "# InDatDir = AEMPYX_DATA+\"/Blocks/A6/orig/\"\n",
    "# OutDatDir = AEMPYX_DATA+\"/Blocks/A6/raw/\"\n",
    "# InSurvey = \"A6\"\n",
    "# InPoly = \"A6_2019_utm.npz\"\n",
    "# OutStrng = InSurvey\n",
    "\n",
    "# InDatDir = AEMPYX_DATA+\"/Blocks/A7/orig/\"\n",
    "# OutDatDir = AEMPYX_DATA+\"/Blocks/A7/raw/\"\n",
    "# InSurvey = \"A7\"\n",
    "# InPoly = \"A7_2019_utm.npz\"\n",
    "# OutStrng = InSurvey\n",
    "\n",
    "# InDatDir = AEMPYX_DATA+\"/Blocks/A8/orig/\"\n",
    "# OutDatDir = AEMPYX_DATA+\"/Blocks/A8/raw/\"\n",
    "# InSurvey = \"A8\"\n",
    "# # InPoly = \"A7_2019_utm.npz\"\n",
    "# OutStrng = InSurvey\n",
    "\n",
    "# InDatDir = AEMPYX_DATA+\"/Blocks/A9/orig/\"\n",
    "# OutDatDir = AEMPYX_DATA+\"/Blocks/A9/raw/\"\n",
    "# InSurvey = \"A9\"\n",
    "# # InPoly = \"A7_2019_utm.npz\"\n",
    "# OutStrng = InSurvey\n",
    "\n",
    "# InDatDir = AEMPYX_DATA+\"/Blocks/TB/orig/\"\n",
    "# OutDatDir = AEMPYX_DATA+\"/Blocks/TB/raw/\"\n",
    "# InSurvey = \"TB\"\n",
    "# InPoly = \"TB_2019_utm.npz\"\n",
    "# OutStrng = InSurvey\n",
    "\n",
    "# InDatDir = AEMPYX_DATA+\"/Blocks/WF/orig/\"\n",
    "# OutDatDir = AEMPYX_DATA+\"/Blocks/WF/raw/\"\n",
    "# InSurvey = \"WF\"\n",
    "# InPoly = \"WF_2019_utm.npz\"\n",
    "# OutStrng = InSurvey"
   ]
  },
  {
   "cell_type": "markdown",
   "id": "9121a409",
   "metadata": {},
   "source": [
    "StGormans\n",
    "##############################################################################"
   ]
  },
  {
   "cell_type": "code",
   "execution_count": null,
   "id": "6a84e378",
   "metadata": {
    "lines_to_next_cell": 0
   },
   "outputs": [],
   "source": [
    "# DataSelect = \"Rectangle\"   # \"Polygon\", \"Intersection\", \"Union\"\n",
    "# InDatDir = AEMPYX_DATA+\"/Blocks/A1/orig/\"\n",
    "# OutDatDir = AEMPYX_DATA+\"/Projects/StGormans/raw/\"\n",
    "# RectCorners = [638968.67, 5922331.93,  641519.17, 5924940.46]  # StGormans\n",
    "# InSurvey = \"A1\"\n",
    "# OutStrng = InSurvey+\"_rect_StGormans\""
   ]
  },
  {
   "cell_type": "markdown",
   "id": "62cffc91",
   "metadata": {},
   "source": [
    "LoughGur\n",
    "##############################################################################\n",
    "DataSelect = \"Rectangle\"   # \"Polygon\", \"Intersection\", \"Union\"\n",
    "InDatDir = AEMPYX_DATA+\"/Blocks/A5/orig/\"\n",
    "OutDatDir = AEMPYX_DATA+\"/Projects/LoughGur/raw/\"\n",
    "RectCorners = [529600., 5816800., 534200., 5820250.] # StGormans\n",
    "InSurvey = \"A5\"\n",
    "OutStrng = InSurvey+\"_rect_LoughGur\""
   ]
  },
  {
   "cell_type": "markdown",
   "id": "e0ab2892",
   "metadata": {
    "cell_marker": "# ###############################################################################"
   },
   "source": [
    "# Limerick\n",
    "###############################################################################\n",
    "DataSelect = \"Rectangle\"   # \"Polygon\", \"Intersection\", \"Union\"\n",
    "InDatDir = AEMPYX_ROOT+\"/work/data/\"\n",
    "OutDatDir = AEMPYX_DATA+\"/Projects/LoughGur/raw/\"\n",
    "RectCorners = [486000., 5815000., 498000., 5828000.] # StGormans\n",
    "InSurvey = \"A5\"\n",
    "OutStrng = InSurvey+\"_rect_shale\""
   ]
  },
  {
   "cell_type": "markdown",
   "id": "4c70ee01",
   "metadata": {},
   "source": [
    "Munster\n",
    "##############################################################################\n",
    "##############################################################################\n",
    "Munster\n",
    "##############################################################################"
   ]
  },
  {
   "cell_type": "code",
   "execution_count": null,
   "id": "aeca85b7",
   "metadata": {},
   "outputs": [],
   "source": [
    "DataSelect = \"Rectangle\"   # \"Polygon\", \"Intersection\", \"Union\"\n",
    "InDatDir = AEMPYX_DATA+\"/Blocks/A9/orig/\"\n",
    "OutDatDir = AEMPYX_DATA+\"/Projects/Munster/raw/\"\n",
    "# RectCorners = [516860.94, 5786658.92,   536925.58, 5768259.04 ]# Munster\n",
    "RectCorners = [516000., 5768000.,   541000., 5788000. ]# Munster\n",
    "InSurvey = \"A9\"\n",
    "OutStrng = InSurvey+\"_rect_Munster\"\n"
   ]
  },
  {
   "cell_type": "markdown",
   "id": "0c27803b",
   "metadata": {},
   "source": [
    "CGG NM\n",
    "##############################################################################\n",
    "AEM_system = \"genesis\"\n",
    "_, NN, _, _, _, = aesys.get_system_params(AEM_system)\n",
    "nD = NN[0]\n",
    "InDatDir = AEMPYX_DATA+\"/Blocks/NM/orig/\"\n",
    "OutDatDir = AEMPYX_DATA+\"/Blocks/NM/raw/\"\n",
    "InSurvey = \"NM\"\n",
    "# InPoly = \"NM_2019_utm.npz\"\n",
    "OutStrng = InSurvey"
   ]
  },
  {
   "cell_type": "markdown",
   "id": "2d6a16fc",
   "metadata": {},
   "source": [
    "Overlap Area\n",
    "##############################################################################\n",
    "InSurvey = \"A1\"\n",
    "InPoly = \"A1_2019_utm.npz\"\n",
    "InDatDir = AEMPYX_DATA+\"/Blocks/A1/orig/\"\n",
    "OutStrng = InSurvey+\"_NM_intersection\""
   ]
  },
  {
   "cell_type": "code",
   "execution_count": null,
   "id": "7e3f8cb6",
   "metadata": {},
   "outputs": [],
   "source": [
    "# InSurvey = \"A2\"\n",
    "# InPoly = \"A2_2019_utm.npz\"\n",
    "# InDatDir = AEMPYX_DATA+\"/Blocks/A2/orig/\"\n",
    "# OutStrng = InSurvey+\"_NM_intersection\"\n",
    "\n",
    "# InSurvey = \"TB\"\n",
    "# InPoly = \"TB_2019_utm.npz\"\n",
    "# InDatDir = AEMPYX_DATA+\"/Blocks/TB/orig/\"\n",
    "# OutStrng = InSurvey+\"_NM_intersection\"\n",
    "\n",
    "# DataSelect = \"Intersection\"   # \"Polygon\", \"Intersection\", \"Union\"\n",
    "# OutDatDir = AEMPYX_DATA+\"/RAFTA/Intersection/raw/\"\n",
    "# PolyDir = AEMPYX_DATA+\"/RAFTA/Intersection/polygons/\"\n",
    "# PolyFiles = [PolyDir+InPoly,PolyDir+\"TNM_2019_utm.npz\"]\n"
   ]
  },
  {
   "cell_type": "markdown",
   "id": "e314940f",
   "metadata": {
    "cell_marker": "\"\"\""
   },
   "source": [
    "Output formats are \"npz\",\"nc4\",\"asc\""
   ]
  },
  {
   "cell_type": "code",
   "execution_count": null,
   "id": "70cca2cc",
   "metadata": {},
   "outputs": [],
   "source": [
    "\n",
    "\n",
    "print(\"Data read from dir:  %s\" % InDatDir)\n",
    "print(\"Data written to dir: %s\" % OutDatDir)\n",
    "print(\"Flightline ID string: %s \\n\" % OutStrng)\n",
    "\n",
    "if \"search\" in FileList.lower():\n",
    "    DataSet = []\n",
    "\n",
    "    files = os.listdir(InDatDir)\n",
    "    for entry in files:\n",
    "        # print(entry)\n",
    "        if SearchStr in entry.lower():\n",
    "            DataSet.append(entry)\n",
    "\n",
    "if \"set\" in FileList.lower():\n",
    "    DataSet = []\n",
    "\n",
    "DataSet = sorted(DataSet)\n",
    "ns = numpy.size(DataSet)\n",
    "\n",
    "if not os.path.isdir(OutDatDir):\n",
    "    print(\"File: %s does not exist, but will be created\" % OutDatDir)\n",
    "    os.mkdir(OutDatDir)\n",
    "\n",
    "\n",
    "dcount=0\n",
    "for dset in DataSet:\n",
    "    dcount=dcount+1\n",
    "    start = process_time()\n",
    "    file = InDatDir + dset\n",
    "    print(\"\\nRaw data read from: %s\" % file)\n",
    "    Datar = aesys.read_survey_data(DatFile=file, Survey=InSurvey, OutInfo=True)\n",
    "    if dcount == 1:\n",
    "        Data = Datar\n",
    "    else:\n",
    "        Data = numpy.vstack((Data, Datar))\n",
    "    print(\"Read time taken = \", process_time() - start, \"s \\n\")\n",
    "\n",
    "\n",
    "if SetProj:\n",
    "    start = process_time()\n",
    "    itm_e = Data[:,1]\n",
    "    itm_n = Data[:,2]\n",
    "    utm_e, utm_n = util.project_itm_to_utm(itm_e, itm_n) #, utm_zone=32629)\n",
    "    Data[:,1] = utm_e\n",
    "    Data[:,2] = utm_n\n",
    "    print(\"ITM Transformed to UTM\")\n",
    "    print(\"Projection time taken = \", process_time() - start, \"s \\n\")\n"
   ]
  },
  {
   "cell_type": "markdown",
   "id": "96d29e5a",
   "metadata": {
    "cell_marker": "\"\"\"",
    "lines_to_next_cell": 0
   },
   "source": [
    "Data subsets based on rectangle, polygons or operators on polygons"
   ]
  },
  {
   "cell_type": "code",
   "execution_count": null,
   "id": "6f92c8ef",
   "metadata": {},
   "outputs": [],
   "source": [
    "start = process_time()\n",
    "print(\"In: \"+str(numpy.shape(Data)))\n",
    "print(\"Data select is \"+DataSelect+\" \\n\")\n",
    "\n",
    "if \"rec\" in DataSelect.lower():\n",
    "    head = aesys.grow_header(Header, \"Subset: \" + str(RectCorners))\n",
    "    start = process_time()\n",
    "    Rect = util.extract_data_rect(Data, RectCorners)\n",
    "    if Rect.size != 0:\n",
    "        Data = Rect\n",
    "    else:\n",
    "        error(\"No data found in rectangle!\\n\")\n",
    "\n",
    "if \"pol\" in DataSelect:\n",
    "    head = aesys.grow_header(Header,\n",
    "            \" | Subset: \" + str(DataSet)+\": \"+PolyFiles[0])\n",
    "    Polygon = numpy.load(PolyFiles[0], allow_pickle=True)[\"Poly\"][0]\n",
    "    start = process_time()\n",
    "    Poly= util.extract_data_poly(Data, Polygon, method=\"shp\")\n",
    "    if Poly.size != 0:\n",
    "        Data = Poly\n",
    "    else:\n",
    "        error(\"No data found in polygon!\\n\")\n",
    "\n",
    "if (\"uni\" in DataSelect.lower()) or (\"int\" in DataSelect.lower()):\n",
    "    for polyfile in PolyFiles:\n",
    "        head = aesys.grow_header(Header,\n",
    "                \" | Subset: \"+DataSelect.lower()[0:3]+\": \"+polyfile)\n",
    "    Polygon1 = numpy.load(PolyFiles[0], allow_pickle=True)[\"Poly\"][0]\n",
    "    Polygon2 = numpy.load(PolyFiles[1], allow_pickle=True)[\"Poly\"][0]\n",
    "    start = process_time()\n",
    "    Polygon= util.modify_polygon([Polygon1, Polygon2], Operator=DataSelect)\n",
    "    Poly= util.extract_data_poly(Data, Polygon, method=\"shp\")\n",
    "    if Poly.size != 0:\n",
    "        Data = Poly\n",
    "    else:\n",
    "        error(\"No data found in polygons!\\n\")\n",
    "\n",
    "print(\"Data select time taken = \", process_time() - start, \"s \\n\")\n",
    "print(\"Out: \"+str(numpy.shape(Data)))\n",
    "\n",
    "if MergeOut:\n",
    "    head = aesys.grow_header(Header,\"All Lines\")\n",
    "    f = OutDatDir + OutStrng+\"_Full\"+OutFileFmt\n",
    "    aesys.write_aempy(File=f, Data=Data, System=AEM_system,\n",
    "                    Header=head, OutInfo=OutInfo)\n",
    "    print(\"All data written to File: \" + f )\n",
    "    print(\"Header written: \")\n",
    "    print(head)\n",
    "    print(\"time taken = \", process_time() - start, \"s \\n\")\n",
    "\n",
    "\n",
    "if LinesOut:\n",
    "    bad_files = 0\n",
    "    startlines = process_time()\n",
    "    Lines = sorted(numpy.unique(Data[:, 0]))\n",
    "    print(\">Flight lines in data set:\")\n",
    "    print(Lines)\n",
    "    for s in Lines:\n",
    "        tmp = Data[numpy.where(Data[:, 0] == s), :]\n",
    "        ns = numpy.shape(tmp)\n",
    "        tmp = numpy.reshape(tmp, (ns[1], ns[2]))\n",
    "        print(\"OutInfo: \"+str(numpy.shape(tmp)))\n",
    "\n",
    "        if numpy.size(tmp)<=nD*LinesMin:\n",
    "            print(\"Not enough data! Not written\")\n",
    "            continue\n",
    "\n",
    "        if CheckNaN:\n",
    "                nn = numpy.count_nonzero(numpy.isnan(tmp))\n",
    "                print (str(nn)+\" NaNs in Data Block\")\n",
    "                if nn >0:\n",
    "                    bad_files = bad_files+1\n",
    "                    print(\"Too many NaNs = \"+str(nn)+\" in block, not written\")\n",
    "                    continue\n",
    "\n",
    "\n",
    "        if CorrectDirection:\n",
    "            AngLimits = [TellusAng-5., TellusAng+5. ]\n",
    "            nd =numpy.shape(tmp)[0]\n",
    "            spoint = [tmp[round(nd*0.3),1], tmp[round(nd*0.3),2]]\n",
    "            epoint = [tmp[round(nd*0.6),1], tmp[round(nd*0.6),2]]\n",
    "            ang, _ = util.get_direction_angle(spoint, epoint)\n",
    "            if (ang < TellusAng-Spread) or (ang > TellusAng+Spread):\n",
    "                tmp = numpy.flipud(tmp)\n",
    "                print(\" Angle = \"+str(round(ang,1))\n",
    "                    +\" not in interval \"\n",
    "                    +str(round(AngLimits[0],1))+\" - \"\n",
    "                    +str(round(AngLimits[1],1)))\n",
    "                print(\"Flightline direction has been reversed.\")\n",
    "                chdir = \", direction has been reversed\"\n",
    "            else:\n",
    "                print(\"Flightline direction is approx. 345 degrees\")\n",
    "                chdir = \"\"\n",
    "\n",
    "        head = aesys.grow_header(Header, \"Flightline \" + str(s))\n",
    "\n",
    "        f = OutDatDir + OutStrng + \"_FL\" + str(s).replace(\".\", \"-\")+OutFileFmt\n",
    "        aesys.write_aempy(File=f, Data=tmp, System=AEM_system,\n",
    "                        Header=head, OutInfo=OutInfo)\n",
    "        print(\"Flight line written to File: \" + f)\n",
    "        print(\"Header written: \")\n",
    "        print(head)\n",
    "        print(\"time taken = \", process_time() - start, \"s \\n\")\n",
    "\n",
    "    print(\"Flight line data, time taken = \",\n",
    "          process_time() - startlines, \"s \\n\")"
   ]
  }
 ],
 "metadata": {
  "jupytext": {
   "cell_metadata_filter": "-all",
   "executable": "/usr/bin/env python3",
   "formats": "py,ipynb",
   "main_language": "python"
  }
 },
 "nbformat": 4,
 "nbformat_minor": 5
}
