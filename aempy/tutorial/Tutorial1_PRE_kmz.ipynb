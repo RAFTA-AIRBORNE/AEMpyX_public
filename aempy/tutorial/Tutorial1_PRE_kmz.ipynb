{
 "cells": [
  {
   "cell_type": "markdown",
   "id": "52b8dfeb",
   "metadata": {},
   "source": [
    "---"
   ]
  },
  {
   "cell_type": "code",
   "execution_count": null,
   "id": "9c1c9702",
   "metadata": {},
   "outputs": [],
   "source": [
    "\"\"\"\n",
    "@author: vr May 2022\n",
    "\"\"\""
   ]
  },
  {
   "cell_type": "markdown",
   "id": "2c5a362d",
   "metadata": {},
   "source": [
    "Import required modules"
   ]
  },
  {
   "cell_type": "code",
   "execution_count": null,
   "id": "68133d8f",
   "metadata": {},
   "outputs": [],
   "source": [
    "import os\n",
    "import sys\n",
    "from sys import exit as error\n",
    "import csv\n",
    "import warnings\n",
    "from time import process_time\n",
    "from datetime import datetime\n",
    "import simplekml\n",
    "import numpy"
   ]
  },
  {
   "cell_type": "code",
   "execution_count": null,
   "id": "3cee6f1c",
   "metadata": {},
   "outputs": [],
   "source": [
    "AEMPYX_ROOT = os.environ[\"AEMPYX_ROOT\"]\n",
    "mypath = [AEMPYX_ROOT+\"/aempy/modules/\", AEMPYX_ROOT+\"/aempy/scripts/\"]"
   ]
  },
  {
   "cell_type": "code",
   "execution_count": null,
   "id": "8bf13699",
   "metadata": {
    "lines_to_next_cell": 2
   },
   "outputs": [],
   "source": [
    "for pth in mypath:\n",
    "    if pth not in sys.path:\n",
    "        # sys.path.append(pth)\n",
    "        sys.path.insert(0,pth)"
   ]
  },
  {
   "cell_type": "code",
   "execution_count": null,
   "id": "101e3b56",
   "metadata": {},
   "outputs": [],
   "source": [
    "import aesys\n",
    "import util\n",
    "import viz"
   ]
  },
  {
   "cell_type": "code",
   "execution_count": null,
   "id": "25a5c086",
   "metadata": {},
   "outputs": [],
   "source": [
    "from version import versionstrg"
   ]
  },
  {
   "cell_type": "code",
   "execution_count": null,
   "id": "fff33933",
   "metadata": {},
   "outputs": [],
   "source": [
    "warnings.simplefilter(action=\"ignore\", category=FutureWarning)"
   ]
  },
  {
   "cell_type": "code",
   "execution_count": null,
   "id": "e39b6890",
   "metadata": {},
   "outputs": [],
   "source": [
    "AEMPYX_DATA = os.environ[\"AEMPYX_DATA\"]"
   ]
  },
  {
   "cell_type": "code",
   "execution_count": null,
   "id": "039929d4",
   "metadata": {},
   "outputs": [],
   "source": [
    "rng = numpy.random.default_rng()\n",
    "nan = numpy.nan  # float(\"NaN\")\n",
    "version, _ = versionstrg()\n",
    "titstrng = util.print_title(version=version, fname=__file__, out=False)\n",
    "print(titstrng+\"\\n\\n\")"
   ]
  },
  {
   "cell_type": "code",
   "execution_count": null,
   "id": "e6903fc5",
   "metadata": {
    "lines_to_next_cell": 2
   },
   "outputs": [],
   "source": [
    "OutInfo = False\n",
    "now = datetime.now()"
   ]
  },
  {
   "cell_type": "code",
   "execution_count": null,
   "id": "618e5795",
   "metadata": {},
   "outputs": [],
   "source": [
    "\"\"\"\n",
    "System related settings.\n",
    "Data transformation is now allowed with three possible options:\n",
    "DataTrans   = 0           raw data\n",
    "            = 1           natural log of data\n",
    "            = 2           asinh transformation\n",
    "An error model is applied for the raw data, which is\n",
    "mixed additive/multiplicative. in case of data transformation,\n",
    "errors are also transformed.\n",
    "\"\"\"\n",
    "# AEM_systemtem = \"genesis\"\n",
    "AEM_system = \"aem05\""
   ]
  },
  {
   "cell_type": "code",
   "execution_count": null,
   "id": "075bfaaf",
   "metadata": {},
   "outputs": [],
   "source": [
    "if \"aem05\" in AEM_system.lower():\n",
    "    FwdCall,NN, _, _, _, = aesys.get_system_params(System=AEM_system)\n",
    "    nL = NN[0]"
   ]
  },
  {
   "cell_type": "code",
   "execution_count": null,
   "id": "e33b5da2",
   "metadata": {
    "lines_to_next_cell": 2
   },
   "outputs": [],
   "source": [
    "if \"genes\" in AEM_system.lower():\n",
    "    FwdCall, NN, _, _, _, = aesys.get_system_params(System=AEM_system)\n",
    "    nL = NN[0]"
   ]
  },
  {
   "cell_type": "markdown",
   "id": "cbb3845a",
   "metadata": {},
   "source": [
    "Define the path to your data-files\n",
    "DataDir =  AEMPYX_ROOT + \"/work/data/raw/nan/\"\n",
    "print(\" data files read from: %s\" % DataDir)\n",
    "PlotDir  =  AEMPYX_ROOT + \"/work/data/raw/plots/\"\n",
    "print(\" plots read from: %s\" % PlotDir)"
   ]
  },
  {
   "cell_type": "code",
   "execution_count": null,
   "id": "cc80aee3",
   "metadata": {
    "lines_to_next_cell": 2
   },
   "outputs": [],
   "source": [
    "DataDir =  AEMPYX_ROOT + \"/work/data//proc_delete_PLM3s//nan/\"\n",
    "print(\" data files read from: %s\" % DataDir)\n",
    "PlotDir  =  AEMPYX_ROOT + \"/work/data/proc_delete_PLM3s/plots/\"\n",
    "print(\" plots read from: %s\" % PlotDir)"
   ]
  },
  {
   "cell_type": "code",
   "execution_count": null,
   "id": "83c1207b",
   "metadata": {},
   "outputs": [],
   "source": [
    "SearchStrng = \"*.npz\"\n",
    "data_files = util.get_filelist(searchstr=[SearchStrng], searchpath=DataDir, fullpath=False)\n",
    "data_files = sorted(data_files)\n",
    "ns = numpy.size(data_files)"
   ]
  },
  {
   "cell_type": "code",
   "execution_count": null,
   "id": "d6b2066a",
   "metadata": {},
   "outputs": [],
   "source": [
    "KMLDir = DataDir\n",
    "KLMFile = KMLDir+\"Limerick_shale_proc\""
   ]
  },
  {
   "cell_type": "code",
   "execution_count": null,
   "id": "1e10069a",
   "metadata": {},
   "outputs": [],
   "source": [
    "MarkStartPoints = True\n",
    "MarkEndPoints = False\n",
    "MarkCenterPoints = False\n",
    "AddImages = True\n",
    "ImageWidth= 600\n",
    "plots_fmt = \".png\""
   ]
  },
  {
   "cell_type": "code",
   "execution_count": null,
   "id": "6481f087",
   "metadata": {
    "lines_to_next_cell": 2
   },
   "outputs": [],
   "source": [
    "MarkEvery = 50"
   ]
  },
  {
   "cell_type": "markdown",
   "id": "490afde4",
   "metadata": {
    "lines_to_next_cell": 2
   },
   "source": [
    "Determine what is added to the KML-tags:"
   ]
  },
  {
   "cell_type": "code",
   "execution_count": null,
   "id": "ab23f96b",
   "metadata": {},
   "outputs": [],
   "source": [
    "kml = False\n",
    "kmz = True"
   ]
  },
  {
   "cell_type": "markdown",
   "id": "9fc79fc1",
   "metadata": {},
   "source": [
    "Define the path for saving  kml files"
   ]
  },
  {
   "cell_type": "code",
   "execution_count": null,
   "id": "c87970c1",
   "metadata": {},
   "outputs": [],
   "source": [
    "icon_dir = AEMPYX_ROOT+\"/aempy/share/icons/\""
   ]
  },
  {
   "cell_type": "code",
   "execution_count": null,
   "id": "39adf4df",
   "metadata": {},
   "outputs": [],
   "source": [
    "line_icon =  icon_dir + \"star.png\"\n",
    "line_iscale = 1.5\n",
    "line_icolor = simplekml.Color.yellow\n",
    "line_tscale = 1.  # sc\n",
    "line_tcolor = simplekml.Color.yellow"
   ]
  },
  {
   "cell_type": "code",
   "execution_count": null,
   "id": "faf07277",
   "metadata": {
    "lines_to_next_cell": 2
   },
   "outputs": [],
   "source": [
    "data_icon =  icon_dir + \"square.png\"\n",
    "data_iscale = 0.8\n",
    "data_icolor = simplekml.Color.red\n",
    "data_tscale = 1.\n",
    "data_tcolor = simplekml.Color.yellow\n",
    "# simplekml.Color.rgb(0, 0, 255)\n",
    "# \"ffff0000\""
   ]
  },
  {
   "cell_type": "code",
   "execution_count": null,
   "id": "1f545392",
   "metadata": {
    "lines_to_next_cell": 2
   },
   "outputs": [],
   "source": [
    "# Determine which geographical info is added to the KML-tags:\n",
    "# define empty list\n",
    "kml = simplekml.Kml(open=1)\n",
    "line_iref = kml.addfile(line_icon)\n",
    "data_iref = kml.addfile(data_icon)"
   ]
  },
  {
   "cell_type": "code",
   "execution_count": null,
   "id": "d28b61c1",
   "metadata": {},
   "outputs": [],
   "source": [
    "if (not os.path.isdir(DataDir)) or (not os.path.isdir(PlotDir)):\n",
    "    error(\" File: %s or %s does not exist! Exit.\" % (DataDir, PlotDir))"
   ]
  },
  {
   "cell_type": "code",
   "execution_count": null,
   "id": "ee53e2ac",
   "metadata": {},
   "outputs": [],
   "source": [
    "for f in data_files:\n",
    "    print(f)\n",
    "\n",
    "    file = DataDir+f\n",
    "    name,  ext = os.path.splitext(f)\n",
    "    Data, _, _ = aesys.read_aempy(File=file, System=AEM_system, OutInfo=False)\n",
    "\n",
    "    data = Data\n",
    "    nd = numpy.shape(data)[0]\n",
    "    lat, lon = util.project_utm_to_latlon(data[:,1], data[:,2])\n",
    "    line = str(round(data[0,0],2)).replace(\".\",\"-\")\n",
    "\n",
    "    folder_line = kml.newfolder(name=\"FL\"+line)\n",
    "\n",
    "    for idt in numpy.arange(nd):\n",
    "\n",
    "        if numpy.mod(idt, MarkEvery) == 0:\n",
    "            d = folder_line.newpoint()\n",
    "            d.coords = [(lon[idt], lat[idt])]\n",
    "            d.style.iconstyle.icon.href = data_iref\n",
    "            d.style.iconstyle.scale = data_iscale\n",
    "            d.style.iconstyle.color = data_icolor\n",
    "            d.description = AEM_system.upper()+\"\\nFlightline: \"+str(data[idt,0])\n",
    "\n",
    "\n",
    "    if AddImages:\n",
    "        d_plot = PlotDir+name+ plots_fmt\n",
    "        if os.path.exists(d_plot)==True:\n",
    "            src= kml.addfile(d_plot)\n",
    "            imstring ='<img width=\"'+str(ImageWidth)+'\" align=\"left\" src=\"' + src + '\"/>'\n",
    "            # imstring = '<img width=\"1200\" align=\"left\" src=\"' + src + '\"/>'\n",
    "            d.description = (imstring)\n",
    "        else:\n",
    "            print(d_plot+ \" does not exist!\")\n",
    "\n",
    "    if MarkStartPoints:\n",
    "        d = folder_line.newpoint(name=\"S:\"+str(data[0,0]))\n",
    "        d.style.labelstyle.color = data_tcolor\n",
    "        d.style.labelstyle.scale = data_tscale\n",
    "        d.style.iconstyle.icon.href = data_iref\n",
    "        d.style.iconstyle.scale = data_iscale*1.5\n",
    "        d.style.iconstyle.color = line_icolor\n",
    "        d.coords = [(lon[0], lat[0])]\n",
    "        d.description = (imstring)\n",
    "    if MarkEndPoints:\n",
    "        d = folder_line.newpoint(name=\"E:\"+str(data[0,0]))\n",
    "        d.style.labelstyle.color = data_tcolor\n",
    "        d.style.labelstyle.scale = data_tscale\n",
    "        d.style.iconstyle.icon.href = data_iref\n",
    "        d.style.iconstyle.scale = data_iscale*1.5\n",
    "        d.coords = [(lon[nd-1], lat[nd-1])]\n",
    "        d.description = (imstring)\n",
    "    if MarkCenterPoints:\n",
    "        d = folder_line.newpoint(name=str(data[round(nd/2),0]))\n",
    "        d.coords = [(lon[round(nd/2)], lat[round(nd/2)])]\n",
    "        d.style.labelstyle.color = data_tcolor\n",
    "        d.style.labelstyle.scale = data_tscale\n",
    "        d.style.iconstyle.icon.href = data_iref\n",
    "        d.style.iconstyle.scale = data_iscale*1.5\n",
    "        d.style.iconstyle.color = line_icolor\n",
    "        d.description = (imstring)\n",
    "\n",
    "\n",
    "    # Compressed kmz file:"
   ]
  },
  {
   "cell_type": "code",
   "execution_count": null,
   "id": "16389304",
   "metadata": {},
   "outputs": [],
   "source": [
    "kml.savekmz(KLMFile + \".kmz\")"
   ]
  }
 ],
 "metadata": {
  "jupytext": {
   "cell_metadata_filter": "-all",
   "encoding": "# -*- coding: utf-8 -*-",
   "executable": "/usr/bin/env python3",
   "formats": "py,ipynb",
   "main_language": "python"
  }
 },
 "nbformat": 4,
 "nbformat_minor": 5
}
