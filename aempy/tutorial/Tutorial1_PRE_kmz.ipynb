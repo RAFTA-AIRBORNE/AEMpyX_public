{
 "cells": [
  {
   "cell_type": "markdown",
   "id": "3989ffe3",
   "metadata": {},
   "source": [
    "---"
   ]
  },
  {
   "cell_type": "code",
   "execution_count": null,
   "id": "d4d0bb52",
   "metadata": {},
   "outputs": [],
   "source": [
    "#!/usr/bin/env python3"
   ]
  },
  {
   "cell_type": "code",
   "execution_count": null,
   "id": "2a1340b3",
   "metadata": {},
   "outputs": [],
   "source": [
    "import os\n",
    "import sys\n",
    "from sys import exit as error\n",
    "import csv\n",
    "import warnings\n",
    "from time import process_time\n",
    "from datetime import datetime\n",
    "import simplekml\n",
    "import numpy\n",
    "\n",
    "AEMPYX_ROOT = os.environ[\"AEMPYX_ROOT\"]\n",
    "mypath = [AEMPYX_ROOT+\"/aempy/modules/\", AEMPYX_ROOT+\"/aempy/scripts/\"]\n",
    "\n",
    "for pth in mypath:\n",
    "    if pth not in sys.path:\n",
    "        # sys.path.append(pth)\n",
    "        sys.path.insert(0,pth)\n",
    "\n",
    "import aesys\n",
    "import util\n",
    "import viz\n",
    "from version import versionstrg\n",
    "\n",
    "AEMPYX_DATA = os.environ[\"AEMPYX_DATA\"]\n",
    "\n",
    "rng = numpy.random.default_rng()\n",
    "nan = numpy.nan  "
   ]
  },
  {
   "cell_type": "code",
   "execution_count": null,
   "id": "eb90645a",
   "metadata": {},
   "outputs": [],
   "source": [
    "version, _ = versionstrg()\n",
    "fname = \"Tutorial1_PRE_data.py\"\n",
    "# fname = __file__  # this only works in python, not jupyter notebook\n",
    "titstrng = util.print_title(version=version, fname=__file__, out=False)\n",
    "print(titstrng+\"\\n\\n\")\n",
    "Header = titstrng"
   ]
  },
  {
   "cell_type": "code",
   "execution_count": null,
   "id": "33c03b91",
   "metadata": {
    "lines_to_next_cell": 2
   },
   "outputs": [],
   "source": [
    "OutInfo = False\n"
   ]
  },
  {
   "cell_type": "markdown",
   "id": "f8f67921",
   "metadata": {},
   "source": [
    "Get system related settings, here for frequency-domain AEM, \\textit{aem05}."
   ]
  },
  {
   "cell_type": "code",
   "execution_count": null,
   "id": "7593cd95",
   "metadata": {
    "lines_to_next_cell": 2
   },
   "outputs": [],
   "source": [
    "# AEM_system = \"genesis\"\n",
    "AEM_system = \"aem05\"\n",
    "\n",
    "if \"aem05\" in AEM_system.lower():\n",
    "    _, NN, _, _, _, = aesys.get_system_params(System=AEM_system)\n",
    "    nL = NN[0]\n",
    "\n",
    "if \"genes\" in AEM_system.lower():\n",
    "    _, NN, _, _, _, = aesys.get_system_params(System=AEM_system)\n",
    "    nL = NN[0]"
   ]
  },
  {
   "cell_type": "markdown",
   "id": "9c271250",
   "metadata": {},
   "source": [
    "Now Define the path to your data files. For this tutorial we have stored \n",
    "the flightlines under \\textit{AEMPYX_ROOT + \"/work/data/raw/\"}, and the \n",
    "print(\" data files read from: %s\" % DataDir)\n",
    "PlotDir  =  AEMPYX_ROOT + \"/work/data/raw/plots/\"\n",
    "print(\" plots read from: %s\" % PlotDir)"
   ]
  },
  {
   "cell_type": "code",
   "execution_count": null,
   "id": "8ed191a3",
   "metadata": {
    "lines_to_next_cell": 2
   },
   "outputs": [],
   "source": [
    "AEMPYX_DATA =  AEMPYX_ROOT+\"/work/data/\"\n",
    "DataDir =  AEMPYX_DATA + \"Limerick/raw/\"\n",
    "print(\" data files read from: %s\" % DataDir)\n",
    "PlotDir  =  DataDir+\"plots/\"\n",
    "print(\" plots read from: %s\" % PlotDir)"
   ]
  },
  {
   "cell_type": "code",
   "execution_count": null,
   "id": "300e5264",
   "metadata": {},
   "outputs": [],
   "source": [
    "SearchStrng = \"*.npz\"\n",
    "data_files = util.get_filelist(searchstr=[SearchStrng], searchpath=DataDir, fullpath=False)\n",
    "data_files = sorted(data_files)\n",
    "ns = numpy.size(data_files)"
   ]
  },
  {
   "cell_type": "code",
   "execution_count": null,
   "id": "6325b95e",
   "metadata": {},
   "outputs": [],
   "source": [
    "KMLDir = DataDir\n",
    "KLMFile = KMLDir+\"Limerick_shale_raw\""
   ]
  },
  {
   "cell_type": "code",
   "execution_count": null,
   "id": "342ef634",
   "metadata": {},
   "outputs": [],
   "source": [
    "MarkStartPoints = True\n",
    "MarkEndPoints = False\n",
    "MarkCenterPoints = False\n",
    "MarkEvery = 50"
   ]
  },
  {
   "cell_type": "code",
   "execution_count": null,
   "id": "efc2af3d",
   "metadata": {},
   "outputs": [],
   "source": [
    "AddImages = True\n",
    "ImageWidth= 600\n",
    "plots_fmt = \".png\""
   ]
  },
  {
   "cell_type": "code",
   "execution_count": null,
   "id": "28298f69",
   "metadata": {
    "lines_to_next_cell": 2
   },
   "outputs": [],
   "source": []
  },
  {
   "cell_type": "markdown",
   "id": "5a81f739",
   "metadata": {
    "lines_to_next_cell": 2
   },
   "source": [
    "Determine what is added to the KML-tags:"
   ]
  },
  {
   "cell_type": "code",
   "execution_count": null,
   "id": "149b0fa2",
   "metadata": {},
   "outputs": [],
   "source": [
    "kml = False\n",
    "kmz = True"
   ]
  },
  {
   "cell_type": "markdown",
   "id": "f52cd166",
   "metadata": {},
   "source": [
    "Define the path for saving  kml files"
   ]
  },
  {
   "cell_type": "code",
   "execution_count": null,
   "id": "b977edb7",
   "metadata": {},
   "outputs": [],
   "source": [
    "icon_dir = AEMPYX_ROOT+\"/aempy/share/icons/\""
   ]
  },
  {
   "cell_type": "code",
   "execution_count": null,
   "id": "8d73297d",
   "metadata": {},
   "outputs": [],
   "source": [
    "line_icon =  icon_dir + \"star.png\"\n",
    "line_iscale = 1.5\n",
    "line_icolor = simplekml.Color.yellow\n",
    "line_tscale = 1.  # sc\n",
    "line_tcolor = simplekml.Color.yellow"
   ]
  },
  {
   "cell_type": "code",
   "execution_count": null,
   "id": "b45ac72a",
   "metadata": {
    "lines_to_next_cell": 2
   },
   "outputs": [],
   "source": [
    "data_icon =  icon_dir + \"square.png\"\n",
    "data_iscale = 0.8\n",
    "data_icolor = simplekml.Color.red\n",
    "data_tscale = 1.\n",
    "data_tcolor = simplekml.Color.yellow\n",
    "# simplekml.Color.rgb(0, 0, 255)\n",
    "# \"ffff0000\""
   ]
  },
  {
   "cell_type": "code",
   "execution_count": null,
   "id": "42d4ba66",
   "metadata": {
    "lines_to_next_cell": 2
   },
   "outputs": [],
   "source": [
    "# Determine which geographical info is added to the KML-tags:\n",
    "# define empty list\n",
    "kml = simplekml.Kml(open=1)\n",
    "line_iref = kml.addfile(line_icon)\n",
    "data_iref = kml.addfile(data_icon)"
   ]
  },
  {
   "cell_type": "code",
   "execution_count": null,
   "id": "29fa4191",
   "metadata": {},
   "outputs": [],
   "source": [
    "if (not os.path.isdir(DataDir)) or (not os.path.isdir(PlotDir)):\n",
    "    error(\" File: %s or %s does not exist! Exit.\" % (DataDir, PlotDir))"
   ]
  },
  {
   "cell_type": "code",
   "execution_count": null,
   "id": "457c5f99",
   "metadata": {},
   "outputs": [],
   "source": [
    "for f in data_files:\n",
    "    print(f)\n",
    "\n",
    "    file = DataDir+f\n",
    "    name,  ext = os.path.splitext(f)\n",
    "    Data, _, _ = aesys.read_aempy(File=file, System=AEM_system, OutInfo=False)\n",
    "\n",
    "    data = Data\n",
    "    nd = numpy.shape(data)[0]\n",
    "    lat, lon = util.project_utm_to_latlon(data[:,1], data[:,2])\n",
    "    line = str(round(data[0,0],2)).replace(\".\",\"-\")\n",
    "\n",
    "    folder_line = kml.newfolder(name=\"FL\"+line)\n",
    "\n",
    "    for idt in numpy.arange(nd):\n",
    "\n",
    "        if numpy.mod(idt, MarkEvery) == 0:\n",
    "            d = folder_line.newpoint()\n",
    "            d.coords = [(lon[idt], lat[idt])]\n",
    "            d.style.iconstyle.icon.href = data_iref\n",
    "            d.style.iconstyle.scale = data_iscale\n",
    "            d.style.iconstyle.color = data_icolor\n",
    "            d.description = AEM_system.upper()+\"\\nFlightline: \"+str(data[idt,0])\n",
    "\n",
    "\n",
    "    if AddImages:\n",
    "        d_plot = PlotDir+name+ plots_fmt\n",
    "        if os.path.exists(d_plot)==True:\n",
    "            src= kml.addfile(d_plot)\n",
    "            imstring ='<img width=\"'+str(ImageWidth)+'\" align=\"left\" src=\"' + src + '\"/>'\n",
    "            # imstring = '<img width=\"1200\" align=\"left\" src=\"' + src + '\"/>'\n",
    "            d.description = (imstring)\n",
    "        else:\n",
    "            print(d_plot+ \" does not exist!\")\n",
    "\n",
    "    if MarkStartPoints:\n",
    "        d = folder_line.newpoint(name=\"S:\"+str(data[0,0]))\n",
    "        d.style.labelstyle.color = data_tcolor\n",
    "        d.style.labelstyle.scale = data_tscale\n",
    "        d.style.iconstyle.icon.href = data_iref\n",
    "        d.style.iconstyle.scale = data_iscale*1.5\n",
    "        d.style.iconstyle.color = line_icolor\n",
    "        d.coords = [(lon[0], lat[0])]\n",
    "        d.description = (imstring)\n",
    "    if MarkEndPoints:\n",
    "        d = folder_line.newpoint(name=\"E:\"+str(data[0,0]))\n",
    "        d.style.labelstyle.color = data_tcolor\n",
    "        d.style.labelstyle.scale = data_tscale\n",
    "        d.style.iconstyle.icon.href = data_iref\n",
    "        d.style.iconstyle.scale = data_iscale*1.5\n",
    "        d.coords = [(lon[nd-1], lat[nd-1])]\n",
    "        d.description = (imstring)\n",
    "    if MarkCenterPoints:\n",
    "        d = folder_line.newpoint(name=str(data[round(nd/2),0]))\n",
    "        d.coords = [(lon[round(nd/2)], lat[round(nd/2)])]\n",
    "        d.style.labelstyle.color = data_tcolor\n",
    "        d.style.labelstyle.scale = data_tscale\n",
    "        d.style.iconstyle.icon.href = data_iref\n",
    "        d.style.iconstyle.scale = data_iscale*1.5\n",
    "        d.style.iconstyle.color = line_icolor\n",
    "        d.description = (imstring)\n",
    "\n",
    "\n",
    "    # Compressed kmz file:"
   ]
  },
  {
   "cell_type": "code",
   "execution_count": null,
   "id": "6072b26d",
   "metadata": {},
   "outputs": [],
   "source": [
    "kml.savekmz(KLMFile + \".kmz\")"
   ]
  }
 ],
 "metadata": {
  "jupytext": {
   "cell_metadata_filter": "-all",
   "encoding": "# -*- coding: utf-8 -*-",
   "executable": "/usr/bin/env python3",
   "formats": "py:light,ipynb",
   "main_language": "python"
  },
  "kernelspec": {
   "display_name": "Python 3 (ipykernel)",
   "language": "python",
   "name": "python3"
  },
  "language_info": {
   "codemirror_mode": {
    "name": "ipython",
    "version": 3
   },
   "file_extension": ".py",
   "mimetype": "text/x-python",
   "name": "python",
   "nbconvert_exporter": "python",
   "pygments_lexer": "ipython3",
   "version": "3.11.7"
  }
 },
 "nbformat": 4,
 "nbformat_minor": 5
}
