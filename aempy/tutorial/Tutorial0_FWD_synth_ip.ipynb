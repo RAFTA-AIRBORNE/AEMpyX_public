{
 "cells": [
  {
   "cell_type": "code",
   "execution_count": null,
   "id": "8afd9760",
   "metadata": {},
   "outputs": [],
   "source": [
    "\"\"\"\n",
    "Created on Tue Sep  6 10:57:01 2016\n",
    "\n",
    "@author: vrath\n",
    "\n",
    "edited by dkiyan - Sep 30\n",
    "edited by vrath  - May 7, 2021\n",
    "\n",
    "\"\"\"\n",
    "import time\n",
    "import sys\n",
    "from sys import exit as error\n",
    "import os\n",
    "import warnings\n",
    "from time import process_time\n",
    "from datetime import datetime"
   ]
  },
  {
   "cell_type": "code",
   "execution_count": null,
   "id": "8a7c3204",
   "metadata": {},
   "outputs": [],
   "source": [
    "import numpy"
   ]
  },
  {
   "cell_type": "code",
   "execution_count": null,
   "id": "cde77514",
   "metadata": {},
   "outputs": [],
   "source": [
    "AEMPYX_ROOT = os.environ[\"AEMPYX_ROOT\"]\n",
    "mypath = [AEMPYX_ROOT+\"/aempy/modules/\", AEMPYX_ROOT+\"/aempy/scripts/\"]"
   ]
  },
  {
   "cell_type": "code",
   "execution_count": null,
   "id": "9dbf3b67",
   "metadata": {},
   "outputs": [],
   "source": [
    "for pth in mypath:\n",
    "    if pth not in sys.path:\n",
    "        sys.path.insert(0,pth)"
   ]
  },
  {
   "cell_type": "code",
   "execution_count": null,
   "id": "3b8d35bf",
   "metadata": {},
   "outputs": [],
   "source": [
    "from version import versionstrg"
   ]
  },
  {
   "cell_type": "code",
   "execution_count": null,
   "id": "74a0bdac",
   "metadata": {
    "lines_to_next_cell": 2
   },
   "outputs": [],
   "source": [
    "import util\n",
    "#import core1d_par as core1d\n",
    "import core1d\n",
    "import inverse\n",
    "import aesys"
   ]
  },
  {
   "cell_type": "code",
   "execution_count": null,
   "id": "13f30fdf",
   "metadata": {
    "lines_to_next_cell": 2
   },
   "outputs": [],
   "source": [
    "warnings.simplefilter(action=\"ignore\", category=FutureWarning)"
   ]
  },
  {
   "cell_type": "code",
   "execution_count": null,
   "id": "7f0e774d",
   "metadata": {},
   "outputs": [],
   "source": [
    "AEMPYX_DATA = os.environ[\"AEMPYX_DATA\"]"
   ]
  },
  {
   "cell_type": "code",
   "execution_count": null,
   "id": "cb739165",
   "metadata": {},
   "outputs": [],
   "source": [
    "rng = numpy.random.default_rng()\n",
    "nan = numpy.nan  # float(\"NaN\")\n",
    "version, _ = versionstrg()\n",
    "titstrng = util.print_title(version=version, fname=__file__, out=False)\n",
    "print(titstrng+\"\\n\\n\")"
   ]
  },
  {
   "cell_type": "code",
   "execution_count": null,
   "id": "16b3db90",
   "metadata": {
    "lines_to_next_cell": 2
   },
   "outputs": [],
   "source": [
    "OutInfo = False\n",
    "now = datetime.now()"
   ]
  },
  {
   "cell_type": "code",
   "execution_count": null,
   "id": "57e9395b",
   "metadata": {},
   "outputs": [],
   "source": [
    "OutDir  = AEMPYX_DATA+\"/SynthData/data/\""
   ]
  },
  {
   "cell_type": "code",
   "execution_count": null,
   "id": "8af5a54f",
   "metadata": {
    "lines_to_next_cell": 2
   },
   "outputs": [],
   "source": [
    "if not os.path.isdir(OutDir):\n",
    "    print(\"File: %s does not exist, but will be created\" % OutDir)\n",
    "    os.mkdir(OutDir)"
   ]
  },
  {
   "cell_type": "code",
   "execution_count": null,
   "id": "0a186607",
   "metadata": {},
   "outputs": [],
   "source": [
    "\"\"\"\n",
    "System related settings.\n",
    "Data transformation is now allowed with three possible options:\n",
    "DataTrans   = 0           raw data\n",
    "            = 1           natural log of data\n",
    "            = 2           asinh transformation\n",
    "An error model is applied for the raw data, which is\n",
    "mixed additive/multiplicative. in case of data transformation,\n",
    "errors are also transformed.\n",
    "\"\"\"\n",
    "AEM_system = \"aem05\"\n",
    "# AEM_system = \"genesis\""
   ]
  },
  {
   "cell_type": "code",
   "execution_count": null,
   "id": "1c984963",
   "metadata": {},
   "outputs": [],
   "source": [
    "print(\"AEM system: \" + AEM_system + \"\\n \\n\")"
   ]
  },
  {
   "cell_type": "code",
   "execution_count": null,
   "id": "cd0c475a",
   "metadata": {},
   "outputs": [],
   "source": [
    "if \"aem05\" in AEM_system.lower():\n",
    "    FwdCall,NN, _, _, _, = aesys.get_system_params(System=AEM_system)\n",
    "    ParaTrans = 1\n",
    "    DataTrans=0\n",
    "    DatErr_add = 50.\n",
    "    DatErr_mult = 0.03\n",
    "    alt = 60.\n",
    "    DataActive = numpy.ones((1,NN[2]))"
   ]
  },
  {
   "cell_type": "code",
   "execution_count": null,
   "id": "7e4e1a2b",
   "metadata": {},
   "outputs": [],
   "source": [
    "if \"genes\" in AEM_system.lower():\n",
    "    FwdCall, NN, _, _, _, = aesys.get_system_params(System=AEM_system)\n",
    "    ParaTrans = 1\n",
    "    DataTrans=0\n",
    "    DatErr_add = 100.\n",
    "    DatErr_mult = 0.01\n",
    "    alt = 90.\n",
    "    DataActive = numpy.ones((1,NN[2]))"
   ]
  },
  {
   "cell_type": "code",
   "execution_count": null,
   "id": "3c386018",
   "metadata": {},
   "outputs": [],
   "source": [
    "nD = NN[0]"
   ]
  },
  {
   "cell_type": "code",
   "execution_count": null,
   "id": "d6cf56b5",
   "metadata": {},
   "outputs": [],
   "source": [
    "\"\"\"\n",
    "Define models:\n",
    "These are loops over different parameters, in this case for a 3-Layer case.\n",
    "Should be adapted according to your needs.\n",
    "\"\"\""
   ]
  },
  {
   "cell_type": "code",
   "execution_count": null,
   "id": "c383dc70",
   "metadata": {},
   "outputs": [],
   "source": [
    "#Alt = [60., 120.]\n",
    "Alt = [60]"
   ]
  },
  {
   "cell_type": "code",
   "execution_count": null,
   "id": "85ce1b4b",
   "metadata": {},
   "outputs": [],
   "source": [
    "Nsamples = 1000\n",
    "# NSamples = 1\n",
    "Perturb = True\n",
    "SplitData= True"
   ]
  },
  {
   "cell_type": "code",
   "execution_count": null,
   "id": "1ec332a2",
   "metadata": {},
   "outputs": [],
   "source": [
    "\"\"\"\n",
    "Set up base model\n",
    "\"\"\""
   ]
  },
  {
   "cell_type": "code",
   "execution_count": null,
   "id": "918441d6",
   "metadata": {},
   "outputs": [],
   "source": [
    "nlyr = 3\n",
    "Model_active, Model_base, model_var, m_bounds, m_state = inverse.init_1dmod(nlyr)"
   ]
  },
  {
   "cell_type": "code",
   "execution_count": null,
   "id": "a8b039a0",
   "metadata": {},
   "outputs": [],
   "source": [
    "\"\"\"\n",
    "Background model: default settings is rho only, - IP is nonexistent \n",
    "Adapted for reasonable IP values\n",
    "\"\"\" \n",
    "Model_base[0*nlyr:1*nlyr] =[100., 100., 100.]   #rho\n",
    "Model_base[6*nlyr:7*nlyr-1] =[30.,30.]          #layers "
   ]
  },
  {
   "cell_type": "code",
   "execution_count": null,
   "id": "9e6c60e2",
   "metadata": {},
   "outputs": [],
   "source": [
    "Model_base[3*nlyr:4*nlyr] =[0.,  0.5, 0.]      #chargeability\n",
    "Model_base[4*nlyr:5*nlyr] =[0.,  0.5, 0.]      #exponent\n",
    "Model_base[5*nlyr:6*nlyr] =[0., 100., 0.]      #frequency"
   ]
  },
  {
   "cell_type": "code",
   "execution_count": null,
   "id": "3c19224d",
   "metadata": {},
   "outputs": [],
   "source": []
  },
  {
   "cell_type": "code",
   "execution_count": null,
   "id": "f71ef16e",
   "metadata": {},
   "outputs": [],
   "source": [
    "\"\"\"\n",
    "Currently, one parameter  and altitude can be varied within a loop. \n",
    "\"\"\""
   ]
  },
  {
   "cell_type": "code",
   "execution_count": null,
   "id": "5f4522e4",
   "metadata": {},
   "outputs": [],
   "source": [
    "\"\"\"\n",
    "rho for layer 1 (starting from 0!)\n",
    "\"\"\""
   ]
  },
  {
   "cell_type": "markdown",
   "id": "1403c2ea",
   "metadata": {},
   "source": [
    "FWDBaseName = \"AEM05_Rho1\"\n",
    "VarPar = [ 10., 100.,1000.]\n",
    "VarInd = 0 * nlyr+1"
   ]
  },
  {
   "cell_type": "code",
   "execution_count": null,
   "id": "237c3e35",
   "metadata": {},
   "outputs": [],
   "source": [
    "\"\"\"\n",
    "thickness of layer 1 (starting from 0!)\n",
    "\"\"\"\n",
    "# FWDBaseName = \"AEM05_Thk1\"\n",
    "# VarPar = [10., 30., 50.] \n",
    "# VarInd = 6*nlyr+1\n",
    "\"\"\"\n",
    "chargeability of layer 1 (starting from 0!)\n",
    "\"\"\"\n",
    "FWDBaseName = \"AEM05_m1\"\n",
    "VarPar = [0.0001, 0.2, 0.4, 0.6, 0.8] \n",
    "VarInd = 3*nlyr+1 "
   ]
  },
  {
   "cell_type": "code",
   "execution_count": null,
   "id": "8e00eb01",
   "metadata": {
    "lines_to_next_cell": 2
   },
   "outputs": [],
   "source": [
    "\"\"\"\n",
    "Generate Data\n",
    "\n",
    "\"\"\""
   ]
  },
  {
   "cell_type": "code",
   "execution_count": null,
   "id": "48c1674c",
   "metadata": {},
   "outputs": [],
   "source": [
    "mod_num = -1\n",
    "for par in numpy.arange(len(VarPar)):\n",
    "\n",
    "        mod_num += 1\n",
    "        \n",
    "        m_i = Model_base.copy()\n",
    "\n",
    "        if VarInd==numpy.size(m_i):\n",
    "            alt = Alt[par]\n",
    "            p_i = numpy.array([mod_num, VarInd, Alt[par], DataTrans, DatErr_add, DatErr_mult])\n",
    "\n",
    "\n",
    "        else:\n",
    "            m_i[VarInd] = VarPar[par]\n",
    "            p_i = numpy.array([mod_num, VarInd, VarPar[par], DataTrans, DatErr_add, DatErr_mult])\n",
    "\n",
    "\n",
    "       \n",
    "\n",
    "        d_state = 0\n",
    "        m_state = 0\n",
    "\n",
    "        m_current, m_state = inverse.transform_parameter(m_vec=m_i, m_trn=ParaTrans, m_state=m_state, mode=\"f\")\n",
    "        d_ref, d_state = inverse.calc_fwdmodel(fwdcall=FwdCall, alt=Alt,\n",
    "                                          m_vec = m_current, m_trn=ParaTrans, m_state=m_state,\n",
    "                                          d_trn=0, d_state=d_state, d_act = DataActive )\n",
    "\n",
    "        if mod_num==0:\n",
    "            Model = m_i\n",
    "            Data = numpy.insert(d_ref,0,[mod_num, -1, alt])\n",
    "            Para = p_i\n",
    "            print(numpy.shape(Para))\n",
    "        else:\n",
    "            Model = numpy.vstack((Model, m_i))\n",
    "            Data =  numpy.vstack((Data, numpy.insert(d_ref,0,[mod_num, -1, alt])))\n",
    "            Para =  numpy.vstack((Para, p_i))\n",
    "        # print(mod_num, numpy.shape(Model))\n",
    "       \n",
    "        for ismp in numpy.arange(Nsamples):\n",
    "            _, data_obs = inverse.set_errors(d_ref, DatErr_add, DatErr_mult, perturb=Perturb)\n",
    "            data_obs =numpy.insert(data_obs,0,[mod_num, ismp, alt])\n",
    "            Data =  numpy.vstack((Data, data_obs))"
   ]
  },
  {
   "cell_type": "code",
   "execution_count": null,
   "id": "1e3b936e",
   "metadata": {},
   "outputs": [],
   "source": [
    "if SplitData:\n",
    "    for imod in numpy.arange(mod_num+1):\n",
    "\n",
    "        p_s = Para[imod]\n",
    "        m_s = Model[imod]\n",
    "        d_s = Data[numpy.isin(Data[:,0],imod)]\n",
    "\n",
    "        SplitStrng = \"_model\"+str(imod)+\"_\"+str(Nsamples)+\"samples\"\n",
    "\n",
    "\n",
    "        NPZSplit=OutDir+FWDBaseName+SplitStrng+\".npz\"\n",
    "        print(\"Results written to \"+NPZSplit)\n",
    "        numpy.savez_compressed(file=NPZSplit, model=m_s, data=d_s, para=p_s)\n",
    "else:\n",
    "    print(numpy.shape(Data))\n",
    "    NPZFile = OutDir+FWDBaseName+\".npz\"\n",
    "    print(\"\\n\\nResults written to \"+NPZFile)\n",
    "    numpy.savez_compressed(\n",
    "        file=NPZFile, model=Model, data=Data, para=Para)"
   ]
  }
 ],
 "metadata": {
  "jupytext": {
   "cell_metadata_filter": "-all",
   "encoding": "# -*- coding: utf-8 -*-",
   "executable": "/usr/bin/env python3",
   "formats": "py,ipynb",
   "main_language": "python"
  }
 },
 "nbformat": 4,
 "nbformat_minor": 5
}
