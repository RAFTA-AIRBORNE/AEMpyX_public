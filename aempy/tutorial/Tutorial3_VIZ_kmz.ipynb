{
 "cells": [
  {
   "cell_type": "code",
   "execution_count": null,
   "id": "c6602369",
   "metadata": {},
   "outputs": [],
   "source": [
    "\"\"\"\n",
    "Created on Tue Aug  3 17:03:39 2021\n",
    "\n",
    "@author: vrath\n",
    "\"\"\""
   ]
  },
  {
   "cell_type": "code",
   "execution_count": null,
   "id": "04265f96",
   "metadata": {},
   "outputs": [],
   "source": [
    "import os\n",
    "import sys\n",
    "from sys import exit as error\n",
    "from time import process_time\n",
    "from datetime import datetime\n",
    "import warnings"
   ]
  },
  {
   "cell_type": "code",
   "execution_count": null,
   "id": "0dc6636f",
   "metadata": {
    "lines_to_next_cell": 2
   },
   "outputs": [],
   "source": [
    "import numpy\n",
    "import matplotlib\n",
    "import matplotlib.pyplot\n",
    "import matplotlib.ticker\n",
    "import matplotlib.axis\n",
    "import mpl_toolkits.axes_grid1"
   ]
  },
  {
   "cell_type": "code",
   "execution_count": null,
   "id": "44d42b57",
   "metadata": {},
   "outputs": [],
   "source": [
    "import scipy.interpolate\n",
    "import skgstat\n",
    "import shapely"
   ]
  },
  {
   "cell_type": "code",
   "execution_count": null,
   "id": "087a54a5",
   "metadata": {},
   "outputs": [],
   "source": [
    "AEMPYX_ROOT = os.environ[\"AEMPYX_ROOT\"]\n",
    "mypath = [AEMPYX_ROOT+\"/aempy/modules/\", AEMPYX_ROOT+\"/aempy/scripts/\"]\n",
    "for pth in mypath:\n",
    "    if pth not in sys.path:\n",
    "        sys.path.insert(0,pth)"
   ]
  },
  {
   "cell_type": "code",
   "execution_count": null,
   "id": "6a3faeaf",
   "metadata": {},
   "outputs": [],
   "source": [
    "from version import versionstrg\n",
    "import util\n",
    "import aesys\n",
    "import viz\n",
    "import inverse"
   ]
  },
  {
   "cell_type": "code",
   "execution_count": null,
   "id": "1893863d",
   "metadata": {},
   "outputs": [],
   "source": [
    "warnings.simplefilter(action=\"ignore\", category=FutureWarning)\n",
    "cm = 1/2.54"
   ]
  },
  {
   "cell_type": "code",
   "execution_count": null,
   "id": "c7fcc3cb",
   "metadata": {},
   "outputs": [],
   "source": [
    "OutInfo = True\n",
    "AEMPYX_DATA = os.environ[\"AEMPYX_DATA\"]"
   ]
  },
  {
   "cell_type": "code",
   "execution_count": null,
   "id": "6cd6347b",
   "metadata": {},
   "outputs": [],
   "source": [
    "version, _ = versionstrg()\n",
    "titstrng = util.print_title(version=version, fname=__file__, out=False)\n",
    "print(titstrng+\"\\n\\n\")"
   ]
  },
  {
   "cell_type": "code",
   "execution_count": null,
   "id": "5d9a8e34",
   "metadata": {},
   "outputs": [],
   "source": [
    "now = datetime.now()"
   ]
  },
  {
   "cell_type": "code",
   "execution_count": null,
   "id": "6a545b6e",
   "metadata": {},
   "outputs": [],
   "source": [
    "\"\"\"\n",
    "System related settings.\n",
    "Data transformation is now allowed with three possible options:\n",
    "DataTrans   = 0           raw data\n",
    "            = 1           natural log of data\n",
    "            = 2           asinh transformation\n",
    "An error model is applied for the raw data, which is\n",
    "mixed additive/multiplicative. in case of data transformation,\n",
    "errors are also transformed.\n",
    "\"\"\"\n",
    "# AEM_system = \"genesis\"\n",
    "AEM_system = \"aem05\"\n",
    "if \"aem05\" in AEM_system.lower():\n",
    "    FwdCall,NN, _, _, Misc, = aesys.get_system_params(System=AEM_system)\n",
    "    nL = NN[0]\n",
    "    ParaTrans = 1\n",
    "    DataTrans = 0\n",
    "    DatErr_add =  50.\n",
    "    DatErr_mult = 0.03\n",
    "    data_active = numpy.ones(NN[2], dtype=\"int8\")\n",
    "    CompDict=Misc[2]\n",
    "    CompLabl = list(CompDict.keys())\n",
    "    print(CompLabl)"
   ]
  },
  {
   "cell_type": "code",
   "execution_count": null,
   "id": "88c28e9e",
   "metadata": {},
   "outputs": [],
   "source": [
    "if \"genes\" in AEM_system.lower():\n",
    "    FwdCall, NN, _, _, Misc, = aesys.get_system_params(System=AEM_system)\n",
    "    nL = NN[0]\n",
    "    ParaTrans = 1\n",
    "    DataTrans = 2\n",
    "    DatErr_add = 100.\n",
    "    DatErr_mult = 0.01\n",
    "    data_active = numpy.ones(NN[2], dtype=\"int8\")\n",
    "    data_active[0:11]=0  # only vertical component\n",
    "    # data_active[10:11]=0  # Vertical + \"good\" hoizontals\"\n",
    "    CompDict =Misc[2]\n",
    "    CompLabl = list(CompDict.keys())"
   ]
  },
  {
   "cell_type": "code",
   "execution_count": null,
   "id": "30b386ce",
   "metadata": {
    "lines_to_next_cell": 2
   },
   "outputs": [],
   "source": []
  },
  {
   "cell_type": "code",
   "execution_count": null,
   "id": "46691b3f",
   "metadata": {
    "lines_to_next_cell": 2
   },
   "outputs": [],
   "source": [
    "\"\"\"\n",
    "input formats are \"npz\",\"nc4\",\"ascii\"\n",
    "\"\"\"\n",
    "InFilFmt = \".npz\"\n",
    "InDatDir = AEMPYX_DATA+\"/Blocks/A5/raw/\"\n",
    "# # InDatDir = AEMPYX_DATA+\"/Blocks/A1O/proc_delete/data_asc/\"\n",
    "print(\"Data read from dir: %s \" % InDatDir)\n",
    "FileList = \"set\" #\"search\"\n",
    "SearchStrng = \"\""
   ]
  },
  {
   "cell_type": "code",
   "execution_count": null,
   "id": "4ab63f2c",
   "metadata": {},
   "outputs": [],
   "source": [
    "PlotDir = InDatDir+\"/plots/\"\n",
    "print(\"Plots written to dir: %s \" % PlotDir)\n",
    "PlotName = \"A5\"\n",
    "print(\"Plot filname: %s \" % PlotName)"
   ]
  },
  {
   "cell_type": "code",
   "execution_count": null,
   "id": "f5fdc3e1",
   "metadata": {},
   "outputs": [],
   "source": [
    "if \"set\" in FileList.lower():\n",
    "    print(\"Data files read from dir:  %s\" % InDatDir)\n",
    "    dat_files = [InDatDir+\"A5_Merged.npz\"]"
   ]
  },
  {
   "cell_type": "code",
   "execution_count": null,
   "id": "2e42183a",
   "metadata": {},
   "outputs": [],
   "source": [
    "else:\n",
    "    # how = [\"search\", SearchStrng, InDatDir]\n",
    "    # how = [\"read\", FileList, InDatDir]\n",
    "    dat_files = util.get_data_list(how=[\"search\", SearchStrng, InDatDir],\n",
    "                              out= True, full=True, sort=True)"
   ]
  },
  {
   "cell_type": "code",
   "execution_count": null,
   "id": "79b4031a",
   "metadata": {},
   "outputs": [],
   "source": [
    "ns = numpy.size(dat_files)\n",
    "if ns ==0:\n",
    "    error(\"No files set!. Exit.\")"
   ]
  },
  {
   "cell_type": "code",
   "execution_count": null,
   "id": "130c6b4d",
   "metadata": {},
   "outputs": [],
   "source": []
  },
  {
   "cell_type": "code",
   "execution_count": null,
   "id": "9cdf78c4",
   "metadata": {
    "lines_to_next_cell": 2
   },
   "outputs": [],
   "source": [
    "MergeData = True\n",
    "DataMergeFile = InDatDir+\"A5_Data_Merged.npz\"\n",
    "MergeModels = False\n",
    "ModelMergeFile = InDatDir+\"A5_Models_Merged.npz\""
   ]
  },
  {
   "cell_type": "code",
   "execution_count": null,
   "id": "48468815",
   "metadata": {},
   "outputs": [],
   "source": [
    "PlotModel = False\n",
    "NLyr = 25\n",
    "Layer = 10\n",
    "if PlotModel:\n",
    "    nlyr =NLyr\n",
    "    numbers = numpy.arange(1,nlyr+1)\n",
    "    keys = [\"R\"+str(ii) for ii in numbers]\n",
    "    Compdict = dict(zip(keys, numbers))"
   ]
  },
  {
   "cell_type": "code",
   "execution_count": null,
   "id": "db85effc",
   "metadata": {
    "lines_to_next_cell": 2
   },
   "outputs": [],
   "source": [
    "PlotRMS = False\n",
    "if PlotRMS:\n",
    "    pass"
   ]
  },
  {
   "cell_type": "code",
   "execution_count": null,
   "id": "0e6e9acb",
   "metadata": {},
   "outputs": [],
   "source": [
    "ImageType = \"image\"\n",
    "# ImageType = \"contour\"\n",
    "# ImageType = \"scatter\""
   ]
  },
  {
   "cell_type": "code",
   "execution_count": null,
   "id": "57b5500c",
   "metadata": {},
   "outputs": [],
   "source": [
    "Pixels = 2048 * 10\n",
    "\"\"\"\n",
    "Kernel functions for RBF:\n",
    "    The radial basis function, based on the radius, r,\n",
    "    given by the norm (default is Euclidean distance); the default is ‘multiquadric’:\n",
    "        ‘linear’ : -r\n",
    "        ‘thin_plate_spline’ : r**2 * log(r)\n",
    "        ‘cubic’ : r**3\n",
    "        ‘quintic’ : -r**5\n",
    "\n",
    "If a callable, then it must take 2 arguments (self, r). The epsilon parameter\n",
    "will be available as self.epsilon. Other keyword arguments passed\n",
    "in will be available as well.\n",
    "\n",
    "\n",
    "Methods for griddata:\n",
    "        \"nearest\"       data point closest to the point of interpolation\n",
    "        \"linear\"        tessellate the input point set to N-D simplices\n",
    "                        and interpolate linearly on each simplex\n",
    "        \"cubic\"         return the value determined from a piecewise cubic,\n",
    "                        continuously differentiable (C1), and approximately\n",
    "                        curvature-minimizing polynomial surface.\n",
    "\"\"\"\n",
    "if (\"image\" in ImageType.lower()) or (\"contour\"in ImageType.lower()):\n",
    "    step = 1\n",
    "\n",
    "    InterpMethod = [\"griddata\",\"linear\"]\n",
    "    # InterpMethod = [\"griddata\", \"cubic\"]\n",
    "    # InterpMethod = [\"rbf\", \"linear\", 0.0]\n",
    "    # InterpMethod = [\"rbf\", \"thin_plate_spline\", 0.0]\n",
    "    # InterpMethod = [\"rbf\", \"cubic\", 0.01]\n",
    "\n",
    "    # InterpMethod = [\"krig\", \"linear\", 0.5, 340.]\n",
    "    S = 500.\n",
    "    numIndexes = 1001\n",
    "    smooth = 0.\n",
    "    Levels = []\n",
    "    MaskNeg = False\n",
    "    MaskPoly = True\n",
    "    if MaskPoly:\n",
    "        PolyDir = AEMPYX_DATA+\"/Blocks/polygons/\"\n",
    "        PolyFiles = [PolyDir+\"A5_2019_utm.npz\"]\n",
    "        Polygon= numpy.load(PolyFiles[0], allow_pickle=True)[\"Poly\"][0]"
   ]
  },
  {
   "cell_type": "code",
   "execution_count": null,
   "id": "7c67c5f3",
   "metadata": {},
   "outputs": [],
   "source": [
    "if (\"scatter\" in ImageType.lower()):\n",
    "    Decim=25\n",
    "    step = min(1,abs(Decim))\n",
    "    Markersize = 5\n",
    "    MaskNeg = True\n",
    "    Pixelsize = False\n",
    "    if Pixelsize:\n",
    "        step=10\n",
    "        sfac = 10."
   ]
  },
  {
   "cell_type": "code",
   "execution_count": null,
   "id": "35fd737d",
   "metadata": {},
   "outputs": [],
   "source": [
    "# CompList=[\n",
    "#     [\"Z3\", []], #[0., 2000., 100.]],\n",
    "#     [\"Z6\", []],#[0., 2000., 100.]],\n",
    "#     [\"Z9\", []], #[0., 2000., 100.]],\n",
    "#     [\"H3\", []], #[0., 2000., 100.]],\n",
    "#     [\"H6\", []],#[0., 2000., 100.]],\n",
    "#     [\"H9\", []], #[0., 2000., 100.]],\n",
    "#     [\"ALT\", [80., 160., 20.], 240.]     # ALTthresh = 70.\n",
    "          # ]"
   ]
  },
  {
   "cell_type": "code",
   "execution_count": null,
   "id": "4542a3f6",
   "metadata": {},
   "outputs": [],
   "source": [
    "CompList=[\n",
    "    # [\"P1\", [0., 2000., 100.]],\n",
    "    # [\"Q1\", [0., 2000., 100.]],\n",
    "    # [\"P2\", [0., 2000., 100.]],\n",
    "    # [\"Q2\", [0., 2000., 100.]],\n",
    "    [\"P3\", [0., 2000., 100.]],\n",
    "    [\"Q3\", [0., 2000., 100.]],\n",
    "    # [\"P4\", [0., 2000., 100.]],\n",
    "    # [\"Q4\", [0., 2000., 100.]],\n",
    "    #[\"PLM\", [], 0.2],      # PLMthresh = 0.25\n",
    "    # [\"ALT\", [40., 120., 20.], 300.]     # ALTthresh = 70.\n",
    "          ]"
   ]
  },
  {
   "cell_type": "code",
   "execution_count": null,
   "id": "c9911f13",
   "metadata": {
    "lines_to_next_cell": 2
   },
   "outputs": [],
   "source": []
  },
  {
   "cell_type": "code",
   "execution_count": null,
   "id": "19c5d65b",
   "metadata": {},
   "outputs": [],
   "source": [
    "# XYUnits = \"(m)\"\n",
    "# xformatter = matplotlib.ticker.FormatStrFormatter(\"%7f\")\n",
    "# yformatter = matplotlib.ticker.FormatStrFormatter(\"%6f\")\n",
    "# XYFact = 1.\n",
    "XYUnits = \"(km)\"\n",
    "XYFact = 0.001\n",
    "xformatter = matplotlib.ticker.FormatStrFormatter(\"%.2f\")\n",
    "yformatter = matplotlib.ticker.FormatStrFormatter(\"%.2f\")\n",
    "\"\"\"\n",
    "Determine graphical parameter.\n",
    "=> print(matplotlib.pyplot.style.available)\n",
    "\"\"\"\n",
    "FilesOnly = False\n",
    "matplotlib.pyplot.style.use(\"seaborn-paper\")\n",
    "matplotlib.rcParams[\"figure.dpi\"] = 400\n",
    "matplotlib.rcParams[\"axes.linewidth\"] = 0.5\n",
    "matplotlib.rcParams[\"savefig.facecolor\"] = \"none\"\n",
    "matplotlib.rcParams[\"savefig.bbox\"]= \"tight\""
   ]
  },
  {
   "cell_type": "code",
   "execution_count": null,
   "id": "4af63034",
   "metadata": {},
   "outputs": [],
   "source": [
    "Fontsize = 8\n",
    "Labelsize = Fontsize\n",
    "Titlesize = 8\n",
    "Fontsizes = [Fontsize, Labelsize, Titlesize]"
   ]
  },
  {
   "cell_type": "code",
   "execution_count": null,
   "id": "5125a723",
   "metadata": {},
   "outputs": [],
   "source": [
    "Linewidths= [0.5]\n",
    "FigWidth = 16.\n",
    "Pixels = 2048"
   ]
  },
  {
   "cell_type": "code",
   "execution_count": null,
   "id": "e9a4a4cd",
   "metadata": {},
   "outputs": [],
   "source": [
    "\"\"\"\n",
    "Determine colormap.\n",
    "=> https://matplotlib.org/stable/gallery/color/colormap_reference.html\n",
    "\"\"\""
   ]
  },
  {
   "cell_type": "code",
   "execution_count": null,
   "id": "ea88c335",
   "metadata": {},
   "outputs": [],
   "source": [
    "Cmap =\"viridis\"\n",
    "Cmap = \"hsv\"\n",
    "# Cmap =\"magma\"\n",
    "Cmap = \"jet_r\"\n",
    "# Cmap = \"seismic\"\n",
    "# Cmap = \"Spectral\"\n",
    "cmp = matplotlib.colormaps[Cmap]"
   ]
  },
  {
   "cell_type": "code",
   "execution_count": null,
   "id": "a99de71b",
   "metadata": {
    "lines_to_next_cell": 2
   },
   "outputs": [],
   "source": [
    "if FilesOnly:\n",
    "    matplotlib.use(\"cairo\")"
   ]
  },
  {
   "cell_type": "code",
   "execution_count": null,
   "id": "04969455",
   "metadata": {
    "lines_to_next_cell": 2
   },
   "outputs": [],
   "source": [
    "if not os.path.isdir(PlotDir):\n",
    "    print(\"File: %s does not exist, but will be created\" % PlotDir)\n",
    "    os.mkdir(PlotDir)"
   ]
  },
  {
   "cell_type": "code",
   "execution_count": null,
   "id": "fe311fdc",
   "metadata": {},
   "outputs": [],
   "source": [
    "if MergeData:\n",
    "    Data = util.merge_data_sets(infile_list=dat_files,\n",
    "                                outfile_name=DataMergeFile,\n",
    "                                aem_system=\"aem05\", out= True)\n",
    "    dat_files = [DataMergeFile]"
   ]
  },
  {
   "cell_type": "code",
   "execution_count": null,
   "id": "51e960cd",
   "metadata": {},
   "outputs": [],
   "source": [
    "if MergeModels:\n",
    "    Data = util.merge_model_sets(infile_list=dat_files,\n",
    "                                outfile_name=ModelMergeFile,\n",
    "                                aem_system=\"aem05\", out= True)\n",
    "    dat_files = [ModelMergeFile]"
   ]
  },
  {
   "cell_type": "code",
   "execution_count": null,
   "id": "2a020b6b",
   "metadata": {},
   "outputs": [],
   "source": [
    "for filein in dat_files:\n",
    "    start = process_time()\n",
    "    print(\"\\nData read from: %s\" % filein)\n",
    "    Data, header, _ = aesys.read_aempy(File=filein, System=AEM_system, OutInfo=False)\n",
    "\n",
    "\n",
    "    E = Data[:,1][::step]*XYFact\n",
    "    E_min = numpy.amin(E)\n",
    "    E_max = numpy.amax(E)\n",
    "    N = Data[:,2][::step]*XYFact\n",
    "    N_min = numpy.amin(N)\n",
    "    N_max = numpy.amax(N)\n",
    "    Z = Data[:,5][::step]\n",
    "\n",
    "    Lat, Lon = util.project_utm_to_latlon(E, N)\n",
    "    LatMax = numpy.amax(Lat)\n",
    "    LatMin = numpy.amin(Lat)\n",
    "    LonMax = numpy.amax(Lon)\n",
    "    LonMin = numpy.amin(Lon)\n",
    "\n",
    "\n",
    "    # for Comp in CompList:\n",
    "    for nc in numpy.arange(len(CompList)):\n",
    "\n",
    "        Comp = CompList[nc][0]\n",
    "\n",
    "        comp = CompDict[Comp][0]\n",
    "        indx = CompLabl.index(Comp)\n",
    "\n",
    "        if \"scatter\"in ImageType.lower():\n",
    "            titl = CompLabl[indx]+CompDict[Comp][2]+\"  trans=\"+str(DataTrans)\n",
    "        else:\n",
    "            titl = CompLabl[indx]+CompDict[Comp][2]+\"  trans=\"+str(DataTrans)+\" / \"+InterpMethod[0]+\" / \"+InterpMethod[1]\n",
    "\n",
    "        print(\"Plotting component \"+titl)\n",
    "        D = Data[:,comp][::step]\n",
    "\n",
    "        if (\"Z\" in Comp) or (\"H\" in Comp):\n",
    "            Unit = \"ppm\"\n",
    "            if DataTrans ==1:\n",
    "                Unit = \"-\"\n",
    "                D = numpy.log10(D)\n",
    "            if DataTrans ==2:\n",
    "                Unit = \"-\"\n",
    "                if not numpy.isfinite(S):\n",
    "                   S = inverse.get_S(D)\n",
    "                D= numpy.arcsinh(D/S)\n",
    "                print(\"Scaling Value S for arcsinh:\"+str(S))\n",
    "\n",
    "        if (\"P\" in Comp) or (\"Q\" in Comp):\n",
    "            Unit = \"ppm\"\n",
    "            if DataTrans ==1:\n",
    "                Unit = \"-\"\n",
    "                D = numpy.log10(D)\n",
    "            if DataTrans ==2:\n",
    "                Unit = \"-\"\n",
    "                if not numpy.isfinite(S):\n",
    "                    S = inverse.get_S(D)\n",
    "                D= numpy.arcsinh(D/S)\n",
    "                print(\"Scaling Value S for arcsinh:\"+str(S))\n",
    "\n",
    "        if (\"PL\" in Comp):\n",
    "            Unit = \"(-)\"\n",
    "            PLMthresh= CompList[nc][2]\n",
    "            titl = titl+\" / thresh = \"+str(PLMthresh)+\" m\"\n",
    "\n",
    "        if (\"A\" in Comp):\n",
    "            Unit = \"m\"\n",
    "            ALTthresh= CompList[nc][2]\n",
    "            titl = titl+\" / thresh = \"+str(ALTthresh)+\" m\"\n",
    "\n",
    "        if (\"R\" in Comp):\n",
    "            Unit = \"Ohm.m\"\n",
    "\n",
    "\n",
    "\n",
    "        fig1, ax = viz.gearth_fig(llcrnrlon=LonMin,\n",
    "                     llcrnrlat=LatMin,\n",
    "                     urcrnrlon=LonMax,\n",
    "                     urcrnrlat=LatMax,\n",
    "                     pixels=Pixels)\n",
    "\n",
    "        if (\"scatter\" in ImageType.lower()):\n",
    "            print(\"Scatter Plot\")\n",
    "\n",
    "            plotfile_base = PlotDir+PlotName+\"_\"+AEM_system\\\n",
    "                +\"_\"+ImageType\\\n",
    "                +\"_\"+ Comp\n",
    "\n",
    "            if Pixelsize:\n",
    "                Markersize =(72./fig1.dpi)\n",
    "\n",
    "            if (\"PL\" in Comp):\n",
    "                D[D<=PLMthresh]=numpy.nan\n",
    "            if (\"A\" in Comp):\n",
    "                D[D>=ALTthresh]=numpy.nan\n",
    "\n",
    "            if MaskNeg:\n",
    "                D[D<=0.]= numpy.nan\n",
    "\n",
    "            if Pixelsize:\n",
    "                im = matplotlib.pyplot.scatter(E, N, color=\"black\", marker=\".\", lw=0, s=(sfac*72./fig1.dpi)**2)\n",
    "            else:\n",
    "                im = matplotlib.pyplot.scatter(E, N, c=D, s=Markersize**2, cmap=cmp)\n",
    "\n",
    "            ax.set_axis_off()\n",
    "\n",
    "        if (\"image\" in ImageType.lower()) or (\"contour\"in ImageType.lower()):\n",
    "            print(\"Contour/Image Plot\")\n",
    "\n",
    "\n",
    "\n",
    "            xi= numpy.linspace(E_min,E_max,numIndexes)\n",
    "            yi= numpy.linspace(N_min,N_max,numIndexes)\n",
    "            dx = numpy.around(numpy.diff(xi)[0]/XYFact, decimals=0)\n",
    "            dy = numpy.around(numpy.diff(yi)[0]/XYFact, decimals=0)\n",
    "            print(\"Interpolation mesh, dx = \"+ str(dx)+\" m, dy =\"+ str(dy)+\" m\")\n",
    "\n",
    "            XI, YI = numpy.meshgrid(xi, yi)\n",
    "            Mesh = numpy.vstack((XI.flatten(), YI.flatten())).T\n",
    "            Pnts = numpy.vstack((E.flatten(), N.flatten())).T\n",
    "            Dats = D.flatten()\n",
    "            if \"grid\" in InterpMethod[0].lower():\n",
    "                DI = scipy.interpolate.griddata(Pnts, Dats, Mesh,\n",
    "                                                method=InterpMethod[1].lower())\n",
    "                DI = numpy.reshape(DI,(len(xi), len(yi)))\n",
    "\n",
    "            elif \"rbf\" in InterpMethod[0].lower():\n",
    "                # RBF = scipy.interpolate.Rbf(E, N, D,\n",
    "                #                             function=InterpMethod[1].lower(), smooth=InterpMethod[2])\n",
    "                # DI  = RBF(XI, YI)\n",
    "                Pnts = numpy.stack([ E.ravel(),  N.ravel()], -1)\n",
    "                Mesh = numpy.stack([XI.ravel(), YI.ravel()], -1)\n",
    "                Dats = D.ravel()\n",
    "                RBF = scipy.interpolate.RBFInterpolator(Pnts, Dats,\n",
    "                                                     kernel=InterpMethod[1], smoothing=InterpMethod[2])\n",
    "                DI = RBF(Mesh)\n",
    "                DI = numpy.reshape(DI,(len(xi), len(yi)))\n",
    "\n",
    "\n",
    "            elif \"krig\" in InterpMethod[0].lower():\n",
    "                error(\"Kriging estimation not yet implemented! Exit.\")\n",
    "\n",
    "\n",
    "            if (\"PL\" in Comp):\n",
    "                DI[DI<=PLMthresh]=numpy.nan\n",
    "            if (\"A\" in Comp):\n",
    "                DI[DI>=ALTthresh]=numpy.nan\n",
    "\n",
    "            if MaskNeg:\n",
    "                DI[DI<=0.]= numpy.nan\n",
    "\n",
    "            if MaskPoly:\n",
    "                DIF = DI.flatten().reshape(-1,1)\n",
    "                XIF = XI.flatten().reshape(-1,1)/XYFact\n",
    "                YIF = YI.flatten().reshape(-1,1)/XYFact\n",
    "                for ipnt in numpy.arange(numpy.size(DIF)):\n",
    "                    outside = not util.point_inside_polygon(XIF[ipnt], YIF[ipnt], Polygon)\n",
    "\n",
    "                    if outside:\n",
    "                         DIF[ipnt] = numpy.nan\n",
    "                DI = numpy.reshape(DIF,(len(xi), len(yi)))\n",
    "\n",
    "\n",
    "            if len(CompList[nc][1])==0:\n",
    "                if (\"image\" in ImageType.lower()):\n",
    "                    im = ax.pcolor(XI, YI, DI, cmap=cmp)\n",
    "                if (\"contour\" in ImageType.lower()):\n",
    "                    im = ax.contourf(XI, YI, DI, cmap=cmp, levels=Levels)\n",
    "            else:\n",
    "                if (\"image\" in ImageType.lower()):\n",
    "                    valmin, valmax, _ = CompList[nc][1]\n",
    "                    im = ax.pcolor(XI, YI, DI,\n",
    "                                   cmap=cmp,\n",
    "                                   vmin=valmin, vmax=valmax)\n",
    "                if (\"contour\" in ImageType.lower()):\n",
    "                    valmin, valmax, valdel = CompList[nc][1]\n",
    "                    levels = numpy.arange(valmin, valmax+valdel, valdel)\n",
    "                    im = ax.contourf(XI, YI, DI,\n",
    "                                     cmap=cmp,\n",
    "                                     vmin=valmin, vmax=valmax,\n",
    "                                     levels=levels)\n",
    "            ax.set_axis_off()\n",
    "\n",
    "            plotfile_base = PlotDir+PlotName+\"_\"+AEM_system\\\n",
    "                +\"_\"+ImageType\\\n",
    "                +\"_\"+ Comp\\\n",
    "                +\"_\"+InterpMethod[0].lower()\\\n",
    "                +\"_\"+InterpMethod[1].lower()\n",
    "\n",
    "\n",
    "        matplotlib.pyplot.show()\n",
    "        matplotlib.pyplot.clf()\n",
    "\n",
    "\n",
    "        f1 =plotfile_base+\"_image.png\"\n",
    "        fig1.savefig(f1, transparent=False, format=\"png\")\n",
    "\n",
    "\n",
    "        fig2 = matplotlib.pyplot.figure(figsize=(1.0, 4.0), facecolor=None, frameon=False)\n",
    "        ax = fig2.add_axes([0.0, 0.05, 0.2, 0.9])\n",
    "        cb = fig2.colorbar(cmp, cax=ax)\n",
    "        cb.set_label(\"Mean Dynamic Topography [m]\", rotation=-90, color=\"k\", labelpad=20)\n",
    "        f2 = plotfile_base+\"_legend.png\"\n",
    "        fig2.savefig(f2, transparent=False, format=\"png\")  # Change transparent to True if your colorbar is not on space :)\n",
    "\n",
    "        viz.make_kml(llcrnrlon=LonMin,\n",
    "                     llcrnrlat=LatMin,\n",
    "                     urcrnrlon=LonMax,\n",
    "                     urcrnrlat=LatMax,\n",
    "                     figs=[f1], colorbar=f2,\n",
    "                     kmzfile=plotfile_base+\"kmz\", name=\"Mean Dynamic Topography and velocity\")"
   ]
  }
 ],
 "metadata": {
  "jupytext": {
   "cell_metadata_filter": "-all",
   "encoding": "# -*- coding: utf-8 -*-",
   "executable": "/usr/bin/env python3",
   "formats": "py,ipynb",
   "main_language": "python"
  }
 },
 "nbformat": 4,
 "nbformat_minor": 5
}
