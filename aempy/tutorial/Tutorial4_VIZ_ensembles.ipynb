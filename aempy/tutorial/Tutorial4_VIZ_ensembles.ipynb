{
 "cells": [
  {
   "cell_type": "code",
   "execution_count": null,
   "id": "eed9316d",
   "metadata": {
    "lines_to_next_cell": 0
   },
   "outputs": [],
   "source": []
  },
  {
   "cell_type": "markdown",
   "id": "c7f488cf",
   "metadata": {},
   "source": [
    "-*- coding: utf-8 -*-\n",
    "---\n",
    "jupyter:\n",
    "  jupytext:\n",
    "    cell_metadata_filter: -all\n",
    "    formats: py:light,ipynb\n",
    "    text_representation:\n",
    "      extension: .py\n",
    "      format_name: light\n",
    "      format_version: \"1.5\"\n",
    "      jupytext_version: 1.11.4\n",
    "---"
   ]
  },
  {
   "cell_type": "code",
   "execution_count": null,
   "id": "96419c40",
   "metadata": {},
   "outputs": [],
   "source": [
    "\"\"\"\n",
    "Show several 1d block models as (stitched) section.\n",
    "\n",
    "\"\"\"\n",
    "import os\n",
    "import os.path"
   ]
  },
  {
   "cell_type": "code",
   "execution_count": null,
   "id": "2e56c49b",
   "metadata": {},
   "outputs": [],
   "source": [
    "import sys\n",
    "from sys import exit as error"
   ]
  },
  {
   "cell_type": "code",
   "execution_count": null,
   "id": "d39b6392",
   "metadata": {},
   "outputs": [],
   "source": [
    "from datetime import datetime\n",
    "import warnings"
   ]
  },
  {
   "cell_type": "code",
   "execution_count": null,
   "id": "969f67b4",
   "metadata": {},
   "outputs": [],
   "source": [
    "import numpy"
   ]
  },
  {
   "cell_type": "code",
   "execution_count": null,
   "id": "4c48c624",
   "metadata": {},
   "outputs": [],
   "source": [
    "import matplotlib.collections\n",
    "import matplotlib.patches\n",
    "import matplotlib.colors\n",
    "import matplotlib.pyplot\n",
    "import matplotlib\n",
    "import matplotlib.cm"
   ]
  },
  {
   "cell_type": "code",
   "execution_count": null,
   "id": "ebae8e3b",
   "metadata": {},
   "outputs": [],
   "source": [
    "AEMPYX_ROOT = os.environ[\"AEMPYX_ROOT\"]\n",
    "mypath = [AEMPYX_ROOT+\"/aempy/modules/\", AEMPYX_ROOT+\"/aempy/scripts/\"]\n",
    "# mypath = [\"/home/vrath/AEMpyX/aempy/modules/\", \"/home/vrath/AEMpyX/aempy/scripts/\"]\n",
    "for pth in mypath:\n",
    "    if pth not in sys.path:\n",
    "        # sys.path.append(pth)\n",
    "        sys.path.insert(0,pth)"
   ]
  },
  {
   "cell_type": "code",
   "execution_count": null,
   "id": "a2aeae4b",
   "metadata": {},
   "outputs": [],
   "source": [
    "from version import versionstrg"
   ]
  },
  {
   "cell_type": "code",
   "execution_count": null,
   "id": "dc2dbbae",
   "metadata": {
    "lines_to_next_cell": 2
   },
   "outputs": [],
   "source": [
    "import aesys\n",
    "import util\n",
    "import viz\n",
    "import eviz\n",
    "import inverse"
   ]
  },
  {
   "cell_type": "code",
   "execution_count": null,
   "id": "ac7f648a",
   "metadata": {},
   "outputs": [],
   "source": [
    "warnings.simplefilter(action=\"ignore\", category=FutureWarning)"
   ]
  },
  {
   "cell_type": "code",
   "execution_count": null,
   "id": "d54627ea",
   "metadata": {},
   "outputs": [],
   "source": [
    "OutInfo = True\n",
    "AEMPYX_DATA = os.environ[\"AEMPYX_DATA\"]"
   ]
  },
  {
   "cell_type": "code",
   "execution_count": null,
   "id": "25cdc942",
   "metadata": {},
   "outputs": [],
   "source": [
    "rng = numpy.random.default_rng()\n",
    "nan = numpy.nan  # float(\"NaN\")\n",
    "cm = 1/2.54  # centimeters in inches"
   ]
  },
  {
   "cell_type": "code",
   "execution_count": null,
   "id": "65468012",
   "metadata": {
    "lines_to_next_cell": 2
   },
   "outputs": [],
   "source": [
    "version, _ = versionstrg()\n",
    "titstrng = util.print_title(version=version, fname=__file__, out=False)\n",
    "print(titstrng+\"\\n\\n\")"
   ]
  },
  {
   "cell_type": "code",
   "execution_count": null,
   "id": "1afe1477",
   "metadata": {},
   "outputs": [],
   "source": [
    "now = datetime.now()\n",
    "\"\"\"\n",
    "input format is npz\n",
    "\"\"\""
   ]
  },
  {
   "cell_type": "code",
   "execution_count": null,
   "id": "e5ed31b4",
   "metadata": {
    "lines_to_next_cell": 2
   },
   "outputs": [],
   "source": [
    "InFileFmt = \".npz\"\n",
    "InModDir =\"/home/vrath/work/AEM_Data//Projects/StGormans/results_jcn\"\n",
    "if not InModDir.endswith(\"/\"): InModDir = InModDir+\"/\"\n",
    "print(\"Data/models read from dir:  %s\" % InModDir)"
   ]
  },
  {
   "cell_type": "code",
   "execution_count": null,
   "id": "9d7f78c3",
   "metadata": {},
   "outputs": [],
   "source": [
    "FileList = \"set\"  # \"search\", \"read\""
   ]
  },
  {
   "cell_type": "code",
   "execution_count": null,
   "id": "627b340e",
   "metadata": {
    "lines_to_next_cell": 2
   },
   "outputs": [],
   "source": [
    "if \"search\" in FileList.lower():\n",
    "\n",
    "    SearchStrng = \"\"\n",
    "    print(\"Search flightline ID string: %s \" % SearchStrng)\n",
    "    data_files = util.get_filelist(searchstr=[SearchStrng], searchpath=InModDir)\n",
    "    data_files = sorted(data_files)"
   ]
  },
  {
   "cell_type": "code",
   "execution_count": null,
   "id": "2b019b8a",
   "metadata": {},
   "outputs": [],
   "source": [
    "if \"set\" in FileList.lower():\n",
    "   data_files =[\n",
    "    \"A1_rect_StGormans_FL11379-0_proc_delete_PLM3s_k3_nlyr36_TikhOpt-JCN_gcv_Prior100_results\",\n",
    "   ]"
   ]
  },
  {
   "cell_type": "code",
   "execution_count": null,
   "id": "f446317d",
   "metadata": {},
   "outputs": [],
   "source": [
    "PlotDir = InModDir+\"/plots/\"\n",
    "print(\"Plots written to dir: %s \" % PlotDir)\n",
    "if not os.path.isdir(PlotDir):\n",
    "    print(\"File: %s does not exist, but will be created\" % PlotDir)\n",
    "    os.mkdir(PlotDir)"
   ]
  },
  {
   "cell_type": "code",
   "execution_count": null,
   "id": "c5501e33",
   "metadata": {},
   "outputs": [],
   "source": [
    "FilesOnly = False"
   ]
  },
  {
   "cell_type": "code",
   "execution_count": null,
   "id": "3e2114ca",
   "metadata": {},
   "outputs": [],
   "source": [
    "PlotFmt = [\".pdf\", \"png\"]\n",
    "PdfCatalog = False"
   ]
  },
  {
   "cell_type": "code",
   "execution_count": null,
   "id": "3f337f4c",
   "metadata": {
    "lines_to_next_cell": 2
   },
   "outputs": [],
   "source": [
    "if \".pdf\" in PlotFmt:\n",
    "    PdfCatName = \"JCNPlots.pdf\"\n",
    "else:\n",
    "    print(\" No pdfs generated. No catalog possible!\")\n",
    "    PdfCatalog = False"
   ]
  },
  {
   "cell_type": "code",
   "execution_count": null,
   "id": "9c21b44c",
   "metadata": {},
   "outputs": [],
   "source": [
    "\"\"\"\n",
    "Placement of plots\n",
    "\"\"\"   \n",
    "Horiz = True"
   ]
  },
  {
   "cell_type": "code",
   "execution_count": null,
   "id": "81ca3a82",
   "metadata": {},
   "outputs": [],
   "source": [
    "\"\"\"\n",
    "Parameter for data plot\n",
    "\"\"\""
   ]
  },
  {
   "cell_type": "code",
   "execution_count": null,
   "id": "2e83f771",
   "metadata": {},
   "outputs": [],
   "source": [
    "AEM_system = \"aem05\"\n",
    "# AEM_system = \"genesis\""
   ]
  },
  {
   "cell_type": "code",
   "execution_count": null,
   "id": "5a4a9c19",
   "metadata": {},
   "outputs": [],
   "source": [
    "FwdCall,NN, _, _, _, = aesys.get_system_params(System=AEM_system)"
   ]
  },
  {
   "cell_type": "code",
   "execution_count": null,
   "id": "32eb73da",
   "metadata": {},
   "outputs": [],
   "source": [
    "nD = NN[0]"
   ]
  },
  {
   "cell_type": "code",
   "execution_count": null,
   "id": "4f9a4b67",
   "metadata": {
    "lines_to_next_cell": 2
   },
   "outputs": [],
   "source": [
    "if \"aem05\" in AEM_system.lower():\n",
    "\n",
    "    DataLimits = [0., 2500.]    \n",
    "    FreqLimits = []"
   ]
  },
  {
   "cell_type": "code",
   "execution_count": null,
   "id": "8c92d2c6",
   "metadata": {
    "lines_to_next_cell": 2
   },
   "outputs": [],
   "source": [
    "if \"genes\" in AEM_system.lower():\n",
    "    # asinh trans (if negatives)\n",
    "    DataLimits = []\n",
    "    TimeLimits = []"
   ]
  },
  {
   "cell_type": "code",
   "execution_count": null,
   "id": "1e878cdf",
   "metadata": {},
   "outputs": [],
   "source": [
    "\"\"\"\n",
    "Parameter for model plots\n",
    "\"\"\"\n",
    "ModLimits = [3., 3000.]\n",
    "DepthLimits = [0., 100.]"
   ]
  },
  {
   "cell_type": "code",
   "execution_count": null,
   "id": "774e6bd7",
   "metadata": {},
   "outputs": [],
   "source": [
    "# Percentiles = [10., 20., 30., 40.] # linear\n",
    "Percentiles = [2.3, 15.9 ]                   # 95/68"
   ]
  },
  {
   "cell_type": "code",
   "execution_count": null,
   "id": "840f682d",
   "metadata": {},
   "outputs": [],
   "source": [
    "\"\"\"\n",
    "Placement and size of plots\n",
    "\"\"\"   \n",
    "Nplots = 2\n",
    "Horiz = True"
   ]
  },
  {
   "cell_type": "code",
   "execution_count": null,
   "id": "95246c71",
   "metadata": {},
   "outputs": [],
   "source": [
    "PlotSize = [8., 8.]"
   ]
  },
  {
   "cell_type": "code",
   "execution_count": null,
   "id": "93f9455d",
   "metadata": {},
   "outputs": [],
   "source": [
    "\"\"\"\n",
    "Determine graphical parameter.\n",
    "=> print(matplotlib.pyplot.style.available)\n",
    "see: \n",
    "MatplotlibDeprecationWarning: The seaborn styles shipped by Matplotlib \n",
    "are deprecated since 3.6, as they no longer correspond to the styles s\n",
    "hipped by seaborn. However, they will remain available as \n",
    "'seaborn-v0_8-<style>'. Alternatively, directly use the seaborn API instead.\n",
    "\n",
    "\"\"\"\n",
    "matplotlib.pyplot.style.use(\"seaborn-v0_8-paper\") # (\"seaborn-paper\")\n",
    "matplotlib.rcParams[\"figure.dpi\"] = 400\n",
    "matplotlib.rcParams[\"axes.linewidth\"] = 0.5\n",
    "matplotlib.rcParams[\"savefig.facecolor\"] = \"none\"\n",
    "# matplotlib.rcParams[\"text.usetex\"] = True"
   ]
  },
  {
   "cell_type": "code",
   "execution_count": null,
   "id": "4219ac52",
   "metadata": {},
   "outputs": [],
   "source": [
    "Fontsize = 8\n",
    "Labelsize = Fontsize\n",
    "Titlesize = 12\n",
    "Fontsizes = [Fontsize, Labelsize, Titlesize]"
   ]
  },
  {
   "cell_type": "code",
   "execution_count": null,
   "id": "3d8bcb86",
   "metadata": {},
   "outputs": [],
   "source": [
    "Linewidth = [1., 1., 0.75]\n",
    "Linetypes = [\"-\", \":\", \"--\", \";\"]\n",
    "Linecolors = [\"k\", \"r\", \"g\", \"b\", \"c\", \"m\"]"
   ]
  },
  {
   "cell_type": "code",
   "execution_count": null,
   "id": "71405ff2",
   "metadata": {
    "lines_to_next_cell": 2
   },
   "outputs": [],
   "source": [
    "Markers = [\"o\"]\n",
    "Markersize = [5]"
   ]
  },
  {
   "cell_type": "code",
   "execution_count": null,
   "id": "3e453017",
   "metadata": {},
   "outputs": [],
   "source": [
    "ncols = len(Percentiles)+3"
   ]
  },
  {
   "cell_type": "code",
   "execution_count": null,
   "id": "cfc12a7c",
   "metadata": {},
   "outputs": [],
   "source": [
    "Greys = [0.1, 0.2, 0.3, 0.4, 0.5,.6, 0.7, 0.8, 0.9]"
   ]
  },
  {
   "cell_type": "code",
   "execution_count": null,
   "id": "545c0d57",
   "metadata": {},
   "outputs": [],
   "source": [
    "\"\"\"\n",
    "see:\n",
    "https://matplotlib.org/stable/gallery/color/colormap_reference.html\n",
    "\"\"\"\n",
    "cmap = matplotlib.cm.gist_rainbow\n",
    "mycmap = matplotlib.pyplot.get_cmap(cmap)\n",
    "\"\"\"\n",
    "For just plotming to files, choose the cairo backend (eps, pdf, ,png, jpg...).\n",
    "If you need to see the plot directly (plot window, or jupyter), simply\n",
    "comment out the following line. In this case matplotlib may run into\n",
    "memory problems after a few hundreds of high-resolution plot.\n",
    "\"\"\"\n",
    "if FilesOnly:\n",
    "   matplotlib.use(\"cairo\")"
   ]
  },
  {
   "cell_type": "code",
   "execution_count": null,
   "id": "427d28e6",
   "metadata": {},
   "outputs": [],
   "source": []
  },
  {
   "cell_type": "code",
   "execution_count": null,
   "id": "51661aa1",
   "metadata": {},
   "outputs": [],
   "source": [
    "ns = numpy.size(data_files)"
   ]
  },
  {
   "cell_type": "code",
   "execution_count": null,
   "id": "3c649273",
   "metadata": {},
   "outputs": [],
   "source": [
    "ifl = 0\n",
    "pdf_list = []\n",
    "for file in data_files:\n",
    "\n",
    "    FileName, filext0 = os.path.splitext(file)\n",
    "\n",
    "    title=FileName\n",
    "\n",
    "    \"\"\"\n",
    "    numpy.savez_compressed(\n",
    "        file=Fileout+\".npz\",\n",
    "        fl_data=file,\n",
    "        fl_name=fl_name,\n",
    "        fl_orig=fl_orig,\n",
    "        header=titstrng,\n",
    "        site_log =site_log,\n",
    "        mod_ref=mod_apr,\n",
    "        mod_act=mod_act,\n",
    "        dat_act=dat_act,\n",
    "        site_modl=site_modl,\n",
    "        site_sens=site_sens,\n",
    "        site_merr=site_merr,\n",
    "        site_dobs=site_dobs,\n",
    "        site_dcal=site_dcal,\n",
    "        site_derr=site_derr,\n",
    "        site_nrms=site_nrms,\n",
    "        site_num=site_num,\n",
    "        site_y=site_y,\n",
    "        site_x=site_x,\n",
    "        site_gps=site_gps,\n",
    "        site_alt=site_alt,\n",
    "        site_dem=site_dem,\n",
    "        site_jacd= site_jacd,\n",
    "        site_pcov= site_pcov,\n",
    "        site_jcn_avg=site_jcn_avg,\n",
    "        site_jcn_var=site_jcn_var,\n",
    "        site_jcn_med=site_jcn_med,\n",
    "        site_jcn_mad=site_jcn_mad)\n",
    "           \n",
    "        if \"ens\" in Ctrl[\"output\"]:\n",
    "            util.add_object_npz(filein=Fileout+\".npz\",\n",
    "                       xkey = [\"site_jcn_ens\"], xobject=[site_jcn_ens])\n",
    "            \n",
    "        \"\"\"\n",
    "        \n",
    "    results = numpy.load(InModDir+file)\n",
    "    \n",
    "    fl_name = results[\"fl_name\"]\n",
    "    fl_orig = results[\"fl_orig\"]\n",
    "    \n",
    "    site_num = results[\"site_num\"]\n",
    "    site_x   = results[\"site_x\"] - fl_orig[0]\n",
    "    site_y   = results[\"site_y\"] - fl_orig[1]\n",
    "          \n",
    "   \n",
    "   \n",
    "    site_alt = results[\"site_alt\"]\n",
    "    \n",
    "    num_sites = len(site_num)\n",
    "    \n",
    "    pdf_list = []\n",
    "    for isit in numpy.arange(num_sites):\n",
    "        \n",
    "        \n",
    "        ensemble = results[\"site_jcn_ens\"][isit]\n",
    "        \n",
    "        \n",
    "        \n",
    "        pos = site_x[isit]**2 + site_y[isit]**2 \n",
    "        PlotTitle = FileName+\"  site \"+str(isit)+\" at position \"+str(numpy.around(pos),0)+\" m\"\n",
    "\n",
    "        \n",
    "        if Horiz: \n",
    "            horz = Nplots\n",
    "            vert = 1\n",
    "        else:\n",
    "            horz = 1\n",
    "            vert = Nplots\n",
    "            \n",
    "        fig, ax = matplotlib.pyplot.subplots(1,nplots,\n",
    "                                          figsize=(horz*PlotSize[0]*cm, vert*PlotSize[0]*cm),\n",
    "                                          gridspec_kw={\n",
    "                                              \"height_ratios\": [1.],\n",
    "                                              \"width_ratios\": [1., 1.]})\n",
    "        fig.suptitle(PlotTitle+\" (\"+method+\")\", fontsize=Fontsizes[2])\n",
    "     \n",
    "        \n",
    "        ax[0] = eviz.plot_model_ensemble(\n",
    "                ThisAxis = ax[0], \n",
    "                PlotType = \"percentiles\", # lines, percentiles. iso\n",
    "                System  = AEM_system,\n",
    "                ModEns = m_ens,\n",
    "                Depth = z_ens,\n",
    "                Percentiles=[2.5, 16.],\n",
    "                Fillcolor=[\"0.8\", \"0.4\"],\n",
    "                Alphas = [0.3 , 0.6],\n",
    "                Labels=[],\n",
    "                Linecolor=Linecolors,\n",
    "                Linetype=Linetypes,\n",
    "                Linewidth=Linewidth,\n",
    "                Markers = [\"v\"],\n",
    "                Markersize =[4],\n",
    "                Fontsizes=Fontsizes,\n",
    "                XLimits=ModLimits,\n",
    "                YLimits= DepthLimits,\n",
    "                Legend=False)\n",
    "        \n",
    "        if PlotTrue:\n",
    "            # print(m_true) \n",
    "            # print(z_true)\n",
    "            ax[0] = eviz.plot_model(\n",
    "                    ThisAxis = ax[0], \n",
    "                    System  = AEM_system,\n",
    "                    Model = m_true,\n",
    "                    Depth = z_true,\n",
    "                    Labels=[\"true model\"],\n",
    "                    Linecolor=[\"k\"],\n",
    "                    Linetype=[\"--\"],\n",
    "                    Linewidth=[1],\n",
    "                    Markers = [\"v\"],\n",
    "                    Markersize =[4],\n",
    "                    Fontsizes=Fontsizes,\n",
    "                    XLimits= ModLimits,\n",
    "                    YLimits= DepthLimits,\n",
    "                    Legend=True)\n",
    "        \n",
    "        \n",
    "        ax[1] = eviz.plot_data_ensemble(\n",
    "                ThisAxis = ax[1],  \n",
    "                PlotType = \"percentiles\", # lines, percentiles. iso\n",
    "                System  = AEM_system,\n",
    "                DatEns = d_ens,\n",
    "                Percentiles=[2.5, 16.],\n",
    "                Fillcolor=[\"0.8\", \"0.4\"],\n",
    "                Alphas = [0.3 , 0.6],\n",
    "                Labels=[],\n",
    "                Linecolor=Linecolors,\n",
    "                Linetype=Linetypes,\n",
    "                Linewidth=Linewidth,\n",
    "                Markers = [\"\"],\n",
    "                Markersize =[4],\n",
    "                Fontsizes=Fontsizes, \n",
    "                XLimits= FreqLimits,\n",
    "                YLimits= DataLimits,\n",
    "                Legend=False)\n",
    "\n",
    "\n",
    "        \n",
    "        \n",
    "        \n",
    "\n",
    "\n",
    "    for F in PlotFmt:\n",
    "      matplotlib.pyplot.savefig(PlotDir+FileName+\"_model\"+F, dpi=400)\n",
    "\n",
    "    if matplotlib.get_backend()!=\"cairo\":\n",
    "        matplotlib.pyplot.show()\n",
    "    matplotlib.pyplot.LogrhoLimitsf()\n",
    "\n",
    "\n",
    "    if PdfCatalog:\n",
    "        pdf_list.append(PlotDir+FileName+\".pdf\")"
   ]
  }
 ],
 "metadata": {
  "jupytext": {
   "cell_metadata_filter": "-all",
   "executable": "/usr/bin/env python3",
   "formats": "py,ipynb",
   "main_language": "python"
  }
 },
 "nbformat": 4,
 "nbformat_minor": 5
}
