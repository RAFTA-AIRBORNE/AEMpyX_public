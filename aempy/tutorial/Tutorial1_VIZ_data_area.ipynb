{
 "cells": [
  {
   "cell_type": "code",
   "execution_count": 1,
   "id": "48496908",
   "metadata": {},
   "outputs": [],
   "source": [
    "#!/usr/bin/env python3"
   ]
  },
  {
   "cell_type": "markdown",
   "id": "5d2bb6f7",
   "metadata": {},
   "source": [
    "This script plots data over an spatial area. "
   ]
  },
  {
   "cell_type": "code",
   "execution_count": 2,
   "id": "49ba1c21",
   "metadata": {},
   "outputs": [],
   "source": [
    "import os\n",
    "import sys\n",
    "from sys import exit as error\n",
    "from time import process_time\n",
    "from datetime import datetime\n",
    "import warnings\n",
    "\n",
    "import numpy\n",
    "import matplotlib\n",
    "import matplotlib.pyplot\n",
    "import matplotlib.ticker\n",
    "import matplotlib.axis\n",
    "import mpl_toolkits.axes_grid1\n",
    "\n",
    "import scipy.interpolate\n",
    "import scipy.spatial\n",
    "import shapely\n",
    "\n",
    "AEMPYX_ROOT = os.environ[\"AEMPYX_ROOT\"]\n",
    "mypath = [AEMPYX_ROOT+\"/aempy/modules/\", AEMPYX_ROOT+\"/aempy/scripts/\"]\n",
    "for pth in mypath:\n",
    "    if pth not in sys.path:\n",
    "        sys.path.insert(0,pth)\n",
    "\n",
    "from version import versionstrg\n",
    "import util\n",
    "import aesys\n",
    "import viz\n",
    "import inverse"
   ]
  },
  {
   "cell_type": "code",
   "execution_count": 3,
   "id": "0cb07b69",
   "metadata": {},
   "outputs": [],
   "source": [
    "OutInfo = True\n",
    "cm = 1/2.54\n",
    "AEMPYX_DATA = os.environ[\"AEMPYX_DATA\"]\n",
    "\n",
    "version, _ = versionstrg()\n",
    "script = \"Tutorial1_VIZ_data_area.py\"\n",
    "# script = __file__  # this only works in python, not jupyter notebook\n",
    "titstrng = util.print_title(version=version, fname=script, out=False)\n",
    "print(titstrng+\"\\n\\n\")\n",
    "Header = titstrng"
   ]
  },
  {
   "cell_type": "markdown",
   "id": "aac32bfa",
   "metadata": {},
   "source": [
    "The following cell gives values to AEM-system related settings. \n",
    "\n",
    "Data transformation is activated by the variable _DataTrans_. Currently \n",
    "three possible options are allowed: _DataTrans = 0_: No transformation, \n",
    "i.e., the raw data are used. _DataTrans = 1_: The natural log of data \n",
    "is taken, only allowed for strictly positive values. _DataTrans = 2_: \n",
    "If data scale logarithmically, an _asinh_ transformation (introduced by\n",
    "Scholl, 2000) is applied. It allows negatives, which may occur in TDEM, \n",
    "when IP effects are present.\n",
    "       \n",
    "A general additive/multiplicative error model is applied on the raw data\n",
    "before transformation, and errors are also transformed."
   ]
  },
  {
   "cell_type": "code",
   "execution_count": 5,
   "id": "f8f9d6e2",
   "metadata": {},
   "outputs": [],
   "source": [
    "# AEM_system = \"genesis\"\n",
    "AEM_system = \"aem05\"\n",
    "if \"aem05\" in AEM_system.lower():\n",
    "    _, NN, _, _, Misc, = aesys.get_system_params(System=AEM_system)\n",
    "    nL = NN[0]\n",
    "    ParaTrans = 1\n",
    "    DataTrans = 0\n",
    "    DatErr_add =  50.\n",
    "    DatErr_mult = 0.03\n",
    "    data_active = numpy.ones(NN[2], dtype=\"int8\")\n",
    "    \n",
    "    CompDict = Misc[3]\n",
    "    CompLabl = list(CompDict.keys())\n",
    "    print(CompLabl)\n",
    "\n",
    "if \"genes\" in AEM_system.lower():\n",
    "    _, NN, _, _, Misc, = aesys.get_system_params(System=AEM_system)\n",
    "    nL = NN[0]\n",
    "    ParaTrans = 1\n",
    "    DataTrans = 2\n",
    "    DatErr_add = 100.\n",
    "    DatErr_mult = 0.01\n",
    "    data_active = numpy.ones(NN[2], dtype=\"int8\")\n",
    "    data_active[0:11]=0  # only vertical component\n",
    "    # data_active[10:11]=0  # Vertical + \"good\" hoizontals\"\n",
    "    CompDict =Misc[2]\n",
    "    CompLabl = list(CompDict.keys())"
   ]
  },
  {
   "cell_type": "code",
   "execution_count": 7,
   "id": "00be12cd",
   "metadata": {},
   "outputs": [
    {
     "name": "stdout",
     "output_type": "stream",
     "text": [
      "Data read from dir: /home/vrath/AEMpyX_public//data//aem05_limerick/raw/ \n",
      "Plots written to dir: /home/vrath/AEMpyX_public//data//aem05_limerick/raw/plots/ \n",
      "Plot filname: Limerick_shale_raw \n"
     ]
    }
   ],
   "source": [
    "\n",
    "InFileFmt = \".npz\"\n",
    "\n",
    "FileList = \"search\"  \n",
    "SearchStrng = \"*FL*.npz\"# \"search\", \"read\"\n",
    "\n",
    "AEMPYX_DATA = AEMPYX_ROOT+\"/data/\"  \n",
    "InDatDir = AEMPYX_DATA+\"/aem05_limerick/raw/\"\n",
    "PlotDir = AEMPYX_DATA+\"/aem05_limerick/raw/plots/\"\n",
    "PlotStrng = \" - data raw\"\n",
    "PlotName = \"Limerick_shale_raw\"\n",
    "\n",
    "print(\"Data read from dir: %s \" % InDatDir)\n",
    "print(\"Plots written to dir: %s \" % PlotDir)\n",
    "print(\"Plot filname: %s \" % PlotName)\n",
    "\n",
    "# FileList = \"read\"\n",
    "ListName = \"\""
   ]
  },
  {
   "cell_type": "code",
   "execution_count": 8,
   "id": "0e2de402",
   "metadata": {},
   "outputs": [],
   "source": [
    "if \"set\" in FileList.lower():\n",
    "    dat_files = []"
   ]
  },
  {
   "cell_type": "code",
   "execution_count": 9,
   "id": "9360e9b3",
   "metadata": {},
   "outputs": [],
   "source": [
    "if \"read\" in FileList.lower():\n",
    "    print(\"File names read from : \"+ListName)\n",
    "    how = [\"read\", ListName, InDatDir]\n",
    "    dat_files = util.get_data_list(how=how,\n",
    "                              out= True, sort=True)\n",
    "\n",
    "    dat_files = numpy.loadtxt(\"A9-7.dat\", dtype=str)"
   ]
  },
  {
   "cell_type": "code",
   "execution_count": 10,
   "id": "3cca7f9e",
   "metadata": {},
   "outputs": [
    {
     "name": "stdout",
     "output_type": "stream",
     "text": [
      "Searchstring is : *FL*.npz\n",
      "Data files read from dir:  /home/vrath/AEMpyX_public//data//aem05_limerick/raw/\n",
      "Search string: *FL*.npz \n",
      "76 data files found:\n",
      "['A5_rect_shale_FL5001-0.npz', 'A5_rect_shale_FL5002-0.npz', 'A5_rect_shale_FL5003-0.npz', 'A5_rect_shale_FL5004-0.npz', 'A5_rect_shale_FL5005-0.npz', 'A5_rect_shale_FL5006-0.npz', 'A5_rect_shale_FL5007-0.npz', 'A5_rect_shale_FL5008-0.npz', 'A5_rect_shale_FL5009-0.npz', 'A5_rect_shale_FL5010-0.npz', 'A5_rect_shale_FL5011-01.npz', 'A5_rect_shale_FL5012-0.npz', 'A5_rect_shale_FL5013-0.npz', 'A5_rect_shale_FL5014-0.npz', 'A5_rect_shale_FL5015-0.npz', 'A5_rect_shale_FL5016-0.npz', 'A5_rect_shale_FL5017-0.npz', 'A5_rect_shale_FL5018-0.npz', 'A5_rect_shale_FL5019-0.npz', 'A5_rect_shale_FL5020-0.npz', 'A5_rect_shale_FL5021-0.npz', 'A5_rect_shale_FL5022-0.npz', 'A5_rect_shale_FL5023-0.npz', 'A5_rect_shale_FL5024-0.npz', 'A5_rect_shale_FL5025-0.npz', 'A5_rect_shale_FL5026-0.npz', 'A5_rect_shale_FL5027-0.npz', 'A5_rect_shale_FL5028-0.npz', 'A5_rect_shale_FL5029-0.npz', 'A5_rect_shale_FL5030-0.npz', 'A5_rect_shale_FL5031-0.npz', 'A5_rect_shale_FL5032-01.npz', 'A5_rect_shale_FL5033-0.npz', 'A5_rect_shale_FL5034-0.npz', 'A5_rect_shale_FL5035-0.npz', 'A5_rect_shale_FL5036-0.npz', 'A5_rect_shale_FL5037-0.npz', 'A5_rect_shale_FL5038-0.npz', 'A5_rect_shale_FL5039-0.npz', 'A5_rect_shale_FL5040-0.npz', 'A5_rect_shale_FL5041-0.npz', 'A5_rect_shale_FL5042-0.npz', 'A5_rect_shale_FL5043-0.npz', 'A5_rect_shale_FL5044-0.npz', 'A5_rect_shale_FL5045-0.npz', 'A5_rect_shale_FL5046-0.npz', 'A5_rect_shale_FL5047-0.npz', 'A5_rect_shale_FL5048-0.npz', 'A5_rect_shale_FL5049-0.npz', 'A5_rect_shale_FL5050-0.npz', 'A5_rect_shale_FL5051-0.npz', 'A5_rect_shale_FL5052-0.npz', 'A5_rect_shale_FL5053-0.npz', 'A5_rect_shale_FL5054-0.npz', 'A5_rect_shale_FL5055-0.npz', 'A5_rect_shale_FL5056-0.npz', 'A5_rect_shale_FL5056-01.npz', 'A5_rect_shale_FL5057-0.npz', 'A5_rect_shale_FL5058-0.npz', 'A5_rect_shale_FL5059-0.npz', 'A5_rect_shale_FL5060-0.npz', 'A5_rect_shale_FL5061-0.npz', 'A5_rect_shale_FL5062-01.npz', 'A5_rect_shale_FL5063-0.npz', 'A5_rect_shale_FL5064-0.npz', 'A5_rect_shale_FL5065-0.npz', 'A5_rect_shale_FL5066-0.npz', 'A5_rect_shale_FL5067-0.npz', 'A5_rect_shale_FL513-0.npz', 'A5_rect_shale_FL514-0.npz', 'A5_rect_shale_FL515-0.npz', 'A5_rect_shale_FL516-0.npz', 'A5_rect_shale_FL517-0.npz', 'A5_rect_shale_FL518-0.npz', 'A5_rect_shale_FL519-01.npz', 'A5_rect_shale_FL520-0.npz']\n"
     ]
    }
   ],
   "source": [
    "if \"search\" in FileList.lower():\n",
    "    print(\"Searchstring is : \"+SearchStrng)\n",
    "    how = [\"search\", SearchStrng, InDatDir]\n",
    "    dat_files = util.get_data_list(how=how,\n",
    "                              out= True, sort=True)"
   ]
  },
  {
   "cell_type": "code",
   "execution_count": 11,
   "id": "7f5343e5",
   "metadata": {
    "lines_to_next_cell": 2
   },
   "outputs": [],
   "source": [
    "ns = numpy.size(dat_files)\n",
    "if ns ==0:\n",
    "    error(\"No files set!. Exit.\")"
   ]
  },
  {
   "cell_type": "code",
   "execution_count": 12,
   "id": "c5cb24fd",
   "metadata": {},
   "outputs": [],
   "source": [
    "PlotFmt = [\".pdf\", \".png\"] #\".png\", \".pdf\",]\n",
    "FilesOnly = True"
   ]
  },
  {
   "cell_type": "code",
   "execution_count": 13,
   "id": "09e2f240",
   "metadata": {},
   "outputs": [],
   "source": [
    "PDFCatalog = True\n",
    "PDFCName = \"MUN_3s_Catalog_Images.pdf\"\n",
    "if \".pdf\" in PlotFmt:\n",
    "    pass\n",
    "else:\n",
    "    error(\" No pdfs generated. No catalog possible!\")\n",
    "    PDFCatalog = False"
   ]
  },
  {
   "cell_type": "code",
   "execution_count": 14,
   "id": "9879d0a6",
   "metadata": {
    "lines_to_next_cell": 2
   },
   "outputs": [],
   "source": [
    "MergeData = True\n",
    "DataMergeFile = InDatDir+PlotName+\"_merged.npz\""
   ]
  },
  {
   "cell_type": "code",
   "execution_count": 15,
   "id": "30163285",
   "metadata": {
    "lines_to_next_cell": 2
   },
   "outputs": [],
   "source": [
    "ImageType = \"image\"\n",
    "# ImageType = \"contour\"\n",
    "# ImageType = \"scatter\""
   ]
  },
  {
   "cell_type": "code",
   "execution_count": 16,
   "id": "c635db1e",
   "metadata": {},
   "outputs": [],
   "source": [
    "XYUnits = \"(km)\"\n",
    "XYFact = 0.001"
   ]
  },
  {
   "cell_type": "markdown",
   "id": "3de82655",
   "metadata": {},
   "source": [
    "\n",
    "Kernel functions for RBF:\n",
    "    The radial basis function, based on the radius, r,\n",
    "    given by the norm (default is Euclidean distance); the default is ‘multiquadric’:\n",
    "        ‘linear’ : -r\n",
    "        ‘thin_plate_spline’ : r**2 * log(r)\n",
    "        ‘cubic’ : r**3\n",
    "        ‘quintic’ : -r**5\n",
    "\n",
    "If a callable, then it must take 2 arguments (self, r). The epsilon parameter\n",
    "will be available as self.epsilon. Other keyword arguments passed\n",
    "in will be available as well.\n",
    "\n",
    "\n",
    "Methods for griddata:\n",
    "        'nearest'       data point closest to the point of interpolation\n",
    "        'linear'        tessellate the input point set to N-D simplices\n",
    "                        and interpolate linearly on each simplex\n",
    "        'cubic'         return the value determined from a piecewise cubic,\n",
    "                        continuously differentiable (C1), and approximately\n",
    "                        curvature-minimizing polynomial surface.\n"
   ]
  },
  {
   "cell_type": "code",
   "execution_count": 18,
   "id": "a8080b16",
   "metadata": {},
   "outputs": [],
   "source": [
    "if (\"image\" in ImageType.lower()) or (\"contour\"in ImageType.lower()):\n",
    "    step = 1\n",
    "\n",
    "    InterpMethod = [\"griddata\",\"linear\"]\n",
    "    # InterpMethod = [\"griddata\", \"cubic\"]\n",
    "    # InterpMethod = [\"rbf\", \"linear\", 0.0]\n",
    "    # InterpMethod = [\"rbf\", \"thin_plate_spline\", 0.0]\n",
    "    # InterpMethod = [\"rbf\", \"cubic\", 0.01]\n",
    "\n",
    "    # InterpMethod = [\"krig\", \"linear\", 0.5, 340.]\n",
    "    \n",
    "    S = 500.\n",
    "    numIndexes = [121, 141]\n",
    "    smooth = 0.\n",
    "    Levels = []\n",
    "    MaskNeg = False\n",
    "    MaskPoly = False\n",
    "    MaskDist = True\n",
    "\n",
    "    if MaskDist:\n",
    "        DistMask = 100.*XYFact\n",
    "\n",
    "    if MaskPoly:\n",
    "        PolyDir = AEMPYX_DATA+\"/Blocks/polygons/\"\n",
    "        PolyFiles = [PolyDir+\"A5_2019_utm.npz\"]\n",
    "        Polygon= numpy.load(PolyFiles[0], allow_pickle=True)[\"Poly\"][0]"
   ]
  },
  {
   "cell_type": "code",
   "execution_count": 19,
   "id": "c4706642",
   "metadata": {
    "lines_to_next_cell": 2
   },
   "outputs": [],
   "source": [
    "if (\"scatter\" in ImageType.lower()):\n",
    "    Decim=25\n",
    "    step = min(1,abs(Decim))\n",
    "    Markersize = 5\n",
    "    MaskNeg = True\n",
    "    Pixelsize = False\n",
    "    if Pixelsize:\n",
    "        step=10\n",
    "        sfac = 10."
   ]
  },
  {
   "cell_type": "code",
   "execution_count": 20,
   "id": "e009e477",
   "metadata": {},
   "outputs": [],
   "source": [
    "# CompList=[\n",
    "#     [\"Z3\", []], #[0., 2000., 100.]],\n",
    "#     [\"Z6\", []],#[0., 2000., 100.]],\n",
    "#     [\"Z9\", []], #[0., 2000., 100.]],\n",
    "#     [\"H3\", []], #[0., 2000., 100.]],\n",
    "#     [\"H6\", []],#[0., 2000., 100.]],\n",
    "#     [\"H9\", []], #[0., 2000., 100.]],\n",
    "#     [\"ALT\", [80., 160., 20.], 240.]     # ALTthresh = 70.\n",
    "          # ]"
   ]
  },
  {
   "cell_type": "code",
   "execution_count": 21,
   "id": "e18ae74e",
   "metadata": {},
   "outputs": [],
   "source": [
    "# CompList=[\n",
    "    # [\"P1\", [0., 2000., 100.]],\n",
    "    # [\"Q1\", [0., 2000., 100.]],\n",
    "    # [\"P2\", [0., 2000., 100.]],\n",
    "    # [\"Q2\", [0., 2000., 100.]],\n",
    "    # [\"P3\", [0., 2000., 100.]],\n",
    "    # [\"Q3\", [0., 2000., 100.]],\n",
    "    # [\"P4\", [0., 2000., 100.]],\n",
    "    # [\"Q4\", [0., 2000., 100.]],\n",
    "    #[\"PLM\", [], 0.2],      # PLMthresh = 0.25\n",
    "    # [\"ALT\", [40., 120., 20.], 300.]     # ALTthresh = 70.\n",
    "          # ]"
   ]
  },
  {
   "cell_type": "code",
   "execution_count": 22,
   "id": "38a72dee",
   "metadata": {
    "lines_to_next_cell": 2
   },
   "outputs": [],
   "source": [
    "CompList=[\n",
    "    [\"P1\", [0., 3000., 200.]],\n",
    "    [\"Q1\", [0., 3000., 200.]],\n",
    "    [\"P2\", [0., 3000., 200.]],\n",
    "    [\"Q2\", [0., 3000., 200.]],\n",
    "    [\"P3\", [0., 3000., 200.]],\n",
    "    [\"Q3\", [0., 3000., 200.]],\n",
    "    [\"P4\", [0., 3000., 200.]],\n",
    "    [\"Q4\", [0., 3000., 200.]],\n",
    "    [\"PLM\", [], 3],      # PLMthresh = 0.25\n",
    "    [\"ALT\", [40., 120., 20.], 125.]     # ALTthresh = 70.\n",
    "]"
   ]
  },
  {
   "cell_type": "code",
   "execution_count": 23,
   "id": "03f913cc",
   "metadata": {},
   "outputs": [],
   "source": [
    "xformatter = matplotlib.ticker.FormatStrFormatter(\"%.2f\")\n",
    "yformatter = matplotlib.ticker.FormatStrFormatter(\"%.2f\")\n",
    "\"\"\"\n",
    "Determine graphical parameter.\n",
    "=> print(matplotlib.pyplot.style.available)\n",
    "\"\"\"\n",
    "FilesOnly = False\n",
    "matplotlib.pyplot.style.use(\"seaborn-v0_8-paper\")\n",
    "matplotlib.rcParams[\"figure.dpi\"] = 400\n",
    "matplotlib.rcParams[\"text.usetex\"] = False\n",
    "matplotlib.rcParams[\"font.family\"] = \"sans-serif\"\n",
    "matplotlib.rcParams[\"axes.linewidth\"] = 0.5\n",
    "matplotlib.rcParams[\"savefig.facecolor\"] = \"none\"\n",
    "matplotlib.rcParams[\"savefig.bbox\"]= \"tight\""
   ]
  },
  {
   "cell_type": "code",
   "execution_count": 24,
   "id": "c70d48f5",
   "metadata": {},
   "outputs": [],
   "source": [
    "Fontsize = 7\n",
    "Labelsize = Fontsize\n",
    "Titlesize = 8\n",
    "Fontsizes = [Fontsize, Labelsize, Titlesize]"
   ]
  },
  {
   "cell_type": "code",
   "execution_count": 25,
   "id": "d25065ce",
   "metadata": {},
   "outputs": [],
   "source": [
    "Linewidths= [0.5]\n",
    "FigWidth = 16."
   ]
  },
  {
   "cell_type": "markdown",
   "id": "63836ccf",
   "metadata": {},
   "source": [
    "\n",
    "Determine colormap.\n",
    "=> https://matplotlib.org/stable/gallery/color/colormap_reference.html\n"
   ]
  },
  {
   "cell_type": "code",
   "execution_count": 27,
   "id": "9c6415eb",
   "metadata": {},
   "outputs": [],
   "source": [
    "Cmap =\"viridis\"\n",
    "Cmap = \"hsv\"\n",
    "# Cmap =\"magma\"\n",
    "Cmap = \"jet_r\"\n",
    "# Cmap = \"seismic\"\n",
    "# Cmap = \"Spectral\"\n",
    "cmp = matplotlib.colormaps[Cmap]"
   ]
  },
  {
   "cell_type": "code",
   "execution_count": 28,
   "id": "60e429b2",
   "metadata": {
    "lines_to_next_cell": 2
   },
   "outputs": [],
   "source": [
    "if FilesOnly:\n",
    "    matplotlib.use(\"cairo\")"
   ]
  },
  {
   "cell_type": "code",
   "execution_count": 29,
   "id": "934b3615",
   "metadata": {
    "lines_to_next_cell": 2
   },
   "outputs": [],
   "source": [
    "if not os.path.isdir(PlotDir):\n",
    "    print(\"File: %s does not exist, but will be created\" % PlotDir)\n",
    "    os.mkdir(PlotDir)"
   ]
  },
  {
   "cell_type": "code",
   "execution_count": 30,
   "id": "bea82a49",
   "metadata": {},
   "outputs": [
    {
     "name": "stdout",
     "output_type": "stream",
     "text": [
      "\n",
      "AEM system is aem05\n",
      "Forward model call: core1d.aemfwd1d_aem05(nlyr, m, alt)\n",
      "Data:[17, 6, 8, 3]\n",
      "\n",
      "Data read from: A5_rect_shale_FL5001-0.npz\n"
     ]
    },
    {
     "ename": "SystemExit",
     "evalue": "File A5_rect_shale_FL5001-0.npz does not exist! Exit",
     "output_type": "error",
     "traceback": [
      "An exception has occurred, use %tb to see the full traceback.\n",
      "\u001b[0;31mSystemExit\u001b[0m\u001b[0;31m:\u001b[0m File A5_rect_shale_FL5001-0.npz does not exist! Exit\n"
     ]
    },
    {
     "name": "stderr",
     "output_type": "stream",
     "text": [
      "/home/vrath/.Miniconda24/envs/AEM/lib/python3.11/site-packages/IPython/core/interactiveshell.py:3585: UserWarning: To exit: use 'exit', 'quit', or Ctrl-D.\n",
      "  warn(\"To exit: use 'exit', 'quit', or Ctrl-D.\", stacklevel=1)\n"
     ]
    }
   ],
   "source": [
    "if MergeData:\n",
    "    Data = util.merge_data_sets(infile_list=dat_files,\n",
    "                                outfile_name=DataMergeFile,\n",
    "                                aem_system=\"aem05\", out= True)\n",
    "    dat_files = [DataMergeFile]"
   ]
  },
  {
   "cell_type": "code",
   "execution_count": null,
   "id": "f1e35447",
   "metadata": {},
   "outputs": [],
   "source": [
    "for filein in dat_files:\n",
    "    start = process_time()\n",
    "    print(\"\\nData read from: %s\" % filein)\n",
    "    Data, header, _ = aesys.read_aempy(File=filein, System=AEM_system, OutInfo=False)\n",
    "\n",
    "\n",
    "    E = Data[:,1][::step]*XYFact\n",
    "    E_min = numpy.amin(E)\n",
    "    E_max = numpy.amax(E)\n",
    "    N = Data[:,2][::step]*XYFact\n",
    "    N_min = numpy.amin(N)\n",
    "    N_max = numpy.amax(N)\n",
    "    Z = Data[:,5][::step]\n",
    "\n",
    "    if (\"image\" in ImageType.lower()) or (\"contour\"in ImageType.lower()):\n",
    "        xi= numpy.linspace(E_min,E_max,numIndexes[0])\n",
    "        yi= numpy.linspace(N_min,N_max,numIndexes[1])\n",
    "        dx = numpy.around(numpy.diff(xi)[0]/XYFact, decimals=0)\n",
    "        dy = numpy.around(numpy.diff(yi)[0]/XYFact, decimals=0)\n",
    "        print(\"Interpolation mesh, dx = \"+ str(dx)+\" m, dy =\"+ str(dy)+\" m\")\n",
    "        XI, YI = numpy.meshgrid(xi, yi, indexing=\"ij\")\n",
    "        Pnts = numpy.stack([ E.ravel(),  N.ravel()], -1)\n",
    "        Mesh = numpy.stack([XI.ravel(), YI.ravel()], -1)\n",
    "\n",
    "        if MaskDist:\n",
    "            D_tree=scipy.spatial.KDTree(Pnts, leafsize=10,\n",
    "                                        compact_nodes=True,\n",
    "                                        copy_data=True,\n",
    "                                        balanced_tree=True,\n",
    "                                        boxsize=None)\n",
    "            mindist, _ = D_tree.query(Mesh, k=1)\n",
    "            blankdist = mindist>=DistMask\n",
    "\n",
    "\n",
    "        if MaskPoly:\n",
    "            XIF = XI.flatten().reshape(-1,1)/XYFact\n",
    "            YIF = YI.flatten().reshape(-1,1)/XYFact\n",
    "            blankpoly=[]\n",
    "            for ipnt in numpy.arange(numpy.size(XIF)):\n",
    "                outside = not util.point_inside_polygon(XIF[ipnt], YIF[ipnt],\n",
    "                                                        Polygon)\n",
    "                blankpoly.append(outside)\n",
    "\n",
    "\n",
    "    pdf_list = []\n",
    "    # for Comp in CompList:\n",
    "    for nc in numpy.arange(len(CompList)):\n",
    "\n",
    "        Comp = CompList[nc][0]\n",
    "\n",
    "        comp = CompDict[Comp][0]\n",
    "        indx = CompLabl.index(Comp)\n",
    "\n",
    "        if \"scatter\"in ImageType.lower():\n",
    "            titl = CompLabl[indx]+CompDict[Comp][2]+\": \"+str(DataTrans)\n",
    "        else:\n",
    "            titl = CompLabl[indx]+CompDict[Comp][2]+\": \"+str(DataTrans)+\"/\"+InterpMethod[0]+\"/\"+InterpMethod[1]\n",
    "\n",
    "        print(\"Plotting component \"+titl)\n",
    "        D = Data[:,comp][::step]\n",
    "\n",
    "        D_min = numpy.amin(D)\n",
    "        D_max = numpy.amax(D)\n",
    "        print(\"Data, read   min=\"+str( D_min)+\"   max=\"+str( D_max))\n",
    "\n",
    "        if (\"Z\" in Comp) or (\"H\" in Comp):\n",
    "            Unit = \"ppm\"\n",
    "            if DataTrans ==1:\n",
    "                Unit = \"-\"\n",
    "                D = numpy.log10(D)\n",
    "            if DataTrans ==2:\n",
    "                Unit = \"-\"\n",
    "                if not numpy.isfinite(S):\n",
    "                   S = inverse.get_S(D)\n",
    "                D= numpy.arcsinh(D/S)\n",
    "                print(\"Scaling Value S for arcsinh:\"+str(S))\n",
    "\n",
    "        if (\"P\" in Comp) or (\"Q\" in Comp):\n",
    "            Unit = \"ppm\"\n",
    "            if DataTrans ==1:\n",
    "                Unit = \"-\"\n",
    "                D = numpy.log10(D)\n",
    "            if DataTrans ==2:\n",
    "                Unit = \"-\"\n",
    "                if not numpy.isfinite(S):\n",
    "                    S = inverse.get_S(D)\n",
    "                D= numpy.arcsinh(D/S)\n",
    "                print(\"Scaling Value S for arcsinh:\"+str(S))\n",
    "\n",
    "        if (\"PL\" in Comp):\n",
    "            Unit = \"(-)\"\n",
    "            PLMthresh= CompList[nc][2]\n",
    "            titl = titl+\" / thresh = \"+str(PLMthresh)+\" m\"\n",
    "\n",
    "        if (\"A\" in Comp):\n",
    "            Unit = \"m\"\n",
    "            ALTthresh= CompList[nc][2]\n",
    "            titl = titl+\" / thresh = \"+str(ALTthresh)+\" m\"\n",
    "\n",
    "        if (\"R\" in Comp):\n",
    "            Unit = \"Ohm.m\"\n",
    "\n",
    "\n",
    "        fig, ax = matplotlib.pyplot.subplots()\n",
    "        fig.set_figwidth(FigWidth)\n",
    "\n",
    "\n",
    "        if (\"scatter\" in ImageType.lower()):\n",
    "            print(\"Scatter Plot\")\n",
    "\n",
    "            if Pixelsize:\n",
    "                Markersize =(72./fig.dpi)\n",
    "\n",
    "            if (\"PL\" in Comp):\n",
    "                D[D<=PLMthresh]=numpy.nan\n",
    "            if (\"A\" in Comp):\n",
    "                D[D>=ALTthresh]=numpy.nan\n",
    "\n",
    "            if MaskNeg:\n",
    "                D[D<=0.]= numpy.nan\n",
    "\n",
    "            if Pixelsize:\n",
    "                im = matplotlib.pyplot.scatter(E, N, color='black', marker='.', lw=0, s=(sfac*72./fig.dpi)**2)\n",
    "            else:\n",
    "                im = matplotlib.pyplot.scatter(E, N, c=D, s=Markersize**2, cmap=cmp)\n",
    "\n",
    "            # ax = matplotlib.pyplot.gca()\n",
    "            ax.set_aspect(\"equal\")\n",
    "            ax.xaxis.set_major_formatter(xformatter)\n",
    "            ax.set_xlabel(\"Easting \"+XYUnits, size=Fontsizes[1])\n",
    "            ax.yaxis.set_major_formatter(yformatter)\n",
    "            ax.set_ylabel(\"Northing \"+XYUnits, size=Fontsizes[1])\n",
    "\n",
    "            ax.tick_params(axis=\"x\", labelsize=Fontsizes[1]-2, labelrotation=0.)#-45)\n",
    "            ax.tick_params(axis=\"y\", labelsize=Fontsizes[1]-2, labelrotation=0.)#-45)\n",
    "            ax.grid(which=\"major\", axis=\"both\", visible=True,linewidth= Linewidths[0],linestyle=\"--\")\n",
    "            ax.set_title(AEM_system.upper()+\": \"+ Comp)\n",
    "\n",
    "            divider = mpl_toolkits.axes_grid1.make_axes_locatable(ax)\n",
    "            cax = divider.append_axes(\"right\", size=\"5%\", pad=0.02)\n",
    "            cb = matplotlib.pyplot.colorbar(im, cax=cax, extend=\"both\")\n",
    "            cb.ax.tick_params(labelsize=Fontsizes[1])\n",
    "            cb.ax.set_title(Unit, fontsize=Fontsizes[1])\n",
    "\n",
    "\n",
    "        if (\"image\" in ImageType.lower()) or (\"contour\"in ImageType.lower()):\n",
    "            Dats = D.flatten()\n",
    "            if \"grid\" in InterpMethod[0].lower():\n",
    "                DI = scipy.interpolate.griddata(Pnts, Dats, Mesh,\n",
    "                                                method=InterpMethod[1].lower())\n",
    "                DI = numpy.reshape(DI,(len(xi), len(yi)))\n",
    "\n",
    "            elif \"rbf\" in InterpMethod[0].lower():\n",
    "                # RBF = scipy.interpolate.Rbf(E, N, D,\n",
    "                #                             function=InterpMethod[1].lower(), smooth=InterpMethod[2])\n",
    "                # DI  = RBF(XI, YI)\n",
    "                Pnts = numpy.stack([ E.ravel(),  N.ravel()], -1)\n",
    "                Mesh = numpy.stack([XI.ravel(), YI.ravel()], -1)\n",
    "                Dats = D.ravel()\n",
    "                RBF = scipy.interpolate.RBFInterpolator(\n",
    "                            Pnts, Dats,\n",
    "                            kernel=InterpMethod[1], smoothing=InterpMethod[2])\n",
    "                DI = RBF(Mesh)\n",
    "                DI = numpy.reshape(DI,(len(xi), len(yi)))\n",
    "\n",
    "\n",
    "            elif \"krig\" in InterpMethod[0].lower():\n",
    "                error(\"Kriging estimation not yet implemented! Exit.\")\n",
    "\n",
    "\n",
    "            if (\"PL\" in Comp):\n",
    "                DI[DI<=PLMthresh]=numpy.nan\n",
    "            if (\"A\" in Comp):\n",
    "                DI[DI>=ALTthresh]=numpy.nan\n",
    "\n",
    "            if MaskNeg:\n",
    "                DI[DI<=0.]= numpy.nan\n",
    "\n",
    "            if MaskPoly:\n",
    "                DIF = DI.flatten().reshape(-1,1)\n",
    "                DIF[blankpoly] = numpy.nan\n",
    "                DI = numpy.reshape(DIF,(len(xi), len(yi)))\n",
    "\n",
    "            if MaskDist:\n",
    "                DIF = DI.flatten().reshape(-1,1)\n",
    "                DIF[blankdist] = numpy.nan\n",
    "                DI = numpy.reshape(DIF,(len(xi), len(yi)))\n",
    "\n",
    "\n",
    "            D_min = numpy.nanmin(DI)\n",
    "            D_max = numpy.nanmax(DI)\n",
    "            print(\"Data, interpolated   min=\"+str( D_min)+\"   max=\"+str( D_max))\n",
    "\n",
    "\n",
    "            if len(CompList[nc][1])==0:\n",
    "                if (\"image\" in ImageType.lower()):\n",
    "                    im = ax.pcolor(XI, YI, DI, cmap=cmp)\n",
    "                if (\"contour\" in ImageType.lower()):\n",
    "                    im = ax.contourf(XI, YI, DI, cmap=cmp, levels=Levels)\n",
    "            else:\n",
    "                if (\"image\" in ImageType.lower()):\n",
    "                    valmin, valmax, _ = CompList[nc][1]\n",
    "                    im = ax.pcolor(XI, YI, DI,\n",
    "                                   cmap=cmp,\n",
    "                                   vmin=valmin, vmax=valmax)\n",
    "                if (\"contour\" in ImageType.lower()):\n",
    "                    valmin, valmax, valdel = CompList[nc][1]\n",
    "                    levels = numpy.arange(valmin, valmax+valdel, valdel)\n",
    "                    im = ax.contourf(XI, YI, DI,\n",
    "                                     cmap=cmp,\n",
    "                                     vmin=valmin, vmax=valmax,\n",
    "                                     levels=levels)\n",
    "\n",
    "            ax.set_aspect(\"equal\")\n",
    "            ax.xaxis.set_major_formatter(xformatter)\n",
    "            ax.set_xlabel(\"Easting \"+XYUnits, size=Fontsizes[1])\n",
    "            ax.yaxis.set_major_formatter(yformatter)\n",
    "            ax.set_ylabel(\"Northing \"+XYUnits, size=Fontsizes[1])\n",
    "\n",
    "            ax.set_title(titl,fontsize=Fontsize)\n",
    "\n",
    "            ax.grid(color=\"k\", alpha=0.5, linestyle=\"dotted\", linewidth=1.5)\n",
    "            ax.tick_params(labelsize=Labelsize)\n",
    "\n",
    "\n",
    "            divider = mpl_toolkits.axes_grid1.make_axes_locatable(ax)\n",
    "            cax = divider.append_axes(\"right\", size=\"5%\", pad=0.05)\n",
    "\n",
    "            cb = matplotlib.pyplot.colorbar(im, cax=cax, extend=\"both\")\n",
    "            cb.ax.tick_params(labelsize=Fontsizes[1])\n",
    "            cb.ax.set_title(Unit, fontsize=Fontsizes[1])\n",
    "\n",
    "\n",
    "        \"\"\"\n",
    "        CoLORBARS:\n",
    "        extend{'neither', 'both', 'min', 'max'}\n",
    "\n",
    "            Make pointed end(s) for out-of-range values (unless 'neither'). These are set for a given colormap using the colormap set_under and set_over methods.\n",
    "        extendfrac{None, 'auto', length, lengths}\n",
    "\n",
    "            If set to None, both the minimum and maximum triangular colorbar extensions will have a length of 5% of the interior colorbar length (this is the default setting).\n",
    "\n",
    "            If set to 'auto', makes the triangular colorbar extensions the same lengths as the interior boxes (when spacing is set to 'uniform') or the same lengths as the respective adjacent interior boxes (when spacing is set to 'proportional').\n",
    "\n",
    "            If a scalar, indicates the length of both the minimum and maximum triangular colorbar extensions as a fraction of the interior colorbar length. A two-element sequence of fractions may also be given, indicating the lengths of the minimum and maximum colorbar extensions respectively as a fraction of the interior colorbar length.\n",
    "        extendrectbool\n",
    "\n",
    "            If False the minimum and maximum colorbar extensions will be triangular (the default). If True the extensions will be rectangular.\n",
    "        \"\"\"\n",
    "\n",
    "\n",
    "        if \"scatter\" in ImageType.lower():\n",
    "            plotfile = PlotDir+PlotName+\"_\"+AEM_system\\\n",
    "                +\"_\"+ImageType\\\n",
    "                +\"_\"+ Comp\n",
    "        else:\n",
    "            plotfile = PlotDir+PlotName+\"_\"+AEM_system\\\n",
    "                +\"_\"+ImageType\\\n",
    "                +\"_\"+ Comp\\\n",
    "            +\"_\"+InterpMethod[0].lower()\\\n",
    "            +\"_\"+InterpMethod[1].lower()\n",
    "\n",
    "\n",
    "        for F in PlotFmt:\n",
    "\n",
    "            print(\"Plot written to \"+plotfile+F)\n",
    "            matplotlib.pyplot.savefig(plotfile+F,\n",
    "                                      dpi=600,\n",
    "                                      bbox_inches=\"tight\",\n",
    "                                      backend= \"cairo\",\n",
    "                                      transparent=True)\n",
    "\n",
    "\n",
    "        if PDFCatalog:\n",
    "            pdf_list.append(plotfile+\".pdf\")\n",
    "\n",
    "        matplotlib.pyplot.show()\n",
    "        matplotlib.pyplot.clf()"
   ]
  },
  {
   "cell_type": "code",
   "execution_count": null,
   "id": "25f643c7",
   "metadata": {},
   "outputs": [],
   "source": [
    "if PDFCatalog:\n",
    "    viz.make_pdf_catalog(PDFList=pdf_list, FileName=PDFCName)"
   ]
  }
 ],
 "metadata": {
  "jupytext": {
   "cell_metadata_filter": "-all",
   "encoding": "# -*- coding: utf-8 -*-",
   "formats": "py:light,ipynb"
  },
  "kernelspec": {
   "display_name": "Python 3 (Spyder)",
   "language": "python3",
   "name": "python3"
  },
  "language_info": {
   "codemirror_mode": {
    "name": "ipython",
    "version": 3
   },
   "file_extension": ".py",
   "mimetype": "text/x-python",
   "name": "python",
   "nbconvert_exporter": "python",
   "pygments_lexer": "ipython3",
   "version": "3.11.7"
  }
 },
 "nbformat": 4,
 "nbformat_minor": 5
}
