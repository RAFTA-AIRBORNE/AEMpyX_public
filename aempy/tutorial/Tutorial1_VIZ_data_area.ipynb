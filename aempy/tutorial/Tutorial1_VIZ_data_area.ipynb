{
 "cells": [
  {
   "cell_type": "code",
   "execution_count": null,
   "id": "e99f2f32",
   "metadata": {},
   "outputs": [],
   "source": [
    "!/usr/bin/env python3\n",
    "# -*- coding: utf-8 -*-\n",
    "# ---\n",
    "# jupyter:\n",
    "#   jupytext:\n",
    "#     cell_metadata_filter: -all\n",
    "#     formats: py:light,ipynb\n",
    "#     text_representation:\n",
    "#       extension: .py\n",
    "#       format_name: light\n",
    "#       format_version: \"1.5\"\n",
    "#       jupytext_version: 1.11.4\n",
    "# ---"
   ]
  },
  {
   "cell_type": "code",
   "execution_count": null,
   "id": "f2bc4e4e",
   "metadata": {},
   "outputs": [],
   "source": [
    "\"\"\"\n",
    "Created on Tue Aug  3 17:03:39 2021\n",
    "\n",
    "@author: vrath\n",
    "\"\"\""
   ]
  },
  {
   "cell_type": "code",
   "execution_count": null,
   "id": "ff68c802",
   "metadata": {},
   "outputs": [],
   "source": [
    "import os\n",
    "import sys\n",
    "from sys import exit as error\n",
    "from time import process_time\n",
    "from datetime import datetime\n",
    "import warnings"
   ]
  },
  {
   "cell_type": "code",
   "execution_count": null,
   "id": "7b780afe",
   "metadata": {
    "lines_to_next_cell": 2
   },
   "outputs": [],
   "source": [
    "import numpy\n",
    "import matplotlib\n",
    "import matplotlib.pyplot\n",
    "import matplotlib.ticker\n",
    "import matplotlib.axis\n",
    "import mpl_toolkits.axes_grid1"
   ]
  },
  {
   "cell_type": "code",
   "execution_count": null,
   "id": "e0866607",
   "metadata": {},
   "outputs": [],
   "source": [
    "import scipy.interpolate\n",
    "import scipy.spatial\n",
    "import skgstat\n",
    "import shapely\n",
    "# import rasterio\n",
    "# from rasterio import features\n",
    "# import affine"
   ]
  },
  {
   "cell_type": "code",
   "execution_count": null,
   "id": "6f96f8de",
   "metadata": {},
   "outputs": [],
   "source": [
    "AEMPYX_ROOT = os.environ[\"AEMPYX_ROOT\"]\n",
    "mypath = [AEMPYX_ROOT+\"/aempy/modules/\", AEMPYX_ROOT+\"/aempy/scripts/\"]\n",
    "for pth in mypath:\n",
    "    if pth not in sys.path:\n",
    "        sys.path.insert(0,pth)"
   ]
  },
  {
   "cell_type": "code",
   "execution_count": null,
   "id": "b9546e0a",
   "metadata": {},
   "outputs": [],
   "source": [
    "from version import versionstrg\n",
    "import util\n",
    "import aesys\n",
    "import viz\n",
    "import inverse"
   ]
  },
  {
   "cell_type": "code",
   "execution_count": null,
   "id": "697a88b9",
   "metadata": {},
   "outputs": [],
   "source": [
    "warnings.simplefilter(action=\"ignore\", category=FutureWarning)\n",
    "cm = 1/2.54"
   ]
  },
  {
   "cell_type": "code",
   "execution_count": null,
   "id": "ba8d7e84",
   "metadata": {},
   "outputs": [],
   "source": [
    "OutInfo = True\n",
    "AEMPYX_DATA = os.environ[\"AEMPYX_DATA\"]"
   ]
  },
  {
   "cell_type": "code",
   "execution_count": null,
   "id": "5248ed59",
   "metadata": {},
   "outputs": [],
   "source": [
    "version, _ = versionstrg()\n",
    "titstrng = util.print_title(version=version, fname=__file__, out=False)\n",
    "print(titstrng+\"\\n\\n\")"
   ]
  },
  {
   "cell_type": "code",
   "execution_count": null,
   "id": "66dc2a40",
   "metadata": {},
   "outputs": [],
   "source": [
    "now = datetime.now()"
   ]
  },
  {
   "cell_type": "code",
   "execution_count": null,
   "id": "606289b2",
   "metadata": {},
   "outputs": [],
   "source": [
    "\"\"\"\n",
    "System related settings.\n",
    "Data transformation is now allowed with three possible options:\n",
    "DataTrans   = 0           raw data\n",
    "            = 1           natural log of data\n",
    "            = 2           asinh transformation\n",
    "An error model is applied for the raw data, which is\n",
    "mixed additive/multiplicative. in case of data transformation,\n",
    "errors are also transformed.\n",
    "\"\"\"\n",
    "# AEM_system = \"genesis\"\n",
    "AEM_system = \"aem05\"\n",
    "if \"aem05\" in AEM_system.lower():\n",
    "    FwdCall,NN, _, _, Misc, = aesys.get_system_params(System=AEM_system)\n",
    "    nL = NN[0]\n",
    "    ParaTrans = 1\n",
    "    DataTrans = 0\n",
    "    DatErr_add =  50.\n",
    "    DatErr_mult = 0.03\n",
    "    data_active = numpy.ones(NN[2], dtype=\"int8\")\n",
    "    CompDict=Misc[2]\n",
    "    CompLabl = list(CompDict.keys())\n",
    "    print(CompLabl)"
   ]
  },
  {
   "cell_type": "code",
   "execution_count": null,
   "id": "b5020664",
   "metadata": {},
   "outputs": [],
   "source": [
    "if \"genes\" in AEM_system.lower():\n",
    "    FwdCall, NN, _, _, Misc, = aesys.get_system_params(System=AEM_system)\n",
    "    nL = NN[0]\n",
    "    ParaTrans = 1\n",
    "    DataTrans = 2\n",
    "    DatErr_add = 100.\n",
    "    DatErr_mult = 0.01\n",
    "    data_active = numpy.ones(NN[2], dtype=\"int8\")\n",
    "    data_active[0:11]=0  # only vertical component\n",
    "    # data_active[10:11]=0  # Vertical + \"good\" hoizontals\"\n",
    "    CompDict =Misc[2]\n",
    "    CompLabl = list(CompDict.keys())"
   ]
  },
  {
   "cell_type": "code",
   "execution_count": null,
   "id": "505422a3",
   "metadata": {
    "lines_to_next_cell": 2
   },
   "outputs": [],
   "source": []
  },
  {
   "cell_type": "code",
   "execution_count": null,
   "id": "6e19f84b",
   "metadata": {},
   "outputs": [],
   "source": [
    "\"\"\"\n",
    "input formats are \"npz\",\"nc4\",\"ascii\"\n",
    "\"\"\"\n",
    "InFilFmt = \".npz\"\n",
    "InDatDir = AEMPYX_DATA+\"/Projects/Munster/area/\"\n",
    "print(\"Data read from dir: %s \" % InDatDir)\n",
    "FileList = \"search\" #\"search\"\n",
    "SearchStrng = \"*3s.npz\"\n",
    "# FileList = \"read\"\n",
    "ListName = \"\""
   ]
  },
  {
   "cell_type": "code",
   "execution_count": null,
   "id": "cb622b16",
   "metadata": {},
   "outputs": [],
   "source": [
    "if \"set\" in FileList.lower():\n",
    "    dat_files = []"
   ]
  },
  {
   "cell_type": "code",
   "execution_count": null,
   "id": "727a7e75",
   "metadata": {},
   "outputs": [],
   "source": [
    "if \"read\" in FileList.lower():\n",
    "    print(\"File names read from : \"+ListName)\n",
    "    how = [\"read\", ListName, InDatDir]\n",
    "    dat_files = util.get_data_list(how=how,\n",
    "                              out= True, sort=True)\n",
    "\n",
    "    dat_files = numpy.loadtxt(\"A9-7.dat\", dtype=str)"
   ]
  },
  {
   "cell_type": "code",
   "execution_count": null,
   "id": "cc821e10",
   "metadata": {},
   "outputs": [],
   "source": [
    "if \"search\" in FileList.lower():\n",
    "    print(\"Searchstring is : \"+SearchStrng)\n",
    "    how = [\"search\", SearchStrng, InDatDir]\n",
    "    dat_files = util.get_data_list(how=how,\n",
    "                              out= True, sort=True)"
   ]
  },
  {
   "cell_type": "code",
   "execution_count": null,
   "id": "4a40d924",
   "metadata": {
    "lines_to_next_cell": 2
   },
   "outputs": [],
   "source": [
    "ns = numpy.size(dat_files)\n",
    "if ns ==0:\n",
    "    error(\"No files set!. Exit.\")"
   ]
  },
  {
   "cell_type": "markdown",
   "id": "db87adf8",
   "metadata": {},
   "source": [
    "InDatDir = AEMPYX_DATA+\"/Blocks/A5/raw/\"\n",
    "FileList = \"search\"\n",
    "SearchStrng = \"*dec3median.npz\"\n",
    "print(\"Searchstring: %s \\n\" % SearchStrng)"
   ]
  },
  {
   "cell_type": "code",
   "execution_count": null,
   "id": "4d2d6b56",
   "metadata": {},
   "outputs": [],
   "source": [
    "\"\"\"\n",
    "Output formats are \"npz\",\"nc4\",\"ascii\"\n",
    "\"\"\"\n",
    "PlotFmt = [\".pdf\", \".png\"] #\".png\", \".pdf\",]"
   ]
  },
  {
   "cell_type": "code",
   "execution_count": null,
   "id": "430fc365",
   "metadata": {},
   "outputs": [],
   "source": [
    "PdfCatalog = True\n",
    "PdfCName = \"MUN_3s_Catalog_Images.pdf\"\n",
    "if \".pdf\" in PlotFmt:\n",
    "    pass\n",
    "else:\n",
    "    error(\" No pdfs generated. No catalog possible!\")\n",
    "    PdfCatalog = False"
   ]
  },
  {
   "cell_type": "code",
   "execution_count": null,
   "id": "130a2d67",
   "metadata": {},
   "outputs": [],
   "source": [
    "PlotDir = InDatDir+\"/plots/\"\n",
    "print(\"Plots written to dir: %s \" % PlotDir)\n",
    "PlotName = \"MUN\"\n",
    "print(\"Plot filname: %s \" % PlotName)"
   ]
  },
  {
   "cell_type": "code",
   "execution_count": null,
   "id": "89c05ccb",
   "metadata": {},
   "outputs": [],
   "source": [
    "if \"set\" in FileList.lower():\n",
    "    print(\"Data files read from dir:  %s\" % InDatDir)\n",
    "    dat_files = [InDatDir+\"A5_Merged.npz\"]"
   ]
  },
  {
   "cell_type": "code",
   "execution_count": null,
   "id": "38674772",
   "metadata": {
    "lines_to_next_cell": 2
   },
   "outputs": [],
   "source": [
    "else:\n",
    "    # how = [\"search\", SearchStrng, InDatDir]\n",
    "    # how = [\"read\", FileList, InDatDir]\n",
    "    dat_files = util.get_data_list(how=[\"search\", SearchStrng, InDatDir],\n",
    "                              out= True, fullpath=True, sort=True)\n",
    "    ns = numpy.size(dat_files)"
   ]
  },
  {
   "cell_type": "code",
   "execution_count": null,
   "id": "d3695f8b",
   "metadata": {
    "lines_to_next_cell": 2
   },
   "outputs": [],
   "source": [
    "MergeData = False\n",
    "DataMergeFile = InDatDir+\"MUN_k1_data_merged.npz\""
   ]
  },
  {
   "cell_type": "code",
   "execution_count": null,
   "id": "57ff7c4e",
   "metadata": {
    "lines_to_next_cell": 2
   },
   "outputs": [],
   "source": [
    "ns = numpy.size(dat_files)\n",
    "if ns ==0:\n",
    "    error(\"No files set!. Exit.\")"
   ]
  },
  {
   "cell_type": "code",
   "execution_count": null,
   "id": "5df3b7dc",
   "metadata": {
    "lines_to_next_cell": 2
   },
   "outputs": [],
   "source": [
    "ImageType = \"image\"\n",
    "# ImageType = \"contour\"\n",
    "# ImageType = \"scatter\""
   ]
  },
  {
   "cell_type": "code",
   "execution_count": null,
   "id": "18091ca7",
   "metadata": {},
   "outputs": [],
   "source": [
    "XYUnits = \"(km)\"\n",
    "XYFact = 0.001"
   ]
  },
  {
   "cell_type": "code",
   "execution_count": null,
   "id": "2c780fe8",
   "metadata": {},
   "outputs": [],
   "source": [
    "\"\"\"\n",
    "Kernel functions for RBF:\n",
    "    The radial basis function, based on the radius, r,\n",
    "    given by the norm (default is Euclidean distance); the default is ‘multiquadric’:\n",
    "        ‘linear’ : -r\n",
    "        ‘thin_plate_spline’ : r**2 * log(r)\n",
    "        ‘cubic’ : r**3\n",
    "        ‘quintic’ : -r**5\n",
    "\n",
    "If a callable, then it must take 2 arguments (self, r). The epsilon parameter\n",
    "will be available as self.epsilon. Other keyword arguments passed\n",
    "in will be available as well.\n",
    "\n",
    "\n",
    "Methods for griddata:\n",
    "        'nearest'       data point closest to the point of interpolation\n",
    "        'linear'        tessellate the input point set to N-D simplices\n",
    "                        and interpolate linearly on each simplex\n",
    "        'cubic'         return the value determined from a piecewise cubic,\n",
    "                        continuously differentiable (C1), and approximately\n",
    "                        curvature-minimizing polynomial surface.\n",
    "\"\"\"\n",
    "if (\"image\" in ImageType.lower()) or (\"contour\"in ImageType.lower()):\n",
    "    step = 1\n",
    "\n",
    "    InterpMethod = [\"griddata\",\"linear\"]\n",
    "    # InterpMethod = [\"griddata\", \"cubic\"]\n",
    "    # InterpMethod = [\"rbf\", \"linear\", 0.0]\n",
    "    # InterpMethod = [\"rbf\", \"thin_plate_spline\", 0.0]\n",
    "    # InterpMethod = [\"rbf\", \"cubic\", 0.01]\n",
    "\n",
    "    # InterpMethod = [\"krig\", \"linear\", 0.5, 340.]\n",
    "    S = 500.\n",
    "    numIndexes = [121, 141]\n",
    "    smooth = 0.\n",
    "    Levels = []\n",
    "    MaskNeg = False\n",
    "    MaskPoly = False\n",
    "    MaskDist = True\n",
    "\n",
    "    if MaskDist:\n",
    "        DistMask = 100.*XYFact\n",
    "\n",
    "    if MaskPoly:\n",
    "        PolyDir = AEMPYX_DATA+\"/Blocks/polygons/\"\n",
    "        PolyFiles = [PolyDir+\"A5_2019_utm.npz\"]\n",
    "        Polygon= numpy.load(PolyFiles[0], allow_pickle=True)[\"Poly\"][0]"
   ]
  },
  {
   "cell_type": "code",
   "execution_count": null,
   "id": "e2aff254",
   "metadata": {
    "lines_to_next_cell": 2
   },
   "outputs": [],
   "source": [
    "if (\"scatter\" in ImageType.lower()):\n",
    "    Decim=25\n",
    "    step = min(1,abs(Decim))\n",
    "    Markersize = 5\n",
    "    MaskNeg = True\n",
    "    Pixelsize = False\n",
    "    if Pixelsize:\n",
    "        step=10\n",
    "        sfac = 10."
   ]
  },
  {
   "cell_type": "code",
   "execution_count": null,
   "id": "79c428bc",
   "metadata": {},
   "outputs": [],
   "source": [
    "# CompList=[\n",
    "#     [\"Z3\", []], #[0., 2000., 100.]],\n",
    "#     [\"Z6\", []],#[0., 2000., 100.]],\n",
    "#     [\"Z9\", []], #[0., 2000., 100.]],\n",
    "#     [\"H3\", []], #[0., 2000., 100.]],\n",
    "#     [\"H6\", []],#[0., 2000., 100.]],\n",
    "#     [\"H9\", []], #[0., 2000., 100.]],\n",
    "#     [\"ALT\", [80., 160., 20.], 240.]     # ALTthresh = 70.\n",
    "          # ]"
   ]
  },
  {
   "cell_type": "code",
   "execution_count": null,
   "id": "756bbd62",
   "metadata": {},
   "outputs": [],
   "source": [
    "# CompList=[\n",
    "    # [\"P1\", [0., 2000., 100.]],\n",
    "    # [\"Q1\", [0., 2000., 100.]],\n",
    "    # [\"P2\", [0., 2000., 100.]],\n",
    "    # [\"Q2\", [0., 2000., 100.]],\n",
    "    # [\"P3\", [0., 2000., 100.]],\n",
    "    # [\"Q3\", [0., 2000., 100.]],\n",
    "    # [\"P4\", [0., 2000., 100.]],\n",
    "    # [\"Q4\", [0., 2000., 100.]],\n",
    "    #[\"PLM\", [], 0.2],      # PLMthresh = 0.25\n",
    "    # [\"ALT\", [40., 120., 20.], 300.]     # ALTthresh = 70.\n",
    "          # ]"
   ]
  },
  {
   "cell_type": "code",
   "execution_count": null,
   "id": "a210b6aa",
   "metadata": {},
   "outputs": [],
   "source": [
    "CompList=[\n",
    "    [\"P1\", [0., 3000., 200.]],\n",
    "    [\"Q1\", [0., 3000., 200.]],\n",
    "    [\"P2\", [0., 3000., 200.]],\n",
    "    [\"Q2\", [0., 3000., 200.]],\n",
    "    [\"P3\", [0., 3000., 200.]],\n",
    "    [\"Q3\", [0., 3000., 200.]],\n",
    "    [\"P4\", [0., 3000., 200.]],\n",
    "    [\"Q4\", [0., 3000., 200.]],\n",
    "    [\"PLM\", [], 3],      # PLMthresh = 0.25\n",
    "    [\"ALT\", [40., 120., 20.], 125.]     # ALTthresh = 70.\n",
    "]\n",
    "# XYUnits = \"(m)\"\n",
    "# xformatter = matplotlib.ticker.FormatStrFormatter(\"%7f\")\n",
    "# yformatter = matplotlib.ticker.FormatStrFormatter(\"%6f\")\n",
    "# XYFact = 1."
   ]
  },
  {
   "cell_type": "code",
   "execution_count": null,
   "id": "6388173d",
   "metadata": {},
   "outputs": [],
   "source": [
    "xformatter = matplotlib.ticker.FormatStrFormatter(\"%.2f\")\n",
    "yformatter = matplotlib.ticker.FormatStrFormatter(\"%.2f\")\n",
    "\"\"\"\n",
    "Determine graphical parameter.\n",
    "=> print(matplotlib.pyplot.style.available)\n",
    "\"\"\"\n",
    "FilesOnly = False\n",
    "matplotlib.pyplot.style.use(\"seaborn-paper\")\n",
    "matplotlib.rcParams[\"figure.dpi\"] = 400\n",
    "matplotlib.rcParams[\"text.usetex\"] = False\n",
    "matplotlib.rcParams[\"font.family\"] = \"sans-serif\"\n",
    "matplotlib.rcParams[\"axes.linewidth\"] = 0.5\n",
    "matplotlib.rcParams[\"savefig.facecolor\"] = \"none\"\n",
    "matplotlib.rcParams[\"savefig.bbox\"]= \"tight\""
   ]
  },
  {
   "cell_type": "code",
   "execution_count": null,
   "id": "2c829bc8",
   "metadata": {},
   "outputs": [],
   "source": [
    "Fontsize = 7\n",
    "Labelsize = Fontsize\n",
    "Titlesize = 8\n",
    "Fontsizes = [Fontsize, Labelsize, Titlesize]"
   ]
  },
  {
   "cell_type": "code",
   "execution_count": null,
   "id": "947af847",
   "metadata": {},
   "outputs": [],
   "source": [
    "Linewidths= [0.5]\n",
    "FigWidth = 16."
   ]
  },
  {
   "cell_type": "code",
   "execution_count": null,
   "id": "c1bb2fec",
   "metadata": {},
   "outputs": [],
   "source": [
    "\"\"\"\n",
    "Determine colormap.\n",
    "=> https://matplotlib.org/stable/gallery/color/colormap_reference.html\n",
    "\"\"\""
   ]
  },
  {
   "cell_type": "code",
   "execution_count": null,
   "id": "448321cc",
   "metadata": {},
   "outputs": [],
   "source": [
    "Cmap =\"viridis\"\n",
    "Cmap = \"hsv\"\n",
    "# Cmap =\"magma\"\n",
    "Cmap = \"jet_r\"\n",
    "# Cmap = \"seismic\"\n",
    "# Cmap = \"Spectral\"\n",
    "cmp = matplotlib.colormaps[Cmap]"
   ]
  },
  {
   "cell_type": "code",
   "execution_count": null,
   "id": "f5b3b066",
   "metadata": {
    "lines_to_next_cell": 2
   },
   "outputs": [],
   "source": [
    "if FilesOnly:\n",
    "    matplotlib.use(\"cairo\")"
   ]
  },
  {
   "cell_type": "code",
   "execution_count": null,
   "id": "b0d1fee2",
   "metadata": {
    "lines_to_next_cell": 2
   },
   "outputs": [],
   "source": [
    "if not os.path.isdir(PlotDir):\n",
    "    print(\"File: %s does not exist, but will be created\" % PlotDir)\n",
    "    os.mkdir(PlotDir)"
   ]
  },
  {
   "cell_type": "code",
   "execution_count": null,
   "id": "2fdc4411",
   "metadata": {},
   "outputs": [],
   "source": [
    "if MergeData:\n",
    "    Data = util.merge_data_sets(infile_list=dat_files,\n",
    "                                outfile_name=DataMergeFile,\n",
    "                                aem_system=\"aem05\", out= True)\n",
    "    dat_files = [DataMergeFile]"
   ]
  },
  {
   "cell_type": "code",
   "execution_count": null,
   "id": "9626c8cd",
   "metadata": {},
   "outputs": [],
   "source": [
    "for filein in dat_files:\n",
    "    start = process_time()\n",
    "    print(\"\\nData read from: %s\" % filein)\n",
    "    Data, header, _ = aesys.read_aempy(File=filein, System=AEM_system, OutInfo=False)\n",
    "\n",
    "\n",
    "    E = Data[:,1][::step]*XYFact\n",
    "    E_min = numpy.amin(E)\n",
    "    E_max = numpy.amax(E)\n",
    "    N = Data[:,2][::step]*XYFact\n",
    "    N_min = numpy.amin(N)\n",
    "    N_max = numpy.amax(N)\n",
    "    Z = Data[:,5][::step]\n",
    "\n",
    "    if (\"image\" in ImageType.lower()) or (\"contour\"in ImageType.lower()):\n",
    "        xi= numpy.linspace(E_min,E_max,numIndexes[0])\n",
    "        yi= numpy.linspace(N_min,N_max,numIndexes[1])\n",
    "        dx = numpy.around(numpy.diff(xi)[0]/XYFact, decimals=0)\n",
    "        dy = numpy.around(numpy.diff(yi)[0]/XYFact, decimals=0)\n",
    "        print(\"Interpolation mesh, dx = \"+ str(dx)+\" m, dy =\"+ str(dy)+\" m\")\n",
    "        XI, YI = numpy.meshgrid(xi, yi, indexing=\"ij\")\n",
    "        Pnts = numpy.stack([ E.ravel(),  N.ravel()], -1)\n",
    "        Mesh = numpy.stack([XI.ravel(), YI.ravel()], -1)\n",
    "\n",
    "        if MaskDist:\n",
    "            D_tree=scipy.spatial.KDTree(Pnts, leafsize=10,\n",
    "                                        compact_nodes=True,\n",
    "                                        copy_data=True,\n",
    "                                        balanced_tree=True,\n",
    "                                        boxsize=None)\n",
    "            mindist, _ = D_tree.query(Mesh, k=1)\n",
    "            blankdist = mindist>=DistMask\n",
    "\n",
    "\n",
    "        if MaskPoly:\n",
    "            XIF = XI.flatten().reshape(-1,1)/XYFact\n",
    "            YIF = YI.flatten().reshape(-1,1)/XYFact\n",
    "            blankpoly=[]\n",
    "            for ipnt in numpy.arange(numpy.size(XIF)):\n",
    "                outside = not util.point_inside_polygon(XIF[ipnt], YIF[ipnt],\n",
    "                                                        Polygon)\n",
    "                blankpoly.append(outside)\n",
    "\n",
    "\n",
    "    pdf_list = []\n",
    "    # for Comp in CompList:\n",
    "    for nc in numpy.arange(len(CompList)):\n",
    "\n",
    "        Comp = CompList[nc][0]\n",
    "\n",
    "        comp = CompDict[Comp][0]\n",
    "        indx = CompLabl.index(Comp)\n",
    "\n",
    "        if \"scatter\"in ImageType.lower():\n",
    "            titl = CompLabl[indx]+CompDict[Comp][2]+\": \"+str(DataTrans)\n",
    "        else:\n",
    "            titl = CompLabl[indx]+CompDict[Comp][2]+\": \"+str(DataTrans)+\"/\"+InterpMethod[0]+\"/\"+InterpMethod[1]\n",
    "\n",
    "        print(\"Plotting component \"+titl)\n",
    "        D = Data[:,comp][::step]\n",
    "\n",
    "        D_min = numpy.amin(D)\n",
    "        D_max = numpy.amax(D)\n",
    "        print(\"Data, read   min=\"+str( D_min)+\"   max=\"+str( D_max))\n",
    "\n",
    "        if (\"Z\" in Comp) or (\"H\" in Comp):\n",
    "            Unit = \"ppm\"\n",
    "            if DataTrans ==1:\n",
    "                Unit = \"-\"\n",
    "                D = numpy.log10(D)\n",
    "            if DataTrans ==2:\n",
    "                Unit = \"-\"\n",
    "                if not numpy.isfinite(S):\n",
    "                   S = inverse.get_S(D)\n",
    "                D= numpy.arcsinh(D/S)\n",
    "                print(\"Scaling Value S for arcsinh:\"+str(S))\n",
    "\n",
    "        if (\"P\" in Comp) or (\"Q\" in Comp):\n",
    "            Unit = \"ppm\"\n",
    "            if DataTrans ==1:\n",
    "                Unit = \"-\"\n",
    "                D = numpy.log10(D)\n",
    "            if DataTrans ==2:\n",
    "                Unit = \"-\"\n",
    "                if not numpy.isfinite(S):\n",
    "                    S = inverse.get_S(D)\n",
    "                D= numpy.arcsinh(D/S)\n",
    "                print(\"Scaling Value S for arcsinh:\"+str(S))\n",
    "\n",
    "        if (\"PL\" in Comp):\n",
    "            Unit = \"(-)\"\n",
    "            PLMthresh= CompList[nc][2]\n",
    "            titl = titl+\" / thresh = \"+str(PLMthresh)+\" m\"\n",
    "\n",
    "        if (\"A\" in Comp):\n",
    "            Unit = \"m\"\n",
    "            ALTthresh= CompList[nc][2]\n",
    "            titl = titl+\" / thresh = \"+str(ALTthresh)+\" m\"\n",
    "\n",
    "        if (\"R\" in Comp):\n",
    "            Unit = \"Ohm.m\"\n",
    "\n",
    "\n",
    "        fig, ax = matplotlib.pyplot.subplots()\n",
    "        fig.set_figwidth(FigWidth)\n",
    "\n",
    "\n",
    "        if (\"scatter\" in ImageType.lower()):\n",
    "            print(\"Scatter Plot\")\n",
    "\n",
    "            if Pixelsize:\n",
    "                Markersize =(72./fig.dpi)\n",
    "\n",
    "            if (\"PL\" in Comp):\n",
    "                D[D<=PLMthresh]=numpy.nan\n",
    "            if (\"A\" in Comp):\n",
    "                D[D>=ALTthresh]=numpy.nan\n",
    "\n",
    "            if MaskNeg:\n",
    "                D[D<=0.]= numpy.nan\n",
    "\n",
    "            if Pixelsize:\n",
    "                im = matplotlib.pyplot.scatter(E, N, color='black', marker='.', lw=0, s=(sfac*72./fig.dpi)**2)\n",
    "            else:\n",
    "                im = matplotlib.pyplot.scatter(E, N, c=D, s=Markersize**2, cmap=cmp)\n",
    "\n",
    "            # ax = matplotlib.pyplot.gca()\n",
    "            ax.set_aspect(\"equal\")\n",
    "            ax.xaxis.set_major_formatter(xformatter)\n",
    "            ax.set_xlabel(\"Easting \"+XYUnits, size=Fontsizes[1])\n",
    "            ax.yaxis.set_major_formatter(yformatter)\n",
    "            ax.set_ylabel(\"Northing \"+XYUnits, size=Fontsizes[1])\n",
    "\n",
    "            ax.tick_params(axis=\"x\", labelsize=Fontsizes[1]-2, labelrotation=0.)#-45)\n",
    "            ax.tick_params(axis=\"y\", labelsize=Fontsizes[1]-2, labelrotation=0.)#-45)\n",
    "            ax.grid(which=\"major\", axis=\"both\", visible=True,linewidth= Linewidths[0],linestyle=\"--\")\n",
    "            ax.set_title(AEM_system.upper()+\": \"+ Comp)\n",
    "\n",
    "            divider = mpl_toolkits.axes_grid1.make_axes_locatable(ax)\n",
    "            cax = divider.append_axes(\"right\", size=\"5%\", pad=0.02)\n",
    "            cb = matplotlib.pyplot.colorbar(im, cax=cax, extend=\"both\")\n",
    "            cb.ax.tick_params(labelsize=Fontsizes[1])\n",
    "            cb.ax.set_title(Unit, fontsize=Fontsizes[1])\n",
    "\n",
    "\n",
    "        if (\"image\" in ImageType.lower()) or (\"contour\"in ImageType.lower()):\n",
    "            Dats = D.flatten()\n",
    "            if \"grid\" in InterpMethod[0].lower():\n",
    "                DI = scipy.interpolate.griddata(Pnts, Dats, Mesh,\n",
    "                                                method=InterpMethod[1].lower())\n",
    "                DI = numpy.reshape(DI,(len(xi), len(yi)))\n",
    "\n",
    "            elif \"rbf\" in InterpMethod[0].lower():\n",
    "                # RBF = scipy.interpolate.Rbf(E, N, D,\n",
    "                #                             function=InterpMethod[1].lower(), smooth=InterpMethod[2])\n",
    "                # DI  = RBF(XI, YI)\n",
    "                Pnts = numpy.stack([ E.ravel(),  N.ravel()], -1)\n",
    "                Mesh = numpy.stack([XI.ravel(), YI.ravel()], -1)\n",
    "                Dats = D.ravel()\n",
    "                RBF = scipy.interpolate.RBFInterpolator(\n",
    "                            Pnts, Dats,\n",
    "                            kernel=InterpMethod[1], smoothing=InterpMethod[2])\n",
    "                DI = RBF(Mesh)\n",
    "                DI = numpy.reshape(DI,(len(xi), len(yi)))\n",
    "\n",
    "\n",
    "            elif \"krig\" in InterpMethod[0].lower():\n",
    "                error(\"Kriging estimation not yet implemented! Exit.\")\n",
    "\n",
    "\n",
    "            if (\"PL\" in Comp):\n",
    "                DI[DI<=PLMthresh]=numpy.nan\n",
    "            if (\"A\" in Comp):\n",
    "                DI[DI>=ALTthresh]=numpy.nan\n",
    "\n",
    "            if MaskNeg:\n",
    "                DI[DI<=0.]= numpy.nan\n",
    "\n",
    "            if MaskPoly:\n",
    "                DIF = DI.flatten().reshape(-1,1)\n",
    "                DIF[blankpoly] = numpy.nan\n",
    "                DI = numpy.reshape(DIF,(len(xi), len(yi)))\n",
    "\n",
    "            if MaskDist:\n",
    "                DIF = DI.flatten().reshape(-1,1)\n",
    "                DIF[blankdist] = numpy.nan\n",
    "                DI = numpy.reshape(DIF,(len(xi), len(yi)))\n",
    "\n",
    "\n",
    "            D_min = numpy.nanmin(DI)\n",
    "            D_max = numpy.nanmax(DI)\n",
    "            print(\"Data, interpolated   min=\"+str( D_min)+\"   max=\"+str( D_max))\n",
    "\n",
    "\n",
    "            if len(CompList[nc][1])==0:\n",
    "                if (\"image\" in ImageType.lower()):\n",
    "                    im = ax.pcolor(XI, YI, DI, cmap=cmp)\n",
    "                if (\"contour\" in ImageType.lower()):\n",
    "                    im = ax.contourf(XI, YI, DI, cmap=cmp, levels=Levels)\n",
    "            else:\n",
    "                if (\"image\" in ImageType.lower()):\n",
    "                    valmin, valmax, _ = CompList[nc][1]\n",
    "                    im = ax.pcolor(XI, YI, DI,\n",
    "                                   cmap=cmp,\n",
    "                                   vmin=valmin, vmax=valmax)\n",
    "                if (\"contour\" in ImageType.lower()):\n",
    "                    valmin, valmax, valdel = CompList[nc][1]\n",
    "                    levels = numpy.arange(valmin, valmax+valdel, valdel)\n",
    "                    im = ax.contourf(XI, YI, DI,\n",
    "                                     cmap=cmp,\n",
    "                                     vmin=valmin, vmax=valmax,\n",
    "                                     levels=levels)\n",
    "\n",
    "            ax.set_aspect(\"equal\")\n",
    "            ax.xaxis.set_major_formatter(xformatter)\n",
    "            ax.set_xlabel(\"Easting \"+XYUnits, size=Fontsizes[1])\n",
    "            ax.yaxis.set_major_formatter(yformatter)\n",
    "            ax.set_ylabel(\"Northing \"+XYUnits, size=Fontsizes[1])\n",
    "\n",
    "            ax.set_title(titl,fontsize=Fontsize)\n",
    "\n",
    "            ax.grid(color=\"k\", alpha=0.5, linestyle=\"dotted\", linewidth=1.5)\n",
    "            ax.tick_params(labelsize=Labelsize)\n",
    "\n",
    "\n",
    "            divider = mpl_toolkits.axes_grid1.make_axes_locatable(ax)\n",
    "            cax = divider.append_axes(\"right\", size=\"5%\", pad=0.05)\n",
    "\n",
    "            cb = matplotlib.pyplot.colorbar(im, cax=cax, extend=\"both\")\n",
    "            cb.ax.tick_params(labelsize=Fontsizes[1])\n",
    "            cb.ax.set_title(Unit, fontsize=Fontsizes[1])\n",
    "\n",
    "\n",
    "        \"\"\"\n",
    "        CoLORBARS:\n",
    "        extend{'neither', 'both', 'min', 'max'}\n",
    "\n",
    "            Make pointed end(s) for out-of-range values (unless 'neither'). These are set for a given colormap using the colormap set_under and set_over methods.\n",
    "        extendfrac{None, 'auto', length, lengths}\n",
    "\n",
    "            If set to None, both the minimum and maximum triangular colorbar extensions will have a length of 5% of the interior colorbar length (this is the default setting).\n",
    "\n",
    "            If set to 'auto', makes the triangular colorbar extensions the same lengths as the interior boxes (when spacing is set to 'uniform') or the same lengths as the respective adjacent interior boxes (when spacing is set to 'proportional').\n",
    "\n",
    "            If a scalar, indicates the length of both the minimum and maximum triangular colorbar extensions as a fraction of the interior colorbar length. A two-element sequence of fractions may also be given, indicating the lengths of the minimum and maximum colorbar extensions respectively as a fraction of the interior colorbar length.\n",
    "        extendrectbool\n",
    "\n",
    "            If False the minimum and maximum colorbar extensions will be triangular (the default). If True the extensions will be rectangular.\n",
    "        \"\"\"\n",
    "\n",
    "\n",
    "        if \"scatter\" in ImageType.lower():\n",
    "            plotfile = PlotDir+PlotName+\"_\"+AEM_system\\\n",
    "                +\"_\"+ImageType\\\n",
    "                +\"_\"+ Comp\n",
    "        else:\n",
    "            plotfile = PlotDir+PlotName+\"_\"+AEM_system\\\n",
    "                +\"_\"+ImageType\\\n",
    "                +\"_\"+ Comp\\\n",
    "            +\"_\"+InterpMethod[0].lower()\\\n",
    "            +\"_\"+InterpMethod[1].lower()\n",
    "\n",
    "        # if \"gtiff\" in PlotFmt:\n",
    "        #     #  generate geotiff\n",
    "        #     gtifffile = plotfile+\".tif\"\n",
    "        #     viz.save_geotiff()\n",
    "\n",
    "\n",
    "        for F in PlotFmt:\n",
    "            if \"gtiff\" in F:\n",
    "                continue\n",
    "\n",
    "            print(\"Plot written to \"+plotfile+F)\n",
    "            matplotlib.pyplot.savefig(plotfile+F,\n",
    "                                      dpi=600,\n",
    "                                      bbox_inches=\"tight\",\n",
    "                                      backend= \"cairo\",\n",
    "                                      transparent=True)\n",
    "\n",
    "\n",
    "        if PdfCatalog:\n",
    "            pdf_list.append(plotfile+\".pdf\")\n",
    "\n",
    "        matplotlib.pyplot.show()\n",
    "        matplotlib.pyplot.clf()"
   ]
  },
  {
   "cell_type": "code",
   "execution_count": null,
   "id": "596a302d",
   "metadata": {},
   "outputs": [],
   "source": [
    "if PdfCatalog:\n",
    "    viz.make_pdf_catalog(PdfList=pdf_list, FileName=PdfCName)"
   ]
  }
 ],
 "metadata": {
  "jupytext": {
   "cell_metadata_filter": "-all",
   "formats": "py,ipynb",
   "main_language": "python"
  }
 },
 "nbformat": 4,
 "nbformat_minor": 5
}
