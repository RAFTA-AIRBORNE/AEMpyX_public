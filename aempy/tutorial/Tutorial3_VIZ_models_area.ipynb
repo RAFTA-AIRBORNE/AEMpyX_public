{
 "cells": [
  {
   "cell_type": "code",
   "execution_count": null,
   "id": "caa5af6e",
   "metadata": {},
   "outputs": [],
   "source": [
    "\"\"\"\n",
    "Created on Tue Aug  3 17:03:39 2021\n",
    "\n",
    "@author: vrath\n",
    "\"\"\""
   ]
  },
  {
   "cell_type": "code",
   "execution_count": null,
   "id": "a0d76de4",
   "metadata": {},
   "outputs": [],
   "source": [
    "import os\n",
    "import sys\n",
    "from sys import exit as error\n",
    "from time import process_time\n",
    "from datetime import datetime\n",
    "import warnings"
   ]
  },
  {
   "cell_type": "code",
   "execution_count": null,
   "id": "31565a57",
   "metadata": {
    "lines_to_next_cell": 2
   },
   "outputs": [],
   "source": [
    "import numpy\n",
    "import matplotlib\n",
    "import matplotlib.pyplot\n",
    "import matplotlib.ticker\n",
    "import matplotlib.axis\n",
    "import mpl_toolkits.axes_grid1"
   ]
  },
  {
   "cell_type": "code",
   "execution_count": null,
   "id": "4b0ccadf",
   "metadata": {},
   "outputs": [],
   "source": [
    "import scipy.interpolate\n",
    "import scipy.spatial\n",
    "import skgstat\n",
    "import shapely\n",
    "# import rasterio\n",
    "# from rasterio import features\n",
    "# import affine"
   ]
  },
  {
   "cell_type": "code",
   "execution_count": null,
   "id": "5da8a876",
   "metadata": {},
   "outputs": [],
   "source": [
    "AEMPYX_ROOT = os.environ[\"AEMPYX_ROOT\"]\n",
    "mypath = [AEMPYX_ROOT+\"/aempy/modules/\", AEMPYX_ROOT+\"/aempy/scripts/\"]\n",
    "for pth in mypath:\n",
    "    if pth not in sys.path:\n",
    "        sys.path.insert(0,pth)"
   ]
  },
  {
   "cell_type": "code",
   "execution_count": null,
   "id": "cf1f383d",
   "metadata": {},
   "outputs": [],
   "source": [
    "from version import versionstrg\n",
    "import util\n",
    "import aesys\n",
    "import viz\n",
    "import inverse"
   ]
  },
  {
   "cell_type": "code",
   "execution_count": null,
   "id": "a595a879",
   "metadata": {},
   "outputs": [],
   "source": [
    "warnings.simplefilter(action=\"ignore\", category=FutureWarning)\n",
    "cm = 1/2.54"
   ]
  },
  {
   "cell_type": "code",
   "execution_count": null,
   "id": "1f680153",
   "metadata": {},
   "outputs": [],
   "source": [
    "OutInfo = True\n",
    "AEMPYX_DATA = os.environ[\"AEMPYX_DATA\"]"
   ]
  },
  {
   "cell_type": "code",
   "execution_count": null,
   "id": "a3ede25a",
   "metadata": {},
   "outputs": [],
   "source": [
    "version, _ = versionstrg()\n",
    "titstrng = util.print_title(version=version, fname=__file__, out=False)\n",
    "print(titstrng+\"\\n\\n\")"
   ]
  },
  {
   "cell_type": "code",
   "execution_count": null,
   "id": "6905de94",
   "metadata": {},
   "outputs": [],
   "source": [
    "now = datetime.now()"
   ]
  },
  {
   "cell_type": "code",
   "execution_count": null,
   "id": "936edab6",
   "metadata": {
    "lines_to_next_cell": 2
   },
   "outputs": [],
   "source": [
    "# \"\"\"\n",
    "# System related settings.\n",
    "# Data transformation is now allowed with three possible options:\n",
    "# DataTrans   = 0           raw data\n",
    "#             = 1           natural log of data\n",
    "#             = 2           asinh transformation\n",
    "# An error model is applied for the raw data, which is\n",
    "# mixed additive/multiplicative. in case of data transformation,\n",
    "# errors are also transformed.\n",
    "# \"\"\"\n",
    "# AEM_system = \"genesis\"\n",
    "AEM_system = \"aem05\"\n",
    "if \"aem05\" in AEM_system.lower():\n",
    "    FwdCall,NN, _, _, Misc, = aesys.get_system_params(System=AEM_system)\n",
    "    nL = NN[0]\n",
    "    ParaTrans = 1"
   ]
  },
  {
   "cell_type": "code",
   "execution_count": null,
   "id": "e5eddbb2",
   "metadata": {
    "lines_to_next_cell": 2
   },
   "outputs": [],
   "source": [
    "if \"genes\" in AEM_system.lower():\n",
    "    FwdCall, NN, _, _, Misc, = aesys.get_system_params(System=AEM_system)\n",
    "    nL = NN[0]\n",
    "    ParaTrans = 1"
   ]
  },
  {
   "cell_type": "code",
   "execution_count": null,
   "id": "2eab6ddd",
   "metadata": {},
   "outputs": [],
   "source": [
    "InModDir = AEMPYX_DATA+\"/Blocks/A9/results/\""
   ]
  },
  {
   "cell_type": "markdown",
   "id": "08e667bb",
   "metadata": {},
   "source": [
    "FileList = \"search\"\n",
    "SearchStrng = \"A9*k3*.npz\"\n",
    "print(\"Searchstring: %s \\n\" % SearchStrng)"
   ]
  },
  {
   "cell_type": "code",
   "execution_count": null,
   "id": "551e88cb",
   "metadata": {},
   "outputs": [],
   "source": [
    "FileList = \"set\"\n",
    "ListName = \"\"\n",
    "SearchStrng = \"\""
   ]
  },
  {
   "cell_type": "code",
   "execution_count": null,
   "id": "826f4753",
   "metadata": {},
   "outputs": [],
   "source": [
    "if \"set\" in FileList.lower():\n",
    "    mod_files = [InModDir+\"MUN_k3_data_merged.npz\"]"
   ]
  },
  {
   "cell_type": "code",
   "execution_count": null,
   "id": "158b6679",
   "metadata": {},
   "outputs": [],
   "source": [
    "if \"read\" in FileList.lower():\n",
    "    print(\"File names read from : \"+ListName)\n",
    "    how = [\"read\", ListName, InModDir]\n",
    "    mod_files = util.get_data_list(how=how,\n",
    "                              out= True, sort=True)\n",
    "\n",
    "    mod_files = numpy.loadtxt(\"A9-7.dat\", dtype=str)"
   ]
  },
  {
   "cell_type": "code",
   "execution_count": null,
   "id": "7430e961",
   "metadata": {},
   "outputs": [],
   "source": [
    "if \"search\" in FileList.lower():\n",
    "    print(\"Searchstring is : \"+SearchStrng)\n",
    "    how = [\"search\", SearchStrng, InModDir]\n",
    "    mod_files = util.get_data_list(how=how,\n",
    "                              out=True,\n",
    "                              fullpath=True,\n",
    "                              sort=True)"
   ]
  },
  {
   "cell_type": "code",
   "execution_count": null,
   "id": "2865296d",
   "metadata": {},
   "outputs": [],
   "source": [
    "ns = numpy.size(mod_files)\n",
    "if ns ==0:\n",
    "    error(\"No files set!. Exit.\")"
   ]
  },
  {
   "cell_type": "code",
   "execution_count": null,
   "id": "3c975cbc",
   "metadata": {},
   "outputs": [],
   "source": [
    "MergeModels = False\n",
    "ModelMergeFile = InModDir+\"MUN_k3_data_merged.npz\""
   ]
  },
  {
   "cell_type": "code",
   "execution_count": null,
   "id": "24811574",
   "metadata": {},
   "outputs": [],
   "source": [
    "\"\"\"\n",
    "Output formats are \"npz\",\"nc4\",\"ascii\"\n",
    "\"\"\"\n",
    "PlotFmt = [\".pdf\", \".png\"] #\".png\", \".pdf\",]"
   ]
  },
  {
   "cell_type": "code",
   "execution_count": null,
   "id": "e6932ef6",
   "metadata": {},
   "outputs": [],
   "source": [
    "PdfCatalog = True\n",
    "PdfCName = \"MUN_k3_Models.pdf\"\n",
    "if \".pdf\" in PlotFmt:\n",
    "    pass\n",
    "else:\n",
    "    error(\" No pdfs generated. No catalog possible!\")\n",
    "    PdfCatalog = False"
   ]
  },
  {
   "cell_type": "code",
   "execution_count": null,
   "id": "bbd5e438",
   "metadata": {
    "lines_to_next_cell": 2
   },
   "outputs": [],
   "source": [
    "PlotDir = InModDir+\"/plots/\"\n",
    "print(\"Plots written to dir: %s \" % PlotDir)\n",
    "PlotName = \"MUN\"\n",
    "print(\"Plot filname: %s \" % PlotName)"
   ]
  },
  {
   "cell_type": "code",
   "execution_count": null,
   "id": "f46104bd",
   "metadata": {},
   "outputs": [],
   "source": [
    "ImageType = \"image\"\n",
    "ImageType = \"contour\"\n",
    "# ImageType = \"scatter\""
   ]
  },
  {
   "cell_type": "code",
   "execution_count": null,
   "id": "0f25e76e",
   "metadata": {},
   "outputs": [],
   "source": [
    "Layers = [1, 5, 10, 15, 20, 25]\n",
    "Prop = \"rho\"\n",
    "Unit = r\"log10 $\\Omega$m\"\n",
    "Limits = [0., 4.]\n",
    "Steps  = [0., 0.5, 1., 1.5, 2., 2.5,  3., 3.5, 4.,]\n",
    "Steps = numpy.arange(1., 3.501, 0.1)\n",
    "print(\"\\nLayer parameters:\")\n",
    "LayList = []\n",
    "for il in numpy.arange(len(Layers)):\n",
    "    label = \"Layer\"+str(Layers[il])\n",
    "    LayList.append([label, Layers[il], Prop, Unit, Limits, Steps])\n",
    "    print(LayList[il])"
   ]
  },
  {
   "cell_type": "code",
   "execution_count": null,
   "id": "b6d36207",
   "metadata": {
    "lines_to_next_cell": 2
   },
   "outputs": [],
   "source": []
  },
  {
   "cell_type": "code",
   "execution_count": null,
   "id": "e9b6a19b",
   "metadata": {},
   "outputs": [],
   "source": [
    "\"\"\"\n",
    "Kernel functions for RBF:\n",
    "    The radial basis function, based on the radius, r,\n",
    "    given by the norm (default is Euclidean distance); the default is ‘multiquadric’:\n",
    "        ‘linear’ : -r\n",
    "        ‘thin_plate_spline’ : r**2 * log(r)\n",
    "        ‘cubic’ : r**3\n",
    "        ‘quintic’ : -r**5\n",
    "\n",
    "If a callable, then it must take 2 arguments (self, r). The epsilon parameter\n",
    "will be available as self.epsilon. Other keyword arguments passed\n",
    "in will be available as well.\n",
    "\n",
    "\n",
    "Methods for griddata:\n",
    "        'nearest'       data point closest to the point of interpolation\n",
    "        'linear'        tessellate the input point set to N-D simplices\n",
    "                        and interpolate linearly on each simplex\n",
    "        'cubic'         return the value determined from a piecewise cubic,\n",
    "                        continuously differentiable (C1), and approximately\n",
    "                        curvature-minimizing polynomial surface.\n",
    "\"\"\"\n",
    "if (\"image\" in ImageType.lower()) or (\"contour\"in ImageType.lower()):\n",
    "    step = 1\n",
    "\n",
    "    InterpMethod = [\"griddata\",\"linear\"]\n",
    "    # InterpMethod = [\"griddata\", \"cubic\"]\n",
    "    # InterpMethod = [\"rbf\", \"linear\", 0.0]\n",
    "    # InterpMethod = [\"rbf\", \"thin_plate_spline\", 0.0]\n",
    "    # InterpMethod = [\"rbf\", \"cubic\", 0.01]\n",
    "\n",
    "    # InterpMethod = [\"krig\", \"linear\", 0.5, 340.]\n",
    "    S = 500.\n",
    "    numIndexes = [121, 141]\n",
    "    smooth = 0.\n",
    "    Levels = []\n",
    "    MaskPoly = False\n",
    "    MaskDist = True\n",
    "\n",
    "    if MaskDist:\n",
    "        DistMask = 100.\n",
    "\n",
    "    if MaskPoly:\n",
    "        PolyDir = AEMPYX_DATA+\"/Blocks/polygons/\"\n",
    "        PolyFiles = [PolyDir+\"A9_2019_utm.npz\"]\n",
    "        Polygon= numpy.load(PolyFiles[0], allow_pickle=True)[\"Poly\"][0]"
   ]
  },
  {
   "cell_type": "code",
   "execution_count": null,
   "id": "94ae01b9",
   "metadata": {},
   "outputs": [],
   "source": [
    "if (\"scatter\" in ImageType.lower()):\n",
    "    Decim=25\n",
    "    step = min(1,abs(Decim))\n",
    "    Markersize = 5\n",
    "    Pixelsize = False\n",
    "    if Pixelsize:\n",
    "        step=10\n",
    "        sfac = 10."
   ]
  },
  {
   "cell_type": "code",
   "execution_count": null,
   "id": "1671a393",
   "metadata": {},
   "outputs": [],
   "source": []
  },
  {
   "cell_type": "markdown",
   "id": "f9c406b5",
   "metadata": {},
   "source": [
    "XYFact = 1.\n",
    "XYUnits = \"(m)\"\n",
    "xformatter = matplotlib.ticker.FormatStrFormatter(\"%7f\")\n",
    "yformatter = matplotlib.ticker.FormatStrFormatter(\"%6f\")"
   ]
  },
  {
   "cell_type": "code",
   "execution_count": null,
   "id": "e65c8f40",
   "metadata": {},
   "outputs": [],
   "source": [
    "XYUnits = \"(km)\"\n",
    "XYFact = 0.001\n",
    "xformatter = matplotlib.ticker.FormatStrFormatter(\"%.2f\")\n",
    "yformatter = matplotlib.ticker.FormatStrFormatter(\"%.2f\")"
   ]
  },
  {
   "cell_type": "code",
   "execution_count": null,
   "id": "5604724c",
   "metadata": {},
   "outputs": [],
   "source": [
    "\"\"\"\n",
    "Determine graphical parameter.\n",
    "=> print(matplotlib.pyplot.style.available)\n",
    "\"\"\"\n",
    "FilesOnly = False\n",
    "matplotlib.pyplot.style.use(\"seaborn-paper\")\n",
    "matplotlib.rcParams[\"text.usetex\"] = False\n",
    "matplotlib.rcParams[\"font.family\"] = \"sans-serif\"\n",
    "matplotlib.rcParams[\"figure.dpi\"] = 400\n",
    "matplotlib.rcParams[\"axes.linewidth\"] = 0.5\n",
    "matplotlib.rcParams[\"savefig.facecolor\"] = \"none\"\n",
    "matplotlib.rcParams[\"savefig.bbox\"]= \"tight\""
   ]
  },
  {
   "cell_type": "code",
   "execution_count": null,
   "id": "9b50a68c",
   "metadata": {},
   "outputs": [],
   "source": [
    "Fontsize = 7\n",
    "Labelsize = Fontsize\n",
    "Titlesize = 8\n",
    "Fontsizes = [Fontsize, Labelsize, Titlesize]"
   ]
  },
  {
   "cell_type": "code",
   "execution_count": null,
   "id": "453ea5a3",
   "metadata": {},
   "outputs": [],
   "source": [
    "Linewidths= [0.5]\n",
    "FigWidth = 16."
   ]
  },
  {
   "cell_type": "code",
   "execution_count": null,
   "id": "8692bd04",
   "metadata": {},
   "outputs": [],
   "source": [
    "\"\"\"\n",
    "Determine colormap.\n",
    "=> https://matplotlib.org/stable/gallery/color/colormap_reference.html\n",
    "\"\"\""
   ]
  },
  {
   "cell_type": "code",
   "execution_count": null,
   "id": "ef46dc2d",
   "metadata": {},
   "outputs": [],
   "source": [
    "Cmap =\"viridis\"\n",
    "Cmap = \"hsv\"\n",
    "# Cmap =\"magma\"\n",
    "Cmap = \"jet_r\"\n",
    "# Cmap = \"seismic\"\n",
    "# Cmap = \"Spectral\"\n",
    "cmp = matplotlib.colormaps[Cmap]"
   ]
  },
  {
   "cell_type": "code",
   "execution_count": null,
   "id": "ea51be4d",
   "metadata": {
    "lines_to_next_cell": 2
   },
   "outputs": [],
   "source": [
    "if FilesOnly:\n",
    "    matplotlib.use(\"cairo\")"
   ]
  },
  {
   "cell_type": "code",
   "execution_count": null,
   "id": "d9ca04a5",
   "metadata": {
    "lines_to_next_cell": 2
   },
   "outputs": [],
   "source": [
    "if not os.path.isdir(PlotDir):\n",
    "    print(\"File: %s does not exist, but will be created\" % PlotDir)\n",
    "    os.mkdir(PlotDir)"
   ]
  },
  {
   "cell_type": "code",
   "execution_count": null,
   "id": "ca142338",
   "metadata": {},
   "outputs": [],
   "source": [
    "if MergeModels:\n",
    "    Models = util.merge_model_sets(infile_list=mod_files,\n",
    "                                   outfile_name=ModelMergeFile,\n",
    "                                   dictout= True, out=False)\n",
    "    mod_files = [ModelMergeFile]"
   ]
  },
  {
   "cell_type": "code",
   "execution_count": null,
   "id": "43a4cb5d",
   "metadata": {},
   "outputs": [],
   "source": [
    "for filein in mod_files:\n",
    "    start = process_time()\n",
    "    print(\"\\nNModels read from: %s\" % filein)\n",
    "\n",
    "    Models = numpy.load(filein, allow_pickle=True)\n",
    "\n",
    "    E = Models[\"x\"][::step]*XYFact\n",
    "    E_min = numpy.amin(E)\n",
    "    E_max = numpy.amax(E)\n",
    "    N = Models[\"y\"][::step]*XYFact\n",
    "    N_min = numpy.amin(N)\n",
    "    N_max = numpy.amax(N)\n",
    "    Z = Models[\"d\"][::step,:]\n",
    "\n",
    "    DX = Models[\"mod\"][::step]\n",
    "\n",
    "\n",
    "    if ParaTrans==1:\n",
    "       DX = numpy.log10(DX)\n",
    "\n",
    "\n",
    "    if (\"image\" in ImageType.lower()) or (\"contour\"in ImageType.lower()):\n",
    "        xi= numpy.linspace(E_min,E_max,numIndexes[0])\n",
    "        yi= numpy.linspace(N_min,N_max,numIndexes[1])\n",
    "        dx = numpy.around(numpy.diff(xi)[0]/XYFact, decimals=0)\n",
    "        dy = numpy.around(numpy.diff(yi)[0]/XYFact, decimals=0)\n",
    "        print(\"Interpolation mesh, dx = \"+ str(dx)+\" m, dy =\"+ str(dy)+\" m\")\n",
    "        XI, YI = numpy.meshgrid(xi, yi, indexing=\"ij\" )\n",
    "        Pnts = numpy.stack([ E.ravel(),  N.ravel()], -1)\n",
    "        Mesh = numpy.stack([XI.ravel(), YI.ravel()], -1)\n",
    "\n",
    "        if MaskDist:\n",
    "            D_tree=scipy.spatial.KDTree(Pnts, leafsize=10,\n",
    "                                        compact_nodes=True,\n",
    "                                        copy_data=True,\n",
    "                                        balanced_tree=True,\n",
    "                                        boxsize=None)\n",
    "            mindist, _ = D_tree.query(Mesh, k=1)\n",
    "            blankdist = mindist>=DistMask*XYFact\n",
    "\n",
    "\n",
    "        if MaskPoly:\n",
    "            XIF = XI.flatten().reshape(-1,1)/XYFact\n",
    "            YIF = YI.flatten().reshape(-1,1)/XYFact\n",
    "            blankpoly=[]\n",
    "            for ipnt in numpy.arange(numpy.size(XIF)):\n",
    "                outside = not util.point_inside_polygon(XIF[ipnt], YIF[ipnt],\n",
    "                                                        Polygon)\n",
    "                blankpoly.append(outside)\n",
    "\n",
    "\n",
    "    pdf_list = []\n",
    "    for nc in numpy.arange(len(LayList)):\n",
    "\n",
    "        layl = LayList[nc][0]\n",
    "        layr = LayList[nc][1]\n",
    "        layp = LayList[nc][2]\n",
    "        lunt = LayList[nc][3]\n",
    "        plim = LayList[nc][4]\n",
    "        cstp = LayList[nc][5]\n",
    "\n",
    "\n",
    "        dstr = str(numpy.round(Z[0,layr-1], decimals=0))\n",
    "        if \"scatter\"in ImageType.lower():\n",
    "            titl = layl+\" (\"+dstr+\" m): trn=\"+str(ParaTrans)\n",
    "        else:\n",
    "            titl = layl+\" (\"+dstr+\" m): \"+str(ParaTrans)+\"/\"+InterpMethod[0]+\"/\"+InterpMethod[1]\n",
    "\n",
    "        print(\"Plotting  \"+titl)\n",
    "\n",
    "        D  = DX[:, layr-1].copy()\n",
    "        D_min = numpy.amin(D)\n",
    "        D_max = numpy.amax(D)\n",
    "        print(\"Models, read   min=\"+str( D_min)+\"   max=\"+str( D_max))\n",
    "\n",
    "        Unit = lunt\n",
    "\n",
    "\n",
    "\n",
    "\n",
    "        fig, ax = matplotlib.pyplot.subplots()\n",
    "        fig.set_figwidth(FigWidth)\n",
    "\n",
    "\n",
    "        if (\"scatter\" in ImageType.lower()):\n",
    "            print(\"Scatter Plot\")\n",
    "\n",
    "\n",
    "            D[D<=plim[0]]=plim[0]\n",
    "            D[D>=plim[1]]=plim[1]\n",
    "\n",
    "            if Pixelsize:\n",
    "                Markersize =(72./fig.dpi)\n",
    "                im = matplotlib.pyplot.scatter(E, N, color='black', marker='.', lw=0, s=(sfac*72./fig.dpi)**2)\n",
    "            else:\n",
    "                im = matplotlib.pyplot.scatter(E, N, c=D, s=Markersize**2, cmap=cmp)\n",
    "\n",
    "            # ax = matplotlib.pyplot.gca()\n",
    "            ax.set_aspect(\"equal\")\n",
    "            ax.xaxis.set_major_formatter(xformatter)\n",
    "            ax.set_xlabel(\"Easting \"+XYUnits, size=Fontsizes[1])\n",
    "            ax.yaxis.set_major_formatter(yformatter)\n",
    "            ax.set_ylabel(\"Northing \"+XYUnits, size=Fontsizes[1])\n",
    "\n",
    "            ax.tick_params(axis=\"x\", labelsize=Fontsizes[1]-2, labelrotation=0.)#-45)\n",
    "            ax.tick_params(axis=\"y\", labelsize=Fontsizes[1]-2, labelrotation=0.)#-45)\n",
    "            ax.grid(which=\"major\", axis=\"both\", visible=True,linewidth= Linewidths[0],linestyle=\"--\")\n",
    "            ax.set_title(AEM_system.upper()+\": \"+ titl)\n",
    "\n",
    "            divider = mpl_toolkits.axes_grid1.make_axes_locatable(ax)\n",
    "            cax = divider.append_axes(\"right\", size=\"5%\", pad=0.2)\n",
    "            cb = matplotlib.pyplot.colorbar(im, cax=cax, extend=\"both\")\n",
    "            cb.ax.tick_params(labelsize=Fontsizes[1])\n",
    "            cb.ax.set_title(lunt, fontsize=Fontsizes[1])\n",
    "\n",
    "        if (\"image\" in ImageType.lower()) or (\"contour\"in ImageType.lower()):\n",
    "\n",
    "            Dats = D.flatten()\n",
    "\n",
    "            if \"grid\" in InterpMethod[0].lower():\n",
    "                DI = scipy.interpolate.griddata(Pnts, Dats, Mesh,\n",
    "                                                method=InterpMethod[1].lower())\n",
    "                DI = numpy.reshape(DI,(len(xi), len(yi)))\n",
    "\n",
    "            elif \"rbf\" in InterpMethod[0].lower():\n",
    "                # RBF = scipy.interpolate.Rbf(E, N, D,\n",
    "                #                             function=InterpMethod[1].lower(), smooth=InterpMethod[2])\n",
    "                # DI  = RBF(XI, YI)\n",
    "                Pnts = numpy.stack([ E.ravel(),  N.ravel()], -1)\n",
    "                Mesh = numpy.stack([XI.ravel(), YI.ravel()], -1)\n",
    "                Dats = D.ravel()\n",
    "                RBF = scipy.interpolate.RBFInterpolator(\n",
    "                            Pnts, Dats,\n",
    "                            kernel=InterpMethod[1], smoothing=InterpMethod[2])\n",
    "                DI = RBF(Mesh)\n",
    "                DI = numpy.reshape(DI,(len(xi), len(yi)))\n",
    "\n",
    "\n",
    "            elif \"krig\" in InterpMethod[0].lower():\n",
    "                error(\"Kriging estimation not yet implemented! Exit.\")\n",
    "\n",
    "            D[D<=plim[0]]=plim[0]\n",
    "            D[D>=plim[1]]=plim[1]\n",
    "\n",
    "            if MaskPoly:\n",
    "                DIF = DI.flatten().reshape(-1,1)\n",
    "                DIF[blankpoly] = numpy.nan\n",
    "                DI = numpy.reshape(DIF,(len(xi), len(yi)))\n",
    "\n",
    "            if MaskDist:\n",
    "                DIF = DI.flatten().reshape(-1,1)\n",
    "                DIF[blankdist] = numpy.nan\n",
    "                DI = numpy.reshape(DIF,(len(xi), len(yi)))\n",
    "\n",
    "\n",
    "            D_min = numpy.nanmin(DI)\n",
    "            D_max = numpy.nanmax(DI)\n",
    "            print(\"Models, interpolated   min=\"+str( D_min)+\"   max=\"+str( D_max))\n",
    "\n",
    "\n",
    "            if len(plim)==0:\n",
    "                if (\"image\" in ImageType.lower()):\n",
    "                    im = ax.pcolor(XI, YI, DI, cmap=cmp)\n",
    "                if (\"contour\" in ImageType.lower()):\n",
    "                    im = ax.contourf(XI, YI, DI, cmap=cmp, levels=cstp)\n",
    "            else:\n",
    "                if (\"image\" in ImageType.lower()):\n",
    "                    valmin, valmax = plim\n",
    "                    im = ax.pcolor(XI, YI, DI,\n",
    "                                   cmap=cmp,\n",
    "                                   vmin=valmin, vmax=valmax)\n",
    "                if (\"contour\" in ImageType.lower()):\n",
    "                    valmin, valmax =  plim\n",
    "                    im = ax.contourf(XI, YI, DI,\n",
    "                                     cmap=cmp,\n",
    "                                     vmin=valmin, vmax=valmax,\n",
    "                                     levels=cstp)\n",
    "\n",
    "            ax.set_aspect(\"equal\")\n",
    "            ax.xaxis.set_major_formatter(xformatter)\n",
    "            ax.set_xlabel(\"Easting \"+XYUnits, size=Fontsizes[1])\n",
    "            ax.yaxis.set_major_formatter(yformatter)\n",
    "            ax.set_ylabel(\"Northing \"+XYUnits, size=Fontsizes[1])\n",
    "\n",
    "            ax.set_title(titl,fontsize=Fontsize)\n",
    "\n",
    "            ax.grid(color=\"k\", alpha=0.5, linestyle=\"dotted\", linewidth=1.5)\n",
    "            ax.tick_params(labelsize=Labelsize)\n",
    "\n",
    "\n",
    "            divider = mpl_toolkits.axes_grid1.make_axes_locatable(ax)\n",
    "            cax = divider.append_axes(\"right\", size=\"5%\", pad=0.2)\n",
    "\n",
    "            cb = matplotlib.pyplot.colorbar(im, cax=cax, extend=\"both\")\n",
    "            cb.ax.tick_params(labelsize=Fontsizes[1])\n",
    "            cb.ax.set_title(lunt, fontsize=Fontsizes[1])\n",
    "\n",
    "\n",
    "\n",
    "        if \"scatter\" in ImageType.lower():\n",
    "            plotfile = PlotDir+PlotName+\"_\"+AEM_system\\\n",
    "                +\"_\"+ImageType\\\n",
    "                +\"_\"+ layl\n",
    "        else:\n",
    "            plotfile = PlotDir+PlotName+\"_\"+AEM_system\\\n",
    "                +\"_\"+ImageType\\\n",
    "                +\"_\"+ layl\\\n",
    "            +\"_\"+InterpMethod[0].lower()\\\n",
    "            +\"_\"+InterpMethod[1].lower()\n",
    "\n",
    "        for F in PlotFmt:\n",
    "            print(\"Plot written to \"+plotfile+F)\n",
    "            matplotlib.pyplot.savefig(plotfile+F,\n",
    "                                      dpi=600,\n",
    "                                      bbox_inches=\"tight\",\n",
    "                                      backend= \"cairo\",\n",
    "                                      transparent=True)\n",
    "\n",
    "\n",
    "        if PdfCatalog:\n",
    "            pdf_list.append(plotfile+\".pdf\")\n",
    "\n",
    "        matplotlib.pyplot.show()\n",
    "        matplotlib.pyplot.clf()"
   ]
  },
  {
   "cell_type": "code",
   "execution_count": null,
   "id": "66bf960b",
   "metadata": {},
   "outputs": [],
   "source": [
    "if PdfCatalog:\n",
    "    viz.make_pdf_catalog(PdfList=pdf_list, FileName=PdfCName)"
   ]
  }
 ],
 "metadata": {
  "jupytext": {
   "cell_metadata_filter": "-all",
   "encoding": "# -*- coding: utf-8 -*-",
   "executable": "/usr/bin/env python3",
   "formats": "py,ipynb",
   "main_language": "python"
  }
 },
 "nbformat": 4,
 "nbformat_minor": 5
}
