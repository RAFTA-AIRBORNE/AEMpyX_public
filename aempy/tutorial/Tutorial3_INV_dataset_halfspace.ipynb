{
 "cells": [
  {
   "cell_type": "code",
   "execution_count": null,
   "id": "6d07e0fd",
   "metadata": {
    "lines_to_next_cell": 0
   },
   "outputs": [],
   "source": []
  },
  {
   "cell_type": "code",
   "execution_count": null,
   "id": "5bc6bf2d",
   "metadata": {},
   "outputs": [],
   "source": [
    "import os\n",
    "import sys\n",
    "from sys import exit as error\n",
    "from datetime import datetime\n",
    "# from time import process_time\n",
    "# from random import randrange\n",
    "import time\n",
    "import warnings\n",
    "# import inspect\n",
    "import copy"
   ]
  },
  {
   "cell_type": "code",
   "execution_count": null,
   "id": "9874f4f1",
   "metadata": {},
   "outputs": [],
   "source": [
    "import numpy\n",
    "import scipy"
   ]
  },
  {
   "cell_type": "code",
   "execution_count": null,
   "id": "db87598a",
   "metadata": {},
   "outputs": [],
   "source": [
    "%logstart -o"
   ]
  },
  {
   "cell_type": "code",
   "execution_count": null,
   "id": "90810aa0",
   "metadata": {},
   "outputs": [],
   "source": [
    "AEMPYX_ROOT = os.environ[\"AEMPYX_ROOT\"]\n",
    "mypath = [AEMPYX_ROOT+\"/aempy/modules/\", AEMPYX_ROOT+\"/aempy/scripts/\"]\n",
    "for pth in mypath:\n",
    "    if pth not in sys.path:\n",
    "        sys.path.insert(0,pth)"
   ]
  },
  {
   "cell_type": "code",
   "execution_count": null,
   "id": "c2590c8f",
   "metadata": {},
   "outputs": [],
   "source": [
    "from version import versionstrg"
   ]
  },
  {
   "cell_type": "code",
   "execution_count": null,
   "id": "c5ffee79",
   "metadata": {},
   "outputs": [],
   "source": [
    "import aesys\n",
    "import util\n",
    "import inverse\n",
    "import alg"
   ]
  },
  {
   "cell_type": "code",
   "execution_count": null,
   "id": "e425d363",
   "metadata": {},
   "outputs": [],
   "source": [
    "warnings.simplefilter(action=\"ignore\", category=FutureWarning)"
   ]
  },
  {
   "cell_type": "code",
   "execution_count": null,
   "id": "de970e43",
   "metadata": {},
   "outputs": [],
   "source": [
    "AEMPYX_DATA = os.environ[\"AEMPYX_DATA\"]"
   ]
  },
  {
   "cell_type": "code",
   "execution_count": null,
   "id": "734bfcfa",
   "metadata": {},
   "outputs": [],
   "source": [
    "rng = numpy.random.default_rng()\n",
    "nan = numpy.nan  # float(\"NaN\")\n",
    "version, _ = versionstrg()\n",
    "titstrng = util.print_title(version=version, fname=__file__, out=False)\n",
    "print(titstrng+\"\\n\\n\")"
   ]
  },
  {
   "cell_type": "code",
   "execution_count": null,
   "id": "9e2f0871",
   "metadata": {
    "lines_to_next_cell": 2
   },
   "outputs": [],
   "source": [
    "OutInfo = False\n",
    "now = datetime.now()"
   ]
  },
  {
   "cell_type": "code",
   "execution_count": null,
   "id": "d06563b7",
   "metadata": {
    "lines_to_next_cell": 2
   },
   "outputs": [],
   "source": [
    "\"\"\"\n",
    "System related settings.\n",
    "Data transformation is now allowed with three possible options:\n",
    "DataTrans   = 0           raw data\n",
    "            = 1           natural log of data\n",
    "            = 2           asinh transformation\n",
    "An error model is applied for the raw data, which is\n",
    "mixed additive/multiplicative. in case of data transformation,\n",
    "errors are also transformed.\n",
    "\"\"\"\n",
    "# AEM_system = \"genesis\"\n",
    "AEM_system = \"aem05\"  # \"genesis\"\n",
    "if \"aem05\" in AEM_system.lower():\n",
    "    FwdCall,NN, _, _, _, = aesys.get_system_params(System=AEM_system)\n",
    "    nL = NN[0]\n",
    "    ParaTrans = 1\n",
    "    DataTrans = 0\n",
    "    DatErr_add =  50.\n",
    "    DatErr_mult = 0.03\n",
    "    data_active = numpy.ones(NN[2], dtype=\"int8\")"
   ]
  },
  {
   "cell_type": "code",
   "execution_count": null,
   "id": "50c73d3b",
   "metadata": {
    "lines_to_next_cell": 2
   },
   "outputs": [],
   "source": [
    "if \"genes\" in AEM_system.lower():\n",
    "    FwdCall, NN, _, _, _, = aesys.get_system_params(System=AEM_system)\n",
    "    nL = NN[0]\n",
    "    ParaTrans = 1\n",
    "    DataTrans = 0\n",
    "    DatErr_add = 100.\n",
    "    DatErr_mult = 0.01\n",
    "    data_active = numpy.ones(NN[2], dtype=\"int8\")\n",
    "    data_active[0:11]=0  # only vertical component\n",
    "    # data_active[10:11]=0  # Vertical + 'good' hoizontals'"
   ]
  },
  {
   "cell_type": "code",
   "execution_count": null,
   "id": "7c791f08",
   "metadata": {},
   "outputs": [],
   "source": [
    "\"\"\"\n",
    "input formats are \".npz\",\".nc4\",\".asc\"\n",
    "\"\"\"\n",
    "ReverseDir = False"
   ]
  },
  {
   "cell_type": "code",
   "execution_count": null,
   "id": "c16a15fb",
   "metadata": {
    "lines_to_next_cell": 2
   },
   "outputs": [],
   "source": [
    "FileList = \"search\"  # \"search\", \"read\"\n",
    "InDatDir = AEMPYX_DATA + \"/Projects/InvParTest/proc_delete_PLM3s/\"\n",
    "SearchStrng = \"*3s_k?.npz\""
   ]
  },
  {
   "cell_type": "code",
   "execution_count": null,
   "id": "96ea9188",
   "metadata": {},
   "outputs": [],
   "source": [
    "if \"set\" in FileList.lower():\n",
    "    # InDatDir = AEMPYX_DATA + \"/ERT_AEM_Profiles/data/\"\n",
    "    InDatDir =\"/home/vrath/work/AEM_Data/Tellus/data/SYNTH/\"\n",
    "    print(\"Data files read from dir:  %s\" % InDatDir)\n",
    "    dat_files = [\"SYNTH_AEM05_1Layer_Resistor.asc\",\n",
    "                \"SYNTH_AEM05_1Layer_Conductor.asc\",]"
   ]
  },
  {
   "cell_type": "code",
   "execution_count": null,
   "id": "5f89ef53",
   "metadata": {},
   "outputs": [],
   "source": [
    "else:\n",
    "    # how = [\"search\", SearchStrng, InDatDir]\n",
    "    # how = [\"read\", FileList, InDatDir]\n",
    "    dat_files = util.get_data_list(how=[\"search\", SearchStrng, InDatDir],\n",
    "                              out= True, sort=True)\n",
    "    ns = numpy.size(dat_files)"
   ]
  },
  {
   "cell_type": "code",
   "execution_count": null,
   "id": "4f4d5855",
   "metadata": {},
   "outputs": [],
   "source": [
    "ns = numpy.size(dat_files)\n",
    "if ns ==0:\n",
    "    error(\"No files set!. Exit.\")"
   ]
  },
  {
   "cell_type": "code",
   "execution_count": null,
   "id": "5bae2b78",
   "metadata": {
    "lines_to_next_cell": 2
   },
   "outputs": [],
   "source": [
    "\"\"\"\n",
    "Output formats are \".npz\"\n",
    "\"\"\"\n",
    "OutFileFmt = \".npz\"\n",
    "# OutDatDir = AEMPYX_DATA + \"/Nearest/fwd_compare/models/\"\n",
    "OutDatDir = InDatDir+\"/results_prior/\"\n",
    "print(\"Models written to dir: %s \" % OutDatDir)"
   ]
  },
  {
   "cell_type": "code",
   "execution_count": null,
   "id": "cf435cf1",
   "metadata": {
    "lines_to_next_cell": 2
   },
   "outputs": [],
   "source": [
    "if not os.path.isdir(OutDatDir):\n",
    "    print(\"File: %s does not exist, but will be created\" % OutDatDir)\n",
    "    os.mkdir(OutDatDir)"
   ]
  },
  {
   "cell_type": "code",
   "execution_count": null,
   "id": "6139d05f",
   "metadata": {},
   "outputs": [],
   "source": [
    "\"\"\"\n",
    "Define inversion type  optional additional parameters (e.g., Waveforms )\n",
    "\"\"\"\n",
    "RunType = \"TikhOpt\" # \"TikhOcc\",  \"MAP_ParSpace\", \"MAP_DatSpace\",\"Jack\",\"DoI\", \"RTO\"\"\n",
    "Uncert = True"
   ]
  },
  {
   "cell_type": "code",
   "execution_count": null,
   "id": "97a0b62c",
   "metadata": {},
   "outputs": [],
   "source": [
    "RegFun = \"fix\" # \"fix\", \"lcc\", \"gcv\", \"mle\"\n",
    "RegVal0 = 1.e-5\n",
    "NTau0 = 1\n",
    "Tau0min = numpy.log10(RegVal0)\n",
    "Tau0max = numpy.log10(RegVal0)\n",
    "Tau0 = numpy.logspace(Tau0min, Tau0max, NTau0)"
   ]
  },
  {
   "cell_type": "code",
   "execution_count": null,
   "id": "872fc88e",
   "metadata": {},
   "outputs": [],
   "source": [
    "if any(s in RegFun.lower() for s in [\"gcv\", \"upr\", \"ufc\", \"mle\", \"lcc\"]):\n",
    "    RegVal1Min = 0.1\n",
    "    RegVal1Max = 1000.\n",
    "    NTau1 =64\n",
    "    Tau1min = numpy.log10(RegVal1Min)\n",
    "    Tau1max = numpy.log10(RegVal1Max)\n",
    "else:\n",
    "    RegVal1 =0.00001\n",
    "    NTau1 =1\n",
    "    Tau1min = numpy.log10(RegVal1)\n",
    "    Tau1max = numpy.log10(RegVal1)"
   ]
  },
  {
   "cell_type": "code",
   "execution_count": null,
   "id": "3d34591f",
   "metadata": {},
   "outputs": [],
   "source": [
    "Tau1 = numpy.logspace(Tau1min, Tau1max, NTau1)\n",
    "nreg = NTau0 * NTau1"
   ]
  },
  {
   "cell_type": "code",
   "execution_count": null,
   "id": "a797f4ec",
   "metadata": {},
   "outputs": [],
   "source": [
    "NSamples = 100\n",
    "Percentiles = [10., 20., 30., 40., 50., 60., 70., 80., 90.] # linear\n",
    "# Percentiles = [2.3, 15.9, 50., 84.1,97.7]                   # 95/68"
   ]
  },
  {
   "cell_type": "code",
   "execution_count": null,
   "id": "1b272258",
   "metadata": {},
   "outputs": [],
   "source": [
    "\"\"\"\n",
    "Model definition\n",
    "\"\"\""
   ]
  },
  {
   "cell_type": "code",
   "execution_count": null,
   "id": "656be61f",
   "metadata": {},
   "outputs": [],
   "source": [
    "SetPrior = \"set\"\n",
    "ParaTrans = 1"
   ]
  },
  {
   "cell_type": "code",
   "execution_count": null,
   "id": "5286fb11",
   "metadata": {},
   "outputs": [],
   "source": [
    "Nlyr = 1\n",
    "dzstart = 3.\n",
    "dzend = 10.\n",
    "dz = numpy.logspace(numpy.log10(dzstart), numpy.log10(dzend), Nlyr)\n",
    "z = numpy.append(0.0, numpy.cumsum(dz))"
   ]
  },
  {
   "cell_type": "code",
   "execution_count": null,
   "id": "d9c70089",
   "metadata": {},
   "outputs": [],
   "source": [
    "zerolayer = numpy.zeros(Nlyr)\n",
    "izerolayer = zerolayer.astype(int)\n",
    "onelayer = numpy.ones(Nlyr)\n",
    "ionelayer = onelayer.astype(int)"
   ]
  },
  {
   "cell_type": "code",
   "execution_count": null,
   "id": "9af720e9",
   "metadata": {},
   "outputs": [],
   "source": [
    "mod_act, mod_apr, mod_var, mod_bnd, m_state = inverse.init_1dmod(Nlyr)"
   ]
  },
  {
   "cell_type": "code",
   "execution_count": null,
   "id": "af0149af",
   "metadata": {},
   "outputs": [],
   "source": [
    "mod_act[0*Nlyr:1*Nlyr] = ionelayer[0:Nlyr]\n",
    "sizepar = numpy.shape(mod_act)\n",
    "mpara = sizepar[0]"
   ]
  },
  {
   "cell_type": "code",
   "execution_count": null,
   "id": "9778b847",
   "metadata": {
    "lines_to_next_cell": 2
   },
   "outputs": [],
   "source": [
    "Guess_r = 300.0  # initial guess for resistivity in mod_apr\n",
    "Guess_s = 0.3   # mod_std defines standard deviation of mod_apr\n",
    "mod_apr[0*Nlyr:1*Nlyr] = Guess_r * onelayer[0:Nlyr]\n",
    "mod_var[0*Nlyr:1*Nlyr] = numpy.power(Guess_s * onelayer[0:Nlyr],2)\n",
    "mod_apr[6*Nlyr:7*Nlyr-1] = dz[0:Nlyr - 1]\n",
    "mod_var[6*Nlyr:7*Nlyr-1] = numpy.power(1. * onelayer[0:Nlyr-1],2)"
   ]
  },
  {
   "cell_type": "code",
   "execution_count": null,
   "id": "14f89d88",
   "metadata": {
    "lines_to_next_cell": 2
   },
   "outputs": [],
   "source": [
    "# mod_bnd = mumpy.array([])\n",
    "max_val = 1.e+30\n",
    "min_val = 1.e-30\n",
    "# max_val = mod_apr[mod_act!=0] + 3*mod_std[mod_act!=0]\n",
    "# mod_bnd[mod_act!=0, 1] = max_val\n",
    "# min_val = mod_apr[mod_act!=0] - 3*mod_std[mod_act!=0]\n",
    "# mod_bnd[mod_act!=0, 0] = min_val\n",
    "mod_bnd[:,0] = min_val\n",
    "mod_bnd[:,1] = max_val"
   ]
  },
  {
   "cell_type": "code",
   "execution_count": null,
   "id": "38b9c1e8",
   "metadata": {},
   "outputs": [],
   "source": [
    "if OutInfo:\n",
    "    #   print \\\n",
    "    #   (\" Parameter set for inverting: \\n\", mod_act)\n",
    "    print(\" Layer thicknesses: \\n\", dz)\n",
    "    print(\" Layer interface depths: \\n\", z)\n",
    "    print(\" Initial halfspace resistivity of %6.2f Ohm*m\" % (Guess_r))\n",
    "    print(\" Log Standard error of %6.2f \" % (Guess_s))\n",
    "    if not (mod_bnd == None) or (numpy.size(mod_bnd) == 0):\n",
    "        print(\" Upper limits: \\n\", mod_bnd[:, 1])\n",
    "        print(\" Lower limits: \\n\", mod_bnd[:, 0])"
   ]
  },
  {
   "cell_type": "code",
   "execution_count": null,
   "id": "589f4348",
   "metadata": {},
   "outputs": [],
   "source": [
    "\"\"\"\n",
    "Setup Controls for different Algorithms\n",
    "\"\"\"\n",
    "if \"tikhopt\" in  RunType.lower():\n",
    "    \"\"\"\n",
    "    Prepare differential operator base methods for regularization matrices\n",
    "    \"\"\"\n",
    "    D0 = inverse.diffops(dz, der=False, mtype=\"sparse\", otype=\"L0\")\n",
    "    L = [D0 for D in range(7)]\n",
    "    L0 = scipy.sparse.block_diag(L)\n",
    "    Cm0 = L0.T@L0\n",
    "    Cm0 = inverse.extract_cov(Cm0, mod_act)\n",
    "\n",
    "    D1 = inverse.diffops(dz, der=False, mtype=\"sparse\", otype=\"L1\")\n",
    "    L = [D1 for D in range(7)]\n",
    "    L1 = scipy.sparse.block_diag(L)\n",
    "    Cm1 = L1.T@L1\n",
    "    Cm1 = inverse.extract_cov(Cm1, mod_act)\n",
    "\n",
    "    Maxiter = 10\n",
    "    Maxreduce = 5\n",
    "    Rfact = 0.66\n",
    "    LinPars = [Maxreduce, Rfact]\n",
    "\n",
    "\n",
    "    ThreshRMS = [0.9, 1.0e-2, 1.0e-2]\n",
    "    Delta = [1.e-5]\n",
    "    RegShift = 1\n",
    "    Ctrl = dict([\n",
    "        (\"system\", [AEM_system, FwdCall]),\n",
    "        (\"inversion\",\n",
    "         numpy.array([RunType, RegFun, Tau0, Tau1, Maxiter, ThreshRMS,\n",
    "                      LinPars, SetPrior, Delta, RegShift], dtype=object)),\n",
    "        (\"covar\",\n",
    "         numpy.array([L0, Cm0, L1, Cm1], dtype=object)),\n",
    "        (\"transform\",\n",
    "         [DataTrans, ParaTrans]),\n",
    "        (\"uncert\",\n",
    "         Uncert)\n",
    "       ])"
   ]
  },
  {
   "cell_type": "code",
   "execution_count": null,
   "id": "ace39938",
   "metadata": {},
   "outputs": [],
   "source": [
    "if \"occ\" in RunType.lower():\n",
    "    \"\"\"\n",
    "    Prepare differential operator base methods for regularization matrices\n",
    "    \"\"\"\n",
    "    D0 = inverse.diffops(dz, der=False, mtype=\"sparse\", otype=\"L0\")\n",
    "    L = [D0 for D in range(7)]\n",
    "    L0 = scipy.sparse.block_diag(L)\n",
    "    Cm0 = L0.T@L0\n",
    "    Cm0 = inverse.extract_cov(Cm0, mod_act)\n",
    "\n",
    "    D1 = inverse.diffops(dz, der=False, mtype=\"sparse\", otype=\"L1\", variant=Variant)\n",
    "    L = [D1 for D in range(7)]\n",
    "    L1 = scipy.sparse.block_diag(L)\n",
    "    Cm1 = L1.T@L1\n",
    "    Cm1 = inverse.extract_cov(Cm1, mod_act)\n",
    "\n",
    "    Maxiter = 10\n",
    "    Maxreduce = 5\n",
    "    Rfact = 0.66\n",
    "    LinPars = [Maxreduce, Rfact]\n",
    "\n",
    "    Maxiter = 10\n",
    "    Maxreduce = 5\n",
    "    Rfact = 0.66\n",
    "    ThreshRMS = [0.5, 1.0e-2, 1.0e-2]\n",
    "    L = L1\n",
    "    TauSeq = [0.5]\n",
    "    Delta = [1.e-5]\n",
    "    Ctrl = dict([\n",
    "        (\"system\", [AEM_system, FwdCall]),\n",
    "        (\"inversion\",\n",
    "         numpy.array([RunType, TauSeq, Tau0, Maxiter,ThreshRMS,\n",
    "                      LinPars, SetPrior, Delta],dtype=object)),\n",
    "        (\"covar\",\n",
    "         numpy.array( [L0, Cm0, L1, Cm1], dtype=object)),\n",
    "        (\"transform\",\n",
    "         [DataTrans, ParaTrans]),\n",
    "        (\"uncert\",\n",
    "         Uncert)\n",
    "       ])"
   ]
  },
  {
   "cell_type": "code",
   "execution_count": null,
   "id": "bf6c1534",
   "metadata": {},
   "outputs": [],
   "source": [
    "if \"map\" in  RunType.lower():\n",
    "\n",
    "    \"\"\"\n",
    "    Prepare explicit covariances for MAP and related methods\n",
    "    \"\"\"\n",
    "\n",
    "    zc = inverse.set_zcenters(dz)\n",
    "    xc = numpy.zeros_like(zc)\n",
    "    yc = numpy.zeros_like(zc)\n",
    "    CorrL = numpy.array([30.0, 30.0, 30.0])\n",
    "\n",
    "    \"\"\"\n",
    "    This setup is a workaround, correct only for rho-only inversion\n",
    "    \"\"\"\n",
    "\n",
    "    mvar  = mod_var[0*Nlyr:1*Nlyr]\n",
    "    # inverse.extract_mod(mod_var, mod_act)\n",
    "\n",
    "    if \"par\"in RunType.lower():\n",
    "        InvSpace = \"par\"\n",
    "        Cmi, CmiS = inverse.covar(xc, yc, zc, covtype= [\"exp\", CorrL],\n",
    "                  var=mvar, sparse=False, thresh=0.05, inverse=True)\n",
    "        Cmi=inverse.extract_cov(Cmi, mod_act)\n",
    "        Cmi = scipy.sparse.block_diag([Cmi for Cmi in range(7)])\n",
    "        CmiS=inverse.extract_cov(CmiS, mod_act)\n",
    "        CmiS = scipy.sparse.block_diag([CmiS for Cmis in range(7)])\n",
    "        C, sC = Cmi, CmiS\n",
    "    else:\n",
    "        InvSpace = \"dat\"\n",
    "        Cm, CmS = inverse.covar(xc, yc, zc, covtype= [\"exp\", CorrL],\n",
    "                  var=mvar, sparse=False, thresh=0.05, inverse=False)\n",
    "        Cm=inverse.extract_cov(Cm, mod_act)\n",
    "        Cm = scipy.sparse.block_diag([Cm for Ci in range(7)])\n",
    "        CmS=inverse.extract_cov(CmS, mod_act)\n",
    "        CmS = scipy.sparse.block_diag([CmS for CmS in range(7)])\n",
    "        C, sC = Cm, CmS\n",
    "\n",
    "    Maxiter = 10\n",
    "    Maxreduce = 5\n",
    "    Rfact = 0.66\n",
    "    ThreshRMS = [0.5, 1.0e-2, 1.0e-2]\n",
    "    Delta = [1.e-5]\n",
    "    TauSeq = [0.5]\n",
    "    RegShift = 1\n",
    "    Ctrl = dict([\n",
    "        (\"system\",\n",
    "         [AEM_system, FwdCall]),\n",
    "        (\"inversion\",\n",
    "         numpy.array([RunType, InvSpace, RegFun, Tau0, Tau1, Maxiter,ThreshRMS,\n",
    "                      LinPars, SetPrior, Delta, RegShift], dtype=object)),\n",
    "        (\"covar\",\n",
    "         numpy.array([C, sC], dtype=object)),\n",
    "        (\"transform\",\n",
    "         [DataTrans, ParaTrans]),\n",
    "        (\"uncert\",\n",
    "         Uncert)\n",
    "       ])"
   ]
  },
  {
   "cell_type": "code",
   "execution_count": null,
   "id": "53fe04ec",
   "metadata": {
    "lines_to_next_cell": 2
   },
   "outputs": [],
   "source": [
    "if OutInfo:\n",
    "    print(Ctrl.keys())"
   ]
  },
  {
   "cell_type": "code",
   "execution_count": null,
   "id": "289f29da",
   "metadata": {
    "lines_to_next_cell": 2
   },
   "outputs": [],
   "source": [
    "OutStrng = \"_halfspace_Results\"\n",
    "print(\"ID string: Iinput file + %s \" % OutStrng)"
   ]
  },
  {
   "cell_type": "code",
   "execution_count": null,
   "id": "65b76b19",
   "metadata": {},
   "outputs": [],
   "source": [
    "fcount =0\n",
    "for file in dat_files:\n",
    "\n",
    "    start = time.time()\n",
    "\n",
    "    fcount=fcount+1\n",
    "\n",
    "    name, ext = os.path.splitext(file)\n",
    "    filein = InDatDir+file\n",
    "    print(\"\\n Reading file \" + filein)\n",
    "\n",
    "    fileout = OutDatDir + name + OutStrng\n",
    "    numpy.savez_compressed(file=fileout+\"_ctrl\"+OutFileFmt,**Ctrl)\n",
    "\n",
    "\n",
    "    DataObs, Header, _ = aesys.read_aempy(File=filein,\n",
    "                                   System=AEM_system, OutInfo=False)\n",
    "\n",
    "    fl_name = DataObs[0, 0]\n",
    "    site_x = DataObs[:, 1]\n",
    "    site_y = DataObs[:, 2]\n",
    "    site_gps = DataObs[:, 3]\n",
    "    site_alt = DataObs[:, 4]\n",
    "    site_dem = DataObs[:, 5]\n",
    "    dat_obs =  DataObs[:, 6:6+NN[2]]\n",
    "    [nsite,ndata] = numpy.shape(dat_obs)\n",
    "\n",
    "\n",
    "    if \"read\" in SetPrior.lower():\n",
    "        error(\"Prior model read not yet implemented! Exit.\")\n",
    "        # file,filext0 = os.path.splitext(file)\n",
    "        # tmp = numpy.load(file, allow_pickle=True)\n",
    "        # mod_aprel = tmp[\"site_modl\"]\n",
    "        # mod_apr = numpy.mat(inverse.extract_mod(mod_apr,mod_act))\n",
    "    elif \"set\" in SetPrior.lower() or \"upd\" in SetPrior.lower():\n",
    "        mod_apr = mod_apr.copy()\n",
    "        mod_ini = mod_apr.copy()\n",
    "        error_ini = mod_var\n",
    "    else:\n",
    "        error(\"Prior model method \"+SetPrior.lower()+\" not yet implemented! Exit.\")\n",
    "\n",
    "\n",
    "\n",
    "    start = time.time()\n",
    "    \"\"\"\n",
    "    Loop over sites\n",
    "    \"\"\"\n",
    "    sequence = range(nsite)\n",
    "    if ReverseDir:\n",
    "        sites = sequence[::-1]\n",
    "    else:\n",
    "        sites = sequence\n",
    "\n",
    "\n",
    "    logsize = (2 + 7*Maxiter)\n",
    "    site_log = numpy.full((len(sites),logsize), numpy.nan)\n",
    "\n",
    "    for ii in sites:\n",
    "        print(\"\\n Invert site #\"+str(ii))\n",
    "\n",
    "        \"\"\"\n",
    "        Setup model-related paramter\n",
    "        \"\"\"\n",
    "\n",
    "\n",
    "        if \"upd\" in SetPrior:\n",
    "            if ii == 0:\n",
    "                mod_ini = mod_apr.copy()\n",
    "                model = mod_ini.copy()\n",
    "            else:\n",
    "                mod_ini = model.copy()\n",
    "                model = mod_ini.copy()\n",
    "\n",
    "        Model = dict([\n",
    "            (\"m_act\", mod_act),\n",
    "            (\"m_apr\", mod_apr),\n",
    "            (\"m_var\", mod_var),\n",
    "            (\"m_bnd\", mod_bnd),\n",
    "            (\"m_ini\", mod_ini)\n",
    "            ])\n",
    "\n",
    "        \"\"\"\n",
    "        Setup data-related paramter\n",
    "        \"\"\"\n",
    "        dat_act = numpy.tile(data_active,(nsite,1))\n",
    "        dat_err = numpy.zeros_like(dat_obs)\n",
    "        dat_err[ii, :], _ = inverse.set_errors(dat_obs[ii, :],\n",
    "                                                daterr_add=DatErr_add,\n",
    "                                                daterr_mult=DatErr_mult)\n",
    "\n",
    "        Data = dict([\n",
    "            (\"d_act\", dat_act[ii,:]),\n",
    "            (\"d_obs\", dat_obs[ii,:]),\n",
    "            (\"d_err\", dat_err[ii,:]),\n",
    "            (\"alt\", site_alt[ii])\n",
    "            ])\n",
    "\n",
    "        \"\"\"\n",
    "        Call inversion algorithms\n",
    "        \"\"\"\n",
    "        if \"opt\" in RunType.lower():\n",
    "            Results =\\\n",
    "                alg.run_tikh_opt(Ctrl=Ctrl, Model=Model, Data=Data,\n",
    "                                  OutInfo=OutInfo)\n",
    "\n",
    "        if \"occ\" in RunType.lower():\n",
    "            Results =\\\n",
    "                alg.run_tikh_occ(Ctrl=Ctrl, Model=Model, Data=Data,\n",
    "                                  OutInfo=OutInfo)\n",
    "\n",
    "        if \"map\" in RunType.lower():\n",
    "            Results =\\\n",
    "                alg.run_map(Ctrl=Ctrl, Model=Model, Data=Data,\n",
    "                                  OutInfo=OutInfo)\n",
    "\n",
    "\n",
    "        \"\"\"\n",
    "        Store inversion Results\n",
    "        \"\"\"\n",
    "        if OutInfo:\n",
    "            print(\"Results: \",Results.keys())\n",
    "\n",
    "\n",
    "        M = Results[\"model\"]\n",
    "        D = Results[\"data\"]\n",
    "        C = Results[\"log\"]\n",
    "\n",
    "        if ii==0:\n",
    "            site_num  = numpy.array([ii])\n",
    "            site_nrms = C[2]\n",
    "            site_modl = M[0]\n",
    "            site_merr = M[1]\n",
    "            site_sens = M[2]\n",
    "            site_dobs = D[0].reshape((1,-1))\n",
    "            site_dcal = D[1].reshape((1,-1))\n",
    "            site_derr = D[2].reshape((1,-1))\n",
    "            # print(\"ii=0\")\n",
    "            cc = numpy.hstack((C[0], C[1],\n",
    "                              C[2],\n",
    "                              C[3].ravel(),\n",
    "                              C[4].ravel(),\n",
    "                              C[5].ravel(),\n",
    "                              C[6].ravel()))\n",
    "            site_log[ii,0:len(cc)] = cc\n",
    "            if Uncert:\n",
    "                jd = Results[\"jacd\"]\n",
    "                site_jacd = jd.reshape((1,numpy.size(jd)))\n",
    "                postcov = Results[\"cpost\"]\n",
    "                site_postcov = postcov.reshape((1,numpy.size(postcov)))\n",
    "                mres = Results[\"mresm\"][0]\n",
    "                site_nump = numpy.sum(numpy.diag(mres))\n",
    "\n",
    "        else:\n",
    "           site_num = numpy.vstack((site_num, ii))\n",
    "           site_nrms = numpy.vstack((site_nrms, C[2]))\n",
    "           site_modl = numpy.vstack((site_modl, M[0]))\n",
    "           site_merr = numpy.vstack((site_merr, M[1]))\n",
    "           site_sens = numpy.vstack((site_sens, M[2]))\n",
    "           site_dobs = numpy.vstack((site_dobs, D[0]))\n",
    "           site_dcal = numpy.vstack((site_dcal, D[1]))\n",
    "           site_derr = numpy.vstack((site_derr, D[2]))\n",
    "           cc = numpy.hstack((C[0], C[1],\n",
    "                              C[2],\n",
    "                              C[3].ravel(),\n",
    "                              C[4].ravel(),\n",
    "                              C[5].ravel(),\n",
    "                              C[6].ravel()))\n",
    "           site_log[ii,0:len(cc)] = cc\n",
    "\n",
    "           if Uncert:\n",
    "               jd = Results[\"jacd\"]\n",
    "               # print(numpy.shape(site_jacd))\n",
    "               site_jacd = numpy.vstack((site_jacd,\n",
    "                                         jd.reshape((1,numpy.size(jd)))))\n",
    "               postcov = Results[\"cpost\"]\n",
    "               site_postcov = numpy.vstack((site_postcov ,\n",
    "                                            postcov.reshape((1,numpy.size(postcov)))))\n",
    "               mres = Results[\"mresm\"][0]\n",
    "               site_nump = numpy.vstack((site_nump, numpy.sum(numpy.diag(mres))))\n",
    "\n",
    "\n",
    "\n",
    "    header=numpy.array(Header, dtype=object),\n",
    "    fileout = OutDatDir + name + OutStrng + OutFileFmt\n",
    "\n",
    "    numpy.savez_compressed(\n",
    "        file=fileout,\n",
    "        fl_data=file,\n",
    "        fl_name=fl_name,\n",
    "        header=header,\n",
    "        aem_system=AEM_system,\n",
    "        site_log =site_log,\n",
    "        mod_ref=mod_apr,\n",
    "        mod_act=mod_act,\n",
    "        dat_act=dat_act,\n",
    "        site_modl=site_modl,\n",
    "        site_sens=site_sens,\n",
    "        site_merr=site_merr,\n",
    "        site_dobs=site_dobs,\n",
    "        site_dcal=site_dcal,\n",
    "        site_derr=site_derr,\n",
    "        site_nrms=site_nrms,\n",
    "        site_num=site_num,\n",
    "        site_y=site_y,\n",
    "        site_x=site_x,\n",
    "        site_gps=site_gps,\n",
    "        site_alt=site_alt,\n",
    "        site_dem=site_dem)\n",
    "\n",
    "    if Uncert:\n",
    "        numpy.savez_compressed(\n",
    "            file=fileout,\n",
    "            fl_data=file,\n",
    "            fl_name=fl_name,\n",
    "            header=header,\n",
    "            aem_system=AEM_system,\n",
    "            site_log =site_log,\n",
    "            mod_ref=mod_apr,\n",
    "            mod_act=mod_act,\n",
    "            dat_act=dat_act,\n",
    "            site_modl=site_modl,\n",
    "            site_sens=site_sens,\n",
    "            site_merr=site_merr,\n",
    "            site_dobs=site_dobs,\n",
    "            site_dcal=site_dcal,\n",
    "            site_derr=site_derr,\n",
    "            site_nrms=site_nrms,\n",
    "            site_num=site_num,\n",
    "            site_y=site_y,\n",
    "            site_x=site_x,\n",
    "            site_gps=site_gps,\n",
    "            site_alt=site_alt,\n",
    "            site_dem=site_dem,\n",
    "            site_jac= site_jacd,\n",
    "            site_cov= site_postcov,\n",
    "            site_nump=site_nump)\n",
    "\n",
    "\n",
    "    print(\"\\n\\nResults stored to \"+fileout)\n",
    "    elapsed = (time.time() - start)\n",
    "    print (\" Used %7.4f sec for %6i sites\" % (elapsed, ii+1))\n",
    "    print (\" Average %7.4f sec/site\\n\" % (elapsed/(ii+1)))"
   ]
  },
  {
   "cell_type": "code",
   "execution_count": null,
   "id": "48514ce3",
   "metadata": {},
   "outputs": [],
   "source": [
    "print(\"\\n\\nAll done!\")"
   ]
  }
 ],
 "metadata": {
  "jupytext": {
   "cell_metadata_filter": "-all",
   "executable": "/usr/bin/env python3",
   "formats": "py,ipynb",
   "main_language": "python"
  }
 },
 "nbformat": 4,
 "nbformat_minor": 5
}
