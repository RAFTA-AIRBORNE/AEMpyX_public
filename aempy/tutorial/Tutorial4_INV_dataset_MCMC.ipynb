{
 "cells": [
  {
   "cell_type": "code",
   "execution_count": null,
   "id": "0fdcf13e",
   "metadata": {
    "lines_to_next_cell": 0
   },
   "outputs": [],
   "source": []
  },
  {
   "cell_type": "code",
   "execution_count": null,
   "id": "d68b26d6",
   "metadata": {},
   "outputs": [],
   "source": [
    "import os\n",
    "import sys\n",
    "from sys import exit as error\n",
    "from datetime import datetime\n",
    "# from time import process_time\n",
    "# from random import randrange\n",
    "import time\n",
    "import warnings\n",
    "# import inspect\n",
    "import copy"
   ]
  },
  {
   "cell_type": "code",
   "execution_count": null,
   "id": "a96d758c",
   "metadata": {},
   "outputs": [],
   "source": [
    "import numpy\n",
    "import scipy"
   ]
  },
  {
   "cell_type": "code",
   "execution_count": null,
   "id": "24e6e154",
   "metadata": {},
   "outputs": [],
   "source": [
    "%logstart -o"
   ]
  },
  {
   "cell_type": "code",
   "execution_count": null,
   "id": "52784df1",
   "metadata": {},
   "outputs": [],
   "source": [
    "AEMPYX_ROOT = os.environ[\"AEMPYX_ROOT\"]\n",
    "mypath = [AEMPYX_ROOT+\"/aempy/modules/\", AEMPYX_ROOT+\"/aempy/scripts/\"]\n",
    "for pth in mypath:\n",
    "    if pth not in sys.path:\n",
    "        sys.path.insert(0,pth)"
   ]
  },
  {
   "cell_type": "code",
   "execution_count": null,
   "id": "72cd1a08",
   "metadata": {},
   "outputs": [],
   "source": [
    "from version import versionstrg"
   ]
  },
  {
   "cell_type": "code",
   "execution_count": null,
   "id": "1cfc681e",
   "metadata": {},
   "outputs": [],
   "source": [
    "import aesys\n",
    "import util\n",
    "import inverse\n",
    "import alg"
   ]
  },
  {
   "cell_type": "code",
   "execution_count": null,
   "id": "c4457ac7",
   "metadata": {},
   "outputs": [],
   "source": [
    "warnings.simplefilter(action=\"ignore\", category=FutureWarning)"
   ]
  },
  {
   "cell_type": "code",
   "execution_count": null,
   "id": "70ad0006",
   "metadata": {},
   "outputs": [],
   "source": [
    "AEMPYX_DATA = os.environ[\"AEMPYX_DATA\"]"
   ]
  },
  {
   "cell_type": "code",
   "execution_count": null,
   "id": "8929d224",
   "metadata": {},
   "outputs": [],
   "source": [
    "rng = numpy.random.default_rng()\n",
    "nan = numpy.nan  # float(\"NaN\")\n",
    "version, _ = versionstrg()\n",
    "titstrng = util.print_title(version=version, fname=__file__, out=False)\n",
    "print(titstrng+\"\\n\\n\")"
   ]
  },
  {
   "cell_type": "code",
   "execution_count": null,
   "id": "8af66390",
   "metadata": {
    "lines_to_next_cell": 2
   },
   "outputs": [],
   "source": [
    "OutInfo = False\n",
    "now = datetime.now()"
   ]
  },
  {
   "cell_type": "code",
   "execution_count": null,
   "id": "e8276bde",
   "metadata": {
    "lines_to_next_cell": 2
   },
   "outputs": [],
   "source": [
    "\"\"\"\n",
    "System related settings.\n",
    "Data transformation is allowed with three possible options:\n",
    "DataTrans   = 0           raw data\n",
    "            = 1           natural log of data\n",
    "            = 2           asinh transformation\n",
    "An error model is applied for the raw data, which is\n",
    "mixed additive/multiplicative. in case of data transformation,\n",
    "errors are also transformed.\n",
    "\"\"\"\n",
    "# AEM_system = \"genesis\"\n",
    "AEM_system = \"aem05\"  # \"genesis\"\n",
    "if \"aem05\" in AEM_system.lower():\n",
    "    FwdCall,NN, _, _, _, = aesys.get_system_params(System=AEM_system)\n",
    "    nL = NN[0]\n",
    "    ParaTrans = 1\n",
    "    DataTrans = 0\n",
    "    DatErr_add =  75.\n",
    "    DatErr_mult = 0.05\n",
    "    data_active = numpy.ones(NN[2], dtype=\"int8\")"
   ]
  },
  {
   "cell_type": "code",
   "execution_count": null,
   "id": "ef175d54",
   "metadata": {
    "lines_to_next_cell": 2
   },
   "outputs": [],
   "source": [
    "if \"genes\" in AEM_system.lower():\n",
    "    FwdCall, NN, _, _, _, = aesys.get_system_params(System=AEM_system)\n",
    "    nL = NN[0]\n",
    "    ParaTrans = 1\n",
    "    DataTrans = 0\n",
    "    DatErr_add = 100.\n",
    "    DatErr_mult = 0.01\n",
    "    data_active = numpy.ones(NN[2], dtype=\"int8\")\n",
    "    data_active[0:11]=0  # only vertical component\n",
    "    # data_active[10:11]=0  # Vertical + 'good' hoizontals'"
   ]
  },
  {
   "cell_type": "code",
   "execution_count": null,
   "id": "857e74ab",
   "metadata": {},
   "outputs": [],
   "source": [
    "\"\"\"\n",
    "input formats are \".npz\",\".nc4\",\".asc\"\n",
    "\"\"\"\n",
    "ReverseDir = False"
   ]
  },
  {
   "cell_type": "code",
   "execution_count": null,
   "id": "6554d06d",
   "metadata": {},
   "outputs": [],
   "source": [
    "InDatDir =  AEMPYX_DATA + \"/Projects/StGormans/proc_delete_PLM3s/\"\n",
    "print(\"Data files read from dir:  %s\" % InDatDir)\n",
    "dat_files = [\"\"]"
   ]
  },
  {
   "cell_type": "code",
   "execution_count": null,
   "id": "2a434dbb",
   "metadata": {},
   "outputs": [],
   "source": [
    "ns = len(dat_files)\n",
    "if ns ==0:\n",
    "    error(\"No data files set!. Exit.\")"
   ]
  },
  {
   "cell_type": "code",
   "execution_count": null,
   "id": "cca19d99",
   "metadata": {},
   "outputs": [],
   "source": [
    "SampleType=\"dist\"           # \"dist\", \"site\", \"rand\"\n",
    "if \"dist\" in SampleType.lower():\n",
    "    SampleSites = [[500., 1000.],]"
   ]
  },
  {
   "cell_type": "code",
   "execution_count": null,
   "id": "1d405ee4",
   "metadata": {},
   "outputs": [],
   "source": [
    "if \"site\" in SampleType.lower():\n",
    "    SampleSites = [[ 300 ,  500],]"
   ]
  },
  {
   "cell_type": "code",
   "execution_count": null,
   "id": "703b7e1b",
   "metadata": {},
   "outputs": [],
   "source": [
    "if \"rand\" in SampleType.lower():\n",
    "        \n",
    "    NumSites = [3, 2]  "
   ]
  },
  {
   "cell_type": "code",
   "execution_count": null,
   "id": "2665683b",
   "metadata": {
    "lines_to_next_cell": 2
   },
   "outputs": [],
   "source": [
    "\"\"\"\n",
    "Output format is \".npz\"\n",
    "\"\"\"\n",
    "OutFileFmt = \".npz\"\n",
    "OutDatDir =  AEMPYX_DATA + \"/Projects/Compare/results/New/\"\n",
    "print(\"Models written to dir: %s \" % OutDatDir)"
   ]
  },
  {
   "cell_type": "code",
   "execution_count": null,
   "id": "3fe378c9",
   "metadata": {
    "lines_to_next_cell": 2
   },
   "outputs": [],
   "source": [
    "if not os.path.isdir(OutDatDir):\n",
    "    print(\"File: %s does not exist, but will be created\" % OutDatDir)\n",
    "    os.mkdir(OutDatDir)"
   ]
  },
  {
   "cell_type": "code",
   "execution_count": null,
   "id": "85b12f3d",
   "metadata": {
    "lines_to_next_cell": 2
   },
   "outputs": [],
   "source": [
    "\"\"\"\n",
    "Define inversion type  optional additional parameters (e.g., Waveforms )\n",
    "\"\"\"\n",
    "RunType = \"emcee\" # \"dram\",  \"dream\", \"hmc\", \"mhsimple\""
   ]
  },
  {
   "cell_type": "code",
   "execution_count": null,
   "id": "f9a21691",
   "metadata": {},
   "outputs": [],
   "source": [
    "\"\"\"\n",
    "Model and prior covariance definition\n",
    "\"\"\""
   ]
  },
  {
   "cell_type": "code",
   "execution_count": null,
   "id": "73484253",
   "metadata": {
    "lines_to_next_cell": 2
   },
   "outputs": [],
   "source": [
    "Nlyr = 36\n",
    "dzstart = 5.\n",
    "dzend = 10.\n",
    "dz = numpy.logspace(numpy.log10(dzstart), numpy.log10(dzend), Nlyr)\n",
    "z = numpy.append(0.0, numpy.cumsum(dz))"
   ]
  },
  {
   "cell_type": "code",
   "execution_count": null,
   "id": "c1d46b17",
   "metadata": {},
   "outputs": [],
   "source": [
    "mod_act, mod_apr, mod_var, mod_bnd, m_state = inverse.init_1dmod(Nlyr)"
   ]
  },
  {
   "cell_type": "code",
   "execution_count": null,
   "id": "25cdb4d5",
   "metadata": {},
   "outputs": [],
   "source": [
    "mod_act[0*Nlyr:1*Nlyr] = 1\n",
    "sizepar = numpy.shape(mod_act)\n",
    "mpara = sizepar[0]"
   ]
  },
  {
   "cell_type": "code",
   "execution_count": null,
   "id": "7c068039",
   "metadata": {
    "lines_to_next_cell": 2
   },
   "outputs": [],
   "source": [
    "Guess_r = 100.0  # initial guess for resistivity in mod_apr\n",
    "Guess_s = 0.3   # mod_std defines standard deviation of mod_apr\n",
    "mod_apr[0*Nlyr:1*Nlyr] = Guess_r\n",
    "mod_var[0*Nlyr:1*Nlyr] = numpy.power(Guess_s,2)\n",
    "mod_apr[6*Nlyr:7*Nlyr-1] = dz[0:Nlyr - 1]\n",
    "mod_var[6*Nlyr:7*Nlyr-1] = numpy.power(1.,2)"
   ]
  },
  {
   "cell_type": "code",
   "execution_count": null,
   "id": "6f748bfe",
   "metadata": {
    "lines_to_next_cell": 2
   },
   "outputs": [],
   "source": [
    "# mod_bnd = mumpy.array([])\n",
    "max_val = 1.e+30\n",
    "min_val = 1.e-30\n",
    "# max_val = mod_apr[mod_act!=0] + 3*mod_std[mod_act!=0]\n",
    "# mod_bnd[mod_act!=0, 1] = max_val\n",
    "# min_val = mod_apr[mod_act!=0] - 3*mod_std[mod_act!=0]\n",
    "# mod_bnd[mod_act!=0, 0] = min_val\n",
    "mod_bnd[:,0] = min_val\n",
    "mod_bnd[:,1] = max_val"
   ]
  },
  {
   "cell_type": "code",
   "execution_count": null,
   "id": "55d6638d",
   "metadata": {},
   "outputs": [],
   "source": [
    "if OutInfo:\n",
    "    #   print \\\n",
    "    #   (\" Parameter set for inverting: \\n\", mod_act)\n",
    "    print(\" Layer thicknesses: \\n\", dz)\n",
    "    print(\" Layer interface depths: \\n\", z)\n",
    "    print(\" Initial halfspace resistivity of %6.2f Ohm*m\" % (Guess_r))\n",
    "    print(\" Log Standard error of %6.2f \" % (Guess_s))\n",
    "    if not (mod_bnd == None) or (numpy.size(mod_bnd) == 0):\n",
    "        print(\" Upper limits: \\n\", mod_bnd[:, 1])\n",
    "        print(\" Lower limits: \\n\", mod_bnd[:, 0])"
   ]
  },
  {
   "cell_type": "code",
   "execution_count": null,
   "id": "fd3d2fbf",
   "metadata": {},
   "outputs": [],
   "source": [
    "zc = inverse.set_zcenters(dz)\n",
    "xc = numpy.zeros_like(zc)\n",
    "yc = numpy.zeros_like(zc)\n",
    "CorrL = numpy.array([30.0, 30.0, 30.0])"
   ]
  },
  {
   "cell_type": "code",
   "execution_count": null,
   "id": "9a5eb26f",
   "metadata": {},
   "outputs": [],
   "source": [
    "\"\"\"\n",
    "This setup is a workaround, correct only for rho-only inversion\n",
    "\"\"\""
   ]
  },
  {
   "cell_type": "code",
   "execution_count": null,
   "id": "010bc7f1",
   "metadata": {},
   "outputs": [],
   "source": [
    "mvar  = mod_var[0*Nlyr:1*Nlyr]\n",
    "# inverse.extract_mod(mod_var, mod_act)"
   ]
  },
  {
   "cell_type": "code",
   "execution_count": null,
   "id": "cd81741f",
   "metadata": {},
   "outputs": [],
   "source": [
    "InvSpace = \"dat\"\n",
    "Cm, CmS = inverse.covar(xc, yc, zc, covtype= [\"exp\", CorrL],\n",
    "          var=mvar, sparse=False, thresh=0.05, inverse=False)\n",
    "Cm=inverse.extract_cov(Cm, mod_act)\n",
    "Cm = scipy.sparse.block_diag([Cm for Ci in range(7)])"
   ]
  },
  {
   "cell_type": "code",
   "execution_count": null,
   "id": "464a264c",
   "metadata": {},
   "outputs": [],
   "source": [
    "\"\"\"\n",
    "Setup Controls for different Algorithms\n",
    "\"\"\"\n",
    "if \"emcee\" in  RunType.lower():\n",
    "    NumSample = 10000\n",
    "    NumChains = 8\n",
    "    \n",
    " \n",
    "    Ctrl = dict([\n",
    "        (\"system\", [AEM_system, FwdCall]), \n",
    "        (\"transform\",\n",
    "         [DataTrans, ParaTrans])\n",
    "        (\"inversion\",\n",
    "         numpy.array([NumSample, NumChains], dtype=object)),\n",
    "        (\"prior\", \n",
    "         numpy.array([Cm], dtype=object)),\n",
    "       ])"
   ]
  },
  {
   "cell_type": "code",
   "execution_count": null,
   "id": "b42317a9",
   "metadata": {},
   "outputs": [],
   "source": [
    "if \"dram\" in  RunType.lower():\n",
    "    NumSample = 10000\n",
    "    NumChains = 8\n",
    "    \n",
    " \n",
    "    Ctrl = dict([\n",
    "        (\"system\", [AEM_system, FwdCall]), \n",
    "        (\"transform\",\n",
    "         [DataTrans, ParaTrans])\n",
    "        (\"inversion\",\n",
    "         numpy.array([NumSample, NumChains], dtype=object)),\n",
    "        (\"prior\", \n",
    "         numpy.array([Cm], dtype=object)),\n",
    "       ])"
   ]
  },
  {
   "cell_type": "code",
   "execution_count": null,
   "id": "273f34e5",
   "metadata": {},
   "outputs": [],
   "source": [
    "if \"dream\" in  RunType.lower():\n",
    "    NumSample = 10000\n",
    "    NumChains = 8\n",
    "    \n",
    " \n",
    "    Ctrl = dict([\n",
    "        (\"system\", [AEM_system, FwdCall]), \n",
    "        (\"transform\",\n",
    "         [DataTrans, ParaTrans])\n",
    "        (\"inversion\",\n",
    "         numpy.array([NumSample, NumChains], dtype=object)),\n",
    "        (\"prior\", \n",
    "         numpy.array([Cm], dtype=object)),\n",
    "       ])"
   ]
  },
  {
   "cell_type": "code",
   "execution_count": null,
   "id": "ee8459f3",
   "metadata": {},
   "outputs": [],
   "source": [
    "if \"hmc\" in  RunType.lower():\n",
    "    NumSample = 10000\n",
    "    NumChains = 8\n",
    "    \n",
    " \n",
    "    Ctrl = dict([\n",
    "        (\"system\", [AEM_system, FwdCall]), \n",
    "        (\"transform\",\n",
    "         [DataTrans, ParaTrans])\n",
    "        (\"inversion\",\n",
    "         numpy.array([NumSample, NumChains], dtype=object)),\n",
    "        (\"prior\", \n",
    "         numpy.array([Cm], dtype=object)),\n",
    "       ])"
   ]
  },
  {
   "cell_type": "code",
   "execution_count": null,
   "id": "a78c3d3d",
   "metadata": {},
   "outputs": [],
   "source": [
    "if \"mh\" in  RunType.lower():\n",
    "    NumSample = 10000\n",
    "    NumChains = 8\n",
    "    \n",
    " \n",
    "    Ctrl = dict([\n",
    "        (\"system\", [AEM_system, FwdCall]), \n",
    "        (\"transform\",\n",
    "         [DataTrans, ParaTrans])\n",
    "        (\"inversion\",\n",
    "         numpy.array([NumSample, NumChains], dtype=object)),\n",
    "        (\"prior\", \n",
    "         numpy.array([Cm], dtype=object)),\n",
    "       ])"
   ]
  },
  {
   "cell_type": "code",
   "execution_count": null,
   "id": "a84cab37",
   "metadata": {},
   "outputs": [],
   "source": []
  },
  {
   "cell_type": "code",
   "execution_count": null,
   "id": "7aac62b2",
   "metadata": {},
   "outputs": [],
   "source": [
    "if OutInfo:\n",
    "    print(Ctrl.keys())"
   ]
  },
  {
   "cell_type": "code",
   "execution_count": null,
   "id": "ecca7a10",
   "metadata": {},
   "outputs": [],
   "source": []
  },
  {
   "cell_type": "code",
   "execution_count": null,
   "id": "f40eef2f",
   "metadata": {
    "lines_to_next_cell": 2
   },
   "outputs": [],
   "source": [
    "OutStrng = \"_nlyr\"+str(Nlyr)\\\n",
    "            +\"_\"+RunType\\\n",
    "            +\"_results\"\n",
    "print(\"ID string: input file + %s \" % OutStrng)"
   ]
  },
  {
   "cell_type": "code",
   "execution_count": null,
   "id": "5550fd0c",
   "metadata": {},
   "outputs": [],
   "source": [
    "fcount = -1\n",
    "for file in dat_files:\n",
    "\n",
    "    start = time.time()\n",
    "\n",
    "    fcount=fcount+1\n",
    "\n",
    "    name, ext = os.path.splitext(file)\n",
    "    filein = InDatDir+file\n",
    "    print(\"\\n Reading file \" + filein)\n",
    "\n",
    "    fileout = OutDatDir + name + OutStrng\n",
    "    numpy.savez_compressed(file=fileout.replace(\"_results\",\"_ctrl\")+OutFileFmt,**Ctrl)\n",
    "\n",
    "\n",
    "    DataObs, Header, _ = aesys.read_aempy(File=filein,\n",
    "                                   System=AEM_system, OutInfo=False)\n",
    "\n",
    "    fl_name = DataObs[0, 0]\n",
    "    site_x = DataObs[:, 1]\n",
    "    site_y = DataObs[:, 2]\n",
    "    site_gps = DataObs[:, 3]\n",
    "    site_alt = DataObs[:, 4]\n",
    "    site_dem = DataObs[:, 5]\n",
    "    dat_obs =  DataObs[:, 6:6+NN[2]]\n",
    "    [nsite,ndata] = numpy.shape(dat_obs)\n",
    "    dat_act = numpy.tile(data_active,(nsite,1))\n",
    "\n",
    "    start = time.time()\n",
    "    \n",
    "      \n",
    "    \"\"\"\n",
    "    construct site list\n",
    "    \"\"\"\n",
    "\n",
    "    site_list = SampleSite[fcount]\n",
    "   \n",
    "    sitex = site_x - site_x[0]\n",
    "    sitey = site_y - site_y[0]\n",
    "    siter = numpy.sqrt(numpy.power(sitex, 2.0) + numpy.power(sitey, 2.0))\n",
    "    \n",
    "    sites = []\n",
    "    \n",
    "    if \"site\" in SampleType.lower():\n",
    "        sites = site_list\n",
    "        \n",
    "    elif \"dist\" in SampleType.lower():\n",
    "        site_x = site_x - site_x[0]\n",
    "        site_y = site_y - site_y[0]\n",
    "        site_r = numpy.sqrt(numpy.power(site_x, 2.0) + numpy.power(site_y, 2.0))\n",
    "        for nid in numpy.arange(len(site_list)):\n",
    "            nds = (numpy.abs(site_list[nid] - site_r)).argmin()\n",
    "            sites.append(nds)\n",
    "    \n",
    "    elif \"rand\" in Sample:\n",
    "        sites = random.sample(range(len(site_x)), NSamples)\n",
    "\n",
    "\n",
    "    else:\n",
    "        sites = numpy.arange(len(site_x))\n",
    "\n",
    "\n",
    "\n",
    "    \"\"\"\n",
    "    Loop over site_list\n",
    "    \"\"\"\n",
    "\n",
    "    for ii in sites:\n",
    "        \n",
    "        print(\"\\n Invert site #\"+str(ii)+\"/\"+str(len(site_list)))\n",
    "\n",
    "        \"\"\"\n",
    "        Setup model-related parameter dict\n",
    "        \"\"\"\n",
    "\n",
    "        Model = dict([\n",
    "            (\"m_act\", mod_act),\n",
    "            (\"m_apr\", mod_apr),\n",
    "            (\"m_var\", mod_var),\n",
    "            (\"m_bnd\", mod_bnd),\n",
    "            (\"m_ini\", mod_ini)\n",
    "            ])\n",
    "\n",
    "        \"\"\"\n",
    "        Setup data-related parameter dict\n",
    "        \"\"\"\n",
    "\n",
    "        dat_err = numpy.zeros_like(dat_obs)\n",
    "        dat_err[ii, :], _ = inverse.set_errors(dat_obs[ii, :],\n",
    "                                                daterr_add=DatErr_add,\n",
    "                                                daterr_mult=DatErr_mult)\n",
    "\n",
    "        Data = dict([\n",
    "            (\"d_act\", dat_act[ii,:]),\n",
    "            (\"d_obs\", dat_obs[ii,:]),\n",
    "            (\"d_err\", dat_err[ii,:]),\n",
    "            (\"alt\", site_alt[ii])\n",
    "            ])\n",
    "\n",
    "        \"\"\"\n",
    "        Call inversion algorithms\n",
    "        \"\"\"\n",
    "\n",
    "        if \"emc\" in RunType.lower():\n",
    "            results =\\\n",
    "                alg.run_EMCEE(Ctrl=Ctrl, Model=Model, Data=Data,\n",
    "                                  OutInfo=OutInfo)\n",
    "        if \"dram\" in RunType.lower():\n",
    "            results =\\\n",
    "                alg.run_DRAM(Ctrl=Ctrl, Model=Model, Data=Data,\n",
    "                                  OutInfo=OutInfo)\n",
    "                \n",
    "        if \"dream\" in RunType.lower():\n",
    "            results =\\\n",
    "                alg.run_DREAM(Ctrl=Ctrl, Model=Model, Data=Data,\n",
    "                                  OutInfo=OutInfo)\n",
    "        if \"mh\" in RunType.lower():\n",
    "            results =\\\n",
    "                alg.run_MH(Ctrl=Ctrl, Model=Model, Data=Data,\n",
    "                                  OutInfo=OutInfo)\n",
    "\n",
    "                \n",
    "       if \"hmc\" in RunType.lower():\n",
    "           results =\\\n",
    "               alg.run_HMC(Ctrl=Ctrl, Model=Model, Data=Data,\n",
    "                                 OutInfo=OutInfo)\n",
    "\n",
    "\n",
    "\n",
    "\n",
    "        \"\"\"\n",
    "        Store inversion Results\n",
    "        \"\"\"\n",
    "        if OutInfo:\n",
    "            print(\"Results: \",results.keys())\n",
    "\n",
    "            \n",
    "            if \"ens\" in Ctrl[\"output\"]:\n",
    "               site_rto_ens = numpy.vstack((site_rto_ens, model_ens))\n",
    "\n",
    "\n",
    "    numpy.savez_compressed(\n",
    "        file=Fileout+OutFileFmt,\n",
    "        fl_data=file,\n",
    "        fl_name=fl_name,\n",
    "        header=titstrng,\n",
    "        site_log =site_log,\n",
    "        mod_ref=mod_apr,\n",
    "        mod_act=mod_act,\n",
    "        dat_act=dat_act,\n",
    "        site_modl=site_modl,\n",
    "        site_sens=site_sens,\n",
    "        site_merr=site_merr,\n",
    "        site_dobs=site_dobs,\n",
    "        site_dcal=site_dcal,\n",
    "        site_derr=site_derr,\n",
    "        site_nrms=site_nrms,\n",
    "        site_num=site_num,\n",
    "        site_y=site_y,\n",
    "        site_x=site_x,\n",
    "        site_gps=site_gps,\n",
    "        site_alt=site_alt,\n",
    "        site_dem=site_dem,            \n",
    "        site_jacd=site_jacd,\n",
    "        site_pcov=site_pcov,\n",
    "        site_rto_avg=site_rto_avg,\n",
    "        site_rto_var=site_rto_var,\n",
    "        site_rto_med=site_rto_med,\n",
    "        site_rto_mad=site_rto_mad,\n",
    "        site_rto_prc=site_rto_prc)\n",
    "           \n",
    "    if \"ens\" in Ctrl[\"output\"]:\n",
    "        util.add_object_npz(filein=Fileout+OutFileFmt,\n",
    "                   xkey = [\"site_rto_ens\"], xobject=[site_rto_ens])\n",
    "\n",
    "    print(\"\\n\\nResults stored to \"+Fileout)\n",
    "    elapsed = (time.time() - start)\n",
    "    print (\" Used %7.4f sec for %6i site_list\" % (elapsed, ii+1))\n",
    "    print (\" Average %7.4f sec/site\\n\" % (elapsed/(ii+1)))"
   ]
  },
  {
   "cell_type": "code",
   "execution_count": null,
   "id": "b47e9fbe",
   "metadata": {
    "lines_to_next_cell": 2
   },
   "outputs": [],
   "source": [
    "print(\"\\n\\nAll done!\")"
   ]
  }
 ],
 "metadata": {
  "jupytext": {
   "cell_metadata_filter": "-all",
   "executable": "/usr/bin/env python3",
   "formats": "py,ipynb",
   "main_language": "python"
  }
 },
 "nbformat": 4,
 "nbformat_minor": 5
}
