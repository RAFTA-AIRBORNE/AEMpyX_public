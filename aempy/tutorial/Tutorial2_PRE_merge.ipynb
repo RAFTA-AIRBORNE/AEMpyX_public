{
 "cells": [
  {
   "cell_type": "code",
   "execution_count": null,
   "id": "874cc854",
   "metadata": {},
   "outputs": [],
   "source": [
    "\"\"\"\n",
    "Created on Thu Apr 18 08:37:28 2024\n",
    "\n",
    "@author: vrath\n",
    "\"\"\""
   ]
  },
  {
   "cell_type": "code",
   "execution_count": null,
   "id": "27ebf0da",
   "metadata": {},
   "outputs": [],
   "source": [
    "import os\n",
    "import sys\n",
    "from sys import exit as error\n",
    "from time import process_time\n",
    "from datetime import datetime\n",
    "import warnings\n",
    "# import pickle"
   ]
  },
  {
   "cell_type": "code",
   "execution_count": null,
   "id": "049f9cd4",
   "metadata": {
    "lines_to_next_cell": 2
   },
   "outputs": [],
   "source": [
    "import numpy"
   ]
  },
  {
   "cell_type": "code",
   "execution_count": null,
   "id": "7047b3ef",
   "metadata": {},
   "outputs": [],
   "source": [
    "AEMPYX_ROOT = os.environ[\"AEMPYX_ROOT\"]\n",
    "mypath = [os.path.join(AEMPYX_ROOT, \"aempy/modules/\")]\n",
    "for pth in mypath:\n",
    "    if pth not in sys.path:\n",
    "        sys.path.insert(0,pth)\n",
    "\n",
    "from version import versionstrg\n",
    "import util\n",
    "import aesys"
   ]
  },
  {
   "cell_type": "code",
   "execution_count": null,
   "id": "ef7a7246",
   "metadata": {},
   "outputs": [],
   "source": [
    "AEMPYX_DATA = os.environ[\"AEMPYX_DATA\"]"
   ]
  },
  {
   "cell_type": "code",
   "execution_count": null,
   "id": "569b552b",
   "metadata": {
    "lines_to_next_cell": 2
   },
   "outputs": [],
   "source": [
    "version, _ = versionstrg()\n",
    "titstrng = util.print_title(version=version, fname=__file__, out=False)\n",
    "print(titstrng+\"\\n\\n\")"
   ]
  },
  {
   "cell_type": "code",
   "execution_count": null,
   "id": "baceca9a",
   "metadata": {
    "lines_to_next_cell": 2
   },
   "outputs": [],
   "source": [
    "# for tutorial only...\n",
    "AEMPYX_DATA = AEMPYX_ROOT+\"/data/\""
   ]
  },
  {
   "cell_type": "code",
   "execution_count": null,
   "id": "0776c4c0",
   "metadata": {
    "lines_to_next_cell": 2
   },
   "outputs": [],
   "source": [
    "FileList = \"search\"  # \"search\", \"read\""
   ]
  },
  {
   "cell_type": "code",
   "execution_count": null,
   "id": "4a6b33ba",
   "metadata": {},
   "outputs": [],
   "source": [
    "DataType = \"models\"\n",
    "InDatDir = AEMPYX_DATA+\"/aem05_limerick/dec/results/\"\n",
    "OutDatDir = AEMPYX_DATA+\"/aem05_limerick/merged/\""
   ]
  },
  {
   "cell_type": "markdown",
   "id": "5dfbac34",
   "metadata": {},
   "source": [
    "SearchStrng = \"*delete_dec5*mean*results.npz\"\n",
    "OutFileName = OutDatDir+\"LimShale_proc_dec5_mean_merged.npz\"\n",
    "OutHeader =\" Limerick Shale project, dec5 mean merged\""
   ]
  },
  {
   "cell_type": "code",
   "execution_count": null,
   "id": "c58f6745",
   "metadata": {},
   "outputs": [],
   "source": [
    "SearchStrng = \"*delete_k2_dec5*mean*results.npz\"\n",
    "OutFileName = OutDatDir+\"LimShale_proc_k2_dec5_mean_merged.npz\"\n",
    "OutHeader =\" Limerick Shale project, k2, dec5 mean merged\""
   ]
  },
  {
   "cell_type": "markdown",
   "id": "d2773604",
   "metadata": {
    "lines_to_next_cell": 2
   },
   "source": [
    "DataType = \"data\"\n",
    "InDatDir = AEMPYX_ROOT+\"/data/\"\n",
    "OutDatDir = AEMPYX_ROOT+\"/limerick/merged/\"\n",
    "SearchStrng = \"*_k2*5*mean.npz\"\n",
    "OutFileName = OutDatDir+\"LimShale_k2_dec5_mean_merged\"\n",
    "OutHeader =\" Limerick Shale project, k2 dec5 mean merged\""
   ]
  },
  {
   "cell_type": "code",
   "execution_count": null,
   "id": "e571914f",
   "metadata": {
    "lines_to_next_cell": 2
   },
   "outputs": [],
   "source": [
    "print(\"Data read from dir:  %s\" % InDatDir)\n",
    "print(\"Data written to dir: %s\" % OutDatDir)\n",
    "print(\"New header string: %s\" % OutHeader)\n",
    "print(\"SearchStrng is %s\\n\" % SearchStrng)"
   ]
  },
  {
   "cell_type": "code",
   "execution_count": null,
   "id": "ccbd4693",
   "metadata": {},
   "outputs": [],
   "source": [
    "if not InDatDir.endswith(\"/\"): InDatDir=InDatDir+\"/\"\n",
    "if not OutDatDir.endswith(\"/\"): InDatDir=OutDatDir+\"/\"\n",
    "if not os.path.isdir(OutDatDir):\n",
    "    print(\"File: %s does not exist, but will be created\" % OutDatDir)\n",
    "    os.mkdir(OutDatDir)"
   ]
  },
  {
   "cell_type": "code",
   "execution_count": null,
   "id": "e0731381",
   "metadata": {
    "lines_to_next_cell": 2
   },
   "outputs": [],
   "source": [
    "if \"set\" in FileList.lower():\n",
    "    print(\"Data files read from dir:  %s\" % InDatDir)\n",
    "    # dat_files = []\n",
    "    dat_files = [InDatDir+\"StGormans_FL11379-0_k3.npz\"]\n",
    "    # numpy.load(AEMPYX_DATA + \"/Projects/Compare/BundoranSubsets.npz\")[\"setC\"]\n",
    "    \n",
    "    dat_files = [os.path.basename(f) for f in dat_files]  \n",
    "else:\n",
    "    # how = [\"search\", SearchStrng, InDatDir]\n",
    "    # how = [\"read\", FileList, InDatDir]\n",
    "    dat_files = util.get_data_list(how=[\"search\", SearchStrng, InDatDir],\n",
    "                              out= True, sort=True, fullpath=True)\n",
    "ns = numpy.size(dat_files)\n",
    "if ns ==0:\n",
    "    error(\"No files set!. Exit.\")"
   ]
  },
  {
   "cell_type": "code",
   "execution_count": null,
   "id": "68d7196a",
   "metadata": {},
   "outputs": [],
   "source": [
    "if \"dat\" in DataType.lower():  \n",
    "    _ = inverse.merge_data_sets(file_list=dat_files, aem_system=\"aem05\",\n",
    "                                       outfile_name=OutFileName,\n",
    "                                       out=False)\n",
    "else:\n",
    "    _ = inverse.merge_model_sets(infile_list=dat_files,\n",
    "                                   outfile_name=OutFileName,\n",
    "                                   out=False)"
   ]
  },
  {
   "cell_type": "code",
   "execution_count": null,
   "id": "2e1ed00a",
   "metadata": {},
   "outputs": [],
   "source": []
  }
 ],
 "metadata": {
  "jupytext": {
   "cell_metadata_filter": "-all",
   "encoding": "# -*- coding: utf-8 -*-",
   "executable": "/usr/bin/env python3",
   "formats": "py:light,ipynb",
   "main_language": "python"
  },
  "kernelspec": {
   "display_name": "Python 3 (Spyder)",
   "language": "python3",
   "name": "python3"
  },
  "language_info": {
   "codemirror_mode": {
    "name": "ipython",
    "version": 3
   },
   "file_extension": ".py",
   "mimetype": "text/x-python",
   "name": "python",
   "nbconvert_exporter": "python",
   "pygments_lexer": "ipython3",
   "version": "3.11.7"
  }
 },
 "nbformat": 4,
 "nbformat_minor": 5
}
