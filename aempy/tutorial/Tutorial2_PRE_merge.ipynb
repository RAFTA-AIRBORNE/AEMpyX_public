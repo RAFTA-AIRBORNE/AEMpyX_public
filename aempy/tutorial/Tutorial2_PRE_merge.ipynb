{
 "cells": [
  {
   "cell_type": "code",
   "execution_count": null,
   "id": "a6fd96ee",
   "metadata": {},
   "outputs": [],
   "source": [
    "\"\"\"\n",
    "Created on Thu Apr 18 08:37:28 2024\n",
    "\n",
    "@author: vrath\n",
    "\"\"\""
   ]
  },
  {
   "cell_type": "code",
   "execution_count": null,
   "id": "f0756252",
   "metadata": {},
   "outputs": [],
   "source": [
    "import os\n",
    "import sys\n",
    "from sys import exit as error\n",
    "from time import process_time\n",
    "from datetime import datetime\n",
    "import warnings\n",
    "# import pickle"
   ]
  },
  {
   "cell_type": "code",
   "execution_count": null,
   "id": "8c0b1c26",
   "metadata": {
    "lines_to_next_cell": 2
   },
   "outputs": [],
   "source": [
    "import numpy"
   ]
  },
  {
   "cell_type": "code",
   "execution_count": null,
   "id": "8c1a2adb",
   "metadata": {},
   "outputs": [],
   "source": [
    "AEMPYX_ROOT = os.environ[\"AEMPYX_ROOT\"]\n",
    "mypath = [AEMPYX_ROOT+\"/aempy/modules/\", AEMPYX_ROOT+\"/aempy/scripts/\"]\n",
    "for pth in mypath:\n",
    "    if pth not in sys.path:\n",
    "        sys.path.insert(0,pth)"
   ]
  },
  {
   "cell_type": "code",
   "execution_count": null,
   "id": "61129afc",
   "metadata": {
    "lines_to_next_cell": 2
   },
   "outputs": [],
   "source": [
    "from version import versionstrg\n",
    "import util\n",
    "import aesys"
   ]
  },
  {
   "cell_type": "code",
   "execution_count": null,
   "id": "2ad97b7a",
   "metadata": {},
   "outputs": [],
   "source": [
    "OutInfo = True\n",
    "AEMPYX_DATA = os.environ[\"AEMPYX_DATA\"]"
   ]
  },
  {
   "cell_type": "code",
   "execution_count": null,
   "id": "9875024c",
   "metadata": {},
   "outputs": [],
   "source": [
    "version, _ = versionstrg()\n",
    "titstrng = util.print_title(version=version, fname=__file__, out=False)\n",
    "print(titstrng+\"\\n\\n\")"
   ]
  },
  {
   "cell_type": "code",
   "execution_count": null,
   "id": "af37596d",
   "metadata": {
    "lines_to_next_cell": 2
   },
   "outputs": [],
   "source": []
  },
  {
   "cell_type": "code",
   "execution_count": null,
   "id": "62341992",
   "metadata": {},
   "outputs": [],
   "source": [
    "FileList = \"search\"  # \"search\", \"read\"\n",
    "LinesOut = True\n",
    "LinesMin = 30\n",
    "CheckNaN = True\n",
    "MergeOut = True"
   ]
  },
  {
   "cell_type": "code",
   "execution_count": null,
   "id": "11f164c6",
   "metadata": {},
   "outputs": [],
   "source": []
  },
  {
   "cell_type": "code",
   "execution_count": null,
   "id": "82226197",
   "metadata": {
    "lines_to_next_cell": 2
   },
   "outputs": [],
   "source": [
    "FileList = \"search\"  # \"search\", \"read\""
   ]
  },
  {
   "cell_type": "code",
   "execution_count": null,
   "id": "b37ed6b3",
   "metadata": {},
   "outputs": [],
   "source": [
    "InDatDir = AEMPYX_ROOT+\"/data/data/dec/\"\n",
    "OutDatDir = AEMPYX_ROOT+\"/data/data/merged/\""
   ]
  },
  {
   "cell_type": "code",
   "execution_count": null,
   "id": "040634ca",
   "metadata": {
    "lines_to_next_cell": 2
   },
   "outputs": [],
   "source": [
    "SearchStrng = \"*_k2*5*mean.npz\"\n",
    "OutFileName = OutDatDir+\"LimShale_k2_dec5_mean_merged\"\n",
    "OutHeader =\" Limerick Shale project, k2 dec5 mean merged\""
   ]
  },
  {
   "cell_type": "code",
   "execution_count": null,
   "id": "6032f170",
   "metadata": {
    "lines_to_next_cell": 2
   },
   "outputs": [],
   "source": [
    "print(\"Data read from dir:  %s\" % InDatDir)\n",
    "print(\"Data written to dir: %s\" % OutDatDir)\n",
    "print(\"New flightline Header string: %s\" % OutHeader)\n",
    "print(\"SearchStrng is %s\\n\" % SearchStrng)"
   ]
  },
  {
   "cell_type": "code",
   "execution_count": null,
   "id": "0b31c13e",
   "metadata": {},
   "outputs": [],
   "source": [
    "if not InDatDir.endswith(\"/\"): InDatDir=InDatDir+\"/\"\n",
    "if not OutDatDir.endswith(\"/\"): InDatDir=OutDatDir+\"/\"\n",
    "if not os.path.isdir(OutDatDir):\n",
    "    print(\"File: %s does not exist, but will be created\" % OutDatDir)\n",
    "    os.mkdir(OutDatDir)"
   ]
  },
  {
   "cell_type": "code",
   "execution_count": null,
   "id": "fdf627d5",
   "metadata": {},
   "outputs": [],
   "source": [
    "if \"set\" in FileList.lower():\n",
    "    print(\"Data files read from dir:  %s\" % InDatDir)\n",
    "    # dat_files = []\n",
    "    dat_files = [InDatDir+\"StGormans_FL11379-0_k3.npz\"]\n",
    "    # numpy.load(AEMPYX_DATA + \"/Projects/Compare/BundoranSubsets.npz\")[\"setC\"]\n",
    "    \n",
    "    dat_files = [os.path.basename(f) for f in dat_files]  \n",
    "else:\n",
    "    # how = [\"search\", SearchStrng, InDatDir]\n",
    "    # how = [\"read\", FileList, InDatDir]\n",
    "    dat_files = util.get_data_list(how=[\"search\", SearchStrng, InDatDir],\n",
    "                              out= True, sort=True, fullpath=True)\n",
    "ns = numpy.size(dat_files)\n",
    "if ns ==0:\n",
    "    error(\"No files set!. Exit.\")"
   ]
  },
  {
   "cell_type": "code",
   "execution_count": null,
   "id": "7fc5ae98",
   "metadata": {},
   "outputs": [],
   "source": [
    "# aesys.merge_data_files(File_list=dat_files, \n",
    "#                     Merged=OutFileName, MergedHeader=OutHeader, \n",
    "#                     OutInfo=False)\n",
    "util.merge_data_sets(file_list=dat_files, aem_system=\"aem05\",\n",
    "                                   outfile_name=OutFileName,\n",
    "                                   out=False)"
   ]
  }
 ],
 "metadata": {
  "jupytext": {
   "cell_metadata_filter": "-all",
   "encoding": "# -*- coding: utf-8 -*-",
   "executable": "/usr/bin/env python3",
   "formats": "py:light,ipynb",
   "main_language": "python"
  },
  "kernelspec": {
   "display_name": "Python 3 (Spyder)",
   "language": "python3",
   "name": "python3"
  },
  "language_info": {
   "codemirror_mode": {
    "name": "ipython",
    "version": 3
   },
   "file_extension": ".py",
   "mimetype": "text/x-python",
   "name": "python",
   "nbconvert_exporter": "python",
   "pygments_lexer": "ipython3",
   "version": "3.11.7"
  }
 },
 "nbformat": 4,
 "nbformat_minor": 5
}
