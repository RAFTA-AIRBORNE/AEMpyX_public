{
 "cells": [
  {
   "cell_type": "code",
   "execution_count": null,
   "id": "53f36248",
   "metadata": {},
   "outputs": [],
   "source": [
    "\"\"\"\n",
    "Created on Thu Apr 18 08:37:28 2024\n",
    "\n",
    "@author: vrath\n",
    "\"\"\""
   ]
  },
  {
   "cell_type": "code",
   "execution_count": null,
   "id": "d8e05ed8",
   "metadata": {},
   "outputs": [],
   "source": [
    "import os\n",
    "import sys\n",
    "from sys import exit as error\n",
    "from time import process_time\n",
    "from datetime import datetime\n",
    "import warnings\n",
    "# import pickle"
   ]
  },
  {
   "cell_type": "code",
   "execution_count": null,
   "id": "14b928bf",
   "metadata": {
    "lines_to_next_cell": 2
   },
   "outputs": [],
   "source": [
    "import numpy"
   ]
  },
  {
   "cell_type": "code",
   "execution_count": null,
   "id": "16612c4c",
   "metadata": {},
   "outputs": [],
   "source": [
    "AEMPYX_ROOT = os.environ[\"AEMPYX_ROOT\"]\n",
    "mypath = [AEMPYX_ROOT+\"/aempy/modules/\", AEMPYX_ROOT+\"/aempy/scripts/\"]\n",
    "for pth in mypath:\n",
    "    if pth not in sys.path:\n",
    "        sys.path.insert(0,pth)"
   ]
  },
  {
   "cell_type": "code",
   "execution_count": null,
   "id": "59fd88b9",
   "metadata": {
    "lines_to_next_cell": 2
   },
   "outputs": [],
   "source": [
    "from version import versionstrg\n",
    "import util\n",
    "import aesys"
   ]
  },
  {
   "cell_type": "code",
   "execution_count": null,
   "id": "16fb6e08",
   "metadata": {},
   "outputs": [],
   "source": [
    "OutInfo = True\n",
    "AEMPYX_DATA = os.environ[\"AEMPYX_DATA\"]"
   ]
  },
  {
   "cell_type": "code",
   "execution_count": null,
   "id": "e1f98090",
   "metadata": {},
   "outputs": [],
   "source": [
    "version, _ = versionstrg()\n",
    "titstrng = util.print_title(version=version, fname=__file__, out=False)\n",
    "print(titstrng+\"\\n\\n\")"
   ]
  },
  {
   "cell_type": "code",
   "execution_count": null,
   "id": "858f2fa4",
   "metadata": {
    "lines_to_next_cell": 2
   },
   "outputs": [],
   "source": []
  },
  {
   "cell_type": "code",
   "execution_count": null,
   "id": "a5c14eb8",
   "metadata": {},
   "outputs": [],
   "source": [
    "FileList = \"search\"  # \"search\", \"read\"\n",
    "LinesOut = True\n",
    "LinesMin = 30\n",
    "CheckNaN = True\n",
    "MergeOut = True"
   ]
  },
  {
   "cell_type": "code",
   "execution_count": null,
   "id": "6e825f51",
   "metadata": {},
   "outputs": [],
   "source": []
  },
  {
   "cell_type": "code",
   "execution_count": null,
   "id": "25b5d815",
   "metadata": {
    "lines_to_next_cell": 2
   },
   "outputs": [],
   "source": [
    "FileList = \"search\"  # \"search\", \"read\""
   ]
  },
  {
   "cell_type": "code",
   "execution_count": null,
   "id": "9f4acd6f",
   "metadata": {},
   "outputs": [],
   "source": [
    "InDatDir = AEMPYX_ROOT+\"/work/data/dec/\"\n",
    "OutDatDir = AEMPYX_ROOT+\"/work/data/merged/\""
   ]
  },
  {
   "cell_type": "code",
   "execution_count": null,
   "id": "9ddcf5fc",
   "metadata": {
    "lines_to_next_cell": 2
   },
   "outputs": [],
   "source": [
    "SearchStrng = \"*_k2*5*mean.npz\"\n",
    "OutFileName = OutDatDir+\"LimShale_k2_dec5_mean_merged\"\n",
    "OutHeader =\" Limerick Shale project, k2 dec5 mean merged\""
   ]
  },
  {
   "cell_type": "code",
   "execution_count": null,
   "id": "43dbed83",
   "metadata": {
    "lines_to_next_cell": 2
   },
   "outputs": [],
   "source": [
    "print(\"Data read from dir:  %s\" % InDatDir)\n",
    "print(\"Data written to dir: %s\" % OutDatDir)\n",
    "print(\"New flightline Header string: %s\" % OutHeader)\n",
    "print(\"SearchStrng is %s\\n\" % SearchStrng)"
   ]
  },
  {
   "cell_type": "code",
   "execution_count": null,
   "id": "0acddff0",
   "metadata": {},
   "outputs": [],
   "source": [
    "if not InDatDir.endswith(\"/\"): InDatDir=InDatDir+\"/\"\n",
    "if not OutDatDir.endswith(\"/\"): InDatDir=OutDatDir+\"/\"\n",
    "if not os.path.isdir(OutDatDir):\n",
    "    print(\"File: %s does not exist, but will be created\" % OutDatDir)\n",
    "    os.mkdir(OutDatDir)"
   ]
  },
  {
   "cell_type": "code",
   "execution_count": null,
   "id": "851ad363",
   "metadata": {},
   "outputs": [],
   "source": [
    "if \"set\" in FileList.lower():\n",
    "    print(\"Data files read from dir:  %s\" % InDatDir)\n",
    "    # dat_files = []\n",
    "    dat_files = [InDatDir+\"StGormans_FL11379-0_k3.npz\"]\n",
    "    # numpy.load(AEMPYX_DATA + \"/Projects/Compare/BundoranSubsets.npz\")[\"setC\"]\n",
    "    \n",
    "    dat_files = [os.path.basename(f) for f in dat_files]  \n",
    "else:\n",
    "    # how = [\"search\", SearchStrng, InDatDir]\n",
    "    # how = [\"read\", FileList, InDatDir]\n",
    "    dat_files = util.get_data_list(how=[\"search\", SearchStrng, InDatDir],\n",
    "                              out= True, sort=True, fullpath=True)\n",
    "ns = numpy.size(dat_files)\n",
    "if ns ==0:\n",
    "    error(\"No files set!. Exit.\")"
   ]
  },
  {
   "cell_type": "code",
   "execution_count": null,
   "id": "931f82e3",
   "metadata": {},
   "outputs": [],
   "source": [
    "# aesys.merge_data_files(File_list=dat_files, \n",
    "#                     Merged=OutFileName, MergedHeader=OutHeader, \n",
    "#                     OutInfo=False)\n",
    "util.merge_data_sets(file_list=dat_files, aem_system=\"aem05\",\n",
    "                                   outfile_name=OutFileName,\n",
    "                                   out=False)"
   ]
  }
 ],
 "metadata": {
  "jupytext": {
   "cell_metadata_filter": "-all",
   "encoding": "# -*- coding: utf-8 -*-",
   "executable": "/usr/bin/env python3",
   "formats": "py,ipynb",
   "main_language": "python"
  }
 },
 "nbformat": 4,
 "nbformat_minor": 5
}
