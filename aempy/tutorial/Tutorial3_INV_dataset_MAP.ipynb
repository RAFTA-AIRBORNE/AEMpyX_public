{
 "cells": [
  {
   "cell_type": "code",
   "execution_count": null,
   "id": "c50215bb",
   "metadata": {
    "lines_to_next_cell": 0
   },
   "outputs": [],
   "source": []
  },
  {
   "cell_type": "code",
   "execution_count": null,
   "id": "97500ce7",
   "metadata": {},
   "outputs": [],
   "source": [
    "import os\n",
    "import sys\n",
    "from sys import exit as error\n",
    "from datetime import datetime\n",
    "# from time import process_time\n",
    "# from random import randrange\n",
    "import time\n",
    "import warnings\n",
    "# import inspect\n",
    "import copy"
   ]
  },
  {
   "cell_type": "code",
   "execution_count": null,
   "id": "ce3fb2bc",
   "metadata": {},
   "outputs": [],
   "source": [
    "import numpy\n",
    "import scipy"
   ]
  },
  {
   "cell_type": "markdown",
   "id": "11a5b5c7",
   "metadata": {},
   "source": [
    "import multiprocessing"
   ]
  },
  {
   "cell_type": "code",
   "execution_count": null,
   "id": "75487ae0",
   "metadata": {},
   "outputs": [],
   "source": []
  },
  {
   "cell_type": "code",
   "execution_count": null,
   "id": "88453851",
   "metadata": {},
   "outputs": [],
   "source": [
    "AEMPYX_ROOT = os.environ[\"AEMPYX_ROOT\"]\n",
    "mypath = [AEMPYX_ROOT+\"/aempy/modules/\", AEMPYX_ROOT+\"/aempy/scripts/\"]\n",
    "for pth in mypath:\n",
    "    if pth not in sys.path:\n",
    "        sys.path.insert(0,pth)"
   ]
  },
  {
   "cell_type": "code",
   "execution_count": null,
   "id": "5da13b65",
   "metadata": {},
   "outputs": [],
   "source": [
    "from version import versionstrg"
   ]
  },
  {
   "cell_type": "code",
   "execution_count": null,
   "id": "8c5fa0ac",
   "metadata": {},
   "outputs": [],
   "source": [
    "import aesys\n",
    "import util\n",
    "import inverse\n",
    "import alg"
   ]
  },
  {
   "cell_type": "code",
   "execution_count": null,
   "id": "1f2742f3",
   "metadata": {},
   "outputs": [],
   "source": [
    "warnings.simplefilter(action=\"ignore\", category=FutureWarning)"
   ]
  },
  {
   "cell_type": "code",
   "execution_count": null,
   "id": "4234537f",
   "metadata": {},
   "outputs": [],
   "source": [
    "AEMPYX_DATA = os.environ[\"AEMPYX_DATA\"]"
   ]
  },
  {
   "cell_type": "code",
   "execution_count": null,
   "id": "cbc10806",
   "metadata": {},
   "outputs": [],
   "source": [
    "rng = numpy.random.default_rng()\n",
    "nan = numpy.nan  # float(\"NaN\")\n",
    "version, _ = versionstrg()\n",
    "titstrng = util.print_title(version=version, fname=__file__, out=False)\n",
    "print(titstrng+\"\\n\\n\")"
   ]
  },
  {
   "cell_type": "code",
   "execution_count": null,
   "id": "d0889a22",
   "metadata": {},
   "outputs": [],
   "source": [
    "OutInfo = False"
   ]
  },
  {
   "cell_type": "code",
   "execution_count": null,
   "id": "1b4e9fa5",
   "metadata": {},
   "outputs": [],
   "source": []
  },
  {
   "cell_type": "code",
   "execution_count": null,
   "id": "3b2080b7",
   "metadata": {
    "lines_to_next_cell": 2
   },
   "outputs": [],
   "source": [
    "\"\"\"\n",
    "System related settings.\n",
    "Data transformation is allowed with three possible options:\n",
    "DataTrans   = 0           raw data\n",
    "            = 1           natural log of data\n",
    "            = 2           asinh transformation\n",
    "An error model is applied for the raw data, which is\n",
    "mixed additive/multiplicative. in case of data transformation,\n",
    "errors are also transformed.\n",
    "\"\"\"\n",
    "# AEM_system = \"genesis\"\n",
    "AEM_system = \"aem05\"  # \"genesis\"\n",
    "if \"aem05\" in AEM_system.lower():\n",
    "    FwdCall,NN, _, _, _, = aesys.get_system_params(System=AEM_system)\n",
    "    nL = NN[0]\n",
    "    ParaTrans = 1\n",
    "    DataTrans = 0\n",
    "    DatErr_add =  75.\n",
    "    DatErr_mult = 0.05\n",
    "    data_active = numpy.ones(NN[2], dtype=\"int8\")"
   ]
  },
  {
   "cell_type": "code",
   "execution_count": null,
   "id": "03104777",
   "metadata": {
    "lines_to_next_cell": 2
   },
   "outputs": [],
   "source": [
    "if \"genes\" in AEM_system.lower():\n",
    "    FwdCall, NN, _, _, _, = aesys.get_system_params(System=AEM_system)\n",
    "    nL = NN[0]\n",
    "    ParaTrans = 1\n",
    "    DataTrans = 0\n",
    "    DatErr_add = 100.\n",
    "    DatErr_mult = 0.01\n",
    "    data_active = numpy.ones(NN[2], dtype=\"int8\")\n",
    "    data_active[0:11]=0  # only vertical component\n",
    "    # data_active[10:11]=0  # Vertical + 'good' hoizontals'"
   ]
  },
  {
   "cell_type": "markdown",
   "id": "52cc7a3c",
   "metadata": {
    "lines_to_next_cell": 2
   },
   "source": [
    "\"\"\"\n",
    "configure moltiprocessing\n",
    "\"\"\""
   ]
  },
  {
   "cell_type": "markdown",
   "id": "919f5b07",
   "metadata": {},
   "source": [
    "nprocs = 8\n",
    "if nprocs<0:\n",
    "    nprocs=multiprocessing.cpu_count()"
   ]
  },
  {
   "cell_type": "markdown",
   "id": "ac0e0a95",
   "metadata": {},
   "source": [
    "print(str(nprocs)+\" processors will be used in parallel\")"
   ]
  },
  {
   "cell_type": "markdown",
   "id": "38b7a926",
   "metadata": {},
   "source": [
    "parpool = multiprocessing.Pool()"
   ]
  },
  {
   "cell_type": "code",
   "execution_count": null,
   "id": "53d14b1b",
   "metadata": {},
   "outputs": [],
   "source": [
    "ReverseDir = False"
   ]
  },
  {
   "cell_type": "code",
   "execution_count": null,
   "id": "391689e6",
   "metadata": {},
   "outputs": [],
   "source": []
  },
  {
   "cell_type": "code",
   "execution_count": null,
   "id": "5c8434c5",
   "metadata": {},
   "outputs": [],
   "source": [
    "FileList = \"search\"  # \"search\", \"read\"\n",
    "# FileList = \"set\"  # \"search\", \"read\""
   ]
  },
  {
   "cell_type": "code",
   "execution_count": null,
   "id": "0b5f675b",
   "metadata": {},
   "outputs": [],
   "source": [
    "InDatDir =  AEMPYX_DATA + \"/Projects/InvParTest/proc_delete_PLM3s/\"\n",
    "if not InDatDir.endswith(\"/\"): InDatDir=InDatDir+\"/\""
   ]
  },
  {
   "cell_type": "code",
   "execution_count": null,
   "id": "8f1d3611",
   "metadata": {},
   "outputs": [],
   "source": [
    "# SearchStrng = \"*PLM3s_k3.npz\"\n",
    "SearchStrng = \"*1379*k[1,3].npz\""
   ]
  },
  {
   "cell_type": "code",
   "execution_count": null,
   "id": "91023091",
   "metadata": {
    "lines_to_next_cell": 2
   },
   "outputs": [],
   "source": [
    "if \"set\" in FileList.lower():\n",
    "    print(\"Data files read from dir:  %s\" % InDatDir)\n",
    "    # dat_files = []\n",
    "    dat_files = [InDatDir+\"A1_rect_StGormans_FL11379-0_proc_delete_PLM3s_k3.npz\"]\n",
    "    # numpy.load(AEMPYX_DATA + \"/Projects/Compare/BundoranSubsets.npz\")[\"setC\"]\n",
    "    \n",
    "    dat_files = [os.path.basename(f) for f in dat_files]  \n",
    "else:\n",
    "    # how = [\"search\", SearchStrng, InDatDir]\n",
    "    # how = [\"read\", FileList, InDatDir]\n",
    "    dat_files = util.get_data_list(how=[\"search\", SearchStrng, InDatDir],\n",
    "                              out= True, sort=True)"
   ]
  },
  {
   "cell_type": "code",
   "execution_count": null,
   "id": "b00e07cc",
   "metadata": {},
   "outputs": [],
   "source": [
    "ns = numpy.size(dat_files)\n",
    "if ns ==0:\n",
    "    error(\"No files set!. Exit.\")"
   ]
  },
  {
   "cell_type": "code",
   "execution_count": null,
   "id": "13e20af0",
   "metadata": {
    "lines_to_next_cell": 2
   },
   "outputs": [],
   "source": [
    "\"\"\"\n",
    "Output format is \".npz\"\n",
    "\"\"\"\n",
    "OutFileFmt = \".npz\"\n",
    "OutDatDir =  InDatDir + \"/map/\"\n",
    "if not OutDatDir.endswith(\"/\"): OutDatDir=OutDatDir+\"/\"\n",
    "print(\"Models written to dir: %s \" % OutDatDir)"
   ]
  },
  {
   "cell_type": "code",
   "execution_count": null,
   "id": "610f34e3",
   "metadata": {
    "lines_to_next_cell": 2
   },
   "outputs": [],
   "source": [
    "if not os.path.isdir(OutDatDir):\n",
    "    print(\"File: %s does not exist, but will be created\" % OutDatDir)\n",
    "    os.mkdir(OutDatDir)"
   ]
  },
  {
   "cell_type": "code",
   "execution_count": null,
   "id": "bff91cbb",
   "metadata": {
    "lines_to_next_cell": 2
   },
   "outputs": [],
   "source": [
    "\"\"\"\n",
    "Define inversion type  optional additional parameters (e.g., Waveforms )\n",
    "\"\"\"\n",
    "Uncert = True\n",
    "RunType = \"MAP_PAR\" # \"TikhOcc\",  \"MAP_ParSpace\", \"MAP_DatSpace\",\"Jack\",\"DoI\", \"RTO\"\"\n",
    "# CorrL = numpy.array([20.0, 20.0, 20.0])\n",
    "CorrL = numpy.array([1., 1., 1.])*20."
   ]
  },
  {
   "cell_type": "code",
   "execution_count": null,
   "id": "27243262",
   "metadata": {},
   "outputs": [],
   "source": [
    "RegFun = \"gcv\" # \"fix\", \"lcc\", \"gcv\", \"mle\""
   ]
  },
  {
   "cell_type": "code",
   "execution_count": null,
   "id": "54ac2ac1",
   "metadata": {},
   "outputs": [],
   "source": [
    "if any(s in RegFun.lower() for s in [\"gcv\", \"upr\", \"ufc\", \"mle\", \"lcc\"]):\n",
    "    RegValMin = 1.000e-4   # PAR\n",
    "    RegValMax = 10.\n",
    "    # RegValMin = 1.000    # DAT\n",
    "    # RegValMax = 10000.\n",
    "   \n",
    "    NTau =64\n",
    "    Taumin = numpy.log10(RegValMin)\n",
    "    Taumax = numpy.log10(RegValMax)\n",
    "else:\n",
    "    RegVal =20.\n",
    "    NTau =1\n",
    "    Taumin = numpy.log10(RegVal)\n",
    "    Taumax = numpy.log10(RegVal)"
   ]
  },
  {
   "cell_type": "code",
   "execution_count": null,
   "id": "e9249b09",
   "metadata": {
    "lines_to_next_cell": 2
   },
   "outputs": [],
   "source": [
    "Tau = numpy.logspace(Taumin, Taumax, NTau)\n",
    "nreg = NTau"
   ]
  },
  {
   "cell_type": "code",
   "execution_count": null,
   "id": "38d34926",
   "metadata": {},
   "outputs": [],
   "source": [
    "\"\"\"\n",
    "Model definition\n",
    "\"\"\""
   ]
  },
  {
   "cell_type": "code",
   "execution_count": null,
   "id": "f487b3fe",
   "metadata": {},
   "outputs": [],
   "source": [
    "SetPrior = \"set\"\n",
    "ParaTrans = 1"
   ]
  },
  {
   "cell_type": "code",
   "execution_count": null,
   "id": "0255fa6a",
   "metadata": {
    "lines_to_next_cell": 2
   },
   "outputs": [],
   "source": [
    "Nlyr = 30\n",
    "dzstart = 2.5\n",
    "dzend = 10.\n",
    "dz = numpy.logspace(numpy.log10(dzstart), numpy.log10(dzend), Nlyr)\n",
    "z = numpy.append(0.0, numpy.cumsum(dz))"
   ]
  },
  {
   "cell_type": "code",
   "execution_count": null,
   "id": "a0484551",
   "metadata": {},
   "outputs": [],
   "source": [
    "mod_act, mod_apr, mod_var, mod_bnd, m_state = inverse.init_1dmod(Nlyr)"
   ]
  },
  {
   "cell_type": "code",
   "execution_count": null,
   "id": "157c3d05",
   "metadata": {},
   "outputs": [],
   "source": [
    "mod_act[0*Nlyr:1*Nlyr] = 1\n",
    "sizepar = numpy.shape(mod_act)\n",
    "mpara = sizepar[0]"
   ]
  },
  {
   "cell_type": "code",
   "execution_count": null,
   "id": "21f220d0",
   "metadata": {
    "lines_to_next_cell": 2
   },
   "outputs": [],
   "source": [
    "Guess_r = 100.0  # initial guess for resistivity in mod_apr\n",
    "Guess_s = 0.3   # mod_std defines standard deviation of mod_apr\n",
    "mod_apr[0*Nlyr:1*Nlyr] = Guess_r\n",
    "mod_var[0*Nlyr:1*Nlyr] = numpy.power(Guess_s,2)\n",
    "mod_apr[6*Nlyr:7*Nlyr-1] = dz[0:Nlyr - 1]\n",
    "mod_var[6*Nlyr:7*Nlyr-1] = numpy.power(1.,2)"
   ]
  },
  {
   "cell_type": "code",
   "execution_count": null,
   "id": "1380c3e4",
   "metadata": {
    "lines_to_next_cell": 2
   },
   "outputs": [],
   "source": [
    "# mod_bnd = mumpy.array([])\n",
    "max_val = 1.e+30\n",
    "min_val = 1.e-30\n",
    "# max_val = mod_apr[mod_act!=0] + 3*mod_std[mod_act!=0]\n",
    "# mod_bnd[mod_act!=0, 1] = max_val\n",
    "# min_val = mod_apr[mod_act!=0] - 3*mod_std[mod_act!=0]\n",
    "# mod_bnd[mod_act!=0, 0] = min_val\n",
    "mod_bnd[:,0] = min_val\n",
    "mod_bnd[:,1] = max_val"
   ]
  },
  {
   "cell_type": "code",
   "execution_count": null,
   "id": "c4d0c532",
   "metadata": {},
   "outputs": [],
   "source": [
    "if OutInfo:\n",
    "    #   print \\\n",
    "    #   (\" Parameter set for inverting: \\n\", mod_act)\n",
    "    print(\" Layer thicknesses: \\n\", dz)\n",
    "    print(\" Layer interface depths: \\n\", z)\n",
    "    print(\" Initial halfspace resistivity of %6.2f Ohm*m\" % (Guess_r))\n",
    "    print(\" Log Standard error of %6.2f \" % (Guess_s))\n",
    "    if not numpy.size(mod_bnd) == 0:\n",
    "        print(\" Upper limits: \\n\", mod_bnd[:, 1])\n",
    "        print(\" Lower limits: \\n\", mod_bnd[:, 0])"
   ]
  },
  {
   "cell_type": "code",
   "execution_count": null,
   "id": "c2e4ad61",
   "metadata": {
    "lines_to_next_cell": 2
   },
   "outputs": [],
   "source": [
    "\"\"\"\n",
    "Setup Controls for different Algorithms\n",
    "\"\"\"\n",
    "if \"map\" in  RunType.lower():\n",
    "\n",
    "    \"\"\"\n",
    "    Prepare explicit covariances for MAP and related methods\n",
    "    \"\"\"\n",
    "\n",
    "    zc = inverse.set_zcenters(dz)\n",
    "    xc = numpy.zeros_like(zc)\n",
    "    yc = numpy.zeros_like(zc)\n",
    "\n",
    "    \"\"\"\n",
    "    This setup is a workaround, correct only for rho-only inversion\n",
    "    \"\"\"\n",
    "    mvar  = mod_var[0*Nlyr:1*Nlyr]\n",
    "    v_act  = inverse.extract_mod(mod_var, mod_act)\n",
    "\n",
    "\n",
    "    if \"par\"in RunType.lower():\n",
    "        InvSpace = \"par\"\n",
    "        Cmi, CmiS = inverse.covar(xc, yc, zc, covtype= [\"exp\", CorrL],\n",
    "                  var=mvar, sparse=False, thresh=0.05, inverse=True)\n",
    "\n",
    "\n",
    "        Cmi = inverse.full_cov([Cmi])\n",
    "        Cmi = inverse.extract_cov(Cmi, mod_act)\n",
    "        C = scipy.sparse.csr_matrix(Cmi)\n",
    "\n",
    "\n",
    "        CmiS = inverse.full_cov([CmiS])\n",
    "        CmiS = inverse.extract_cov(CmiS, mod_act)\n",
    "        sC = scipy.sparse.csr_matrix(CmiS)\n",
    "\n",
    "        var = 1./v_act\n",
    "        err = numpy.sqrt(var)\n",
    "        print(numpy.shape(C),numpy.shape(sC))\n",
    "    else:\n",
    "        InvSpace = \"dat\"\n",
    "        Cm, CmS = inverse.covar(xc, yc, zc, covtype= [\"exp\", CorrL],\n",
    "                  var=mvar, sparse=False, thresh=0.05, inverse=False)\n",
    "\n",
    "        Cm = inverse.full_cov([Cm])\n",
    "        Cm = inverse.extract_cov(Cm, mod_act)\n",
    "        C = scipy.sparse.csr_matrix(Cm)\n",
    "\n",
    "        CmS = inverse.full_cov([CmS])\n",
    "        CmS = inverse.extract_cov(CmS, mod_act)\n",
    "        sC = scipy.sparse.csr_matrix(CmS)\n",
    "\n",
    "        var = scipy.diag(v_act)\n",
    "        err = scipy.diag(numpy.sqrt(var))\n",
    "\n",
    " \n",
    "        \n",
    "    Maxiter = 10\n",
    "    Maxreduce = 5\n",
    "    Rfact = 0.66\n",
    "    LinPars = [Maxreduce, Rfact]\n",
    "        \n",
    "\n",
    "    ThreshRMS = [0.5, 1.0e-2, 1.0e-2]\n",
    "    Delta = [1.e-5]\n",
    "    TauSeq = [0.5]\n",
    "    RegShift = 1\n",
    "    Ctrl = dict([\n",
    "        (\"system\",\n",
    "         [AEM_system, FwdCall]),\n",
    "        (\"name\", \"\"),\n",
    "        (\"inversion\",\n",
    "         numpy.array([RunType, InvSpace, RegFun, Tau, Maxiter,ThreshRMS,\n",
    "                      LinPars, SetPrior, Delta, RegShift], dtype=object)),\n",
    "        (\"covar\",\n",
    "         numpy.array([C, sC], dtype=object)),\n",
    "        (\"transform\",\n",
    "         [DataTrans, ParaTrans]),\n",
    "        (\"uncert\",\n",
    "         Uncert)\n",
    "       ])"
   ]
  },
  {
   "cell_type": "code",
   "execution_count": null,
   "id": "55b5e508",
   "metadata": {},
   "outputs": [],
   "source": [
    "if OutInfo:\n",
    "    print(Ctrl.keys())"
   ]
  },
  {
   "cell_type": "code",
   "execution_count": null,
   "id": "08b7a3d0",
   "metadata": {},
   "outputs": [],
   "source": []
  },
  {
   "cell_type": "code",
   "execution_count": null,
   "id": "8411f225",
   "metadata": {
    "lines_to_next_cell": 2
   },
   "outputs": [],
   "source": [
    "outstrng = \"_nlyr\"+str(Nlyr)\\\n",
    "            +\"_\"+RunType\\\n",
    "            + \"_L\"+str(int(CorrL[2]))\\\n",
    "            +\"_\"+RegFun\\\n",
    "            +\"_Prior\"+str(int(Guess_r))\\\n",
    "            +\"_Err_a\"+ str(int(DatErr_add))+\"-m\"+str(int(100*DatErr_mult))\n",
    "print(\"ID string: input file + %s \" % outstrng)"
   ]
  },
  {
   "cell_type": "code",
   "execution_count": null,
   "id": "43316627",
   "metadata": {},
   "outputs": [],
   "source": [
    "fcount =0\n",
    "for file in dat_files:\n",
    "\n",
    "    start = time.time()\n",
    "\n",
    "    fcount=fcount+1\n",
    "\n",
    "    name, ext = os.path.splitext(file)\n",
    "    filein = InDatDir+file\n",
    "    fileout = OutDatDir + name + outstrng\n",
    "\n",
    "    numpy.savez_compressed(file=fileout+\"_ctrl\"+OutFileFmt,**Ctrl)\n",
    "\n",
    "    print(\"\\n Reading file \" + filein)\n",
    "    DataObs, Header, _ = aesys.read_aempy(File=filein,\n",
    "                                   System=AEM_system, OutInfo=False)\n",
    "\n",
    "    fl_name = DataObs[0, 0]\n",
    "    site_x = DataObs[:, 1]\n",
    "    site_y = DataObs[:, 2]\n",
    "    site_gps = DataObs[:, 3]\n",
    "    site_alt = DataObs[:, 4]\n",
    "    site_dem = DataObs[:, 5]\n",
    "    dat_obs =  DataObs[:, 6:6+NN[2]]\n",
    "    [nsite,ndata] = numpy.shape(dat_obs)\n",
    "    dat_act = numpy.tile(data_active,(nsite,1))\n",
    "\n",
    "    if \"read\" in SetPrior.lower():\n",
    "        halfspace =\"halfspace_results\"\n",
    "        file, filext0 = os.path.splitext(file)\n",
    "        prior_file = file+halfspace+filext0\n",
    "        mod_prior, var_prior = inverse.load_prior(prior_file)\n",
    "\n",
    "\n",
    "    start = time.time()\n",
    "    \"\"\"\n",
    "    Loop over sites\n",
    "    \"\"\"\n",
    "    sequence = range(nsite)\n",
    "    if ReverseDir:\n",
    "        sites = sequence[::-1]\n",
    "    else:\n",
    "        sites = sequence\n",
    "\n",
    "\n",
    "    logsize = (2 + 7*Maxiter)\n",
    "    site_log = numpy.full((len(sites),logsize), numpy.nan)\n",
    "\n",
    "    for ii in sites:\n",
    "        print(\"\\n Invert site #\"+str(ii)+\"/\"+str(len(sites)))\n",
    "\n",
    "        \"\"\"\n",
    "        Setup model-related parameter dict\n",
    "        \"\"\"\n",
    "\n",
    "        if \"read\" in SetPrior.lower():\n",
    "            mod_apr = mod_prior[ii]\n",
    "            mod_ini = mod_apr.copy()\n",
    "\n",
    "        elif \"upd\" in SetPrior:\n",
    "\n",
    "            if ii == 0:\n",
    "                mod_ini = mod_apr.copy()\n",
    "                model = mod_ini.copy()\n",
    "            else:\n",
    "                mod_ini = model.copy()\n",
    "                model = mod_ini.copy()\n",
    "\n",
    "        elif \"set\" in SetPrior:\n",
    "\n",
    "                mod_ini = mod_apr.copy()\n",
    "                model = mod_ini.copy()\n",
    "\n",
    "        Model = dict([\n",
    "            (\"m_act\", mod_act),\n",
    "            (\"m_apr\", mod_apr),\n",
    "            (\"m_var\", mod_var),\n",
    "            (\"m_bnd\", mod_bnd),\n",
    "            (\"m_ini\", mod_ini)\n",
    "            ])\n",
    "\n",
    "        \"\"\"\n",
    "        Setup data-related parameter dict\n",
    "        \"\"\"\n",
    "\n",
    "        dat_err = numpy.zeros_like(dat_obs)\n",
    "        dat_err[ii, :], _ = inverse.set_errors(dat_obs[ii, :],\n",
    "                                                daterr_add=DatErr_add,\n",
    "                                                daterr_mult=DatErr_mult)\n",
    "\n",
    "        Data = dict([\n",
    "            (\"d_act\", dat_act[ii,:]),\n",
    "            (\"d_obs\", dat_obs[ii,:]),\n",
    "            (\"d_err\", dat_err[ii,:]),\n",
    "            (\"alt\", site_alt[ii])\n",
    "            ])\n",
    "\n",
    "        \"\"\"\n",
    "        Call inversion algorithms\n",
    "        \"\"\"\n",
    "        Results =\\\n",
    "                alg.run_map(Ctrl=Ctrl, Model=Model, Data=Data,\n",
    "                                  OutInfo=OutInfo)\n",
    "        \"\"\"\n",
    "        Store inversion Results\n",
    "        \"\"\"\n",
    "        if OutInfo:\n",
    "            print(\"Results: \",Results.keys())\n",
    "\n",
    "\n",
    "        M = Results[\"model\"]\n",
    "        D = Results[\"data\"]\n",
    "        C = Results[\"log\"]\n",
    "\n",
    "        if ii==0:\n",
    "            site_num  = numpy.array([ii])\n",
    "            site_nrms = C[2]\n",
    "            site_smap = C[3]\n",
    "            site_modl = M[0]\n",
    "            site_merr = M[1]\n",
    "            site_sens = M[2]\n",
    "            site_dobs = D[0].reshape((1,-1))\n",
    "            site_dcal = D[1].reshape((1,-1))\n",
    "            site_derr = D[2].reshape((1,-1))\n",
    "            # print(\"ii=0\")\n",
    "            cc = numpy.hstack((C[0], C[1], C[2], C[3],\n",
    "                              C[4].ravel(),\n",
    "                              C[5].ravel(),\n",
    "                              C[6].ravel(),\n",
    "                              C[7].ravel()))\n",
    "            site_log[ii,0:len(cc)] = cc\n",
    "            if Uncert:\n",
    "                jacd = Results[\"jacd\"]\n",
    "                site_jacd = jacd.reshape((1,numpy.size(jacd)))\n",
    "                pcov = Results[\"cpost\"]\n",
    "                site_pcov = pcov.reshape((1,numpy.size(pcov)))\n",
    "        else:\n",
    "           site_num = numpy.vstack((site_num, ii))\n",
    "           site_nrms = numpy.vstack((site_nrms, C[2]))\n",
    "           site_smap = numpy.vstack((site_smap, C[3]))\n",
    "           site_modl = numpy.vstack((site_modl, M[0]))\n",
    "           site_merr = numpy.vstack((site_merr, M[1]))\n",
    "           site_sens = numpy.vstack((site_sens, M[2]))\n",
    "           site_dobs = numpy.vstack((site_dobs, D[0]))\n",
    "           site_dcal = numpy.vstack((site_dcal, D[1]))\n",
    "           site_derr = numpy.vstack((site_derr, D[2]))\n",
    "           cc = numpy.hstack((C[0], C[1], C[2], C[3],\n",
    "                              C[4].ravel(),\n",
    "                              C[5].ravel(),\n",
    "                              C[6].ravel(),\n",
    "                              C[7].ravel()))\n",
    "           site_log[ii,0:len(cc)] = cc\n",
    "\n",
    "           if Uncert:\n",
    "               jacd = Results[\"jacd\"]\n",
    "               site_jacd = numpy.vstack((site_jacd,jacd.reshape((1,numpy.size(jacd)))))\n",
    "               pcov = Results[\"cpost\"]\n",
    "               site_pcov = numpy.vstack((site_pcov, pcov.reshape((1,numpy.size(pcov)))))\n",
    "\n",
    "\n",
    "\n",
    "    numpy.savez_compressed(\n",
    "        file=fileout+\"_results.npz\",\n",
    "        fl_data=file,\n",
    "        fl_name=fl_name,\n",
    "        header=titstrng,\n",
    "        site_log =site_log,\n",
    "        mod_ref=mod_apr,\n",
    "        mod_act=mod_act,\n",
    "        dat_act=dat_act,\n",
    "        site_modl=site_modl,\n",
    "        site_sens=site_sens,\n",
    "        site_merr=site_merr,\n",
    "        site_dobs=site_dobs,\n",
    "        site_dcal=site_dcal,\n",
    "        site_derr=site_derr,\n",
    "        site_nrms=site_nrms,\n",
    "        site_smap=site_smap,\n",
    "        site_num=site_num,\n",
    "        site_y=site_y,\n",
    "        site_x=site_x,\n",
    "        site_gps=site_gps,\n",
    "        site_alt=site_alt,\n",
    "        site_dem=site_dem)\n",
    "\n",
    "    if Uncert:\n",
    "        numpy.savez_compressed(        \n",
    "            file=fileout+\"_results.npz\",\n",
    "            fl_data=file,\n",
    "            fl_name=fl_name,\n",
    "            header=titstrng,\n",
    "            site_log =site_log,\n",
    "            mod_ref=mod_apr,\n",
    "            mod_act=mod_act,\n",
    "            dat_act=dat_act,\n",
    "            site_modl=site_modl,\n",
    "            site_sens=site_sens,\n",
    "            site_merr=site_merr,\n",
    "            site_dobs=site_dobs,\n",
    "            site_dcal=site_dcal,\n",
    "            site_derr=site_derr,\n",
    "            site_nrms=site_nrms,        \n",
    "            site_smap=site_smap,\n",
    "            site_num=site_num,\n",
    "            site_y=site_y,\n",
    "            site_x=site_x,\n",
    "            site_gps=site_gps,\n",
    "            site_alt=site_alt,\n",
    "            site_dem=site_dem,\n",
    "            site_jacd= site_jacd,\n",
    "            site_pcov= site_pcov)\n",
    "\n",
    "    print(\"\\n\\nResults stored to \"+fileout)\n",
    "    elapsed = (time.time() - start)\n",
    "    print (\" Used %7.4f sec for %6i sites\" % (elapsed, ii+1))\n",
    "    print (\" Average %7.4f sec/site\\n\" % (elapsed/(ii+1)))"
   ]
  },
  {
   "cell_type": "code",
   "execution_count": null,
   "id": "fe1298ad",
   "metadata": {},
   "outputs": [],
   "source": [
    "print(\"\\n\\nAll done!\")"
   ]
  }
 ],
 "metadata": {
  "jupytext": {
   "cell_metadata_filter": "-all",
   "executable": "/usr/bin/env python3",
   "formats": "py,ipynb",
   "main_language": "python"
  }
 },
 "nbformat": 4,
 "nbformat_minor": 5
}
