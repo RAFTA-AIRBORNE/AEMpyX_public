{
 "cells": [
  {
   "cell_type": "code",
   "execution_count": null,
   "id": "40d595e7",
   "metadata": {
    "lines_to_next_cell": 0
   },
   "outputs": [],
   "source": []
  },
  {
   "cell_type": "code",
   "execution_count": null,
   "id": "b667c26a",
   "metadata": {},
   "outputs": [],
   "source": [
    "import os\n",
    "import sys\n",
    "from sys import exit as error\n",
    "from datetime import datetime\n",
    "# from time import process_time\n",
    "# from random import randrange\n",
    "import time\n",
    "import warnings\n",
    "# import inspect\n",
    "import copy"
   ]
  },
  {
   "cell_type": "code",
   "execution_count": null,
   "id": "ef696393",
   "metadata": {},
   "outputs": [],
   "source": [
    "import numpy\n",
    "import scipy"
   ]
  },
  {
   "cell_type": "markdown",
   "id": "d833c572",
   "metadata": {
    "lines_to_next_cell": 2
   },
   "source": [
    "import multiprocessing\n",
    "from numba import njit"
   ]
  },
  {
   "cell_type": "code",
   "execution_count": null,
   "id": "78d072d7",
   "metadata": {},
   "outputs": [],
   "source": [
    "AEMPYX_ROOT = os.environ[\"AEMPYX_ROOT\"]\n",
    "mypath = [os.path.join(AEMPYX_ROOT, \"aempy/modules/\")]\n",
    "for pth in mypath:\n",
    "    if pth not in sys.path:\n",
    "        sys.path.insert(0,pth)"
   ]
  },
  {
   "cell_type": "code",
   "execution_count": null,
   "id": "b4143bdd",
   "metadata": {},
   "outputs": [],
   "source": [
    "from version import versionstrg"
   ]
  },
  {
   "cell_type": "code",
   "execution_count": null,
   "id": "a55d77ec",
   "metadata": {},
   "outputs": [],
   "source": [
    "import aesys\n",
    "import util\n",
    "import inverse\n",
    "import alg\n",
    "import post\n",
    "# -"
   ]
  },
  {
   "cell_type": "code",
   "execution_count": null,
   "id": "c05d4267",
   "metadata": {},
   "outputs": [],
   "source": [
    "AEMPYX_DATA = os.environ[\"AEMPYX_DATA\"]\n",
    "rng = numpy.random.default_rng()\n",
    "nan = numpy.nan  "
   ]
  },
  {
   "cell_type": "code",
   "execution_count": null,
   "id": "7fa89002",
   "metadata": {},
   "outputs": [],
   "source": [
    "version, _ = versionstrg()\n",
    "titstrng = util.print_title(version=version, fname=__file__, out=False)\n",
    "print(titstrng+\"\\n\\n\")"
   ]
  },
  {
   "cell_type": "code",
   "execution_count": null,
   "id": "359df488",
   "metadata": {},
   "outputs": [],
   "source": [
    "OutInfo = False"
   ]
  },
  {
   "cell_type": "code",
   "execution_count": null,
   "id": "141396d0",
   "metadata": {},
   "outputs": [],
   "source": [
    "Parallel = True\n",
    "Njobs = -50"
   ]
  },
  {
   "cell_type": "markdown",
   "id": "448a1921",
   "metadata": {},
   "source": [
    "-"
   ]
  },
  {
   "cell_type": "markdown",
   "id": "584752df",
   "metadata": {},
   "source": [
    "The following cell gives values to AEM-system related settings. \n",
    "\n",
    "Data transformation is activated by the variable _DataTrans_. Currently \n",
    "three possible options are allowed: _DataTrans = 0_: No transformation, \n",
    "i.e., the raw data are used. _DataTrans = 1_: The natural log of data \n",
    "is taken, only allowed for strictly positive values. _DataTrans = 2_: \n",
    "If data scale logarithmically, an _asinh_ transformation (introduced by\n",
    "Scholl, 2000) is applied. It allows negatives, which may occur in TDEM, \n",
    "when IP effects are present.\n",
    "       \n",
    "A general additive/multiplicative error model is applied on the raw data\n",
    "before transformation, and errors are also transformed."
   ]
  },
  {
   "cell_type": "code",
   "execution_count": null,
   "id": "1864af77",
   "metadata": {},
   "outputs": [],
   "source": [
    "# AEM_system = \"genesis\"\n",
    "AEM_system = \"aem05\"  # \"genesis\"\n",
    "if \"aem05\" in AEM_system.lower():\n",
    "    FwdCall,NN, _, _, _, = aesys.get_system_params(System=AEM_system)\n",
    "    nL = NN[0]\n",
    "    ParaTrans = 1\n",
    "    DataTrans = 0\n",
    "    DatErr_add =  75.\n",
    "    DatErr_mult = 0.05\n",
    "    data_active = numpy.ones(NN[2], dtype=\"int8\")\n",
    "\n",
    "\n",
    "if \"genes\" in AEM_system.lower():\n",
    "    FwdCall, NN, _, _, _, = aesys.get_system_params(System=AEM_system)\n",
    "    nL = NN[0]\n",
    "    ParaTrans = 1\n",
    "    DataTrans = 0\n",
    "    DatErr_add = 100.\n",
    "    DatErr_mult = 0.01\n",
    "    data_active = numpy.ones(NN[2], dtype=\"int8\")\n",
    "    data_active[0:11]=0  # only vertical component\n",
    "    # data_active[10:11]=0  # Vertical + 'good' hoizontals'"
   ]
  },
  {
   "cell_type": "code",
   "execution_count": null,
   "id": "a1729b81",
   "metadata": {
    "lines_to_next_cell": 0
   },
   "outputs": [],
   "source": [
    "# \n",
    "# configure moltiprocessing\n",
    "# \n",
    "# nprocs = 8\n",
    "# if nprocs<0:\n",
    "#     nprocs=multiprocessing.cpu_count()\n",
    "\n",
    "# print(str(nprocs)+\" processors will be used in parallel\")\n",
    "\n",
    "# parpool = multiprocessing.Pool()\n",
    "\n",
    "ReverseDir = False\n",
    "\n",
    "\n",
    "\n",
    "FileList = \"search\"  # \"search\", \"read\"\n",
    "# FileList = \"set\"  # \"search\", \"read\"\n",
    "# SearchStrng = \"*delete_dec5_mean.npz\" # no svd\n",
    "SearchStrng = \"*delete_dec5_mean.npz\"\n",
    "#SearchStrng = \"*k2_dec5_mean.npz\"\n",
    "\n",
    "AEMPYX_DATA =  AEMPYX_ROOT + \"/data/\"\n",
    "InDatDir =  AEMPYX_DATA + \"/aem05_limerick/dec/\"\n",
    "if not InDatDir.endswith(\"/\"): InDatDir=InDatDir+\"/\""
   ]
  },
  {
   "cell_type": "code",
   "execution_count": null,
   "id": "ca5dbb13",
   "metadata": {
    "lines_to_next_cell": 0
   },
   "outputs": [],
   "source": [
    "\"\"\"\n",
    "Output format is \".npz\"\n",
    "\"\"\"\n",
    "OutFileFmt = \".npz\"\n",
    "OutResDir =  InDatDir + \"/results_parallel/\"\n",
    "if not OutResDir.endswith(\"/\"): OutResDir=OutResDir+\"/\"\n",
    "print(\"Models written to dir: %s \" % OutResDir)\n",
    "if not os.path.isdir(OutResDir):\n",
    "    print(\"File: %s does not exist, but will be created\" % OutResDir)\n",
    "    os.mkdir(OutResDir)\n",
    "\n",
    "\n",
    "if \"set\" in FileList.lower():\n",
    "    print(\"Data files read from dir:  %s\" % InDatDir)\n",
    "    # dat_files = []\n",
    "    dat_files = [InDatDir+\"StGormans_FL11379-0_raw.npz\"]\n",
    "    # dat_files =  numpy.load(AEMPYX_DATA + \"/Projects/Compare/BundoranSubsets.npz\")[\"setC\"]\n",
    "    \n",
    "    dat_files = [os.path.basename(f) for f in dat_files]  \n",
    "else:\n",
    "    # how = [\"search\", SearchStrng, InDatDir]\n",
    "    # how = [\"read\", FileList, InDatDir]\n",
    "    dat_files = util.get_data_list(how=[\"search\", SearchStrng, InDatDir],\n",
    "                              fullpath=True, out= True, sort=True)\n",
    "\n",
    "\n",
    "ns = numpy.size(dat_files)\n",
    "if ns ==0:\n",
    "    error(\"No files set!. Exit.\")\n",
    "if Njobs<=0:\n",
    "    Njobs=ns"
   ]
  },
  {
   "cell_type": "code",
   "execution_count": null,
   "id": "dbe7bba9",
   "metadata": {},
   "outputs": [],
   "source": [
    "\"\"\"\n",
    "Define inversion type  optional additional parameters (e.g., Waveforms )\n",
    "\"\"\"\n",
    "\n",
    "RunType = \"TikhOpt\" # \"TikhOcc\",  \"MAP_ParSpace\", \"MAP_DatSpace\",\"Jack\",\"DoI\", \"RTO\"\"\n",
    "Uncert = True\n",
    "RegFun = \"gcv\" # \"fix\", \"lcc\", \"gcv\", \"mle\"\n",
    "RegVal0 = 1.e-5\n",
    "NTau0 = 1\n",
    "Tau0min = numpy.log10(RegVal0)\n",
    "Tau0max = numpy.log10(RegVal0)\n",
    "Tau0 = numpy.logspace(Tau0min, Tau0max, NTau0)\n",
    "\n",
    "if any(s in RegFun.lower() for s in [\"gcv\", \"upr\", \"ufc\", \"mle\", \"lcc\"]):\n",
    "    RegVal1Min = 0.1\n",
    "    RegVal1Max = 1000.\n",
    "    NTau1 =64\n",
    "    Tau1min = numpy.log10(RegVal1Min)\n",
    "    Tau1max = numpy.log10(RegVal1Max)\n",
    "else:\n",
    "    RegVal1 =0.00001\n",
    "    NTau1 =1\n",
    "    Tau1min = numpy.log10(RegVal1)\n",
    "    Tau1max = numpy.log10(RegVal1)\n",
    "\n",
    "Tau1 = numpy.logspace(Tau1min, Tau1max, NTau1)\n",
    "nreg = NTau0 * NTau1"
   ]
  },
  {
   "cell_type": "code",
   "execution_count": null,
   "id": "c266a9a9",
   "metadata": {},
   "outputs": [],
   "source": [
    "\"\"\"\n",
    "Model definition\n",
    "\"\"\"\n",
    "\n",
    "SetPrior = \"set\"\n",
    "ParaTrans = 1\n",
    "\n",
    "Nlyr = 32\n",
    "dzstart = 3.\n",
    "dzend = 10.\n",
    "dz = numpy.logspace(numpy.log10(dzstart), numpy.log10(dzend), Nlyr)\n",
    "print(dz)\n",
    "z = numpy.append(0.0, numpy.cumsum(dz))\n",
    "print(z)\n",
    "\n",
    "\n",
    "mod_act, mod_apr, mod_var, mod_bnd, m_state = inverse.init_1dmod(Nlyr)\n",
    "\n",
    "mod_act[0*Nlyr:1*Nlyr] = 1\n",
    "sizepar = numpy.shape(mod_act)\n",
    "mpara = sizepar[0]\n",
    "\n",
    "Guess_r = 100.0  # initial guess for resistivity in mod_apr\n",
    "# Guess_r = 10.0    # low value for DoI estimate\n",
    "# Guess_r = 1000.0  # high value for DoI estimate\n",
    "Guess_s = 0.3   # mod_std (logscale) defines standard deviation of mod_apr\n",
    "mod_apr[0*Nlyr:1*Nlyr] = Guess_r\n",
    "mod_var[0*Nlyr:1*Nlyr] = numpy.power(Guess_s,2)\n",
    "mod_apr[6*Nlyr:7*Nlyr-1] = dz[0:Nlyr - 1]\n",
    "mod_var[6*Nlyr:7*Nlyr-1] = numpy.power(1.,2)\n",
    "\n",
    "\n",
    "# mod_bnd = mumpy.array([])\n",
    "max_val = 1.e+30\n",
    "min_val = 1.e-30\n",
    "# max_val = mod_apr[mod_act!=0] + 3*mod_std[mod_act!=0]\n",
    "# mod_bnd[mod_act!=0, 1] = max_val\n",
    "# min_val = mod_apr[mod_act!=0] - 3*mod_std[mod_act!=0]\n",
    "# mod_bnd[mod_act!=0, 0] = min_val\n",
    "mod_bnd[:,0] = min_val\n",
    "mod_bnd[:,1] = max_val\n",
    "\n",
    "\n",
    "if OutInfo:\n",
    "    #   print \\\n",
    "    #   (\" Parameter set for inverting: \\n\", mod_act)\n",
    "    print(\" Layer thicknesses: \\n\", dz)\n",
    "    print(\" Layer interface depths: \\n\", z)\n",
    "    print(\" Initial halfspace resistivity of %6.2f Ohm*m\" % (Guess_r))\n",
    "    print(\" Log Standard error of %6.2f \" % (Guess_s))\n",
    "    if not (mod_bnd == None) or (numpy.size(mod_bnd) == 0):\n",
    "        print(\" Upper limits: \\n\", mod_bnd[:, 1])\n",
    "        print(\" Lower limits: \\n\", mod_bnd[:, 0])"
   ]
  },
  {
   "cell_type": "markdown",
   "id": "ac8ed76e",
   "metadata": {},
   "source": [
    "Setup controls for different slgorithms, here in particular prepare \n",
    "differential operator base methods for regularization matrices"
   ]
  },
  {
   "cell_type": "code",
   "execution_count": null,
   "id": "de9a82eb",
   "metadata": {},
   "outputs": [],
   "source": [
    "if \"tikhopt\" in  RunType.lower():\n",
    "\n",
    "    D0 = inverse.diffops(dz, der=False, mtype=\"sparse\", otype=\"L0\")\n",
    "    L = [D0 for D in range(7)]\n",
    "    L0 = scipy.sparse.block_diag(L)\n",
    "    Cm0 = L0.T@L0\n",
    "    Cm0 = inverse.extract_cov(Cm0, mod_act)\n",
    "\n",
    "    D1 = inverse.diffops(dz, der=False, mtype=\"sparse\", otype=\"L1\")\n",
    "    L = [D1 for D in range(7)]\n",
    "    L1 = scipy.sparse.block_diag(L)\n",
    "    Cm1 = L1.T@L1\n",
    "    Cm1 = inverse.extract_cov(Cm1, mod_act)\n",
    "\n",
    "    Maxiter = 10\n",
    "    Maxreduce = 5\n",
    "    Rfact = 0.66\n",
    "    LinPars = [Maxreduce, Rfact]\n",
    "\n",
    "    ThreshRMS = [0.9, 1.0e-2, 1.0e-2]\n",
    "    Delta = [1.e-5]\n",
    "    RegShift = 1\n",
    "\n",
    "\n",
    "    ctrl_dict ={\n",
    "        \"system\":\n",
    "            [AEM_system, FwdCall],\n",
    "        \"header\":\n",
    "            titstrng,\n",
    "        \"inversion\":\n",
    "            numpy.array([RunType, RegFun, Tau0, Tau1, Maxiter, ThreshRMS,\n",
    "                      LinPars, SetPrior, Delta, RegShift], dtype=object),\n",
    "        \"covar\":\n",
    "            numpy.array([L0, Cm0, L1, Cm1], dtype=object),\n",
    "\n",
    "        \"uncert\":\n",
    "            [Uncert],\n",
    "\n",
    "        \"data\":\n",
    "            numpy.array([DataTrans, data_active, DatErr_add, DatErr_mult], dtype=object),\n",
    "        \"model\":\n",
    "            numpy.array([ParaTrans, mod_act, mod_apr, mod_var, mod_bnd], dtype=object),\n",
    "\n",
    "                }\n",
    "\n",
    "if OutInfo:\n",
    "    print(ctrl.keys())"
   ]
  },
  {
   "cell_type": "code",
   "execution_count": null,
   "id": "254ad419",
   "metadata": {},
   "outputs": [],
   "source": [
    "outstrng = \"_parallel\"\n",
    "print(\"ID string: input file + %s \" % outstrng)"
   ]
  },
  {
   "cell_type": "code",
   "execution_count": null,
   "id": "7b31b20a",
   "metadata": {},
   "outputs": [],
   "source": [
    "if Parallel:\n",
    "    import joblib\n",
    "    # from joblib import Parallel, delayed, parallel_config\n",
    "    joblib.Parallel(n_jobs=Njobs, verbose=100)(\n",
    "        joblib.delayed(alg.run_tikh_flightline)(ctrl=ctrl_dict, data_file=fil) for fil in dat_files)\n",
    "else:\n",
    "    for fil in dat_files:\n",
    "        _ = alg.run_tikh_flightline(ctrl=ctrl_dict, data_file=fil)"
   ]
  },
  {
   "cell_type": "code",
   "execution_count": null,
   "id": "66eb2dd2",
   "metadata": {},
   "outputs": [],
   "source": [
    "print(\"\\n\\nAll done!\")"
   ]
  }
 ],
 "metadata": {
  "jupytext": {
   "cell_metadata_filter": "-all",
   "executable": "/usr/bin/env python3",
   "formats": "py:light,ipynb",
   "main_language": "python"
  },
  "kernelspec": {
   "display_name": "Python 3 (Spyder)",
   "language": "python3",
   "name": "python3"
  },
  "language_info": {
   "codemirror_mode": {
    "name": "ipython",
    "version": 3
   },
   "file_extension": ".py",
   "mimetype": "text/x-python",
   "name": "python",
   "nbconvert_exporter": "python",
   "pygments_lexer": "ipython3",
   "version": "3.11.8"
  }
 },
 "nbformat": 4,
 "nbformat_minor": 5
}
