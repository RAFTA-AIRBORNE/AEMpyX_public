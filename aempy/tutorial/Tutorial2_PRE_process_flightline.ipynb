{
 "cells": [
  {
   "cell_type": "code",
   "execution_count": null,
   "id": "73eb8c72",
   "metadata": {
    "lines_to_next_cell": 0
   },
   "outputs": [],
   "source": []
  },
  {
   "cell_type": "code",
   "execution_count": null,
   "id": "5741c7e9",
   "metadata": {},
   "outputs": [],
   "source": [
    "\"\"\"\n",
    "Created on 2020/11/11\n",
    "\n",
    "This script present a work flow of processing data\n",
    "for inversions with INV.py scripts\n",
    "\n",
    "@author: vrath Oct 2020\n",
    "\"\"\""
   ]
  },
  {
   "cell_type": "code",
   "execution_count": null,
   "id": "44d3b53e",
   "metadata": {},
   "outputs": [],
   "source": [
    "import os\n",
    "import sys\n",
    "from sys import exit as error\n",
    "import copy\n",
    "from time import process_time\n",
    "from datetime import datetime\n",
    "from random import randrange\n",
    "import warnings"
   ]
  },
  {
   "cell_type": "code",
   "execution_count": null,
   "id": "0a11b57b",
   "metadata": {},
   "outputs": [],
   "source": [
    "warnings.simplefilter(action=\"ignore\", category=FutureWarning)"
   ]
  },
  {
   "cell_type": "code",
   "execution_count": null,
   "id": "6a6044b9",
   "metadata": {},
   "outputs": [],
   "source": [
    "import numpy"
   ]
  },
  {
   "cell_type": "code",
   "execution_count": null,
   "id": "10a793bc",
   "metadata": {},
   "outputs": [],
   "source": [
    "AEMPYX_ROOT = os.environ[\"AEMPYX_ROOT\"]\n",
    "mypath = [AEMPYX_ROOT+\"/aempy/modules/\", AEMPYX_ROOT+\"/aempy/scripts/\"]\n",
    "for pth in mypath:\n",
    "    if pth not in sys.path:\n",
    "        sys.path.insert(0,pth)"
   ]
  },
  {
   "cell_type": "code",
   "execution_count": null,
   "id": "4e3a8435",
   "metadata": {},
   "outputs": [],
   "source": [
    "from version import versionstrg"
   ]
  },
  {
   "cell_type": "code",
   "execution_count": null,
   "id": "c7f2f940",
   "metadata": {},
   "outputs": [],
   "source": [
    "import util\n",
    "import prep\n",
    "import aesys"
   ]
  },
  {
   "cell_type": "code",
   "execution_count": null,
   "id": "9dd8a8e2",
   "metadata": {},
   "outputs": [],
   "source": [
    "OutInfo = True\n",
    "AEMPYX_DATA = os.environ[\"AEMPYX_DATA\"]"
   ]
  },
  {
   "cell_type": "code",
   "execution_count": null,
   "id": "1516015a",
   "metadata": {},
   "outputs": [],
   "source": [
    "version, _ = versionstrg()\n",
    "titstrng = util.print_title(version=version, fname=__file__, out=False)\n",
    "print(titstrng+\"\\n\\n\")"
   ]
  },
  {
   "cell_type": "code",
   "execution_count": null,
   "id": "7fa48fc1",
   "metadata": {},
   "outputs": [],
   "source": [
    "now = datetime.now()"
   ]
  },
  {
   "cell_type": "code",
   "execution_count": null,
   "id": "076db740",
   "metadata": {},
   "outputs": [],
   "source": []
  },
  {
   "cell_type": "code",
   "execution_count": null,
   "id": "1df404f8",
   "metadata": {},
   "outputs": [],
   "source": [
    "AEM_system = \"aem05\"\n",
    "FwdCall,NN,_,_,_, = aesys.get_system_params(System=AEM_system)\n",
    "nD = NN[0]"
   ]
  },
  {
   "cell_type": "code",
   "execution_count": null,
   "id": "c756c8e0",
   "metadata": {},
   "outputs": [],
   "source": [
    "# impute = [\"noise\", 100.]\n",
    "impute = [\"delete\", 0.]\n",
    "plmthresh = 3.\n",
    "kmax = 5\n",
    "DatErr_add = 50.\n",
    "DatErr_mult = 0.05"
   ]
  },
  {
   "cell_type": "code",
   "execution_count": null,
   "id": "f086ce9b",
   "metadata": {
    "lines_to_next_cell": 2
   },
   "outputs": [],
   "source": [
    "OutNaN = True\n",
    "OutRes = False"
   ]
  },
  {
   "cell_type": "code",
   "execution_count": null,
   "id": "2a2a4d31",
   "metadata": {},
   "outputs": [],
   "source": [
    "\"\"\"\n",
    "input formats are '.npz','.nc4','.asc'\n",
    "\"\"\"\n",
    "InFileFmt = \".npz\" # \".npz\"\n",
    "InpNameStrng = \"raw\"\n",
    "Filelist = \"search\" # \"set\", \"read\"\n",
    "SearchStrng = \"*.npz\"\n",
    "\"\"\"\n",
    "Output formats are '.npz','.nc4','.asc'\n",
    "\"\"\"\n",
    "OutFileFmt = \".npz\"\n",
    "OutNameStrng = \"proc_\"+impute[0]+\"_PLM\"+str(int(plmthresh))+\"s\""
   ]
  },
  {
   "cell_type": "code",
   "execution_count": null,
   "id": "fc2ce6c6",
   "metadata": {},
   "outputs": [],
   "source": [
    "InpDatDir =  AEMPYX_ROOT + \"/work/data/raw/\"\n",
    "OutDatDir  =  AEMPYX_ROOT + \"/work/data/\"+OutNameStrng+\"/\""
   ]
  },
  {
   "cell_type": "code",
   "execution_count": null,
   "id": "a3e5d714",
   "metadata": {
    "lines_to_next_cell": 2
   },
   "outputs": [],
   "source": [
    "print(\"\\n\\n\")\n",
    "print(\"Data read from dir:  %s\" % InpDatDir)\n",
    "print(\"Search flightline ID string: %s \" % SearchStrng)\n",
    "print(\"Processed data  written to dir: %s \" % OutDatDir)\n",
    "print(\"New flightline ID string: %s \" % OutNameStrng)"
   ]
  },
  {
   "cell_type": "code",
   "execution_count": null,
   "id": "512a6014",
   "metadata": {
    "lines_to_next_cell": 2
   },
   "outputs": [],
   "source": [
    "if not os.path.isdir(OutDatDir):\n",
    "    print(\"File: %s does not exist, but will be created\" % OutDatDir)\n",
    "    os.mkdir(OutDatDir)"
   ]
  },
  {
   "cell_type": "code",
   "execution_count": null,
   "id": "c15f8ac3",
   "metadata": {},
   "outputs": [],
   "source": [
    "print(\"Data read from dir: %s \" % InpDatDir)"
   ]
  },
  {
   "cell_type": "code",
   "execution_count": null,
   "id": "8233da93",
   "metadata": {},
   "outputs": [],
   "source": [
    "dat_files = util.get_data_list(how=[\"search\", SearchStrng, InpDatDir],\n",
    "                              out= True, sort=True)\n",
    "ns = numpy.size(dat_files)\n",
    "if ns ==0:\n",
    "    error(\"No files corresponding to searchstring <\"+SearchStrng+\"> found!. Exit.\")"
   ]
  },
  {
   "cell_type": "markdown",
   "id": "7258d2e8",
   "metadata": {
    "lines_to_next_cell": 2
   },
   "source": [
    "run_number =str(randrange(10000))\n",
    "files_to_do = dat_files.copy()\n",
    "with open(InpDatDir+\"data_files_\"+run_number+\".txt\", \"w\") as file:\n",
    "    for item in files_to_do:\n",
    "        file.write('%s\\n' % item)"
   ]
  },
  {
   "cell_type": "code",
   "execution_count": null,
   "id": "f8a0d016",
   "metadata": {},
   "outputs": [],
   "source": [
    "start = process_time()\n",
    "num_sites = 0\n",
    "num_files = 0\n",
    "bad_files = 0"
   ]
  },
  {
   "cell_type": "code",
   "execution_count": null,
   "id": "857e8d5f",
   "metadata": {},
   "outputs": [],
   "source": [
    "for filename in dat_files:\n",
    "    num_files = num_files+1\n",
    "    name, ext = os.path.splitext(filename)\n",
    "    filein = InpDatDir + filename\n",
    "    print(\"\\n Preprocessing file \" + filein)\n",
    "    Data, Header, _ = aesys.read_aempy(File=filein,\n",
    "                                   System=AEM_system, OutInfo=False)\n",
    "\n",
    "\n",
    "    now = datetime.now()\n",
    "    aesys.print_header(Header)\n",
    "    Header = aesys.grow_header(Header, titstrng)\n",
    "\n",
    "\n",
    "    if numpy.size(Data)<=nD:\n",
    "        print(\"Not enough data! Not processed\")\n",
    "        continue\n",
    "\n",
    "    D = Data[:, :]\n",
    "\n",
    "    D = numpy.where(D<1.e30,D, numpy.nan)\n",
    "    nN = numpy.count_nonzero(numpy.isnan(D))\n",
    "    print (str(nN)+\" NaN in Data Block\")\n",
    "    if nN >0:\n",
    "        bad_files = bad_files+1\n",
    "        continue\n",
    "\n",
    "    fline = Data[:, 0]\n",
    "    print(impute)\n",
    "    sizedat = numpy.shape(D)\n",
    "    nvars = sizedat[1]\n",
    "    last = nvars - 1\n",
    "    print(\"Flightline Data block on input has shape: \", numpy.shape(D))\n",
    "\n",
    "    action = \"alt lowpass filter\"\n",
    "    print(\"\\n Proc action: \" + action)\n",
    "    columns = [4, 5]\n",
    "    print(\" dcolumns: \", columns)\n",
    "    Header = aesys.grow_header(Header, \"LPF, IIR n=8\")\n",
    "    D, comment = prep.filter_column(D, columns, method=[\"butter\", 4, 1.0 / 20.0])\n",
    "    print(\" data block now has shape: \", numpy.shape(D))\n",
    "\n",
    "    action = \" plm lowpass filter\"\n",
    "    print(\"\\n Proc action: \" + action)\n",
    "    columns = [14, 14]\n",
    "    print(\" dcolumns: \", columns)\n",
    "    Header = aesys.grow_header(Header, \"LPF, IIR n=8\")\n",
    "    D, comment = prep.filter_column(D, columns, method=[\"butter\", 4, 1.0 / 20.0])\n",
    "    print(\" data block now has shape: \", numpy.shape(D))\n",
    "\n",
    "    action = \"plm threshold \"\n",
    "    threshval = plmthresh\n",
    "    columns = [14, 14]\n",
    "    print(\"\\n Proc action: \" + action)\n",
    "    print(\" columns: \", columns)\n",
    "    print(\" thresh = \", threshval)\n",
    "    Header = aesys.grow_header(\n",
    "        Header, \"PLM, threshold = \" + str(threshval) + \" \" + impute[0])\n",
    "    D, nanindex = prep.insert_flag(D, action, threshval, columns,\n",
    "                                    System=AEM_system)\n",
    "\n",
    "    action = \"less than\"\n",
    "    threshval = -500.0\n",
    "    columns = [6, 14]\n",
    "    print(\"\\n Proc action: \" + action)\n",
    "    print(\" columns: \", columns)\n",
    "    print(\" thresh = \", threshval)\n",
    "    Header = aesys.grow_header(\n",
    "        Header, \"DAT, threshold = \" + str(threshval) + \" \" + impute[0])\n",
    "    D, nanindex = prep.insert_flag(D, action, threshval, columns,\n",
    "                                   System=AEM_system)\n",
    "    action = \"greater than\"\n",
    "    threshval = 100.0\n",
    "    columns = [4, 4]\n",
    "    print(\"\\n Proc action: \" + action)\n",
    "    print(\" columns: \", columns)\n",
    "    print(\" thresh = \", threshval)\n",
    "    Header = aesys.grow_header(\n",
    "        Header, \"ALT, threshold = \" + str(threshval) + \" \" + impute[0])\n",
    "    D, nanindex = prep.insert_flag(D, action, threshval, columns,\n",
    "                                   System=AEM_system)\n",
    "\n",
    "    head = Header\n",
    "    print(\"Info:\")\n",
    "    print(head)\n",
    "    print(\"time taken = \", process_time() - start, \"s \\n\")\n",
    "\n",
    "    if OutNaN:\n",
    "        filout = OutDatDir + name +\"_nan\"+OutFileFmt\n",
    "        aesys.write_aempy(File=filout, Data=D, System=AEM_system,\n",
    "                            Header=head, OutInfo=False)\n",
    "        print(\"Data with NaN written to File: \" + filout)\n",
    "\n",
    "\n",
    "    print(\"Impute method:\")\n",
    "    print(impute)\n",
    "    columns = [6, 14]\n",
    "    D = prep.handle_gaps(D, columns, Impute=impute, System=AEM_system)\n",
    "    print(\" data block now has shape: \", numpy.shape(D))\n",
    "    print(impute)\n",
    "    # columns = []\n",
    "    # D = prep.handle_gaps(D, columns, Impute=impute, System=AEM_system)\n",
    "    # print(\" data block now has shape: \", numpy.shape(D))\n",
    "    # print(impute)\n",
    "\n",
    "    if numpy.shape(D)[0] == 0:\n",
    "        continue\n",
    "\n",
    "    filout = OutDatDir + name + \"_\" + OutNameStrng + OutFileFmt\n",
    "    aesys.write_aempy(File=filout, Data=D, System=AEM_system,\n",
    "                    Header=head, OutInfo=False)\n",
    "\n",
    "    print(\"Imputed data written to File: \" + filout)\n",
    "    print(\"Info:\")\n",
    "    print(head)\n",
    "    print(\"time taken = \", process_time() - start, \"s \\n\")\n",
    "\n",
    "    nDfinal = numpy.shape(D)\n",
    "    num_sites = num_sites + nDfinal[0]\n",
    "\n",
    "    print(\"\\nRunning pca \")\n",
    "    columns = [6, 13]\n",
    "    ncols = numpy.size(range(columns[0], columns[1] + 1))\n",
    "    F = numpy.zeros(kmax)\n",
    "\n",
    "    k = 0\n",
    "    M = numpy.zeros(kmax)\n",
    "    SVals = numpy.nan * numpy.ones((0, 8))\n",
    "    MVals = numpy.nan * numpy.ones((0, 8))\n",
    "    while k < kmax:\n",
    "\n",
    "        k = k + 1\n",
    "        print(\" N pca: \", k)\n",
    "        Data_k, U, S, V, MSE, FRO = prep.calc_svd_decomp(D, columns, k=k,\n",
    "                                                  out_full=True)\n",
    "        S = S / S[0]\n",
    "        F[k-1] = FRO\n",
    "        if OutInfo:\n",
    "            print(\"TSVD: \"+\" k=\"+str(k)+\" S(rel)=\"+str(S)+\" FRO=\"+str(FRO))\n",
    "\n",
    "\n",
    "        head = aesys.grow_header(\n",
    "            Header,\"TSVD: \"+\" k=\"+str(k)+\" S(rel)=\"+str(S)+\" FRO=\"+str(FRO))\n",
    "        filout = OutDatDir + name+ \"_\" + OutNameStrng+\"_k\" + str(k) + OutFileFmt\n",
    "        aesys.write_aempy(File=filout, Data=Data_k,\n",
    "                        System=AEM_system, Header=head, OutInfo=False)\n",
    "        print(\"Data written to File: \" + filout)\n",
    "        print(\"Info:\")\n",
    "        print(head)\n",
    "        print(\"time taken = \", process_time() - start, \"s \\n\")\n",
    "\n",
    "        if OutRes:\n",
    "            D_res = copy.deepcopy(D)\n",
    "            nd1 = NN[1]\n",
    "            nd2 = NN[1]+ NN[2]\n",
    "            D_res[:,nd1:nd2] = D[:,nd1:nd2]-Data_k[:,nd1:nd2]\n",
    "            print(\"min, max = \",numpy.amin(D_res[:,nd1:nd2]), \", \",numpy.amax(D_res[:,nd1:nd2]))\n",
    "            print(\"std = \",numpy.std(D_res[:,nd1:nd2]))\n",
    "            head = aesys.grow_header(\n",
    "                Header,\"TSVD: \"+\" k=\"+str(k)+\" Res = min \"+str(numpy.amin(D_res[:,nd1:nd2]))\n",
    "                                                +\" / max \"+str(numpy.amax(D_res[:,nd1:nd2]))\n",
    "                                                +\" / std \"+str(numpy.std(D_res[:,nd1:nd2])))\n",
    "\n",
    "            filout = OutDatDir + name+ \"_\" + OutNameStrng+\"_k\" + str(k)+\"_res\" + OutFileFmt\n",
    "            aesys.write_aempy(File=filout, Data=D_res,\n",
    "                            System=AEM_system, Header=head, OutInfo=False)\n",
    "            print(\"Data written to File: \" + filout)\n",
    "            print(\"Info:\")\n",
    "            print(head)\n",
    "            print(\"time taken = \", process_time() - start, \"s \\n\")\n",
    "\n",
    "    # files_to_do.pop(0)\n",
    "    # with open(InpDatDir+\"data_files_to_do\"+run_number+\".txt\", \"w\") as file:\n",
    "    #     for item in files_to_do:\n",
    "    #         file.write('%s\\n' % item)"
   ]
  },
  {
   "cell_type": "code",
   "execution_count": null,
   "id": "b8d02020",
   "metadata": {},
   "outputs": [],
   "source": [
    "print(\"\\nAll done!\")"
   ]
  },
  {
   "cell_type": "code",
   "execution_count": null,
   "id": "992bf807",
   "metadata": {},
   "outputs": [],
   "source": [
    "elapsed = process_time() - start\n",
    "print(\" Used %7.4f sec for %6i lines  - %8i sites\\n\" % (elapsed, num_files + 1, num_sites))"
   ]
  },
  {
   "cell_type": "markdown",
   "id": "318dfc25",
   "metadata": {},
   "source": []
  }
 ],
 "metadata": {
  "jupytext": {
   "cell_metadata_filter": "-all",
   "executable": "/usr/bin/env python3",
   "formats": "py,ipynb",
   "main_language": "python"
  }
 },
 "nbformat": 4,
 "nbformat_minor": 5
}
