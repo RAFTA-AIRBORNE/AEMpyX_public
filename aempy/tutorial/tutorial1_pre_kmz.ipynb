{
 "cells": [
  {
   "cell_type": "code",
   "execution_count": 63,
   "id": "d4d0bb52",
   "metadata": {},
   "outputs": [],
   "source": [
    "#!/usr/bin/env python3"
   ]
  },
  {
   "cell_type": "code",
   "execution_count": 64,
   "id": "2a1340b3",
   "metadata": {},
   "outputs": [],
   "source": [
    "import os\n",
    "import sys\n",
    "from sys import exit as error\n",
    "import csv\n",
    "import warnings\n",
    "from time import process_time\n",
    "from datetime import datetime\n",
    "import simplekml\n",
    "import numpy\n",
    "\n",
    "AEMPYX_ROOT = os.environ[\"AEMPYX_ROOT\"]\n",
    "mypath = [AEMPYX_ROOT+\"/aempy/modules/\", AEMPYX_ROOT+\"/aempy/scripts/\"]\n",
    "\n",
    "for pth in mypath:\n",
    "    if pth not in sys.path:\n",
    "        # sys.path.append(pth)\n",
    "        sys.path.insert(0,pth)\n",
    "\n",
    "import aesys\n",
    "import util\n",
    "import viz\n",
    "from version import versionstrg\n",
    "\n",
    "AEMPYX_DATA = os.environ[\"AEMPYX_DATA\"]\n",
    "\n",
    "rng = numpy.random.default_rng()\n",
    "nan = numpy.nan  "
   ]
  },
  {
   "cell_type": "code",
   "execution_count": 65,
   "id": "eb90645a",
   "metadata": {},
   "outputs": [
    {
     "name": "stdout",
     "output_type": "stream",
     "text": [
      "AEMpyX Version 0.99.99\n",
      "Date 05/12/2024, 18:15:17\n",
      "Tutorial1_PRE_data.py, modified 05/12/2024, 11:12:08\n",
      "Tutorial1_PRE_data.py\n",
      "\n",
      "\n"
     ]
    }
   ],
   "source": [
    "version, _ = versionstrg()\n",
    "script = \"Tutorial1_PRE_data.py\"\n",
    "# fname = __file__  # this only works in python, not jupyter notebook\n",
    "titstrng = util.print_title(version=version, fname=script, out=False)\n",
    "print(titstrng+\"\\n\\n\")\n",
    "Header = titstrng"
   ]
  },
  {
   "cell_type": "code",
   "execution_count": 66,
   "id": "33c03b91",
   "metadata": {},
   "outputs": [],
   "source": [
    "OutInfo = False"
   ]
  },
  {
   "cell_type": "markdown",
   "id": "f8f67921",
   "metadata": {},
   "source": [
    "Get system related settings, here for frequency-domain AEM, \\textit{aem05}."
   ]
  },
  {
   "cell_type": "code",
   "execution_count": 67,
   "id": "7593cd95",
   "metadata": {
    "lines_to_next_cell": 2
   },
   "outputs": [
    {
     "name": "stdout",
     "output_type": "stream",
     "text": [
      "\n",
      "AEM system is aem05\n",
      "Forward model call: core1d.aemfwd1d_aem05(nlyr, m, alt)\n",
      "Data:[17, 6, 8, 3]\n"
     ]
    }
   ],
   "source": [
    "# AEM_system = \"genesis\"\n",
    "AEM_system = \"aem05\"\n",
    "\n",
    "if \"aem05\" in AEM_system.lower():\n",
    "    _, NN, _, _, _, = aesys.get_system_params(System=AEM_system)\n",
    "    nL = NN[0]\n",
    "\n",
    "if \"genes\" in AEM_system.lower():\n",
    "    _, NN, _, _, _, = aesys.get_system_params(System=AEM_system)\n",
    "    nL = NN[0]"
   ]
  },
  {
   "cell_type": "markdown",
   "id": "d56fbaca",
   "metadata": {
    "lines_to_next_cell": 2
   },
   "source": [
    "Define the directories for the flightline files \n",
    "(_DataDir = AEMPYX_DATA + \"/work/Limerick/raw/\"_) and the correponding plots \n",
    "(_PlotDir  =  DataDir+\"/plots/\"_). The plots can be seen in the resulting KMZ \n",
    "file by clicking the yellow symbols at the start of the flightlines."
   ]
  },
  {
   "cell_type": "code",
   "execution_count": 68,
   "id": "8ed191a3",
   "metadata": {
    "lines_to_next_cell": 2
   },
   "outputs": [
    {
     "name": "stdout",
     "output_type": "stream",
     "text": [
      " data files read from: /home/vrath/AEMpyX//work/Limerick/raw/\n",
      " plots read from: /home/vrath/AEMpyX//work/Limerick/raw//plots/\n"
     ]
    }
   ],
   "source": [
    "AEMPYX_DATA =  AEMPYX_ROOT\n",
    "DataDir =  AEMPYX_DATA + \"/work/Limerick/raw/\"\n",
    "print(\" data files read from: %s\" % DataDir)\n",
    "PlotDir  =  DataDir+\"/plots/\"\n",
    "print(\" plots read from: %s\" % PlotDir)"
   ]
  },
  {
   "cell_type": "code",
   "execution_count": 69,
   "id": "300e5264",
   "metadata": {},
   "outputs": [],
   "source": [
    "SearchStrng = \"*FL*.npz\"\n",
    "data_files = util.get_filelist(searchstr=[SearchStrng], searchpath=DataDir, fullpath=False)\n",
    "data_files = sorted(data_files)\n",
    "ns = numpy.size(data_files)"
   ]
  },
  {
   "cell_type": "code",
   "execution_count": 70,
   "id": "01d7330f",
   "metadata": {},
   "outputs": [
    {
     "name": "stdout",
     "output_type": "stream",
     "text": [
      " resulting KMZ file will  be  /home/vrath/AEMpyX//work/Limerick/raw/Limerick_shale_raw\n"
     ]
    }
   ],
   "source": [
    "KMZDir = DataDir\n",
    "KMZFile = KMLDir+\"Limerick_shale_raw\"\n",
    "print(\" resulting KMZ file will  be  %s\" % KMZFile)"
   ]
  },
  {
   "cell_type": "code",
   "execution_count": 71,
   "id": "342ef634",
   "metadata": {},
   "outputs": [],
   "source": [
    "MarkStartPoints = True\n",
    "MarkEndPoints = False\n",
    "MarkCenterPoints = False\n",
    "MarkEvery = 50"
   ]
  },
  {
   "cell_type": "code",
   "execution_count": 72,
   "id": "efc2af3d",
   "metadata": {},
   "outputs": [],
   "source": [
    "AddImages = True\n",
    "ImageWidth= 600\n",
    "plots_fmt = \".png\""
   ]
  },
  {
   "cell_type": "code",
   "execution_count": null,
   "id": "1bd77589",
   "metadata": {
    "lines_to_next_cell": 2
   },
   "outputs": [],
   "source": []
  },
  {
   "cell_type": "markdown",
   "id": "5a81f739",
   "metadata": {
    "lines_to_next_cell": 2
   },
   "source": [
    "Determine what is added to the KML-tags:"
   ]
  },
  {
   "cell_type": "code",
   "execution_count": 73,
   "id": "149b0fa2",
   "metadata": {},
   "outputs": [],
   "source": [
    "kml = False\n",
    "kmz = True"
   ]
  },
  {
   "cell_type": "markdown",
   "id": "f52cd166",
   "metadata": {},
   "source": [
    "Define the path for saving  kml files"
   ]
  },
  {
   "cell_type": "code",
   "execution_count": 74,
   "id": "b977edb7",
   "metadata": {},
   "outputs": [],
   "source": [
    "icon_dir = AEMPYX_ROOT+\"/aempy/share/icons/\""
   ]
  },
  {
   "cell_type": "code",
   "execution_count": 75,
   "id": "8d73297d",
   "metadata": {},
   "outputs": [],
   "source": [
    "line_icon =  icon_dir + \"star.png\"\n",
    "line_iscale = 1.5\n",
    "line_icolor = simplekml.Color.yellow\n",
    "line_tscale = 1.  # sc\n",
    "line_tcolor = simplekml.Color.yellow"
   ]
  },
  {
   "cell_type": "code",
   "execution_count": 76,
   "id": "b45ac72a",
   "metadata": {
    "lines_to_next_cell": 2
   },
   "outputs": [],
   "source": [
    "data_icon =  icon_dir + \"square.png\"\n",
    "data_iscale = 0.8\n",
    "data_icolor = simplekml.Color.red\n",
    "data_tscale = 1.\n",
    "data_tcolor = simplekml.Color.yellow\n",
    "# simplekml.Color.rgb(0, 0, 255)\n",
    "# \"ffff0000\""
   ]
  },
  {
   "cell_type": "code",
   "execution_count": 77,
   "id": "42d4ba66",
   "metadata": {
    "lines_to_next_cell": 2
   },
   "outputs": [],
   "source": [
    "# Determine which geographical info is added to the KML-tags:\n",
    "# define empty list\n",
    "kml = simplekml.Kml(open=1)\n",
    "line_iref = kml.addfile(line_icon)\n",
    "data_iref = kml.addfile(data_icon)"
   ]
  },
  {
   "cell_type": "code",
   "execution_count": 78,
   "id": "29fa4191",
   "metadata": {},
   "outputs": [],
   "source": [
    "if (not os.path.isdir(DataDir)) or (not os.path.isdir(PlotDir)):\n",
    "    error(\" File: %s or %s does not exist! Exit.\" % (DataDir, PlotDir))"
   ]
  },
  {
   "cell_type": "code",
   "execution_count": 79,
   "id": "457c5f99",
   "metadata": {},
   "outputs": [
    {
     "name": "stdout",
     "output_type": "stream",
     "text": [
      "A5_rect_shale_FL5001-0.npz\n",
      "['Data', 'Header', 'System']\n",
      "A5_rect_shale_FL5002-0.npz\n",
      "['Data', 'Header', 'System']\n",
      "A5_rect_shale_FL5003-0.npz\n",
      "['Data', 'Header', 'System']\n",
      "A5_rect_shale_FL5004-0.npz\n",
      "['Data', 'Header', 'System']\n",
      "A5_rect_shale_FL5005-0.npz\n",
      "['Data', 'Header', 'System']\n",
      "A5_rect_shale_FL5006-0.npz\n",
      "['Data', 'Header', 'System']\n",
      "A5_rect_shale_FL5007-0.npz\n",
      "['Data', 'Header', 'System']\n",
      "A5_rect_shale_FL5008-0.npz\n",
      "['Data', 'Header', 'System']\n",
      "A5_rect_shale_FL5009-0.npz\n",
      "['Data', 'Header', 'System']\n",
      "A5_rect_shale_FL5010-0.npz\n",
      "['Data', 'Header', 'System']\n",
      "A5_rect_shale_FL5011-01.npz\n",
      "['Data', 'Header', 'System']\n",
      "A5_rect_shale_FL5012-0.npz\n",
      "['Data', 'Header', 'System']\n",
      "A5_rect_shale_FL5013-0.npz\n",
      "['Data', 'Header', 'System']\n",
      "A5_rect_shale_FL5014-0.npz\n",
      "['Data', 'Header', 'System']\n",
      "A5_rect_shale_FL5015-0.npz\n",
      "['Data', 'Header', 'System']\n",
      "A5_rect_shale_FL5016-0.npz\n",
      "['Data', 'Header', 'System']\n",
      "A5_rect_shale_FL5017-0.npz\n",
      "['Data', 'Header', 'System']\n",
      "A5_rect_shale_FL5018-0.npz\n",
      "['Data', 'Header', 'System']\n",
      "A5_rect_shale_FL5019-0.npz\n",
      "['Data', 'Header', 'System']\n",
      "A5_rect_shale_FL5020-0.npz\n",
      "['Data', 'Header', 'System']\n",
      "A5_rect_shale_FL5021-0.npz\n",
      "['Data', 'Header', 'System']\n",
      "A5_rect_shale_FL5022-0.npz\n",
      "['Data', 'Header', 'System']\n",
      "A5_rect_shale_FL5023-0.npz\n",
      "['Data', 'Header', 'System']\n",
      "A5_rect_shale_FL5024-0.npz\n",
      "['Data', 'Header', 'System']\n",
      "A5_rect_shale_FL5025-0.npz\n",
      "['Data', 'Header', 'System']\n",
      "A5_rect_shale_FL5026-0.npz\n",
      "['Data', 'Header', 'System']\n",
      "A5_rect_shale_FL5027-0.npz\n",
      "['Data', 'Header', 'System']\n",
      "A5_rect_shale_FL5028-0.npz\n",
      "['Data', 'Header', 'System']\n",
      "A5_rect_shale_FL5029-0.npz\n",
      "['Data', 'Header', 'System']\n",
      "A5_rect_shale_FL5030-0.npz\n",
      "['Data', 'Header', 'System']\n",
      "A5_rect_shale_FL5031-0.npz\n",
      "['Data', 'Header', 'System']\n",
      "A5_rect_shale_FL5032-01.npz\n",
      "['Data', 'Header', 'System']\n",
      "A5_rect_shale_FL5033-0.npz\n",
      "['Data', 'Header', 'System']\n",
      "A5_rect_shale_FL5034-0.npz\n",
      "['Data', 'Header', 'System']\n",
      "A5_rect_shale_FL5035-0.npz\n",
      "['Data', 'Header', 'System']\n",
      "A5_rect_shale_FL5036-0.npz\n",
      "['Data', 'Header', 'System']\n",
      "A5_rect_shale_FL5037-0.npz\n",
      "['Data', 'Header', 'System']\n",
      "A5_rect_shale_FL5038-0.npz\n",
      "['Data', 'Header', 'System']\n",
      "A5_rect_shale_FL5039-0.npz\n",
      "['Data', 'Header', 'System']\n",
      "A5_rect_shale_FL5040-0.npz\n",
      "['Data', 'Header', 'System']\n",
      "A5_rect_shale_FL5041-0.npz\n",
      "['Data', 'Header', 'System']\n",
      "A5_rect_shale_FL5042-0.npz\n",
      "['Data', 'Header', 'System']\n",
      "A5_rect_shale_FL5043-0.npz\n",
      "['Data', 'Header', 'System']\n",
      "A5_rect_shale_FL5044-0.npz\n",
      "['Data', 'Header', 'System']\n",
      "A5_rect_shale_FL5045-0.npz\n",
      "['Data', 'Header', 'System']\n",
      "A5_rect_shale_FL5046-0.npz\n",
      "['Data', 'Header', 'System']\n",
      "A5_rect_shale_FL5047-0.npz\n",
      "['Data', 'Header', 'System']\n",
      "A5_rect_shale_FL5048-0.npz\n",
      "['Data', 'Header', 'System']\n",
      "A5_rect_shale_FL5049-0.npz\n",
      "['Data', 'Header', 'System']\n",
      "A5_rect_shale_FL5050-0.npz\n",
      "['Data', 'Header', 'System']\n",
      "A5_rect_shale_FL5051-0.npz\n",
      "['Data', 'Header', 'System']\n",
      "A5_rect_shale_FL5052-0.npz\n",
      "['Data', 'Header', 'System']\n",
      "A5_rect_shale_FL5053-0.npz\n",
      "['Data', 'Header', 'System']\n",
      "A5_rect_shale_FL5054-0.npz\n",
      "['Data', 'Header', 'System']\n",
      "A5_rect_shale_FL5055-0.npz\n",
      "['Data', 'Header', 'System']\n",
      "A5_rect_shale_FL5056-0.npz\n",
      "['Data', 'Header', 'System']\n",
      "A5_rect_shale_FL5056-01.npz\n",
      "['Data', 'Header', 'System']\n",
      "A5_rect_shale_FL5057-0.npz\n",
      "['Data', 'Header', 'System']\n",
      "A5_rect_shale_FL5058-0.npz\n",
      "['Data', 'Header', 'System']\n",
      "A5_rect_shale_FL5059-0.npz\n",
      "['Data', 'Header', 'System']\n",
      "A5_rect_shale_FL5060-0.npz\n",
      "['Data', 'Header', 'System']\n",
      "A5_rect_shale_FL5061-0.npz\n",
      "['Data', 'Header', 'System']\n",
      "A5_rect_shale_FL5062-01.npz\n",
      "['Data', 'Header', 'System']\n",
      "A5_rect_shale_FL5063-0.npz\n",
      "['Data', 'Header', 'System']\n",
      "A5_rect_shale_FL5064-0.npz\n",
      "['Data', 'Header', 'System']\n",
      "A5_rect_shale_FL5065-0.npz\n",
      "['Data', 'Header', 'System']\n",
      "A5_rect_shale_FL5066-0.npz\n",
      "['Data', 'Header', 'System']\n",
      "A5_rect_shale_FL5067-0.npz\n",
      "['Data', 'Header', 'System']\n",
      "A5_rect_shale_FL513-0.npz\n",
      "['Data', 'Header', 'System']\n",
      "A5_rect_shale_FL514-0.npz\n",
      "['Data', 'Header', 'System']\n",
      "A5_rect_shale_FL515-0.npz\n",
      "['Data', 'Header', 'System']\n",
      "A5_rect_shale_FL516-0.npz\n",
      "['Data', 'Header', 'System']\n",
      "A5_rect_shale_FL517-0.npz\n",
      "['Data', 'Header', 'System']\n",
      "A5_rect_shale_FL518-0.npz\n",
      "['Data', 'Header', 'System']\n",
      "A5_rect_shale_FL519-01.npz\n",
      "['Data', 'Header', 'System']\n",
      "A5_rect_shale_FL520-0.npz\n",
      "['Data', 'Header', 'System']\n"
     ]
    }
   ],
   "source": [
    "for f in data_files:\n",
    "    print(f)\n",
    "\n",
    "    file = DataDir+f\n",
    "    name,  ext = os.path.splitext(f)\n",
    "    Data, _, _ = aesys.read_aempy(File=file, System=AEM_system, OutInfo=False)\n",
    "\n",
    "    data = Data\n",
    "    nd = numpy.shape(data)[0]\n",
    "    lat, lon = util.project_utm_to_latlon(data[:,1], data[:,2])\n",
    "    line = str(round(data[0,0],2)).replace(\".\",\"-\")\n",
    "\n",
    "    folder_line = kml.newfolder(name=\"FL\"+line)\n",
    "\n",
    "    for idt in numpy.arange(nd):\n",
    "\n",
    "        if numpy.mod(idt, MarkEvery) == 0:\n",
    "            d = folder_line.newpoint()\n",
    "            d.coords = [(lon[idt], lat[idt])]\n",
    "            d.style.iconstyle.icon.href = data_iref\n",
    "            d.style.iconstyle.scale = data_iscale\n",
    "            d.style.iconstyle.color = data_icolor\n",
    "            d.description = AEM_system.upper()+\"\\nFlightline: \"+str(data[idt,0])\n",
    "\n",
    "\n",
    "    if AddImages:\n",
    "        d_plot = PlotDir+name+ plots_fmt\n",
    "        if os.path.exists(d_plot)==True:\n",
    "            src= kml.addfile(d_plot)\n",
    "            imstring ='<img width=\"'+str(ImageWidth)+'\" align=\"left\" src=\"' + src + '\"/>'\n",
    "            # imstring = '<img width=\"1200\" align=\"left\" src=\"' + src + '\"/>'\n",
    "            d.description = (imstring)\n",
    "        else:\n",
    "            print(d_plot+ \" does not exist!\")\n",
    "\n",
    "    if MarkStartPoints:\n",
    "        d = folder_line.newpoint(name=\"S:\"+str(data[0,0]))\n",
    "        d.style.labelstyle.color = data_tcolor\n",
    "        d.style.labelstyle.scale = data_tscale\n",
    "        d.style.iconstyle.icon.href = data_iref\n",
    "        d.style.iconstyle.scale = data_iscale*1.5\n",
    "        d.style.iconstyle.color = line_icolor\n",
    "        d.coords = [(lon[0], lat[0])]\n",
    "        d.description = (imstring)\n",
    "    if MarkEndPoints:\n",
    "        d = folder_line.newpoint(name=\"E:\"+str(data[0,0]))\n",
    "        d.style.labelstyle.color = data_tcolor\n",
    "        d.style.labelstyle.scale = data_tscale\n",
    "        d.style.iconstyle.icon.href = data_iref\n",
    "        d.style.iconstyle.scale = data_iscale*1.5\n",
    "        d.coords = [(lon[nd-1], lat[nd-1])]\n",
    "        d.description = (imstring)\n",
    "    if MarkCenterPoints:\n",
    "        d = folder_line.newpoint(name=str(data[round(nd/2),0]))\n",
    "        d.coords = [(lon[round(nd/2)], lat[round(nd/2)])]\n",
    "        d.style.labelstyle.color = data_tcolor\n",
    "        d.style.labelstyle.scale = data_tscale\n",
    "        d.style.iconstyle.icon.href = data_iref\n",
    "        d.style.iconstyle.scale = data_iscale*1.5\n",
    "        d.style.iconstyle.color = line_icolor\n",
    "        d.description = (imstring)\n",
    "\n",
    "\n",
    "    # Compressed kmz file:"
   ]
  },
  {
   "cell_type": "code",
   "execution_count": 80,
   "id": "6072b26d",
   "metadata": {},
   "outputs": [],
   "source": [
    "kml.savekmz(KMZFile + \".kmz\")"
   ]
  },
  {
   "cell_type": "code",
   "execution_count": 81,
   "id": "0e87f69c",
   "metadata": {},
   "outputs": [
    {
     "name": "stdout",
     "output_type": "stream",
     "text": [
      "All done!\n"
     ]
    }
   ],
   "source": [
    "print(\"All done!\")"
   ]
  }
 ],
 "metadata": {
  "jupytext": {
   "cell_metadata_filter": "-all",
   "encoding": "# -*- coding: utf-8 -*-",
   "executable": "/usr/bin/env python3",
   "formats": "py:light,ipynb"
  },
  "kernelspec": {
   "display_name": "Python 3 (ipykernel)",
   "language": "python",
   "name": "python3"
  },
  "language_info": {
   "codemirror_mode": {
    "name": "ipython",
    "version": 3
   },
   "file_extension": ".py",
   "mimetype": "text/x-python",
   "name": "python",
   "nbconvert_exporter": "python",
   "pygments_lexer": "ipython3",
   "version": "3.11.7"
  }
 },
 "nbformat": 4,
 "nbformat_minor": 5
}
