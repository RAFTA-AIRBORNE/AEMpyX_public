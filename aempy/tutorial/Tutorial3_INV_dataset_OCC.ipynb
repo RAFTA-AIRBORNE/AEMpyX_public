{
 "cells": [
  {
   "cell_type": "code",
   "execution_count": null,
   "id": "b6806e98",
   "metadata": {
    "lines_to_next_cell": 0
   },
   "outputs": [],
   "source": []
  },
  {
   "cell_type": "code",
   "execution_count": null,
   "id": "82de4ea4",
   "metadata": {},
   "outputs": [],
   "source": [
    "import os\n",
    "import sys\n",
    "from sys import exit as error\n",
    "from datetime import datetime\n",
    "# from time import process_time\n",
    "# from random import randrange\n",
    "import time\n",
    "import warnings\n",
    "# import inspect\n",
    "import copy"
   ]
  },
  {
   "cell_type": "code",
   "execution_count": null,
   "id": "40ac2eb1",
   "metadata": {},
   "outputs": [],
   "source": [
    "import numpy\n",
    "import scipy"
   ]
  },
  {
   "cell_type": "markdown",
   "id": "46c9abd8",
   "metadata": {},
   "source": [
    "import multiprocessing"
   ]
  },
  {
   "cell_type": "code",
   "execution_count": null,
   "id": "09a452c7",
   "metadata": {},
   "outputs": [],
   "source": []
  },
  {
   "cell_type": "code",
   "execution_count": null,
   "id": "f1951783",
   "metadata": {},
   "outputs": [],
   "source": [
    "AEMPYX_ROOT = os.environ[\"AEMPYX_ROOT\"]\n",
    "mypath = [AEMPYX_ROOT+\"/aempy/modules/\", AEMPYX_ROOT+\"/aempy/scripts/\"]\n",
    "for pth in mypath:\n",
    "    if pth not in sys.path:\n",
    "        sys.path.insert(0,pth)"
   ]
  },
  {
   "cell_type": "code",
   "execution_count": null,
   "id": "12691eb8",
   "metadata": {},
   "outputs": [],
   "source": [
    "from version import versionstrg"
   ]
  },
  {
   "cell_type": "code",
   "execution_count": null,
   "id": "235c79fb",
   "metadata": {},
   "outputs": [],
   "source": [
    "import aesys\n",
    "import util\n",
    "import inverse\n",
    "import alg"
   ]
  },
  {
   "cell_type": "code",
   "execution_count": null,
   "id": "095fbd64",
   "metadata": {},
   "outputs": [],
   "source": [
    "warnings.simplefilter(action=\"ignore\", category=FutureWarning)"
   ]
  },
  {
   "cell_type": "code",
   "execution_count": null,
   "id": "f1fcc62c",
   "metadata": {},
   "outputs": [],
   "source": [
    "AEMPYX_DATA = os.environ[\"AEMPYX_DATA\"]"
   ]
  },
  {
   "cell_type": "code",
   "execution_count": null,
   "id": "b9cdb1ab",
   "metadata": {},
   "outputs": [],
   "source": [
    "rng = numpy.random.default_rng()\n",
    "nan = numpy.nan  # float(\"NaN\")\n",
    "version, _ = versionstrg()\n",
    "titstrng = util.print_title(version=version, fname=__file__, out=False)\n",
    "print(titstrng+\"\\n\\n\")"
   ]
  },
  {
   "cell_type": "code",
   "execution_count": null,
   "id": "243e1f5c",
   "metadata": {},
   "outputs": [],
   "source": [
    "OutInfo = False"
   ]
  },
  {
   "cell_type": "code",
   "execution_count": null,
   "id": "bc5cec55",
   "metadata": {},
   "outputs": [],
   "source": []
  },
  {
   "cell_type": "code",
   "execution_count": null,
   "id": "6ce0023b",
   "metadata": {
    "lines_to_next_cell": 2
   },
   "outputs": [],
   "source": [
    "\"\"\"\n",
    "System related settings.\n",
    "Data transformation is allowed with three possible options:\n",
    "DataTrans   = 0           raw data\n",
    "            = 1           natural log of data\n",
    "            = 2           asinh transformation\n",
    "An error model is applied for the raw data, which is\n",
    "mixed additive/multiplicative. in case of data transformation,\n",
    "errors are also transformed.\n",
    "\"\"\"\n",
    "# AEM_system = \"genesis\"\n",
    "AEM_system = \"aem05\"  # \"genesis\"\n",
    "if \"aem05\" in AEM_system.lower():\n",
    "    FwdCall,NN, _, _, _, = aesys.get_system_params(System=AEM_system)\n",
    "    nL = NN[0]\n",
    "    ParaTrans = 1\n",
    "    DataTrans = 0\n",
    "    DatErr_add =  75.\n",
    "    DatErr_mult = 0.05\n",
    "    data_active = numpy.ones(NN[2], dtype=\"int8\")"
   ]
  },
  {
   "cell_type": "code",
   "execution_count": null,
   "id": "02c6b080",
   "metadata": {
    "lines_to_next_cell": 2
   },
   "outputs": [],
   "source": [
    "if \"genes\" in AEM_system.lower():\n",
    "    FwdCall, NN, _, _, _, = aesys.get_system_params(System=AEM_system)\n",
    "    nL = NN[0]\n",
    "    ParaTrans = 1\n",
    "    DataTrans = 0\n",
    "    DatErr_add = 100.\n",
    "    DatErr_mult = 0.01\n",
    "    data_active = numpy.ones(NN[2], dtype=\"int8\")\n",
    "    data_active[0:11]=0  # only vertical component\n",
    "    # data_active[10:11]=0  # Vertical + 'good' hoizontals'"
   ]
  },
  {
   "cell_type": "markdown",
   "id": "c7ba4b4e",
   "metadata": {
    "lines_to_next_cell": 2
   },
   "source": [
    "\"\"\"\n",
    "configure moltiprocessing\n",
    "\"\"\""
   ]
  },
  {
   "cell_type": "markdown",
   "id": "eca98b8c",
   "metadata": {},
   "source": [
    "nprocs = 8\n",
    "if nprocs<0:\n",
    "    nprocs=multiprocessing.cpu_count()"
   ]
  },
  {
   "cell_type": "markdown",
   "id": "49649a2f",
   "metadata": {},
   "source": [
    "print(str(nprocs)+\" processors will be used in parallel\")"
   ]
  },
  {
   "cell_type": "markdown",
   "id": "9c56afa6",
   "metadata": {},
   "source": [
    "parpool = multiprocessing.Pool()"
   ]
  },
  {
   "cell_type": "code",
   "execution_count": null,
   "id": "b698e768",
   "metadata": {},
   "outputs": [],
   "source": [
    "ReverseDir = False"
   ]
  },
  {
   "cell_type": "code",
   "execution_count": null,
   "id": "e6c03ec0",
   "metadata": {},
   "outputs": [],
   "source": []
  },
  {
   "cell_type": "code",
   "execution_count": null,
   "id": "a0ac3389",
   "metadata": {},
   "outputs": [],
   "source": [
    "FileList = \"search\"  # \"search\", \"read\"\n",
    "FileList = \"set\"  # \"search\", \"read\""
   ]
  },
  {
   "cell_type": "code",
   "execution_count": null,
   "id": "197ec41e",
   "metadata": {},
   "outputs": [],
   "source": [
    "InDatDir =  AEMPYX_DATA + \"/Projects/InvParTest/proc_delete_PLM3s/\"\n",
    "if not InDatDir.endswith(\"/\"): InDatDir=InDatDir+\"/\""
   ]
  },
  {
   "cell_type": "code",
   "execution_count": null,
   "id": "519b49b7",
   "metadata": {},
   "outputs": [],
   "source": [
    "# SearchStrng = \"*PLM3s_k3.npz\"\n",
    "SearchStrng = \"*1379*k[1,2,3,5].npz\""
   ]
  },
  {
   "cell_type": "code",
   "execution_count": null,
   "id": "f338665a",
   "metadata": {
    "lines_to_next_cell": 2
   },
   "outputs": [],
   "source": [
    "if \"set\" in FileList.lower():\n",
    "    print(\"Data files read from dir:  %s\" % InDatDir)\n",
    "    # dat_files = []\n",
    "    dat_files = [InDatDir+\"A1_rect_StGormans_FL11379-0_proc_delete_PLM3s_k3.npz\"]\n",
    "    # numpy.load(AEMPYX_DATA + \"/Projects/Compare/BundoranSubsets.npz\")[\"setC\"]\n",
    "    \n",
    "    dat_files = [os.path.basename(f) for f in dat_files]  \n",
    "else:\n",
    "    # how = [\"search\", SearchStrng, InDatDir]\n",
    "    # how = [\"read\", FileList, InDatDir]\n",
    "    dat_files = util.get_data_list(how=[\"search\", SearchStrng, InDatDir],\n",
    "                              out= True, sort=True)"
   ]
  },
  {
   "cell_type": "code",
   "execution_count": null,
   "id": "d997837f",
   "metadata": {},
   "outputs": [],
   "source": [
    "ns = numpy.size(dat_files)\n",
    "if ns ==0:\n",
    "    error(\"No files set!. Exit.\")"
   ]
  },
  {
   "cell_type": "code",
   "execution_count": null,
   "id": "de12201e",
   "metadata": {
    "lines_to_next_cell": 2
   },
   "outputs": [],
   "source": [
    "\"\"\"\n",
    "Output format is \".npz\"\n",
    "\"\"\"\n",
    "OutFileFmt = \".npz\"\n",
    "OutDatDir =  InDatDir + \"/occ/\"\n",
    "if not OutDatDir.endswith(\"/\"): OutDatDir=OutDatDir+\"/\"\n",
    "print(\"Models written to dir: %s \" % OutDatDir)"
   ]
  },
  {
   "cell_type": "code",
   "execution_count": null,
   "id": "0bc7863a",
   "metadata": {
    "lines_to_next_cell": 2
   },
   "outputs": [],
   "source": [
    "if not os.path.isdir(OutDatDir):\n",
    "    print(\"File: %s does not exist, but will be created\" % OutDatDir)\n",
    "    os.mkdir(OutDatDir)"
   ]
  },
  {
   "cell_type": "code",
   "execution_count": null,
   "id": "ea094c92",
   "metadata": {},
   "outputs": [],
   "source": [
    "\"\"\"\n",
    "Define inversion type  optional additional parameters (e.g., Waveforms )\n",
    "\"\"\""
   ]
  },
  {
   "cell_type": "code",
   "execution_count": null,
   "id": "322587dd",
   "metadata": {},
   "outputs": [],
   "source": [
    "RunType = \"Tikh-Occ\" #  \"MAP_ParSpace\", \"MAP_DatSpace\",\"Jack\",\"DoI\", \"RTO\"\"\n",
    "Uncert = True"
   ]
  },
  {
   "cell_type": "code",
   "execution_count": null,
   "id": "63d75fcc",
   "metadata": {},
   "outputs": [],
   "source": [
    "\"\"\"\n",
    "Model definition\n",
    "\"\"\""
   ]
  },
  {
   "cell_type": "code",
   "execution_count": null,
   "id": "6069b1b8",
   "metadata": {},
   "outputs": [],
   "source": [
    "SetPrior = \"set\"\n",
    "ParaTrans = 1"
   ]
  },
  {
   "cell_type": "code",
   "execution_count": null,
   "id": "5eb85379",
   "metadata": {
    "lines_to_next_cell": 2
   },
   "outputs": [],
   "source": [
    "Nlyr = 30\n",
    "dzstart = 2.5\n",
    "dzend = 10.\n",
    "dz = numpy.logspace(numpy.log10(dzstart), numpy.log10(dzend), Nlyr)\n",
    "z = numpy.append(0.0, numpy.cumsum(dz))"
   ]
  },
  {
   "cell_type": "code",
   "execution_count": null,
   "id": "10f96f68",
   "metadata": {},
   "outputs": [],
   "source": [
    "mod_act, mod_apr, mod_var, mod_bnd, m_state = inverse.init_1dmod(Nlyr)"
   ]
  },
  {
   "cell_type": "code",
   "execution_count": null,
   "id": "4bfa98a9",
   "metadata": {},
   "outputs": [],
   "source": [
    "mod_act[0*Nlyr:1*Nlyr] = 1\n",
    "sizepar = numpy.shape(mod_act)\n",
    "mpara = sizepar[0]"
   ]
  },
  {
   "cell_type": "code",
   "execution_count": null,
   "id": "780ed0c0",
   "metadata": {
    "lines_to_next_cell": 2
   },
   "outputs": [],
   "source": [
    "Guess_r = 100.0  # initial guess for resistivity in mod_apr\n",
    "Guess_s = 0.3   # mod_std defines standard deviation of mod_apr\n",
    "mod_apr[0*Nlyr:1*Nlyr] = Guess_r\n",
    "mod_var[0*Nlyr:1*Nlyr] = numpy.power(Guess_s,2)\n",
    "mod_apr[6*Nlyr:7*Nlyr-1] = dz[0:Nlyr - 1]\n",
    "mod_var[6*Nlyr:7*Nlyr-1] = numpy.power(1.,2)"
   ]
  },
  {
   "cell_type": "code",
   "execution_count": null,
   "id": "e25fe765",
   "metadata": {
    "lines_to_next_cell": 2
   },
   "outputs": [],
   "source": [
    "# mod_bnd = mumpy.array([])\n",
    "max_val = 1.e+30\n",
    "min_val = 1.e-30\n",
    "# max_val = mod_apr[mod_act!=0] + 3*mod_std[mod_act!=0]\n",
    "# mod_bnd[mod_act!=0, 1] = max_val\n",
    "# min_val = mod_apr[mod_act!=0] - 3*mod_std[mod_act!=0]\n",
    "# mod_bnd[mod_act!=0, 0] = min_val\n",
    "mod_bnd[:,0] = min_val\n",
    "mod_bnd[:,1] = max_val"
   ]
  },
  {
   "cell_type": "code",
   "execution_count": null,
   "id": "ee004d1a",
   "metadata": {},
   "outputs": [],
   "source": [
    "if OutInfo:\n",
    "    #   print \\\n",
    "    #   (\" Parameter set for inverting: \\n\", mod_act)\n",
    "    print(\" Layer thicknesses: \\n\", dz)\n",
    "    print(\" Layer interface depths: \\n\", z)\n",
    "    print(\" Initial halfspace resistivity of %6.2f Ohm*m\" % (Guess_r))\n",
    "    print(\" Log Standard error of %6.2f \" % (Guess_s))\n",
    "    if not numpy.size(mod_bnd) == 0:\n",
    "        print(\" Upper limits: \\n\", mod_bnd[:, 1])\n",
    "        print(\" Lower limits: \\n\", mod_bnd[:, 0])"
   ]
  },
  {
   "cell_type": "code",
   "execution_count": null,
   "id": "0720652d",
   "metadata": {},
   "outputs": [],
   "source": [
    "\"\"\"\n",
    "Setup Controls for different Algorithms\n",
    "\n",
    "\"\"\"\n",
    "if \"occ\" in RunType.lower():\n",
    "    \"\"\"\n",
    "    Prepare differential operator base methods for regularization matrices\n",
    "    \"\"\"\n",
    "    D0 = inverse.diffops(dz, der=False, mtype=\"sparse\", otype=\"L0\")\n",
    "    L = [D0 for D in range(7)]\n",
    "    L0 = scipy.sparse.block_diag(L)\n",
    "    Cm0 = L0.T@L0\n",
    "    Cm0 = inverse.extract_cov(Cm0, mod_act)\n",
    "\n",
    "    D1 = inverse.diffops(dz, der=False, mtype=\"sparse\", otype=\"L1\")\n",
    "    L = [D1 for D in range(7)]\n",
    "    L1 = scipy.sparse.block_diag(L)\n",
    "    Cm1 = L1.T@L1\n",
    "    Cm1 = inverse.extract_cov(Cm1, mod_act)\n",
    "\n",
    "    Maxiter = 10\n",
    "    \n",
    "    Maxreduce = 5\n",
    "    Rfact = 0.66\n",
    "    LinPars = [Maxreduce, Rfact]\n",
    "\n",
    "\n",
    "    ThreshRMS = [0.5, 1.0e-2, 1.0e-2]\n",
    "    L = L1\n",
    "    TauSeq = [0.5]\n",
    "    Delta = [1.e-5]\n",
    "    \n",
    "    Tau0 = 100.\n",
    "    RegShift = 1\n",
    "    \n",
    "    Ctrl = dict([\n",
    "        (\"system\", [AEM_system, FwdCall]),        \n",
    "        (\"name\", \"\"),\n",
    "        (\"inversion\", \n",
    "         numpy.array([RunType, TauSeq, Tau0, Maxiter,ThreshRMS, \n",
    "                      LinPars, SetPrior, Delta, RegShift],dtype=object)),\n",
    "        (\"covar\", \n",
    "         numpy.array( [L0, Cm0, L1, Cm1], dtype=object)),\n",
    "        (\"transform\",\n",
    "         [DataTrans, ParaTrans]),\n",
    "        (\"uncert\", \n",
    "         Uncert)\n",
    "       ])"
   ]
  },
  {
   "cell_type": "code",
   "execution_count": null,
   "id": "c1abb430",
   "metadata": {},
   "outputs": [],
   "source": []
  },
  {
   "cell_type": "code",
   "execution_count": null,
   "id": "447536be",
   "metadata": {},
   "outputs": [],
   "source": []
  },
  {
   "cell_type": "code",
   "execution_count": null,
   "id": "24ee4c22",
   "metadata": {},
   "outputs": [],
   "source": [
    "if OutInfo:\n",
    "    print(Ctrl.keys())"
   ]
  },
  {
   "cell_type": "code",
   "execution_count": null,
   "id": "07e08e39",
   "metadata": {},
   "outputs": [],
   "source": []
  },
  {
   "cell_type": "code",
   "execution_count": null,
   "id": "74f4234d",
   "metadata": {
    "lines_to_next_cell": 2
   },
   "outputs": [],
   "source": [
    "outstrng = \"_nlyr\"+str(Nlyr)\\\n",
    "            +\"_\"+RunType\\\n",
    "            +\"_Prior\"+str(int(Guess_r))\\\n",
    "            +\"_Err_a\"+ str(int(DatErr_add))+\"-m\"+str(int(100*DatErr_mult))\n",
    "print(\"ID string: input file + %s \" % outstrng)"
   ]
  },
  {
   "cell_type": "code",
   "execution_count": null,
   "id": "ba2b0142",
   "metadata": {},
   "outputs": [],
   "source": [
    "fcount =0\n",
    "for file in dat_files:\n",
    "\n",
    "    start = time.time()\n",
    "\n",
    "    fcount=fcount+1\n",
    "\n",
    "    name, ext = os.path.splitext(file)\n",
    "    filein = InDatDir+file\n",
    "    fileout = OutDatDir + name + outstrng\n",
    "\n",
    "    numpy.savez_compressed(file=fileout+\"_ctrl\"+OutFileFmt,**Ctrl)\n",
    "\n",
    "    print(\"\\n Reading file \" + filein)\n",
    "    DataObs, Header, _ = aesys.read_aempy(File=filein,\n",
    "                                   System=AEM_system, OutInfo=False)\n",
    "\n",
    "    fl_name = DataObs[0, 0]\n",
    "    site_x = DataObs[:, 1]\n",
    "    site_y = DataObs[:, 2]\n",
    "    site_gps = DataObs[:, 3]\n",
    "    site_alt = DataObs[:, 4]\n",
    "    site_dem = DataObs[:, 5]\n",
    "    dat_obs =  DataObs[:, 6:6+NN[2]]\n",
    "    [nsite,ndata] = numpy.shape(dat_obs)\n",
    "    dat_act = numpy.tile(data_active,(nsite,1))\n",
    "\n",
    "    if \"read\" in SetPrior.lower():\n",
    "        halfspace =\"halfspace_results\"\n",
    "        file, filext0 = os.path.splitext(file)\n",
    "        prior_file = file+halfspace+filext0\n",
    "        mod_prior, var_prior = inverse.load_prior(prior_file)\n",
    "\n",
    "\n",
    "    start = time.time()\n",
    "    \"\"\"\n",
    "    Loop over sites\n",
    "    \"\"\"\n",
    "    sequence = range(nsite)\n",
    "    if ReverseDir:\n",
    "        sites = sequence[::-1]\n",
    "    else:\n",
    "        sites = sequence\n",
    "\n",
    "\n",
    "    logsize = (2 + 7*Maxiter)\n",
    "    site_log = numpy.full((len(sites),logsize), numpy.nan)\n",
    "\n",
    "    for ii in sites:\n",
    "        print(\"\\n Invert site #\"+str(ii)+\"/\"+str(len(sites)))\n",
    "\n",
    "        \"\"\"\n",
    "        Setup model-related parameter dict\n",
    "        \"\"\"\n",
    "\n",
    "        if \"read\" in SetPrior.lower():\n",
    "            mod_apr = mod_prior[ii]\n",
    "            mod_ini = mod_apr.copy()\n",
    "\n",
    "        elif \"upd\" in SetPrior:\n",
    "\n",
    "            if ii == 0:\n",
    "                mod_ini = mod_apr.copy()\n",
    "                model = mod_ini.copy()\n",
    "            else:\n",
    "                mod_ini = model.copy()\n",
    "                model = mod_ini.copy()\n",
    "\n",
    "        elif \"set\" in SetPrior:\n",
    "\n",
    "                mod_ini = mod_apr.copy()\n",
    "                model = mod_ini.copy()\n",
    "\n",
    "        Model = dict([\n",
    "            (\"m_act\", mod_act),\n",
    "            (\"m_apr\", mod_apr),\n",
    "            (\"m_var\", mod_var),\n",
    "            (\"m_bnd\", mod_bnd),\n",
    "            (\"m_ini\", mod_ini)\n",
    "            ])\n",
    "\n",
    "        \"\"\"\n",
    "        Setup data-related parameter dict\n",
    "        \"\"\"\n",
    "\n",
    "        dat_err = numpy.zeros_like(dat_obs)\n",
    "        dat_err[ii, :], _ = inverse.set_errors(dat_obs[ii, :],\n",
    "                                                daterr_add=DatErr_add,\n",
    "                                                daterr_mult=DatErr_mult)\n",
    "\n",
    "        Data = dict([\n",
    "            (\"d_act\", dat_act[ii,:]),\n",
    "            (\"d_obs\", dat_obs[ii,:]),\n",
    "            (\"d_err\", dat_err[ii,:]),\n",
    "            (\"alt\", site_alt[ii])\n",
    "            ])\n",
    "\n",
    "        \"\"\"\n",
    "        Call inversion algorithms\n",
    "        \"\"\"\n",
    "        Results =\\\n",
    "                alg.run_occ(Ctrl=Ctrl, Model=Model, Data=Data,\n",
    "                                  OutInfo=OutInfo)\n",
    "        \"\"\"\n",
    "        Store inversion Results\n",
    "        \"\"\"\n",
    "        if OutInfo:\n",
    "            print(\"Results: \",Results.keys())\n",
    "\n",
    "\n",
    "        M = Results[\"model\"]\n",
    "        D = Results[\"data\"]\n",
    "        C = Results[\"log\"]\n",
    "\n",
    "        if ii==0:\n",
    "            site_num  = numpy.array([ii])\n",
    "            site_nrms = C[2]\n",
    "            site_smap = C[3]\n",
    "            site_modl = M[0]\n",
    "            site_merr = M[1]\n",
    "            site_sens = M[2]\n",
    "            site_dobs = D[0].reshape((1,-1))\n",
    "            site_dcal = D[1].reshape((1,-1))\n",
    "            site_derr = D[2].reshape((1,-1))\n",
    "            # print(\"ii=0\")\n",
    "            cc = numpy.hstack((C[0], C[1], C[2], C[3],\n",
    "                              C[4].ravel(),\n",
    "                              C[5].ravel(),\n",
    "                              C[6].ravel(),\n",
    "                              C[7].ravel()))\n",
    "            site_log[ii,0:len(cc)] = cc\n",
    "            if Uncert:\n",
    "                jacd = Results[\"jacd\"]\n",
    "                site_jacd = jacd.reshape((1,numpy.size(jacd)))\n",
    "                pcov = Results[\"cpost\"]\n",
    "                site_pcov = pcov.reshape((1,numpy.size(pcov)))\n",
    "        else:\n",
    "           site_num = numpy.vstack((site_num, ii))\n",
    "           site_nrms = numpy.vstack((site_nrms, C[2]))\n",
    "           site_smap = numpy.vstack((site_smap, C[3]))\n",
    "           site_modl = numpy.vstack((site_modl, M[0]))\n",
    "           site_merr = numpy.vstack((site_merr, M[1]))\n",
    "           site_sens = numpy.vstack((site_sens, M[2]))\n",
    "           site_dobs = numpy.vstack((site_dobs, D[0]))\n",
    "           site_dcal = numpy.vstack((site_dcal, D[1]))\n",
    "           site_derr = numpy.vstack((site_derr, D[2]))\n",
    "           cc = numpy.hstack((C[0], C[1], C[2], C[3],\n",
    "                              C[4].ravel(),\n",
    "                              C[5].ravel(),\n",
    "                              C[6].ravel(),\n",
    "                              C[7].ravel()))\n",
    "           site_log[ii,0:len(cc)] = cc\n",
    "\n",
    "           if Uncert:\n",
    "               jacd = Results[\"jacd\"]\n",
    "               site_jacd = numpy.vstack((site_jacd,jacd.reshape((1,numpy.size(jacd)))))\n",
    "               pcov = Results[\"cpost\"]\n",
    "               site_pcov = numpy.vstack((site_pcov, pcov.reshape((1,numpy.size(pcov)))))\n",
    "\n",
    "\n",
    "\n",
    "    numpy.savez_compressed(\n",
    "        file=fileout+\"_results.npz\",\n",
    "        fl_data=file,\n",
    "        fl_name=fl_name,\n",
    "        header=titstrng,\n",
    "        site_log =site_log,\n",
    "        mod_ref=mod_apr,\n",
    "        mod_act=mod_act,\n",
    "        dat_act=dat_act,\n",
    "        site_modl=site_modl,\n",
    "        site_sens=site_sens,\n",
    "        site_merr=site_merr,\n",
    "        site_dobs=site_dobs,\n",
    "        site_dcal=site_dcal,\n",
    "        site_derr=site_derr,\n",
    "        site_nrms=site_nrms,\n",
    "        site_smap=site_smap,\n",
    "        site_num=site_num,\n",
    "        site_y=site_y,\n",
    "        site_x=site_x,\n",
    "        site_gps=site_gps,\n",
    "        site_alt=site_alt,\n",
    "        site_dem=site_dem)\n",
    "\n",
    "    if Uncert:\n",
    "        numpy.savez_compressed(        \n",
    "            file=fileout+\"_results.npz\",\n",
    "            fl_data=file,\n",
    "            fl_name=fl_name,\n",
    "            header=titstrng,\n",
    "            site_log =site_log,\n",
    "            mod_ref=mod_apr,\n",
    "            mod_act=mod_act,\n",
    "            dat_act=dat_act,\n",
    "            site_modl=site_modl,\n",
    "            site_sens=site_sens,\n",
    "            site_merr=site_merr,\n",
    "            site_dobs=site_dobs,\n",
    "            site_dcal=site_dcal,\n",
    "            site_derr=site_derr,\n",
    "            site_nrms=site_nrms,        \n",
    "            site_smap=site_smap,\n",
    "            site_num=site_num,\n",
    "            site_y=site_y,\n",
    "            site_x=site_x,\n",
    "            site_gps=site_gps,\n",
    "            site_alt=site_alt,\n",
    "            site_dem=site_dem,\n",
    "            site_jacd= site_jacd,\n",
    "            site_pcov= site_pcov)\n",
    "\n",
    "    print(\"\\n\\nResults stored to \"+fileout)\n",
    "    elapsed = (time.time() - start)\n",
    "    print (\" Used %7.4f sec for %6i sites\" % (elapsed, ii+1))\n",
    "    print (\" Average %7.4f sec/site\\n\" % (elapsed/(ii+1)))"
   ]
  },
  {
   "cell_type": "code",
   "execution_count": null,
   "id": "795d1ec2",
   "metadata": {},
   "outputs": [],
   "source": [
    "print(\"\\n\\nAll done!\")"
   ]
  }
 ],
 "metadata": {
  "jupytext": {
   "cell_metadata_filter": "-all",
   "executable": "/usr/bin/env python3",
   "formats": "py,ipynb",
   "main_language": "python"
  }
 },
 "nbformat": 4,
 "nbformat_minor": 5
}
