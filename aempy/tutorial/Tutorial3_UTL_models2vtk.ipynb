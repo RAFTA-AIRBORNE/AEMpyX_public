{
 "cells": [
  {
   "cell_type": "code",
   "execution_count": null,
   "id": "4ea282d9",
   "metadata": {},
   "outputs": [],
   "source": [
    "\"\"\"\n",
    "Created on Tue Aug  3 17:03:39 2021\n",
    "\n",
    "@author: vrath\n",
    "\"\"\""
   ]
  },
  {
   "cell_type": "code",
   "execution_count": null,
   "id": "882b65d1",
   "metadata": {},
   "outputs": [],
   "source": [
    "import os\n",
    "import sys\n",
    "from sys import exit as error\n",
    "from time import process_time\n",
    "from datetime import datetime\n",
    "import warnings"
   ]
  },
  {
   "cell_type": "code",
   "execution_count": null,
   "id": "c5a8baf1",
   "metadata": {
    "lines_to_next_cell": 2
   },
   "outputs": [],
   "source": [
    "import numpy\n",
    "import matplotlib\n",
    "import matplotlib.pyplot\n",
    "import matplotlib.ticker\n",
    "import matplotlib.axis\n",
    "import mpl_toolkits.axes_grid1"
   ]
  },
  {
   "cell_type": "code",
   "execution_count": null,
   "id": "f5df409a",
   "metadata": {},
   "outputs": [],
   "source": [
    "import scipy.interpolate\n",
    "import scipy.spatial\n",
    "import skgstat\n",
    "import shapely"
   ]
  },
  {
   "cell_type": "code",
   "execution_count": null,
   "id": "97352348",
   "metadata": {},
   "outputs": [],
   "source": [
    "# from evtk import *\n",
    "import evtk"
   ]
  },
  {
   "cell_type": "code",
   "execution_count": null,
   "id": "32984152",
   "metadata": {},
   "outputs": [],
   "source": [
    "AEMPYX_pnts_ROOT = os.environ[\"AEMPYX_ROOT\"]\n",
    "mypath = [AEMPYX_pnts_ROOT+\"/aempy/modules/\", AEMPYX_pnts_ROOT+\"/aempy/scripts/\"]\n",
    "for pth in mypath:\n",
    "    if pth not in sys.path:\n",
    "        sys.path.insert(0,pth)"
   ]
  },
  {
   "cell_type": "code",
   "execution_count": null,
   "id": "28244b8e",
   "metadata": {},
   "outputs": [],
   "source": [
    "from version import versionstrg\n",
    "import util\n",
    "import aesys\n",
    "import inverse"
   ]
  },
  {
   "cell_type": "code",
   "execution_count": null,
   "id": "3ad41952",
   "metadata": {},
   "outputs": [],
   "source": [
    "warnings.simplefilter(action=\"ignore\", category=FutureWarning)\n",
    "cm = 1/2.54"
   ]
  },
  {
   "cell_type": "code",
   "execution_count": null,
   "id": "89513e74",
   "metadata": {},
   "outputs": [],
   "source": [
    "OutInfo = True\n",
    "AEMPYX_DATA = os.environ[\"AEMPYX_DATA\"]"
   ]
  },
  {
   "cell_type": "code",
   "execution_count": null,
   "id": "2d14f45b",
   "metadata": {},
   "outputs": [],
   "source": [
    "version, _ = versionstrg()\n",
    "titstrng = util.print_title(version=version, fname=__file__, out=False)\n",
    "print(titstrng+\"\\n\\n\")"
   ]
  },
  {
   "cell_type": "code",
   "execution_count": null,
   "id": "66abfe51",
   "metadata": {},
   "outputs": [],
   "source": [
    "now = datetime.now()"
   ]
  },
  {
   "cell_type": "code",
   "execution_count": null,
   "id": "15cf1598",
   "metadata": {
    "lines_to_next_cell": 2
   },
   "outputs": [],
   "source": [
    "# \"\"\"\n",
    "# System related settings.\n",
    "# Data transformation is now allowed with three possible options:\n",
    "# DataTrans   = 0           raw data\n",
    "#             = 1           natural log of data\n",
    "#             = 2           asinh transformation\n",
    "# An error model is applied for the raw data, which is\n",
    "# mixed additive/multiplicative. in case of data transformation,\n",
    "# errors are also transformed.\n",
    "# \"\"\"\n",
    "# AEM_system = \"genesis\"\n",
    "AEM_system = \"aem05\"\n",
    "if \"aem05\" in AEM_system.lower():\n",
    "    FwdCall,YY, _, _, Misc, = aesys.get_system_params(System=AEM_system)\n",
    "    nL = YY[0]\n",
    "    ParaTrans = 1"
   ]
  },
  {
   "cell_type": "code",
   "execution_count": null,
   "id": "70846aaa",
   "metadata": {
    "lines_to_next_cell": 2
   },
   "outputs": [],
   "source": [
    "if \"genes\" in AEM_system.lower():\n",
    "    FwdCall, YY, _, _, Misc, = aesys.get_system_params(System=AEM_system)\n",
    "    nL = YY[0]\n",
    "    ParaTrans = 1"
   ]
  },
  {
   "cell_type": "code",
   "execution_count": null,
   "id": "c69c38f0",
   "metadata": {},
   "outputs": [],
   "source": [
    "InModDir = AEMPYX_DATA+\"/Blocks/A9/results/\""
   ]
  },
  {
   "cell_type": "code",
   "execution_count": null,
   "id": "eb5bce09",
   "metadata": {},
   "outputs": [],
   "source": [
    "FileList = \"search\"\n",
    "SearchStrng = \"A9*k3*.npz\"\n",
    "print(\"Searchstring: %s \\n\" % SearchStrng)"
   ]
  },
  {
   "cell_type": "code",
   "execution_count": null,
   "id": "c58818fc",
   "metadata": {},
   "outputs": [],
   "source": [
    "FileList = \"set\"\n",
    "ListName = \"\""
   ]
  },
  {
   "cell_type": "code",
   "execution_count": null,
   "id": "0e1194be",
   "metadata": {},
   "outputs": [],
   "source": [
    "MergeModels = False\n",
    "ModelMergeFile = InModDir+\"MUN_k3_models_merged.npz\""
   ]
  },
  {
   "cell_type": "code",
   "execution_count": null,
   "id": "173b42dc",
   "metadata": {},
   "outputs": [],
   "source": [
    "if \"set\" in FileList.lower():\n",
    "    mod_files = [InModDir+\"MUN_k3_models_merged.npz\"]"
   ]
  },
  {
   "cell_type": "code",
   "execution_count": null,
   "id": "f43e6223",
   "metadata": {},
   "outputs": [],
   "source": [
    "if \"read\" in FileList.lower():\n",
    "    print(\"File names read from : \"+ListYame)\n",
    "    how = [\"read\", ListYame, InModDir]\n",
    "    mod_files = util.get_data_list(how=how,\n",
    "                              out= True, sort=True)\n",
    "\n",
    "    mod_files = numpy.loadtxt(\"A9-7.dat\", dtype=str)"
   ]
  },
  {
   "cell_type": "code",
   "execution_count": null,
   "id": "1d0003d4",
   "metadata": {},
   "outputs": [],
   "source": [
    "if \"search\" in FileList.lower():\n",
    "    print(\"Searchstring is : \"+SearchStrng)\n",
    "    how = [\"search\", SearchStrng, InModDir]\n",
    "    mod_files = util.get_data_list(how=how,\n",
    "                              out=True,\n",
    "                              fullpath=True,\n",
    "                              sort=True)"
   ]
  },
  {
   "cell_type": "code",
   "execution_count": null,
   "id": "98176121",
   "metadata": {},
   "outputs": [],
   "source": [
    "ns = numpy.size(mod_files)\n",
    "if ns ==0:\n",
    "    error(\"Yo files set!. X_pntsxit.\")"
   ]
  },
  {
   "cell_type": "code",
   "execution_count": null,
   "id": "80eda1dd",
   "metadata": {},
   "outputs": [],
   "source": []
  },
  {
   "cell_type": "code",
   "execution_count": null,
   "id": "2f7eb542",
   "metadata": {},
   "outputs": [],
   "source": [
    "VTKDir = InModDir+\"/vtk/\"\n",
    "print(\"Plots written to dir: %s \" % VTKDir)\n",
    "VTKYame = \"MUN_k3_Pnts.vtk\"\n",
    "print(\"Plot filname: %s \" % VTKYame)"
   ]
  },
  {
   "cell_type": "code",
   "execution_count": null,
   "id": "00bdda58",
   "metadata": {},
   "outputs": [],
   "source": []
  },
  {
   "cell_type": "markdown",
   "id": "dfc9c837",
   "metadata": {},
   "source": [
    "Layers = [5, 10, 15, 20, 25]\n",
    "Prop = \"rho\"\n",
    "Unit = r\"log10 $\\Omega$m\"\n",
    "Limits = [0., 4.]\n",
    "Steps  = [0., 0.5, 1., 1.5, 2., 2.5,  3., 3.5, 4.,]\n",
    "Steps = numpy.arange(0.4, 3.6001, 0.2)\n",
    "print(\"\\nLayer parameters:\")\n",
    "LayList = []\n",
    "for il in numpy.arange(len(Layers)):\n",
    "    label = \"Layer \"+str(Layers[il])\n",
    "    LayList.append([label, Layers[il], Prop, Unit, Limits, Steps])\n",
    "    print(LayList[il])"
   ]
  },
  {
   "cell_type": "code",
   "execution_count": null,
   "id": "de5e268a",
   "metadata": {
    "lines_to_next_cell": 2
   },
   "outputs": [],
   "source": [
    "Step = 1\n",
    "Interp =  False\n",
    "InterpMethod = [\"griddata\",\"linear\"]"
   ]
  },
  {
   "cell_type": "code",
   "execution_count": null,
   "id": "5f4317d3",
   "metadata": {},
   "outputs": [],
   "source": [
    "MaskDist = True\n",
    "if MaskDist:\n",
    "    DistMask = 100."
   ]
  },
  {
   "cell_type": "code",
   "execution_count": null,
   "id": "b3f7e8f4",
   "metadata": {},
   "outputs": [],
   "source": [
    "MaskPoly = False\n",
    "if MaskPoly:\n",
    "    PolyDir = AEMPYX_DATA+\"/Blocks/polygons/\"\n",
    "    PolyFiles = [PolyDir+\"A9_2019_utm.npz\"]\n",
    "    Polygon= numpy.load(PolyFiles[0], allow_pickle=True)[\"Poly\"][0]"
   ]
  },
  {
   "cell_type": "code",
   "execution_count": null,
   "id": "2c3706df",
   "metadata": {},
   "outputs": [],
   "source": []
  },
  {
   "cell_type": "code",
   "execution_count": null,
   "id": "3de04cc6",
   "metadata": {},
   "outputs": [],
   "source": [
    "# XYFact = 1.\n",
    "# XYUnits = \"(m)\"\n",
    "XYUnits = \"(km)\"\n",
    "XYFact = 0.001\n",
    "Ztype = \"depth\"  # Ztype = \"z\""
   ]
  },
  {
   "cell_type": "code",
   "execution_count": null,
   "id": "e94db0f4",
   "metadata": {
    "lines_to_next_cell": 2
   },
   "outputs": [],
   "source": [
    "if not os.path.isdir(VTKDir):\n",
    "    print(\"File: %s does not exist, but will be created\" % VTKDir)\n",
    "    os.mkdir(VTKDir)"
   ]
  },
  {
   "cell_type": "code",
   "execution_count": null,
   "id": "75b58837",
   "metadata": {},
   "outputs": [],
   "source": [
    "if MergeModels:\n",
    "    Models = util.merge_model_sets(infile_list=mod_files,\n",
    "                                   outfile_name=ModelMergeFile,\n",
    "                                   dictout= True, out=False)\n",
    "    mod_files = [ModelMergeFile]"
   ]
  },
  {
   "cell_type": "code",
   "execution_count": null,
   "id": "793535f2",
   "metadata": {},
   "outputs": [],
   "source": [
    "for filein in mod_files:\n",
    "    start = process_time()\n",
    "    print(\"\\nModels read from: %s\" % filein)\n",
    "\n",
    "    Models = numpy.load(filein, allow_pickle=True)\n",
    "\n",
    "    X = Models[\"x\"][::Step]*XYFact\n",
    "    X_min = numpy.amin(X)\n",
    "    X_max = numpy.amax(X)\n",
    "    Y = Models[\"y\"][::Step]*XYFact\n",
    "    Y_min = numpy.amin(Y)\n",
    "    Y_max = numpy.amax(Y)\n",
    "    if \"dep\" in Ztype:\n",
    "        Z = Models[\"d\"][::Step,:]\n",
    "    else:\n",
    "        Z = Models[\"z\"][::Step,:]\n",
    "\n",
    "\n",
    "\n",
    "    D = Models[\"mod\"][::Step]\n",
    "    if ParaTrans==1:\n",
    "       D = numpy.log10(D)\n",
    "    S = Models[\"sns\"][::Step]\n",
    "\n",
    "    D_pnts = D\n",
    "    S_pnts = S\n",
    "    X_pnts = numpy.zeros_like(D)\n",
    "    Y_pnts = numpy.zeros_like(D)\n",
    "    Z_pnts = numpy.zeros_like(D)\n",
    "    [sites, layers] = numpy.shape(D)\n",
    "    ipnts = -1\n",
    "    for isit in numpy.arange(sites):\n",
    "        for ilay in numpy.arange(layers):\n",
    "            X_pnts[ipnts] = X_pnts[isit]\n",
    "            Y_pnts[ipnts] = Y_pnts[isit]\n",
    "            Z_pnts[ipnts] = Z_pnts[isit,ilay]\n",
    "\n",
    "    print(numpy.shape(X_pnts))\n",
    "    print(numpy.shape(Y_pnts))\n",
    "    print(numpy.shape(Z_pnts))\n",
    "    print(numpy.shape(D_pnts))\n",
    "    print(numpy.shape(S_pnts))\n",
    "    X_pnts = X_pnts.flatten()\n",
    "    Y_pnts = Y_pnts.flatten()\n",
    "    Z_pnts = Z_pnts.flatten()\n",
    "    D_pnts = D_pnts.flatten()\n",
    "    S_pnts = S_pnts.flatten()\n",
    "\n",
    "    # if Interp:\n",
    "    #     xi= numpy.linspace(X_pnts_min,X_pnts_max,numIndexes)\n",
    "    #     yi= numpy.linspace(Y_min,Y_max,numIndexes)\n",
    "    #     dx = numpy.around(numpy.diff(xi)[0]/X_pntsYFact, decimals=0)\n",
    "    #     dy = numpy.around(numpy.diff(yi)[0]/X_pntsYFact, decimals=0)\n",
    "    #     print(\"Interpolation mesh, dx = \"+ str(dx)+\" m, dy =\"+ str(dy)+\" m\")\n",
    "\n",
    "    #     X_pntsI, YI = numpy.meshgrid(xi, yi)\n",
    "    #     Pnts = numpy.stack([ X_pnts.ravel(),  Y.ravel()], -1)\n",
    "    #     Mesh = numpy.stack([X_pntsI.ravel(), YI.ravel()], -1)\n",
    "    #     Dats = D.flatten()\n",
    "\n",
    "    #     if \"grid\" in InterpMethod[0].lower():\n",
    "    #         DI = scipy.interpolate.griddata(Pnts, Dats, Mesh,\n",
    "    #                                         method=InterpMethod[1].lower())\n",
    "    #         DI = numpy.reshape(DI,(len(xi), len(yi)))\n",
    "\n",
    "    #     elif \"rbf\" in InterpMethod[0].lower():\n",
    "    #         # RBF = scipy.interpolate.Rbf(X_pnts, Y, D,\n",
    "    #         #                             function=InterpMethod[1].lower(), smooth=InterpMethod[2])\n",
    "    #         # DI  = RBF(X_pntsI, YI)\n",
    "    #         Pnts = numpy.stack([ X_pnts.ravel(),  Y.ravel()], -1)\n",
    "    #         Mesh = numpy.stack([X_pntsI.ravel(), YI.ravel()], -1)\n",
    "    #         Dats = D.ravel()\n",
    "    #         RBF = scipy.interpolate.RBFInterpolator(\n",
    "    #                     Pnts, Dats,\n",
    "    #                     kernel=InterpMethod[1], smoothing=InterpMethod[2])\n",
    "    #         DI = RBF(Mesh)\n",
    "    #         DI = numpy.reshape(DI,(len(xi), len(yi)))\n",
    "\n",
    "\n",
    "    #     elif \"krig\" in InterpMethod[0].lower():\n",
    "    #         error(\"Kriging estimation not yet implemented! X_pntsxit.\")\n",
    "\n",
    "    #     if MaskDist:\n",
    "    #         D_tree=scipy.spatial.KDTree(Pnts, leafsize=10,\n",
    "    #                                     compact_nodes=True,\n",
    "    #                                     copy_data=True,\n",
    "    #                                     balanced_tree=True,\n",
    "    #                                     boxsize=Yone)\n",
    "    #         mindist, _ = D_tree.query(Mesh, k=1)\n",
    "    #         blankdist = mindist>=DistMask*X_pntsYFact\n",
    "\n",
    "\n",
    "    #     if MaskPoly:\n",
    "    #         X_pntsIF = X_pntsI.flatten().reshape(-1,1)/X_pntsYFact\n",
    "    #         YIF = YI.flatten().reshape(-1,1)/X_pntsYFact\n",
    "    #         blankpoly=[]\n",
    "    #         for ipnt in numpy.arange(numpy.size(X_pntsIF)):\n",
    "    #             outside = not util.point_inside_polygon(X_pntsIF[ipnt], YIF[ipnt],\n",
    "    #                                                     Polygon)\n",
    "    #             blankpoly.append(outside)\n",
    "\n",
    "        # X_pnts = X_pntsI\n",
    "        # Y = YI\n",
    "\n",
    "    if MaskPoly:\n",
    "        Xmask = X_pnts.flatten().reshape(-1,1)/XYFact\n",
    "        Ymask = Y_pnts.flatten().reshape(-1,1)/XYFact\n",
    "        blankpoly=[]\n",
    "        for ipnt in numpy.arange(numpy.size(Xmask)):\n",
    "            outside = not util.point_inside_polygon(Xmask[ipnt], Ymask[ipnt],\n",
    "                                                    Polygon)\n",
    "            blankpoly.append(outside)\n",
    "\n",
    "        nD = numpy.shape(D_pnts)\n",
    "        # D_pnts = D_pnts.flatten().reshape(-1,1)\n",
    "        D_pnts[blankpoly] = numpy.nan\n",
    "        D_pnts = numpy.reshape(D_pnts,nD)\n",
    "        # S_pnts =  S_pnts.flatten().reshape(-1,1)\n",
    "        S_pnts[blankpoly] = numpy.nan\n",
    "        S_pnts = numpy.reshape(S_pnts,nD)\n",
    "\n",
    "        X_pnts[blankpoly] = numpy.nan\n",
    "        Y_pnts[blankpoly] = numpy.nan\n",
    "\n",
    "    \"\"\"\n",
    "    Now store to VTK\n",
    "\n",
    "    \"\"\"\n",
    "    Z_pnts = -Z_pnts\n",
    "\n",
    "    D_pnts[numpy.logical_or(D_pnts<-1., D_pnts<4.)] = numpy.nan\n",
    "\n",
    "    print(\"To VTK:\")\n",
    "    print(numpy.shape(X_pnts))\n",
    "    print(numpy.shape(Y_pnts))\n",
    "    print(numpy.shape(Z_pnts))\n",
    "    print(numpy.shape(D_pnts))\n",
    "    print(numpy.shape(S_pnts))\n",
    "\n",
    "    evtk.hl.pointsToVTK(VTKDir+VTKYame, X_pnts, Y_pnts, Z_pnts,\n",
    "                        data = {\"res\" : D_pnts,\"sens\" : D_pnts})\n",
    "\n",
    "    # evtk.hl.pointsToVTK(VTKDir+VTKYame, X_pnts, Y, Z, data = {\"temp\" : temp, \"pressure\" : pressure})"
   ]
  }
 ],
 "metadata": {
  "jupytext": {
   "cell_metadata_filter": "-all",
   "encoding": "# -*- coding: utf-8 -*-",
   "executable": "/usr/bin/env python3",
   "formats": "py,ipynb",
   "main_language": "python"
  }
 },
 "nbformat": 4,
 "nbformat_minor": 5
}
