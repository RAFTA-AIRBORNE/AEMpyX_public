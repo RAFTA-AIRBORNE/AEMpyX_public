{
 "cells": [
  {
   "cell_type": "code",
   "execution_count": null,
   "id": "1e213079",
   "metadata": {},
   "outputs": [],
   "source": [
    "    ! /usr/bin/python\n",
    "# ---\n",
    "# jupyter:\n",
    "#   jupytext:\n",
    "#     cell_metadat_filter: comment_questions,-all\n",
    "#     formats: py:light,ipynb\n",
    "#     text_representation:\n",
    "#       extension: .py\n",
    "#       format_name: light\n",
    "#       format_version: \"1.5\"\n",
    "#       jupytext_version: 1.11.3\n",
    "# ---"
   ]
  },
  {
   "cell_type": "code",
   "execution_count": null,
   "id": "905f3562",
   "metadata": {},
   "outputs": [],
   "source": [
    "import os\n",
    "import sys\n",
    "from sys import exit as error\n",
    "from datetime import datetime\n",
    "# from time import process_time\n",
    "# from random import randrange\n",
    "import time\n",
    "import warnings"
   ]
  },
  {
   "cell_type": "code",
   "execution_count": null,
   "id": "12e34430",
   "metadata": {},
   "outputs": [],
   "source": [
    "import numpy\n",
    "import scipy"
   ]
  },
  {
   "cell_type": "code",
   "execution_count": null,
   "id": "f8314475",
   "metadata": {},
   "outputs": [],
   "source": [
    "%logstart -o"
   ]
  },
  {
   "cell_type": "code",
   "execution_count": null,
   "id": "5ae3de79",
   "metadata": {},
   "outputs": [],
   "source": [
    "AEMPYX_ROOT = os.environ[\"AEMPYX_ROOT\"]\n",
    "mypath = [AEMPYX_ROOT+\"/aempy/modules/\", AEMPYX_ROOT+\"/aempy/scripts/\"]\n",
    "for pth in mypath:\n",
    "    if pth not in sys.path:\n",
    "        sys.path.insert(0,pth)"
   ]
  },
  {
   "cell_type": "code",
   "execution_count": null,
   "id": "bf3d310b",
   "metadata": {},
   "outputs": [],
   "source": [
    "from version import versionstrg"
   ]
  },
  {
   "cell_type": "code",
   "execution_count": null,
   "id": "f4846d05",
   "metadata": {},
   "outputs": [],
   "source": [
    "# import aesys\n",
    "import util\n",
    "import inverse"
   ]
  },
  {
   "cell_type": "code",
   "execution_count": null,
   "id": "728dac5d",
   "metadata": {},
   "outputs": [],
   "source": [
    "warnings.simplefilter(action=\"ignore\", category=FutureWarning)"
   ]
  },
  {
   "cell_type": "code",
   "execution_count": null,
   "id": "a41a0620",
   "metadata": {},
   "outputs": [],
   "source": [
    "OutInfo = True\n",
    "AEMPYX_DATA = os.environ[\"AEMPYX_DATA\"]"
   ]
  },
  {
   "cell_type": "code",
   "execution_count": null,
   "id": "8a3fb124",
   "metadata": {},
   "outputs": [],
   "source": [
    "rng = numpy.random.default_rng()\n",
    "nan = numpy.nan  # float(\"NaN\")"
   ]
  },
  {
   "cell_type": "code",
   "execution_count": null,
   "id": "6cd96eb0",
   "metadata": {},
   "outputs": [],
   "source": [
    "version, _ = versionstrg()\n",
    "titstrng = util.print_title(version=version, fname=__file__, out=False)\n",
    "print(titstrng+\"\\n\\n\")"
   ]
  },
  {
   "cell_type": "code",
   "execution_count": null,
   "id": "3b1a238b",
   "metadata": {},
   "outputs": [],
   "source": [
    "OutInfo = True\n",
    "now = datetime.now()"
   ]
  },
  {
   "cell_type": "code",
   "execution_count": null,
   "id": "b9c1de9b",
   "metadata": {},
   "outputs": [],
   "source": [
    "Method = \"Oldenburg1999\"\n",
    "Method = \"Variance\""
   ]
  },
  {
   "cell_type": "code",
   "execution_count": null,
   "id": "70950b58",
   "metadata": {
    "lines_to_next_cell": 2
   },
   "outputs": [],
   "source": [
    "# InDatDir =  AEMPYX_DATA + \"/Projects/InvParTest/proc_delete_PLM3s/\"\n",
    "InModDir =  AEMPYX_ROOT + \"/aempy/data/AEM05/results_doi/\"\n",
    "if not InModDir.endswith(\"/\"): InModDir=InModDir+\"/\""
   ]
  },
  {
   "cell_type": "markdown",
   "id": "064f0032",
   "metadata": {},
   "source": [
    "Method = \"Oldenburg1999\"\n",
    "FileList = \"set\" \n",
    "SearchStrng = \"\""
   ]
  },
  {
   "cell_type": "code",
   "execution_count": null,
   "id": "b5284f8f",
   "metadata": {
    "lines_to_next_cell": 2
   },
   "outputs": [],
   "source": [
    "Method = \"Variance\"\n",
    "FileList = \"search\"  \n",
    "SearchStrng = \"*results.npz\""
   ]
  },
  {
   "cell_type": "code",
   "execution_count": null,
   "id": "0907751e",
   "metadata": {
    "lines_to_next_cell": 2
   },
   "outputs": [],
   "source": [
    "# InDatDir =  AEMPYX_DATA + \"/Projects/InvParTest/proc_delete_PLM3s/\"\n",
    "InDatDir =  AEMPYX_ROOT + \"/aempy/data/AEM05/\"\n",
    "if not InDatDir.endswith(\"/\"): InDatDir=InDatDir+\"/\""
   ]
  },
  {
   "cell_type": "code",
   "execution_count": null,
   "id": "1d10d48f",
   "metadata": {},
   "outputs": [],
   "source": [
    "if \"set\" in FileList.lower():\n",
    "    print(\"Data files read from dir:  %s\" % InDatDir)\n",
    "    # dat_files = []\n",
    "    mod_files = [\"StGormans_FL11379-0_k3_nlyr36_TikhOpt_gcv_Prior10_Err_a75-m5_results.npz\",\n",
    "                 \"StGormans_FL11379-0_k3_nlyr36_TikhOpt_gcv_Prior1000_Err_a75-m5_results.npz\"]  \n",
    "    # numpy.load(AEMPYX_DATA + \"/Projects/Compare/BundoranSubsets.npz\")[\"setC\"]"
   ]
  },
  {
   "cell_type": "code",
   "execution_count": null,
   "id": "bd214ce2",
   "metadata": {},
   "outputs": [],
   "source": [
    "else:\n",
    "    # how = [\"search\", SearchStrng, InDatDir]\n",
    "    # how = [\"read\", FileList, InDatDir]\n",
    "    mod_files = util.get_data_list(how=[\"search\", SearchStrng, InModDir],\n",
    "                              out= True, sort=True)\n",
    "\n",
    "    mod_files = [os.path.basename(f) for f in mod_files]  "
   ]
  },
  {
   "cell_type": "code",
   "execution_count": null,
   "id": "2c0384d4",
   "metadata": {},
   "outputs": [],
   "source": [
    "ns = numpy.size(mod_files)\n",
    "if ns ==0: error(\"No files set!. Exit.\")"
   ]
  },
  {
   "cell_type": "code",
   "execution_count": null,
   "id": "1e20f226",
   "metadata": {},
   "outputs": [],
   "source": [
    "\"\"\"\n",
    "Output format is \".npz\"\n",
    "\"\"\"\n",
    "OutFileFmt = \".npz\"\n",
    "OutModDir =  InModDir\n",
    "print(\"Results written to dir: %s \" % OutModDir)"
   ]
  },
  {
   "cell_type": "code",
   "execution_count": null,
   "id": "5e49cd2b",
   "metadata": {
    "lines_to_next_cell": 2
   },
   "outputs": [],
   "source": [
    "if not os.path.isdir(OutModDir):\n",
    "    print(\"File: %s does not exist, but will be created\" % OutModDir)\n",
    "    os.mkdir(OutModDir)"
   ]
  },
  {
   "cell_type": "code",
   "execution_count": null,
   "id": "6944bf1f",
   "metadata": {},
   "outputs": [],
   "source": [
    "Fileout = OutModDir +\"AEM05_TikhOpt_P30-3000_DoI_\"+Method+\".npz\"\n",
    "Header = \"DoI from FD models\""
   ]
  },
  {
   "cell_type": "code",
   "execution_count": null,
   "id": "ab6c9cc9",
   "metadata": {},
   "outputs": [],
   "source": [
    "start = time.time()"
   ]
  },
  {
   "cell_type": "code",
   "execution_count": null,
   "id": "649f9b3e",
   "metadata": {},
   "outputs": [],
   "source": [
    "results = numpy.load(InModDir + mod_files[0])"
   ]
  },
  {
   "cell_type": "code",
   "execution_count": null,
   "id": "91448f03",
   "metadata": {
    "lines_to_next_cell": 2
   },
   "outputs": [],
   "source": [
    "numpy.savez_compressed(Fileout,\n",
    "        fline = results[\"fl_name\"],\n",
    "        m_act = results[\"mod_act\"],\n",
    "        m_ref = results[\"mod_ref\"],\n",
    "        site_x = results[\"site_x\"],\n",
    "        site_y = results[\"site_y\"],\n",
    "        site_z = results[\"site_dem\"],\n",
    "        site_dact = results[\"dat_act\"],\n",
    "        site_dobs = results[\"site_dobs\"],\n",
    "        site_derr = results[\"site_derr\"],\n",
    "        doimethod = Method.lower(),\n",
    "        )"
   ]
  },
  {
   "cell_type": "code",
   "execution_count": null,
   "id": "fef62f16",
   "metadata": {},
   "outputs": [],
   "source": [
    "if \"old\" in Method.lower():\n",
    "    icount = -1\n",
    "    for file in mod_files:\n",
    "        icount = icount+1\n",
    "\n",
    "        m = numpy.load(OutModDir+file)\n",
    "        m_ref = m[\"mod_ref\"]\n",
    "        m_act = m[\"mod_act\"]\n",
    "        nsit = len(m[\"site_num\"])\n",
    "        nlyr = inverse.get_nlyr(m_ref)\n",
    "        prior = inverse.extract_mod(M=m_ref, m_act=m_act)\n",
    "\n",
    "\n",
    "        if icount == 0:\n",
    "            modls = m[\"site_modl\"]\n",
    "            merrs = m[\"site_merr\"]\n",
    "            mrefs = prior\n",
    "            modshp0 = numpy.shape(m[\"site_modl\"])\n",
    "            # print( numpy.shape(modls))\n",
    "        else:\n",
    "            modls = numpy.vstack((modls, m[\"site_modl\"]))\n",
    "            merrs = numpy.vstack((merrs, m[\"site_merr\"]))\n",
    "            mrefs = numpy.vstack((mrefs, prior))\n",
    "            modshp = numpy.shape(m[\"site_modl\"])\n",
    "            if modshp != modshp0:\n",
    "                error(\"model dimenssions do not fit! Exit.\")\n",
    "            # print( numpy.shape(modls))\n",
    "\n",
    "\n",
    "    modls = numpy.log10(modls.reshape(ns, nsit, nlyr))\n",
    "    mrefs = numpy.log10(mrefs.reshape(ns, nlyr))\n",
    "\n",
    "    # print(\"modls \", numpy.shape(modls))\n",
    "    m_avg = numpy.sum(modls, axis=0).reshape(nsit,nlyr)\n",
    "    m_dif = numpy.diff(modls, axis=0).reshape(nsit,nlyr)\n",
    "    r_dif = numpy.diff(mrefs, axis=0)\n",
    "    # print(\"avg \", numpy.shape(m_avg))\n",
    "    # print(\"mdif\", numpy.shape(m_dif))\n",
    "    # print(\"rdif\", numpy.shape(r_dif))\n",
    "    v_doi = numpy.abs(m_dif)/numpy.abs(r_dif)\n",
    "    # print(\"doi\", numpy.shape(doi))\n",
    "\n",
    "    print(\"\\n\\nMethod:  \"+Method)\n",
    "    print(\"DoI min = \"+str(numpy.amin(v_doi)))\n",
    "    print(\"    max = \"+str(numpy.amax(v_doi)))\n",
    "    \n",
    "    util.add_object_npz(filein=Fileout, \n",
    "               xkey = [\"doi_files\"], xobject=[mod_files])\n",
    "    util.add_object_npz(filein=Fileout, \n",
    "               xkey = [\"site_doi_mavg\"], xobject=[m_avg])\n",
    "    util.add_object_npz(filein=Fileout, \n",
    "               xkey = [\"site_doi_mdif\"], xobject=[m_dif])\n",
    "    util.add_object_npz(filein=Fileout, \n",
    "               xkey = [\"site_doi_rdif\"], xobject=[r_dif])\n",
    "    util.add_object_npz(filein=Fileout, \n",
    "               xkey = [\"site_doi_doi\"], xobject=[v_doi])\n",
    "    util.add_object_npz(filein=Fileout, \n",
    "               xkey = [\"site_doi_models\"], xobject=[modls])\n",
    "    util.add_object_npz(filein=Fileout, \n",
    "               xkey = [\"site_doi_mrefs\"], xobject=[mrefs])\n",
    "    util.add_object_npz(filein=Fileout, \n",
    "               xkey = [\"site_doi_merrs\"], xobject=[merrs])    \n",
    "    util.add_object_npz(filein=Fileout, \n",
    "               xkey = [\"doi_meth\"], xobject=[Method])"
   ]
  },
  {
   "cell_type": "code",
   "execution_count": null,
   "id": "7dda0063",
   "metadata": {},
   "outputs": [],
   "source": [
    "    "
   ]
  },
  {
   "cell_type": "code",
   "execution_count": null,
   "id": "6946202e",
   "metadata": {
    "lines_to_next_cell": 2
   },
   "outputs": [],
   "source": [
    "if \"var\" in Method.lower():\n",
    "    icount = -1\n",
    "    for file in mod_files:\n",
    "        icount = icount+1\n",
    "\n",
    "        m = numpy.load(OutModDir +file)\n",
    "        m_ref = m[\"mod_ref\"]\n",
    "        m_act = m[\"mod_act\"]\n",
    "        nsit = len(m[\"site_num\"])\n",
    "        nlyr = inverse.get_nlyr(m_ref)\n",
    "        prior = inverse.extract_mod(M=m_ref, m_act=m_act)\n",
    "\n",
    "\n",
    "        if icount == 0:\n",
    "            modls = m[\"site_modl\"]\n",
    "            merrs = m[\"site_merr\"]\n",
    "            mrefs = prior\n",
    "            modshp0 = numpy.shape(m[\"site_modl\"])\n",
    "            # print( numpy.shape(modls))\n",
    "        else:\n",
    "            modls = numpy.vstack((modls, m[\"site_modl\"]))\n",
    "            merrs = numpy.vstack((merrs, m[\"site_merr\"]))\n",
    "            mrefs = numpy.vstack((mrefs, prior))\n",
    "            modshp = numpy.shape(m[\"site_modl\"])\n",
    "            if modshp != modshp0:\n",
    "                error(\"model dimensions do not fit! Exit.\")\n",
    "            # print( numpy.shape(modls))\n",
    "\n",
    "    modls = numpy.log10(modls.reshape(ns, nsit, nlyr))\n",
    "    mrefs = numpy.log10(mrefs.reshape(ns, nlyr))\n",
    "\n",
    "    m_avg = numpy.mean(modls, axis=0).reshape(nsit,nlyr)\n",
    "    m_ano = numpy.zeros_like(modls)\n",
    "    for nn in numpy.arange(ns):\n",
    "        m_ano[nn,:,:] = modls[nn,:,:] - m_avg\n",
    "\n",
    "    m_var = numpy.var(m_ano,axis = 0)\n",
    "    v_doi = numpy.sqrt(m_var)\n",
    "    \n",
    "    print(\"\\n\\nMethod:  \"+Method)\n",
    "    print(\"DoI min = \"+str(numpy.amin(v_doi)))\n",
    "    print(\"    max = \"+str(numpy.amax(v_doi)))\n",
    "    \n",
    "    util.add_object_npz(filein=Fileout, \n",
    "               xkey = [\"doi_files\"], xobject=[mod_files])\n",
    "    util.add_object_npz(filein=Fileout, \n",
    "               xkey = [\"site_doi_mavg\"], xobject=[m_avg])\n",
    "    util.add_object_npz(filein=Fileout, \n",
    "               xkey = [\"site_doi_doi\"], xobject=[v_doi])\n",
    "    util.add_object_npz(filein=Fileout, \n",
    "               xkey = [\"site_doi_ano\"], xobject=[m_ano])\n",
    "    util.add_object_npz(filein=Fileout, \n",
    "               xkey = [\"site_doi_var\"], xobject=[m_var])\n",
    "    util.add_object_npz(filein=Fileout, \n",
    "               xkey = [\"site_doi_models\"], xobject=[modls])\n",
    "    util.add_object_npz(filein=Fileout, \n",
    "               xkey = [\"site_doi_mrefs\"], xobject=[mrefs])\n",
    "    util.add_object_npz(filein=Fileout, \n",
    "               xkey = [\"site_doi_merrs\"], xobject=[merrs])\n",
    "    util.add_object_npz(filein=Fileout, \n",
    "               xkey = [\"doi_meth\"], xobject=[Method])"
   ]
  },
  {
   "cell_type": "code",
   "execution_count": null,
   "id": "8e858f1a",
   "metadata": {},
   "outputs": [],
   "source": [
    "print(\"Results stored to \"+Fileout)\n",
    "elapsed = (time.time() - start)\n",
    "print (\" Used %7.4f sec \\n\" % (elapsed))"
   ]
  },
  {
   "cell_type": "code",
   "execution_count": null,
   "id": "1ea79932",
   "metadata": {},
   "outputs": [],
   "source": [
    "print(\"\\nAll done!\")"
   ]
  }
 ],
 "metadata": {
  "jupytext": {
   "cell_metadat_filter": "-all",
   "executable": "/usr/bin/env python3",
   "formats": "py,ipynb",
   "main_language": "python"
  }
 },
 "nbformat": 4,
 "nbformat_minor": 5
}
