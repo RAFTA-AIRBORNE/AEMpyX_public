{
 "cells": [
  {
   "cell_type": "code",
   "execution_count": null,
   "id": "6e52a0e4",
   "metadata": {
    "lines_to_next_cell": 0
   },
   "outputs": [],
   "source": []
  },
  {
   "cell_type": "code",
   "execution_count": null,
   "id": "a4eb7fe5",
   "metadata": {},
   "outputs": [],
   "source": [
    "import os\n",
    "import sys\n",
    "from sys import exit as error\n",
    "from datetime import datetime\n",
    "# from time import process_time\n",
    "# from random import randrange\n",
    "import time\n",
    "import warnings\n",
    "# import inspect\n",
    "import copy"
   ]
  },
  {
   "cell_type": "code",
   "execution_count": null,
   "id": "ea04c80d",
   "metadata": {},
   "outputs": [],
   "source": [
    "import numpy\n",
    "import scipy\n",
    "import random"
   ]
  },
  {
   "cell_type": "code",
   "execution_count": null,
   "id": "ab5ac14e",
   "metadata": {},
   "outputs": [],
   "source": [
    "%logstart -o"
   ]
  },
  {
   "cell_type": "code",
   "execution_count": null,
   "id": "de074bb1",
   "metadata": {},
   "outputs": [],
   "source": [
    "AEMPYX_ROOT = os.environ[\"AEMPYX_ROOT\"]\n",
    "mypath = [AEMPYX_ROOT+\"/aempy/modules/\", AEMPYX_ROOT+\"/aempy/scripts/\"]\n",
    "for pth in mypath:\n",
    "    if pth not in sys.path:\n",
    "        sys.path.insert(0,pth)"
   ]
  },
  {
   "cell_type": "code",
   "execution_count": null,
   "id": "cac84baa",
   "metadata": {},
   "outputs": [],
   "source": [
    "from version import versionstrg"
   ]
  },
  {
   "cell_type": "code",
   "execution_count": null,
   "id": "6f857b5e",
   "metadata": {},
   "outputs": [],
   "source": [
    "import aesys\n",
    "import util\n",
    "import inverse\n",
    "import alg"
   ]
  },
  {
   "cell_type": "code",
   "execution_count": null,
   "id": "e1d79bac",
   "metadata": {},
   "outputs": [],
   "source": [
    "warnings.simplefilter(action=\"ignore\", category=FutureWarning)"
   ]
  },
  {
   "cell_type": "code",
   "execution_count": null,
   "id": "f787a3f6",
   "metadata": {},
   "outputs": [],
   "source": [
    "AEMPYX_DATA = os.environ[\"AEMPYX_DATA\"]"
   ]
  },
  {
   "cell_type": "code",
   "execution_count": null,
   "id": "f18fc69d",
   "metadata": {},
   "outputs": [],
   "source": [
    "rng = numpy.random.default_rng()\n",
    "nan = numpy.nan  # float(\"NaN\")\n",
    "version, _ = versionstrg()"
   ]
  },
  {
   "cell_type": "code",
   "execution_count": null,
   "id": "0bfd1c37",
   "metadata": {},
   "outputs": [],
   "source": [
    "titstrng = util.print_title(version=version, fname=__file__, out=False)\n",
    "print(titstrng+\"\\n\\n\")"
   ]
  },
  {
   "cell_type": "code",
   "execution_count": null,
   "id": "48d587b8",
   "metadata": {
    "lines_to_next_cell": 2
   },
   "outputs": [],
   "source": [
    "OutInfo = False\n",
    "now = datetime.now()"
   ]
  },
  {
   "cell_type": "code",
   "execution_count": null,
   "id": "df86ced3",
   "metadata": {
    "lines_to_next_cell": 2
   },
   "outputs": [],
   "source": [
    "\"\"\"\n",
    "System related settings.\n",
    "Data transformation is allowed with three possible options:\n",
    "DataTrans   = 0           raw data\n",
    "            = 1           natural log of data\n",
    "            = 2           asinh transformation\n",
    "An error model is applied for the raw data, which is\n",
    "mixed additive/multiplicative. in case of data transformation,\n",
    "errors are also transformed.\n",
    "\"\"\"\n",
    "# AEM_system = \"genesis\"\n",
    "AEM_system = \"aem05\"  # \"genesis\"\n",
    "if \"aem05\" in AEM_system.lower():\n",
    "    FwdCall,NN, _, _, _, = aesys.get_system_params(System=AEM_system)\n",
    "    nL = NN[0]\n",
    "    ParaTrans = 1\n",
    "    DataTrans = 0\n",
    "    DatErr_add =  75.\n",
    "    DatErr_mult = 0.05\n",
    "    data_active = numpy.ones(NN[2], dtype=\"int8\")"
   ]
  },
  {
   "cell_type": "code",
   "execution_count": null,
   "id": "7383a6ce",
   "metadata": {},
   "outputs": [],
   "source": [
    "if \"genes\" in AEM_system.lower():\n",
    "    FwdCall, NN, _, _, _, = aesys.get_system_params(System=AEM_system)\n",
    "    nL = NN[0]\n",
    "    ParaTrans = 1\n",
    "    DataTrans = 0\n",
    "    DatErr_add = 100.\n",
    "    DatErr_mult = 0.01\n",
    "    data_active = numpy.ones(NN[2], dtype=\"int8\")\n",
    "    data_active[0:11]=0  # only vertical component\n",
    "    # data_active[10:11]=0  # Vertical + 'good' hoizontals'"
   ]
  },
  {
   "cell_type": "code",
   "execution_count": null,
   "id": "5df60ef2",
   "metadata": {},
   "outputs": [],
   "source": []
  },
  {
   "cell_type": "code",
   "execution_count": null,
   "id": "21d349e7",
   "metadata": {},
   "outputs": [],
   "source": [
    "ReverseDir = False"
   ]
  },
  {
   "cell_type": "code",
   "execution_count": null,
   "id": "34c52ef7",
   "metadata": {},
   "outputs": [],
   "source": [
    "FileList = \"search\"  # \"search\", \"read\"\n",
    "InDatDir =  AEMPYX_DATA + \"/Projects/StGormans/proc_delete_PLM3s/\"\n",
    "SearchStrng = \"A1_rect_StGormans_FL11379-0_proc_delete_PLM3s_k3.npz\"\n",
    "#FileList = \"set\"  # \"search\", \"read\"\n",
    "#InDatDir =  AEMPYX_DATA + \"/Projects/Compare/data_reduced/\"\n",
    "#SearchStrng = \"SGL*k1*.npz\""
   ]
  },
  {
   "cell_type": "code",
   "execution_count": null,
   "id": "f3784fbc",
   "metadata": {},
   "outputs": [],
   "source": [
    "if \"set\" in FileList.lower():\n",
    "    print(\"Data files read from dir:  %s\" % InDatDir)\n",
    "    # dat_files = []\n",
    "    dat_files = numpy.load(AEMPYX_DATA + \"/Projects/Compare/BundoranSubsets.npz\")[\"setC\"]\n",
    "    dat_files = [os.path.basename(f) for f in dat_files]  \n",
    "else:\n",
    "    # how = [\"search\", SearchStrng, InDatDir]\n",
    "    # how = [\"read\", FileList, InDatDir]\n",
    "    dat_files = util.get_data_list(how=[\"search\", SearchStrng, InDatDir],\n",
    "                              out= True, sort=True)\n",
    "    ns = numpy.size(dat_files)"
   ]
  },
  {
   "cell_type": "code",
   "execution_count": null,
   "id": "b336a4d6",
   "metadata": {},
   "outputs": [],
   "source": [
    "ns = numpy.size(dat_files)\n",
    "if ns ==0:\n",
    "    error(\"No files set!. Exit.\")"
   ]
  },
  {
   "cell_type": "code",
   "execution_count": null,
   "id": "44d3c087",
   "metadata": {},
   "outputs": [],
   "source": [
    "OutResDir =  AEMPYX_DATA + \"/Projects/StGormans/results_jcn/\"\n",
    "print(\"Models written to dir: %s \" % OutResDir)"
   ]
  },
  {
   "cell_type": "code",
   "execution_count": null,
   "id": "8208b15e",
   "metadata": {},
   "outputs": [],
   "source": [
    "\"\"\"\n",
    "script offers several methods do choose sites:\n",
    "Sample = \n",
    "\"rand\"                  choose Nsample random sites\n",
    "\"step\"                  choose sites with Start/Sop/Step\n",
    "\"list suboption\"        define list, with suboptions position and distance\n",
    "\n",
    "Any other string will choose full data set.\n",
    "\n",
    "\"\"\""
   ]
  },
  {
   "cell_type": "code",
   "execution_count": null,
   "id": "1027e068",
   "metadata": {
    "lines_to_next_cell": 2
   },
   "outputs": [],
   "source": []
  },
  {
   "cell_type": "code",
   "execution_count": null,
   "id": "292e25fe",
   "metadata": {},
   "outputs": [],
   "source": [
    "Sample = \"\"    # \n",
    "# Sample = \"distance list\"\n",
    "# Sample = \"distance list\""
   ]
  },
  {
   "cell_type": "code",
   "execution_count": null,
   "id": "225ef63a",
   "metadata": {},
   "outputs": [],
   "source": [
    "if \"rand\" in Sample.lower():\n",
    "    Nsamples = 10"
   ]
  },
  {
   "cell_type": "code",
   "execution_count": null,
   "id": "09349a2d",
   "metadata": {},
   "outputs": [],
   "source": [
    "elif \"step\" in Sample.lower():\n",
    "    Start, Stop, Step = 0, -1, 10"
   ]
  },
  {
   "cell_type": "code",
   "execution_count": null,
   "id": "ca527a88",
   "metadata": {},
   "outputs": [],
   "source": [
    "elif \"list\" in Sample.lower():\n",
    "    \n",
    "    if \"pos\" in Sample.lower():\n",
    "        Samplist = [100, 200]\n",
    "    if \"dis\" in Sample:\n",
    "        Distlist = [ 1500.]"
   ]
  },
  {
   "cell_type": "code",
   "execution_count": null,
   "id": "44ca050d",
   "metadata": {},
   "outputs": [],
   "source": []
  },
  {
   "cell_type": "code",
   "execution_count": null,
   "id": "47d1f625",
   "metadata": {},
   "outputs": [],
   "source": [
    "if not os.path.isdir(OutResDir):\n",
    "    print(\"File: %s does not exist, but will be created\" % OutResDir)\n",
    "    os.mkdir(OutResDir)"
   ]
  },
  {
   "cell_type": "code",
   "execution_count": null,
   "id": "c7e0968a",
   "metadata": {
    "lines_to_next_cell": 2
   },
   "outputs": [],
   "source": []
  },
  {
   "cell_type": "code",
   "execution_count": null,
   "id": "0f1da139",
   "metadata": {},
   "outputs": [],
   "source": [
    "\"\"\"\n",
    "Define inversion type  optional additional parameters (e.g., Waveforms )\n",
    "\"\"\"\n",
    "RunType = \"TikhOpt-JCN\" # \"TikhOcc\",  \"MAP_ParSpace\", \"MAP_DatSpace\",\"Jack\",\"DoI\", \"RTO\"\"\n",
    "Uncert = True\n",
    "Variant = 2\n",
    "RegFun = \"gcv\" # \"fix\", \"lcc\", \"gcv\", \"mle\"\n",
    "RegVal0 = 1.e-5\n",
    "NTau0 = 1\n",
    "Tau0min = numpy.log10(RegVal0)\n",
    "Tau0max = numpy.log10(RegVal0)\n",
    "Tau0 = numpy.logspace(Tau0min, Tau0max, NTau0)"
   ]
  },
  {
   "cell_type": "code",
   "execution_count": null,
   "id": "173c11f2",
   "metadata": {},
   "outputs": [],
   "source": [
    "if any(s in RegFun.lower() for s in [\"gcv\", \"upr\", \"ufc\", \"mle\", \"lcc\"]):\n",
    "    RegVal1Min = 0.1\n",
    "    RegVal1Max = 1000.\n",
    "    NTau1 =64\n",
    "    Tau1min = numpy.log10(RegVal1Min)\n",
    "    Tau1max = numpy.log10(RegVal1Max)\n",
    "else:\n",
    "    RegVal1 =20.\n",
    "    NTau1 =1\n",
    "    Tau1min = numpy.log10(RegVal1)\n",
    "    Tau1max = numpy.log10(RegVal1)"
   ]
  },
  {
   "cell_type": "code",
   "execution_count": null,
   "id": "58bb7e2a",
   "metadata": {},
   "outputs": [],
   "source": [
    "Tau1 = numpy.logspace(Tau1min, Tau1max, NTau1)\n",
    "nreg = NTau0 * NTau1"
   ]
  },
  {
   "cell_type": "code",
   "execution_count": null,
   "id": "91bbe325",
   "metadata": {},
   "outputs": [],
   "source": [
    "\"\"\"\n",
    "Model definition\n",
    "\"\"\""
   ]
  },
  {
   "cell_type": "code",
   "execution_count": null,
   "id": "32833c31",
   "metadata": {},
   "outputs": [],
   "source": [
    "SetPrior = \"set\"\n",
    "ParaTrans = 1"
   ]
  },
  {
   "cell_type": "code",
   "execution_count": null,
   "id": "f79faddf",
   "metadata": {
    "lines_to_next_cell": 2
   },
   "outputs": [],
   "source": [
    "Nlyr = 36\n",
    "dzstart = 5.\n",
    "dzend = 10.\n",
    "dz = numpy.logspace(numpy.log10(dzstart), numpy.log10(dzend), Nlyr)\n",
    "z = numpy.append(0.0, numpy.cumsum(dz))"
   ]
  },
  {
   "cell_type": "code",
   "execution_count": null,
   "id": "16e9f4fb",
   "metadata": {},
   "outputs": [],
   "source": [
    "mod_act, mod_apr, mod_var, mod_bnd, m_state = inverse.init_1dmod(Nlyr)"
   ]
  },
  {
   "cell_type": "code",
   "execution_count": null,
   "id": "bd1c73f6",
   "metadata": {},
   "outputs": [],
   "source": [
    "mod_act[0*Nlyr:1*Nlyr] = 1\n",
    "sizepar = numpy.shape(mod_act)\n",
    "mpara = sizepar[0]"
   ]
  },
  {
   "cell_type": "code",
   "execution_count": null,
   "id": "22ace97c",
   "metadata": {
    "lines_to_next_cell": 2
   },
   "outputs": [],
   "source": [
    "Guess_r = 100.0  # initial guess for resistivity in mod_apr\n",
    "Guess_s = 0.3   # mod_std defines standard deviation of mod_apr\n",
    "mod_apr[0*Nlyr:1*Nlyr] = Guess_r\n",
    "mod_var[0*Nlyr:1*Nlyr] = numpy.power(Guess_s,2)\n",
    "mod_apr[6*Nlyr:7*Nlyr-1] = dz[0:Nlyr - 1]\n",
    "mod_var[6*Nlyr:7*Nlyr-1] = numpy.power(1.,2)"
   ]
  },
  {
   "cell_type": "code",
   "execution_count": null,
   "id": "eecb612c",
   "metadata": {
    "lines_to_next_cell": 2
   },
   "outputs": [],
   "source": [
    "# mod_bnd = mumpy.array([])\n",
    "max_val = 1.e+30\n",
    "min_val = 1.e-30\n",
    "# max_val = mod_apr[mod_act!=0] + 3*mod_std[mod_act!=0]\n",
    "# mod_bnd[mod_act!=0, 1] = max_val\n",
    "# min_val = mod_apr[mod_act!=0] - 3*mod_std[mod_act!=0]\n",
    "# mod_bnd[mod_act!=0, 0] = min_val\n",
    "mod_bnd[:,0] = min_val\n",
    "mod_bnd[:,1] = max_val"
   ]
  },
  {
   "cell_type": "code",
   "execution_count": null,
   "id": "ac179e6e",
   "metadata": {},
   "outputs": [],
   "source": [
    "if OutInfo:\n",
    "    #   print \\\n",
    "    #   (\" Parameter set for inverting: \\n\", mod_act)\n",
    "    print(\" Layer thicknesses: \\n\", dz)\n",
    "    print(\" Layer interface depths: \\n\", z)\n",
    "    print(\" Initial halfspace resistivity of %6.2f Ohm*m\" % (Guess_r))\n",
    "    print(\" Log Standard error of %6.2f \" % (Guess_s))\n",
    "    if not (mod_bnd == None) or (numpy.size(mod_bnd) == 0):\n",
    "        print(\" Upper limits: \\n\", mod_bnd[:, 1])\n",
    "        print(\" Lower limits: \\n\", mod_bnd[:, 0])"
   ]
  },
  {
   "cell_type": "code",
   "execution_count": null,
   "id": "ae31cde4",
   "metadata": {},
   "outputs": [],
   "source": [
    "\"\"\"\n",
    "Setup Controls for different Algorithms\n",
    "\"\"\"\n",
    "if \"tikhopt\" in  RunType.lower():\n",
    "    \"\"\"\n",
    "    Prepare differential operator base methods for regularization matrices\n",
    "    \"\"\"\n",
    "    D0 = inverse.diffops(dz, der=False, mtype=\"sparse\", otype=\"L0\")\n",
    "    L = [D0 for D in range(7)]\n",
    "    L0 = scipy.sparse.block_diag(L)\n",
    "    Cm0 = L0.T@L0\n",
    "    Cm0 = inverse.extract_cov(Cm0, mod_act)\n",
    "\n",
    "    D1 = inverse.diffops(dz, der=False, mtype=\"sparse\", otype=\"L1\", variant=Variant)\n",
    "    L = [D1 for D in range(7)]\n",
    "    L1 = scipy.sparse.block_diag(L)\n",
    "    Cm1 = L1.T@L1\n",
    "    Cm1 = inverse.extract_cov(Cm1, mod_act)\n",
    "\n",
    "    Maxiter = 10\n",
    "    Maxreduce = 5\n",
    "    Rfact = 0.66\n",
    "    LinPars = [Maxreduce, Rfact]\n",
    "\n",
    "\n",
    "    ThreshRMS = [0.9, 1.0e-2, 1.0e-2]\n",
    "    Delta = [1.e-5]\n",
    "    RegShift = 0\n",
    "\n",
    "    Ctrl = dict([\n",
    "        (\"system\", [AEM_system, FwdCall]),\n",
    "        (\"name\", \"\"),\n",
    "        (\"inversion\",\n",
    "         numpy.array([RunType, RegFun, Tau0, Tau1, Maxiter, ThreshRMS, \n",
    "                      LinPars, SetPrior, Delta, RegShift], dtype=object)),\n",
    "        (\"covar\", \n",
    "         numpy.array([L0, Cm0, L1, Cm1], dtype=object)),\n",
    "        (\"transform\",\n",
    "         [DataTrans, ParaTrans]),\n",
    "        (\"uncert\", \n",
    "         Uncert)\n",
    "       ])"
   ]
  },
  {
   "cell_type": "code",
   "execution_count": null,
   "id": "bc773532",
   "metadata": {},
   "outputs": [],
   "source": [
    "if \"occ\" in RunType.lower():\n",
    "    \"\"\"\n",
    "    Prepare differential operator base methods for regularization matrices\n",
    "    \"\"\"\n",
    "    D0 = inverse.diffops(dz, der=False, mtype=\"sparse\", otype=\"L0\")\n",
    "    L = [D0 for D in range(7)]\n",
    "    L0 = scipy.sparse.block_diag(L)\n",
    "    Cm0 = L0.T@L0\n",
    "    Cm0 = inverse.extract_cov(Cm0, mod_act)\n",
    "\n",
    "    D1 = inverse.diffops(dz, der=False, mtype=\"sparse\", otype=\"L1\", variant=Variant)\n",
    "    L = [D1 for D in range(7)]\n",
    "    L1 = scipy.sparse.block_diag(L)\n",
    "    Cm1 = L1.T@L1\n",
    "    Cm1 = inverse.extract_cov(Cm1, mod_act)\n",
    "\n",
    "    Maxiter = 10\n",
    "    Maxreduce = 5\n",
    "    Rfact = 0.66\n",
    "    LinPars = [Maxreduce, Rfact]\n",
    "\n",
    "    Maxiter = 10\n",
    "    Maxreduce = 5\n",
    "    Rfact = 0.66\n",
    "    ThreshRMS = [0.5, 1.0e-2, 1.0e-2]\n",
    "    L = L1\n",
    "    TauSeq = [0.5]\n",
    "    Delta = [1.e-5]\n",
    "    Ctrl = dict([\n",
    "        (\"system\", [AEM_system, FwdCall]),\n",
    "        (\"name\", \"\"),\n",
    "        (\"inversion\", \n",
    "         numpy.array([RunType, TauSeq, Tau0, Maxiter,ThreshRMS, \n",
    "                      LinPars, SetPrior, Delta],dtype=object)),\n",
    "        (\"covar\", \n",
    "         numpy.array( [L0, Cm0, L1, Cm1], dtype=object)),\n",
    "        (\"transform\",\n",
    "         [DataTrans, ParaTrans]),\n",
    "        (\"uncert\", \n",
    "         Uncert)\n",
    "       ])"
   ]
  },
  {
   "cell_type": "code",
   "execution_count": null,
   "id": "7ec5ab2b",
   "metadata": {
    "lines_to_next_cell": 2
   },
   "outputs": [],
   "source": [
    "if \"map\" in  RunType.lower():\n",
    "\n",
    "    \"\"\"\n",
    "    Prepare explicit covariances for MAP and related methods\n",
    "    \"\"\"\n",
    "\n",
    "    zc = inverse.set_zcenters(dz)\n",
    "    xc = numpy.zeros_like(zc)\n",
    "    yc = numpy.zeros_like(zc)\n",
    "    CorrL = numpy.array([30.0, 30.0, 30.0])\n",
    "\n",
    "    \"\"\"\n",
    "    This setup is a workaround, correct only for rho-only inversion\n",
    "    \"\"\"\n",
    "\n",
    "    mvar  = mod_var[0*Nlyr:1*Nlyr]\n",
    "    # inverse.extract_mod(mod_var, mod_act)\n",
    "\n",
    "    if \"par\"in RunType.lower():\n",
    "        InvSpace = \"par\"\n",
    "        Cmi, CmiS = inverse.covar(xc, yc, zc, covtype= [\"exp\", CorrL],\n",
    "                  var=mvar, sparse=False, thresh=0.05, inverse=True)\n",
    "        Cmi=inverse.extract_cov(Cmi, mod_act)\n",
    "        Cmi = scipy.sparse.block_diag([Cmi for Cmi in range(7)])\n",
    "        CmiS=inverse.extract_cov(CmiS, mod_act)\n",
    "        CmiS = scipy.sparse.block_diag([CmiS for Cmis in range(7)])\n",
    "        C, sC = Cmi, CmiS\n",
    "    else:\n",
    "        InvSpace = \"dat\"\n",
    "        Cm, CmS = inverse.covar(xc, yc, zc, covtype= [\"exp\", CorrL],\n",
    "                  var=mvar, sparse=False, thresh=0.05, inverse=False)\n",
    "        Cm=inverse.extract_cov(Cm, mod_act)\n",
    "        Cm = scipy.sparse.block_diag([Cm for Ci in range(7)])\n",
    "        CmS=inverse.extract_cov(CmS, mod_act)\n",
    "        CmS = scipy.sparse.block_diag([CmS for CmS in range(7)])\n",
    "        C, sC = Cm, CmS\n",
    "\n",
    "    Maxiter = 10\n",
    "    Maxreduce = 5\n",
    "    Rfact = 0.66\n",
    "    ThreshRMS = [0.5, 1.0e-2, 1.0e-2]\n",
    "    Delta = [1.e-5]\n",
    "    TauSeq = [0.5]\n",
    "    RegShift = 1\n",
    "    Ctrl = dict([\n",
    "        (\"system\", [AEM_system, FwdCall]),\n",
    "        (\"name\", \"\"),\n",
    "        (\"inversion\",\n",
    "         numpy.array([RunType, InvSpace, RegFun, Tau0, Tau1, Maxiter,ThreshRMS,\n",
    "                      LinPars, SetPrior, Delta, RegShift], dtype=object)),\n",
    "        (\"covar\",\n",
    "         numpy.array([C, sC], dtype=object)),\n",
    "        (\"transform\",\n",
    "         [DataTrans, ParaTrans]),\n",
    "        (\"uncert\",\n",
    "         Uncert)\n",
    "       ])"
   ]
  },
  {
   "cell_type": "code",
   "execution_count": null,
   "id": "dfb85ff9",
   "metadata": {
    "lines_to_next_cell": 2
   },
   "outputs": [],
   "source": [
    "if \"jcn\" in RunType.lower():\n",
    "    \"\"\"\n",
    "    no new input parameteres for jackknife estimates\n",
    "    \"\"\"\n",
    "    Ctrl[\"output\"] = [\"ens\"] # [\"ens \"]\n",
    "    pass"
   ]
  },
  {
   "cell_type": "code",
   "execution_count": null,
   "id": "0211990d",
   "metadata": {},
   "outputs": [],
   "source": [
    "if OutInfo:\n",
    "    print(Ctrl.keys())"
   ]
  },
  {
   "cell_type": "code",
   "execution_count": null,
   "id": "23f9fd5b",
   "metadata": {},
   "outputs": [],
   "source": []
  },
  {
   "cell_type": "code",
   "execution_count": null,
   "id": "037f0b67",
   "metadata": {},
   "outputs": [],
   "source": [
    "OutStrng = \"_nlyr\"+str(Nlyr)\\\n",
    "            +\"_\"+RunType.replace(\" \",\"_\")\\\n",
    "            +\"_\"+RegFun\\\n",
    "            +\"_Prior\"+str(int(Guess_r))\\\n",
    "            +\"_results\"\n",
    "print(\"ID string: input file + %s \" % OutStrng)"
   ]
  },
  {
   "cell_type": "markdown",
   "id": "627c584f",
   "metadata": {},
   "source": [
    "sys.exit()"
   ]
  },
  {
   "cell_type": "code",
   "execution_count": null,
   "id": "4ab4fd9c",
   "metadata": {},
   "outputs": [],
   "source": [
    "fcount =0\n",
    "for file in dat_files:\n",
    "\n",
    "    start = time.time()\n",
    "\n",
    "    fcount=fcount+1\n",
    "\n",
    "    name, ext = os.path.splitext(file)\n",
    "    filein = InDatDir+file\n",
    "    print(\"\\n Reading file \" + filein)\n",
    "\n",
    "    Fileout = OutResDir + name + OutStrng\n",
    "\n",
    "    numpy.savez_compressed(file=Fileout.replace(\"_results\",\"_ctrl\"), **Ctrl)\n",
    "\n",
    "\n",
    "    DataObs, Header, _ = aesys.read_aempy(File=filein,\n",
    "                                   System=AEM_system, OutInfo=False)\n",
    "\n",
    "    fl_name = DataObs[0, 0]\n",
    "    site_x = DataObs[:, 1]\n",
    "    site_y = DataObs[:, 2]\n",
    "    site_gps = DataObs[:, 3]\n",
    "    site_alt = DataObs[:, 4]\n",
    "    site_dem = DataObs[:, 5]\n",
    "    dat_obs =  DataObs[:, 6:6+NN[2]]\n",
    "    [nsite,ndata] = numpy.shape(dat_obs)\n",
    "    dat_act = numpy.tile(data_active,(nsite,1))\n",
    "\n",
    "    if \"read\" in SetPrior.lower():\n",
    "        halfspace =\"halfspace_results\"\n",
    "        file, filext0 = os.path.splitext(file)\n",
    "        prior_file = file+halfspace+filext0\n",
    "        mod_prior, var_prior = inverse.load_prior(prior_file)\n",
    "\n",
    "\n",
    "    start = time.time()\n",
    "    \"\"\"\n",
    "    Loop over sites\n",
    "\n",
    "    construct site_list\n",
    "    \"\"\"\n",
    "    \n",
    "    site_x = site_x - site_x[0]\n",
    "    site_y = site_y - site_y[0]\n",
    "    site_r = numpy.sqrt(numpy.power(site_x, 2.0) + numpy.power(site_y, 2.0))\n",
    "    \n",
    "    if \"rand\" in Sample:\n",
    "        site_list = random.sample(range(len(site_x)), NSamples)\n",
    "\n",
    "    elif \"list\" in Sample:\n",
    "        \n",
    "        if \"posi\" in Sample:\n",
    "            site_list = Samplist\n",
    "        if \"dist\" in Sample:\n",
    "            for nid in numpy.arange(len(Distlist)):\n",
    "                nds = (numpy.abs(Distlist[nid] - site_r)).argmin()\n",
    "                site_list.append(nds)\n",
    "    else:\n",
    "        site_list = numpy.arange(len(site_x))\n",
    "    \n",
    "    \n",
    "    logsize = (2 + 7*Maxiter)  \n",
    "         \n",
    "    site_log = numpy.full((len(site_list),logsize), numpy.nan)\n",
    "\n",
    "    for ii in site_list:\n",
    "        print(\"\\n Invert site #\"+str(ii)+\"/\"+str(len(site_list)))\n",
    "\n",
    "        \"\"\"\n",
    "        Setup model-related parameter dict\n",
    "        \"\"\"\n",
    "\n",
    "        if \"read\" in SetPrior.lower():\n",
    "            mod_apr = mod_prior[ii]\n",
    "            mod_ini = mod_apr.copy()\n",
    "\n",
    "        elif \"upd\" in SetPrior:\n",
    "\n",
    "            if ii == 0:\n",
    "                mod_ini = mod_apr.copy()\n",
    "                model = mod_ini.copy()\n",
    "            else:\n",
    "                mod_ini = model.copy()\n",
    "                model = mod_ini.copy()\n",
    "\n",
    "\n",
    "        elif \"set\" in SetPrior:\n",
    "\n",
    "                mod_ini = mod_apr.copy()\n",
    "                model = mod_ini.copy()\n",
    "\n",
    "        Model = dict([\n",
    "            (\"m_act\", mod_act),\n",
    "            (\"m_apr\", mod_apr),\n",
    "            (\"m_var\", mod_var),\n",
    "            (\"m_bnd\", mod_bnd),\n",
    "            (\"m_ini\", mod_ini)\n",
    "            ])\n",
    "\n",
    "        \"\"\"\n",
    "        Setup data-related parameter dict\n",
    "        \"\"\"\n",
    "\n",
    "        dat_err = numpy.zeros_like(dat_obs)\n",
    "        dat_err[ii, :], _ = inverse.set_errors(dat_obs[ii, :],\n",
    "                                                daterr_add=DatErr_add,\n",
    "                                                daterr_mult=DatErr_mult)\n",
    "\n",
    "        Data = dict([\n",
    "            (\"d_act\", dat_act[ii,:]),\n",
    "            (\"d_obs\", dat_obs[ii,:]),\n",
    "            (\"d_err\", dat_err[ii,:]),\n",
    "            (\"alt\", site_alt[ii])\n",
    "            ])\n",
    "\n",
    "        \"\"\"\n",
    "        Call inversion algorithms\n",
    "        \"\"\"\n",
    "\n",
    "        if \"jcn\" in RunType.lower():\n",
    "            results =\\\n",
    "                alg.run_jcn(Ctrl=Ctrl, Model=Model, Data=Data,\n",
    "                                  OutInfo=OutInfo)\n",
    "\n",
    "        \"\"\"\n",
    "        Store inversion Results\n",
    "        \"\"\"\n",
    "        if OutInfo:\n",
    "            print(\"Results: \",results.keys())\n",
    "       \n",
    "        M = results[\"model\"]\n",
    "        D = results[\"data\"]\n",
    "        C = results[\"log\"]            \n",
    "\n",
    "        jacd = results[\"jacd\"]\n",
    "        pcov = results[\"cpost\"]\n",
    "\n",
    "\n",
    "        jcn_avg = results[\"jcn_avg\"]\n",
    "        jcn_var = results[\"jcn_var\"]\n",
    "        jcn_med = results[\"jcn_med\"]\n",
    "        jcn_mad = results[\"jcn_mad\"]\n",
    "        if \"ens\" in Ctrl[\"output\"]:\n",
    "            jcn_ens = results[\"jcn_ens\"]\n",
    "        \n",
    "        if ii==0:\n",
    "            site_num  = numpy.array([ii])\n",
    "            site_nrms = C[2]\n",
    "            site_modl = M[0]\n",
    "            site_merr = M[1]\n",
    "            site_sens = M[2]\n",
    "            site_dobs = D[0].reshape((1,-1))\n",
    "            site_dcal = D[1].reshape((1,-1))\n",
    "            site_derr = D[2].reshape((1,-1))\n",
    "            site_jacd = jacd.reshape((1,numpy.size(jacd)))\n",
    "            site_pcov = pcov.reshape((1,numpy.size(pcov)))\n",
    "            site_jcn_avg = jcn_avg\n",
    "            site_jcn_var = jcn_var\n",
    "            site_jcn_med = jcn_med            \n",
    "            site_jcn_mad = jcn_mad\n",
    "            \n",
    "            if \"ens\" in Ctrl[\"output\"]:\n",
    "                site_jcn_ens = jcn_ens\n",
    "                \n",
    "                \n",
    "        else:\n",
    "            site_num = numpy.vstack((site_num, ii))\n",
    "            site_nrms = numpy.vstack((site_nrms, C[2]))\n",
    "            site_modl = numpy.vstack((site_modl, M[0]))\n",
    "            site_merr = numpy.vstack((site_merr, M[1]))\n",
    "            site_sens = numpy.vstack((site_sens, M[2]))\n",
    "            site_dobs = numpy.vstack((site_dobs, D[0]))\n",
    "            site_dcal = numpy.vstack((site_dcal, D[1]))\n",
    "            site_derr = numpy.vstack((site_derr, D[2]))               \n",
    "            site_jacd = numpy.vstack((site_jacd, jacd.reshape((1,numpy.size(jacd)))))\n",
    "            site_pcov = numpy.vstack((site_pcov, pcov.reshape((1,numpy.size(pcov)))))\n",
    "\n",
    "            site_jcn_avg = numpy.hstack((site_jcn_avg, jcn_avg))\n",
    "            site_jcn_var = numpy.hstack((site_jcn_var, jcn_var))\n",
    "            site_jcn_med = numpy.hstack((site_jcn_med, jcn_med))  \n",
    "            site_jcn_mad = numpy.hstack((site_jcn_mad, jcn_mad))\n",
    "            if \"ens\" in Ctrl[\"output\"]:\n",
    "               site_jcn_ens = numpy.hstack((site_jcn_ens, jcn_ens))\n",
    "\n",
    "\n",
    "\n",
    "    \n",
    "    numpy.savez_compressed(\n",
    "        file=Fileout+\".npz\",\n",
    "        fl_data=file,\n",
    "        fl_name=fl_name,\n",
    "        header=titstrng,\n",
    "        site_log =site_log,\n",
    "        mod_ref=mod_apr,\n",
    "        mod_act=mod_act,\n",
    "        dat_act=dat_act,\n",
    "        site_modl=site_modl,\n",
    "        site_sens=site_sens,\n",
    "        site_merr=site_merr,\n",
    "        site_dobs=site_dobs,\n",
    "        site_dcal=site_dcal,\n",
    "        site_derr=site_derr,\n",
    "        site_nrms=site_nrms,\n",
    "        site_num=site_num,\n",
    "        site_y=site_y,\n",
    "        site_x=site_x,\n",
    "        site_gps=site_gps,\n",
    "        site_alt=site_alt,\n",
    "        site_dem=site_dem,\n",
    "        site_jacd= site_jacd,\n",
    "        site_pcov= site_pcov,\n",
    "        site_jcn_avg=site_jcn_avg,\n",
    "        site_jcn_var=site_jcn_var,\n",
    "        site_jcn_med=site_jcn_med,\n",
    "        site_jcn_mad=site_jcn_mad)\n",
    "           \n",
    "    if \"ens\" in Ctrl[\"output\"]:\n",
    "        util.add_object_npz(filein=Fileout+\".npz\",\n",
    "                   xkey = [\"site_jcn_ens\"], xobject=[site_jcn_ens])\n",
    "\n",
    "    print(\"\\n\\nResults stored to \"+Fileout)\n",
    "    elapsed = (time.time() - start)\n",
    "    print (\" Used %7.4f sec for %6i sites\" % (elapsed, ii+1))\n",
    "    print (\" Average %7.4f sec/site\\n\" % (elapsed/(ii+1)))"
   ]
  },
  {
   "cell_type": "code",
   "execution_count": null,
   "id": "c15cb2ff",
   "metadata": {
    "lines_to_next_cell": 2
   },
   "outputs": [],
   "source": [
    " "
   ]
  }
 ],
 "metadata": {
  "jupytext": {
   "cell_metadata_filter": "-all",
   "executable": "/usr/bin/env python3",
   "formats": "py,ipynb",
   "main_language": "python"
  }
 },
 "nbformat": 4,
 "nbformat_minor": 5
}
