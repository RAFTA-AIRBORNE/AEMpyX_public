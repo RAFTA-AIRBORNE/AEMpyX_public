{
 "cells": [
  {
   "cell_type": "code",
   "execution_count": null,
   "id": "ed197db7",
   "metadata": {
    "lines_to_next_cell": 0
   },
   "outputs": [],
   "source": []
  },
  {
   "cell_type": "code",
   "execution_count": null,
   "id": "576faed9",
   "metadata": {},
   "outputs": [],
   "source": [
    "\"\"\"\n",
    "Plot diverse uncertainty parameters\n",
    "\n",
    "Created May 2023\n",
    "\n",
    "@author: vrath\n",
    "\"\"\""
   ]
  },
  {
   "cell_type": "code",
   "execution_count": null,
   "id": "d27841f7",
   "metadata": {},
   "outputs": [],
   "source": [
    "import os\n",
    "import sys\n",
    "from sys import exit as error\n",
    "from time import process_time\n",
    "from datetime import datetime\n",
    "import warnings\n",
    "import random\n",
    "import functools\n",
    "from cycler import cycler"
   ]
  },
  {
   "cell_type": "code",
   "execution_count": null,
   "id": "9a667c78",
   "metadata": {},
   "outputs": [],
   "source": [
    "import numpy\n",
    "import scipy.interpolate\n",
    "import scipy.linalg"
   ]
  },
  {
   "cell_type": "code",
   "execution_count": null,
   "id": "88eab3b0",
   "metadata": {},
   "outputs": [],
   "source": []
  },
  {
   "cell_type": "code",
   "execution_count": null,
   "id": "48491490",
   "metadata": {},
   "outputs": [],
   "source": [
    "import matplotlib\n",
    "import matplotlib.pyplot\n",
    "import matplotlib.ticker\n",
    "import matplotlib.axis"
   ]
  },
  {
   "cell_type": "code",
   "execution_count": null,
   "id": "0d52d49d",
   "metadata": {},
   "outputs": [],
   "source": []
  },
  {
   "cell_type": "code",
   "execution_count": null,
   "id": "0d973f46",
   "metadata": {},
   "outputs": [],
   "source": [
    "AEMPYX_ROOT = os.environ[\"AEMPYX_ROOT\"]\n",
    "mypath = [AEMPYX_ROOT+\"/aempy/modules/\", AEMPYX_ROOT+\"/aempy/scripts/\"]\n",
    "for pth in mypath:\n",
    "    if pth not in sys.path:\n",
    "        sys.path.insert(0,pth)"
   ]
  },
  {
   "cell_type": "code",
   "execution_count": null,
   "id": "c2dcd9fd",
   "metadata": {},
   "outputs": [],
   "source": [
    "from version import versionstrg"
   ]
  },
  {
   "cell_type": "code",
   "execution_count": null,
   "id": "93b38e01",
   "metadata": {
    "lines_to_next_cell": 2
   },
   "outputs": [],
   "source": [
    "import util\n",
    "import aesys\n",
    "import inverse\n",
    "import mcmc"
   ]
  },
  {
   "cell_type": "code",
   "execution_count": null,
   "id": "8d421c14",
   "metadata": {},
   "outputs": [],
   "source": [
    "OutInfo = True\n",
    "AEMPYX_DATA = os.environ[\"AEMPYX_DATA\"]"
   ]
  },
  {
   "cell_type": "code",
   "execution_count": null,
   "id": "e5c4f369",
   "metadata": {},
   "outputs": [],
   "source": [
    "version, _ = versionstrg()\n",
    "titstrng = util.print_title(version=version, fname=__file__, out=False)\n",
    "print(titstrng+\"\\n\\n\")\n",
    "print(pymcmcstat.__version__)"
   ]
  },
  {
   "cell_type": "code",
   "execution_count": null,
   "id": "ab135fb4",
   "metadata": {},
   "outputs": [],
   "source": [
    "now = datetime.now()"
   ]
  },
  {
   "cell_type": "code",
   "execution_count": null,
   "id": "20fc00a7",
   "metadata": {},
   "outputs": [],
   "source": [
    "\"\"\"\n",
    "System related settings.\n",
    "Data transformation is now allowed with three possible options:\n",
    "DataTrans   = 0           raw data\n",
    "            = 1           natural log of data\n",
    "            = 2           asinh transformation\n",
    "An error model is applied for the raw data, which is\n",
    "mixed additive/multiplicative. in case of data transformation,\n",
    "errors are also transformed.\n",
    "\"\"\"\n",
    "AEM_system = \"genesis\"\n",
    "AEM_system = \"aem05\"  # \"genesis\"\n",
    "if \"aem05\" in AEM_system.lower():\n",
    "    FwdCall,NN, _, _, Pars, = aesys.get_system_params(System=AEM_system)\n",
    "    nL = NN[0]\n",
    "    ParaTrans = 1\n",
    "    DataTrans = 0\n",
    "    DatErr_add =  50.\n",
    "    DatErr_mult = 0.03\n",
    "    data_active = numpy.ones(NN[2], dtype=\"int8\")\n",
    "    CompDict = Pars[3]\n",
    "    CompLabl = list(CompDict.keys())\n",
    "    print(CompLabl)\n",
    "    # Pars[0] = numpy.round(Pars[0],1)/1000."
   ]
  },
  {
   "cell_type": "code",
   "execution_count": null,
   "id": "a81b2344",
   "metadata": {
    "lines_to_next_cell": 2
   },
   "outputs": [],
   "source": [
    "if \"genes\" in AEM_system.lower():\n",
    "    FwdCall, NN, _, _, Pars, = aesys.get_system_params(System=AEM_system)\n",
    "    nL = NN[0]\n",
    "    ParaTrans = 1\n",
    "    DataTrans = 0\n",
    "    DatErr_add = 100.\n",
    "    DatErr_mult = 0.01\n",
    "    data_active = numpy.ones(NN[2], dtype=\"int8\")\n",
    "    data_active[0:11]=0  # only vertical component\n",
    "    # data_active[10:11]=0  # Vertical + \"good\" hoizontals\"\n",
    "    CompDict = Pars[3]\n",
    "    CompLabl = list(CompDict.keys())"
   ]
  },
  {
   "cell_type": "code",
   "execution_count": null,
   "id": "b340057a",
   "metadata": {
    "lines_to_next_cell": 2
   },
   "outputs": [],
   "source": [
    "\"\"\"\n",
    "Input format is \"npz\"\n",
    "\"\"\"\n",
    "FileList = \"search\"  # \"search\", \"read\"# \n",
    "# SearchStrng = \"*PLM3s_k3.npz\"\n",
    "# SearchStrng = \"*1379*k[1,2,3,5].npz\"\n",
    "SearchStrng = \"\""
   ]
  },
  {
   "cell_type": "code",
   "execution_count": null,
   "id": "e884f2a0",
   "metadata": {},
   "outputs": [],
   "source": [
    "FileList = \"set\"  # \"search\", \"read\""
   ]
  },
  {
   "cell_type": "code",
   "execution_count": null,
   "id": "de90653b",
   "metadata": {},
   "outputs": [],
   "source": [
    "InDatDir =  AEMPYX_DATA + \"/Projects/InvParTest/proc_delete_PLM3s/\"\n",
    "if not InDatDir.endswith(\"/\"): InDatDir=InDatDir+\"/\""
   ]
  },
  {
   "cell_type": "code",
   "execution_count": null,
   "id": "8b805e5d",
   "metadata": {
    "lines_to_next_cell": 2
   },
   "outputs": [],
   "source": [
    "if \"set\" in FileList.lower():\n",
    "    print(\"Data files read from dir:  %s\" % InDatDir)\n",
    "    # dat_files = []\n",
    "    dat_files = [InDatDir+\"A1_rect_StGormans_FL11379-0_proc_delete_PLM3s_k3.npz\"]\n",
    "\n",
    "    \n",
    "    dat_files = [os.path.basename(f) for f in dat_files]  \n",
    "else:\n",
    "    # how = [\"search\", SearchStrng, InDatDir]\n",
    "    # how = [\"read\", FileList, InDatDir]\n",
    "    dat_files = util.get_data_list(how=[\"search\", SearchStrng, InDatDir],\n",
    "                              out= True, sort=True)"
   ]
  },
  {
   "cell_type": "code",
   "execution_count": null,
   "id": "b5bad442",
   "metadata": {},
   "outputs": [],
   "source": [
    "ns = numpy.size(dat_files)\n",
    "if ns ==0:\n",
    "    error(\"No modfiles set!. Exit.\")"
   ]
  },
  {
   "cell_type": "code",
   "execution_count": null,
   "id": "59ae2b17",
   "metadata": {},
   "outputs": [],
   "source": [
    "print(\"Filelist:\")\n",
    "print(dat_files)"
   ]
  },
  {
   "cell_type": "code",
   "execution_count": null,
   "id": "1543be1b",
   "metadata": {},
   "outputs": [],
   "source": [
    "\"\"\"\n",
    "Output format is \".npz\"\n",
    "\"\"\""
   ]
  },
  {
   "cell_type": "code",
   "execution_count": null,
   "id": "b16b5da4",
   "metadata": {
    "lines_to_next_cell": 2
   },
   "outputs": [],
   "source": [
    "ResultsDir =  InDatDir + \"results_dram\"\n",
    "if not ResultsDir.endswith(\"/\"): ResultsDir=ResultsDir+\"/\"\n",
    "print(\"Models written to dir: %s \" % ResultsDir)"
   ]
  },
  {
   "cell_type": "code",
   "execution_count": null,
   "id": "dcee8287",
   "metadata": {
    "lines_to_next_cell": 2
   },
   "outputs": [],
   "source": [
    "if not os.path.isdir(ResultsDir):\n",
    "    print(\"File: %s does not exist, but will be created\" % ResultsDir)\n",
    "    os.mkdir(ResultsDir)"
   ]
  },
  {
   "cell_type": "code",
   "execution_count": null,
   "id": "c5952180",
   "metadata": {},
   "outputs": [],
   "source": [
    "\"\"\"\n",
    "Model definition\n",
    "\"\"\""
   ]
  },
  {
   "cell_type": "code",
   "execution_count": null,
   "id": "4f6b230a",
   "metadata": {},
   "outputs": [],
   "source": [
    "SetPrior = \"set\"\n",
    "ParaTrans = 1"
   ]
  },
  {
   "cell_type": "code",
   "execution_count": null,
   "id": "b8361358",
   "metadata": {
    "lines_to_next_cell": 2
   },
   "outputs": [],
   "source": [
    "Nlyr = 30\n",
    "dzstart = 2.5\n",
    "dzend = 10.\n",
    "dz = numpy.logspace(numpy.log10(dzstart), numpy.log10(dzend), Nlyr)\n",
    "z = numpy.append(0.0, numpy.cumsum(dz))"
   ]
  },
  {
   "cell_type": "code",
   "execution_count": null,
   "id": "af9d8166",
   "metadata": {},
   "outputs": [],
   "source": [
    "mod_act, mod_apr, mod_var, mod_bnd, m_state = inverse.init_1dmod(Nlyr)"
   ]
  },
  {
   "cell_type": "code",
   "execution_count": null,
   "id": "fe31402b",
   "metadata": {},
   "outputs": [],
   "source": [
    "mod_act[0*Nlyr:1*Nlyr] = 1\n",
    "sizepar = numpy.shape(mod_act)\n",
    "mpara = sizepar[0]"
   ]
  },
  {
   "cell_type": "code",
   "execution_count": null,
   "id": "8352b983",
   "metadata": {
    "lines_to_next_cell": 2
   },
   "outputs": [],
   "source": [
    "Guess_r = 100.0  # initial guess for resistivity in mod_apr\n",
    "Guess_s = 0.3   # mod_std defines standard deviation of mod_apr\n",
    "mod_apr[0*Nlyr:1*Nlyr] = Guess_r\n",
    "mod_var[0*Nlyr:1*Nlyr] = numpy.power(Guess_s,2)\n",
    "mod_apr[6*Nlyr:7*Nlyr-1] = dz[0:Nlyr - 1]\n",
    "mod_var[6*Nlyr:7*Nlyr-1] = numpy.power(1.,2)"
   ]
  },
  {
   "cell_type": "code",
   "execution_count": null,
   "id": "7d2da0c1",
   "metadata": {
    "lines_to_next_cell": 2
   },
   "outputs": [],
   "source": [
    "# mod_bnd = mumpy.array([])\n",
    "max_val = 1.e+30\n",
    "min_val = 1.e-30\n",
    "# max_val = mod_apr[mod_act!=0] + 3*mod_std[mod_act!=0]\n",
    "# mod_bnd[mod_act!=0, 1] = max_val\n",
    "# min_val = mod_apr[mod_act!=0] - 3*mod_std[mod_act!=0]\n",
    "# mod_bnd[mod_act!=0, 0] = min_val\n",
    "mod_bnd[:,0] = min_val\n",
    "mod_bnd[:,1] = max_val"
   ]
  },
  {
   "cell_type": "code",
   "execution_count": null,
   "id": "98037978",
   "metadata": {},
   "outputs": [],
   "source": [
    "if OutInfo:\n",
    "    #   print \\\n",
    "    #   (\" Parameter set for inverting: \\n\", mod_act)\n",
    "    print(\" Layer thicknesses: \\n\", dz)\n",
    "    print(\" Layer interface depths: \\n\", z)\n",
    "    print(\" Initial halfspace resistivity of %6.2f Ohm*m\" % (Guess_r))\n",
    "    print(\" Log Standard error of %6.2f \" % (Guess_s))\n",
    "    if not (mod_bnd == None) or (numpy.size(mod_bnd) == 0):\n",
    "        print(\" Upper limits: \\n\", mod_bnd[:, 1])\n",
    "        print(\" Lower limits: \\n\", mod_bnd[:, 0])"
   ]
  },
  {
   "cell_type": "code",
   "execution_count": null,
   "id": "e3c90785",
   "metadata": {},
   "outputs": [],
   "source": []
  },
  {
   "cell_type": "code",
   "execution_count": null,
   "id": "6e48a3da",
   "metadata": {
    "lines_to_next_cell": 2
   },
   "outputs": [],
   "source": []
  },
  {
   "cell_type": "code",
   "execution_count": null,
   "id": "6769123d",
   "metadata": {},
   "outputs": [],
   "source": [
    "\"\"\"\n",
    "Define inversion type  optional additional parameters (e.g., Waveforms )\n",
    "\"\"\""
   ]
  },
  {
   "cell_type": "code",
   "execution_count": null,
   "id": "813aae18",
   "metadata": {
    "lines_to_next_cell": 2
   },
   "outputs": [],
   "source": [
    "RunType = \"DRAM\"  # \"DREAM\" \"EMCEE\""
   ]
  },
  {
   "cell_type": "code",
   "execution_count": null,
   "id": "339da1e1",
   "metadata": {},
   "outputs": [],
   "source": [
    "# Sample = \"random\"\n",
    "# Sample = \"distance list\"\n",
    "Sample = \"distance list\"\n",
    "if \"rand\" in Sample:\n",
    "    NSamples = 1"
   ]
  },
  {
   "cell_type": "code",
   "execution_count": null,
   "id": "3f71bfaf",
   "metadata": {},
   "outputs": [],
   "source": [
    "elif \"list\" in Sample:\n",
    "    if \"pos\" in Sample:\n",
    "        Samplist = [100, 200]\n",
    "    if \"dis\" in Sample:\n",
    "        Distlist = [ 1500.]"
   ]
  },
  {
   "cell_type": "code",
   "execution_count": null,
   "id": "4f40ea3a",
   "metadata": {},
   "outputs": [],
   "source": []
  },
  {
   "cell_type": "code",
   "execution_count": null,
   "id": "45ca133f",
   "metadata": {},
   "outputs": [],
   "source": [
    "\"\"\"\n",
    "Define inversion type  optional additional parameters (e.g., Waveforms )\n",
    "\"\"\""
   ]
  },
  {
   "cell_type": "code",
   "execution_count": null,
   "id": "fa2e0741",
   "metadata": {},
   "outputs": [],
   "source": [
    "RunType = \"DRAM\"  # \"DREAM\" \"EMCEE\""
   ]
  },
  {
   "cell_type": "code",
   "execution_count": null,
   "id": "55f39da2",
   "metadata": {},
   "outputs": [],
   "source": []
  },
  {
   "cell_type": "code",
   "execution_count": null,
   "id": "bd0201c6",
   "metadata": {},
   "outputs": [],
   "source": []
  },
  {
   "cell_type": "code",
   "execution_count": null,
   "id": "79fd9e05",
   "metadata": {},
   "outputs": [],
   "source": [
    "fcount =0\n",
    "for file in dat_files:\n",
    "\n",
    "    start = time.time()\n",
    "\n",
    "    fcount=fcount+1\n",
    "\n",
    "    name, ext = os.path.splitext(file)\n",
    "    filein = InDatDir+file\n",
    "    fileout = OutDatDir + name + outstrng\n",
    "\n",
    "    numpy.savez_compressed(file=fileout+\"_ctrl\"+OutFileFmt,**Ctrl)\n",
    "\n",
    "    print(\"\\n Reading file \" + filein)\n",
    "    DataObs, Header, _ = aesys.read_aempy(File=filein,\n",
    "                                   System=AEM_system, OutInfo=False)\n",
    "\n",
    "    fl_name = DataObs[0, 0]\n",
    "    site_x = DataObs[:, 1]\n",
    "    site_y = DataObs[:, 2]\n",
    "    site_gps = DataObs[:, 3]\n",
    "    site_alt = DataObs[:, 4]\n",
    "    site_dem = DataObs[:, 5]\n",
    "    dat_obs =  DataObs[:, 6:6+NN[2]]\n",
    "    [nsite,ndata] = numpy.shape(dat_obs)\n",
    "    dat_act = numpy.tile(data_active,(nsite,1))\n",
    "     \n",
    "    \"\"\"\n",
    "    construct site_list\n",
    "    \"\"\"\n",
    "    site_x = site_x - site_x[0]\n",
    "    site_y = site_y - site_y[0]\n",
    "    site_r = numpy.sqrt(numpy.power(site_x, 2.0) + numpy.power(site_y, 2.0))\n",
    "    \n",
    "    site_list = []\n",
    "    if \"rand\" in Sample:\n",
    "        site_list = random.sample(range(len(site_x)), NSamples)\n",
    " \n",
    "    elif \"list\" in Sample:\n",
    "        if \"posi\" in Sample:\n",
    "            site_list = Samplist\n",
    "        if \"dist\" in Sample:\n",
    "            for nid in numpy.arange(len(Distlist)):\n",
    "                nds = (numpy.abs(Distlist[nid] - site_r)).argmin()\n",
    "                site_list.append(nds)\n",
    "    else:\n",
    "        site_list = numpy.arange(len(site_x))\n",
    "                \n",
    "                \n",
    "    for isite in site_list:\n",
    "\n",
    "     \n",
    "    \n",
    "    \n",
    "    \n",
    "    \n",
    "    \n",
    "\n",
    "    if \"read\" in SetPrior.lower():\n",
    "        halfspace =\"halfspace_results\"\n",
    "        file, filext0 = os.path.splitext(file)\n",
    "        prior_file = file+halfspace+filext0\n",
    "        mod_prior, var_prior = inverse.load_prior(prior_file)\n",
    "\n",
    "\n",
    "    start = time.time()\n",
    "    \"\"\"\n",
    "    Loop over sites\n",
    "    \"\"\"\n",
    "    sequence = range(nsite)\n",
    "    if ReverseDir:\n",
    "        sites = sequence[::-1]\n",
    "    else:\n",
    "        sites = sequence\n",
    "\n",
    "\n",
    "    logsize = (2 + 7*Maxiter)\n",
    "    site_log = numpy.full((len(sites),logsize), numpy.nan)\n",
    "\n",
    "\n",
    "    for isite in site_list:\n",
    "\n",
    "        print(\"\\n Invert site #\"+str(isite)+\"/\"+str(len(sites)))\n",
    "\n",
    "        \"\"\"\n",
    "        Setup model-related parameter dict\n",
    "        \"\"\"\n",
    "\n",
    "        if \"read\" in SetPrior.lower():\n",
    "            mod_apr = mod_prior[isite]\n",
    "            mod_ini = mod_apr.copy()\n",
    "\n",
    "        elif \"upd\" in SetPrior:\n",
    "\n",
    "            if isite == 0:\n",
    "                mod_ini = mod_apr.copy()\n",
    "                model = mod_ini.copy()\n",
    "            else:\n",
    "                mod_ini = model.copy()\n",
    "                model = mod_ini.copy()\n",
    "\n",
    "        elif \"set\" in SetPrior:\n",
    "\n",
    "                mod_ini = mod_apr.copy()\n",
    "                model = mod_ini.copy()\n",
    "\n",
    "        Model = dict([\n",
    "            (\"m_act\", mod_act),\n",
    "            (\"m_apr\", mod_apr),\n",
    "            (\"m_var\", mod_var),\n",
    "            (\"m_bnd\", mod_bnd),\n",
    "            (\"m_ini\", mod_ini)\n",
    "            ])\n",
    "\n",
    "        \"\"\"\n",
    "        Setup data-related parameter dict\n",
    "        \"\"\"\n",
    "\n",
    "        dat_err = numpy.zeros_like(dat_obs)\n",
    "        dat_err[isite, :], _ = inverse.set_errors(dat_obs[isite, :],\n",
    "                                                daterr_add=DatErr_add,\n",
    "                                                daterr_mult=DatErr_mult)\n",
    "\n",
    "        Data = dict([\n",
    "            (\"d_act\", dat_act[isite,:]),\n",
    "            (\"d_obs\", dat_obs[isite,:]),\n",
    "            (\"d_err\", dat_err[isite,:]),\n",
    "            (\"alt\", site_alt[isite])\n",
    "            ])\n",
    "\n",
    "        \"\"\"\n",
    "        Call inversion algorithms\n",
    "        \"\"\"\n",
    "        if \"dram\" in RunType.lower():\n",
    "            \n",
    "            from pymcmcstat.MCMC import MCMC\n",
    "            from pymcmcstat.ParallelMCMC import ParallelMCMC\n",
    "            import pymcmcstat\n",
    "            from mcmc import dram_modelfun as modelfun\n",
    "            from mcmc import dram_ssfun as ssfun\n",
    "            \n",
    "            \n",
    "\n",
    "            mcset = MCMC()\n",
    "            # Add data\n",
    "            mcset.data.add_data_set(x, y)\n",
    "            datestr = datetime.now().strftime('%Y%m%d_%H%M%S')\n",
    "            savedir = 'resources' + os.sep + str('{}_{}'.format(datestr, 'parallel_chains'))\n",
    "            mcset.simulation_options.define_simulation_options(\n",
    "                nsimu=5.0e3, updatesigma=True, method='dram',\n",
    "                savedir=savedir, savesize=1000, save_to_json=True,\n",
    "                verbosity=0, waitbar=False, save_lightly=True, save_to_bin=True)\n",
    "            mcset.model_settings.define_model_settings(sos_function=ssfun)\n",
    "            \n",
    "            for ipar in \n",
    "            mcset.parameters.add_model_parameter(name='m',\n",
    "                                                 theta0=2.,\n",
    "                                                 minimum=-10,\n",
    "                                                 maximum=200,\n",
    "                                                 sample=1)\n",
    "            mcset.parameters.add_model_parameter(name='b',\n",
    "                                                 theta0=2.75,\n",
    "                                                 minimum=-10,\n",
    "                                                 maximum=100,\n",
    "                                                 sample=1)\n",
    "         \n",
    "            \n",
    "        else:\n",
    "            \n",
    "            error(\"Runtype \"+RunType+\" does not exist! Exit.\")\n",
    "\n",
    "\n",
    "        # setup parallel MCMC\n",
    "        parMC = ParallelMCMC()\n",
    "        initial_values = np.array([[2.5, 2.5], [1.8, 3.8], [2.05, 3.42]])\n",
    "        parMC.setup_parallel_simulation(mcset=mcset,\n",
    "                                        initial_values=initial_values,\n",
    "                                        num_chain=10,\n",
    "                                    num_cores=11)"
   ]
  }
 ],
 "metadata": {
  "jupytext": {
   "cell_metadata_filter": "-all",
   "encoding": "# -*- coding: utf-8 -*-",
   "executable": "/usr/bin/env python3",
   "formats": "py,ipynb",
   "main_language": "python"
  }
 },
 "nbformat": 4,
 "nbformat_minor": 5
}
