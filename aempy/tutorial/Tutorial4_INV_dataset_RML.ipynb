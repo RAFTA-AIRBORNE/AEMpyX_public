{
 "cells": [
  {
   "cell_type": "code",
   "execution_count": null,
   "id": "04209e82",
   "metadata": {
    "lines_to_next_cell": 0
   },
   "outputs": [],
   "source": []
  },
  {
   "cell_type": "code",
   "execution_count": null,
   "id": "dd4100d5",
   "metadata": {},
   "outputs": [],
   "source": [
    "import os\n",
    "import sys\n",
    "from sys import exit as error\n",
    "from datetime import datetime\n",
    "# from time import process_time\n",
    "# from random import randrange\n",
    "import time\n",
    "import warnings\n",
    "# import inspect\n",
    "import copy"
   ]
  },
  {
   "cell_type": "code",
   "execution_count": null,
   "id": "db1aedf6",
   "metadata": {},
   "outputs": [],
   "source": [
    "import numpy\n",
    "import scipy"
   ]
  },
  {
   "cell_type": "code",
   "execution_count": null,
   "id": "36543c6d",
   "metadata": {},
   "outputs": [],
   "source": [
    "%logstart -o"
   ]
  },
  {
   "cell_type": "code",
   "execution_count": null,
   "id": "1118fb7f",
   "metadata": {},
   "outputs": [],
   "source": [
    "AEMPYX_ROOT = os.environ[\"AEMPYX_ROOT\"]\n",
    "mypath = [AEMPYX_ROOT+\"/aempy/modules/\", AEMPYX_ROOT+\"/aempy/scripts/\"]\n",
    "for pth in mypath:\n",
    "    if pth not in sys.path:\n",
    "        sys.path.insert(0,pth)"
   ]
  },
  {
   "cell_type": "code",
   "execution_count": null,
   "id": "4acf8d89",
   "metadata": {},
   "outputs": [],
   "source": [
    "from version import versionstrg"
   ]
  },
  {
   "cell_type": "code",
   "execution_count": null,
   "id": "ded12275",
   "metadata": {},
   "outputs": [],
   "source": [
    "import aesys\n",
    "import util\n",
    "import inverse\n",
    "import alg"
   ]
  },
  {
   "cell_type": "code",
   "execution_count": null,
   "id": "abb20f2e",
   "metadata": {},
   "outputs": [],
   "source": [
    "warnings.simplefilter(action=\"ignore\", category=FutureWarning)"
   ]
  },
  {
   "cell_type": "code",
   "execution_count": null,
   "id": "46da4cc9",
   "metadata": {},
   "outputs": [],
   "source": [
    "AEMPYX_DATA = os.environ[\"AEMPYX_DATA\"]"
   ]
  },
  {
   "cell_type": "code",
   "execution_count": null,
   "id": "8c7bf491",
   "metadata": {},
   "outputs": [],
   "source": [
    "rng = numpy.random.default_rng()\n",
    "nan = numpy.nan  # float(\"NaN\")\n",
    "version, _ = versionstrg()\n",
    "titstrng = util.print_title(version=version, fname=__file__, out=False)\n",
    "print(titstrng+\"\\n\\n\")"
   ]
  },
  {
   "cell_type": "code",
   "execution_count": null,
   "id": "e5422fc2",
   "metadata": {
    "lines_to_next_cell": 2
   },
   "outputs": [],
   "source": [
    "OutInfo = False\n",
    "now = datetime.now()"
   ]
  },
  {
   "cell_type": "code",
   "execution_count": null,
   "id": "497fae3d",
   "metadata": {
    "lines_to_next_cell": 2
   },
   "outputs": [],
   "source": [
    "\"\"\"\n",
    "System related settings.\n",
    "Data transformation is allowed with three possible options:\n",
    "DataTrans   = 0           raw data\n",
    "            = 1           natural log of data\n",
    "            = 2           asinh transformation\n",
    "An error model is applied for the raw data, which is\n",
    "mixed additive/multiplicative. in case of data transformation,\n",
    "errors are also transformed.\n",
    "\"\"\"\n",
    "# AEM_system = \"genesis\"\n",
    "AEM_system = \"aem05\"  # \"genesis\"\n",
    "if \"aem05\" in AEM_system.lower():\n",
    "    FwdCall,NN, _, _, _, = aesys.get_system_params(System=AEM_system)\n",
    "    nL = NN[0]\n",
    "    ParaTrans = 1\n",
    "    DataTrans = 0\n",
    "    DatErr_add =  75.\n",
    "    DatErr_mult = 0.05\n",
    "    data_active = numpy.ones(NN[2], dtype=\"int8\")"
   ]
  },
  {
   "cell_type": "code",
   "execution_count": null,
   "id": "a925f62b",
   "metadata": {
    "lines_to_next_cell": 2
   },
   "outputs": [],
   "source": [
    "if \"genes\" in AEM_system.lower():\n",
    "    FwdCall, NN, _, _, _, = aesys.get_system_params(System=AEM_system)\n",
    "    nL = NN[0]\n",
    "    ParaTrans = 1\n",
    "    DataTrans = 0\n",
    "    DatErr_add = 300.\n",
    "    DatErr_mult = 0.03\n",
    "    data_active = numpy.ones(NN[2], dtype=\"int8\")\n",
    "    data_active[0:11]=0  # only vertical component\n",
    "    # data_active[10:11]=0  # Vertical + 'good' hoizontals'"
   ]
  },
  {
   "cell_type": "code",
   "execution_count": null,
   "id": "5343376b",
   "metadata": {
    "lines_to_next_cell": 2
   },
   "outputs": [],
   "source": [
    "\"\"\"\n",
    "input formats are \".npz\",\".nc4\",\".asc\"\n",
    "\"\"\""
   ]
  },
  {
   "cell_type": "code",
   "execution_count": null,
   "id": "a3dd8105",
   "metadata": {},
   "outputs": [],
   "source": [
    "FileList = \"search\"  # \"search\", \"read\"\n",
    "InDatDir =  AEMPYX_DATA + \"/Projects/StGormans/proc_delete_PLM3s/\"\n",
    "SearchStrng = \"A1_rect_StGormans_FL11379-0_proc_delete_PLM3s_k3.npz\""
   ]
  },
  {
   "cell_type": "code",
   "execution_count": null,
   "id": "efd54de4",
   "metadata": {},
   "outputs": [],
   "source": [
    "if \"set\" in FileList.lower():\n",
    "    print(\"Data files read from dir:  %s\" % InDatDir)\n",
    "    # dat_files = []\n",
    "    dat_files = numpy.load(AEMPYX_DATA + \"/Projects/Compare/BundoranSubsets.npz\")[\"setC\"]\n",
    "    dat_files = [os.path.basename(f) for f in dat_files]  \n",
    "else:\n",
    "    # how = [\"search\", SearchStrng, InDatDir]\n",
    "    # how = [\"read\", FileList, InDatDir]\n",
    "    dat_files = util.get_data_list(how=[\"search\", SearchStrng, InDatDir],\n",
    "                              out= True, sort=True)\n",
    "    ns = numpy.size(dat_files)"
   ]
  },
  {
   "cell_type": "code",
   "execution_count": null,
   "id": "21268a58",
   "metadata": {},
   "outputs": [],
   "source": [
    "ns = numpy.size(dat_files)\n",
    "if ns ==0:\n",
    "    error(\"No files set!. Exit.\")"
   ]
  },
  {
   "cell_type": "code",
   "execution_count": null,
   "id": "84cb0283",
   "metadata": {
    "lines_to_next_cell": 2
   },
   "outputs": [],
   "source": [
    "\"\"\"\n",
    "Output format is \".npz\"\n",
    "\"\"\"\n",
    "OutFileFmt = \".npz\"\n",
    "OutResDir =  AEMPYX_DATA + \"/Projects/StGormans/results_rto/\"\n",
    "print(\"Models written to dir: %s \" % OutResDir)"
   ]
  },
  {
   "cell_type": "code",
   "execution_count": null,
   "id": "153f4049",
   "metadata": {
    "lines_to_next_cell": 2
   },
   "outputs": [],
   "source": [
    "if not os.path.isdir(OutResDir):\n",
    "    print(\"File: %s does not exist, but will be created\" % OutResDir)\n",
    "    os.mkdir(OutResDir)"
   ]
  },
  {
   "cell_type": "code",
   "execution_count": null,
   "id": "d13fa118",
   "metadata": {},
   "outputs": [],
   "source": [
    "\"\"\"\n",
    "script offers several methods do choose sites:\n",
    "Sample = \n",
    "\"rand\"                  choose Nsample random sites\n",
    "\"step\"                  choose sites with Start/Sop/Step\n",
    "\"list suboption\"        define list, with suboptions position and distance\n",
    "\n",
    "Any other string will choose full data set.\n",
    "\n",
    "\"\"\""
   ]
  },
  {
   "cell_type": "code",
   "execution_count": null,
   "id": "841fc610",
   "metadata": {},
   "outputs": [],
   "source": [
    "Sample = [\"random\"]   # "
   ]
  },
  {
   "cell_type": "code",
   "execution_count": null,
   "id": "85ed2766",
   "metadata": {},
   "outputs": [],
   "source": [
    "if \"rand\" in Sample[0].lower():\n",
    "    Num_samples = 10\n",
    "    Sample.append(Num_samples)"
   ]
  },
  {
   "cell_type": "code",
   "execution_count": null,
   "id": "265795df",
   "metadata": {},
   "outputs": [],
   "source": [
    "elif \"step\" in Sample[0].lower():\n",
    "    Start, Stop, Step = 0, -1, 10\n",
    "    Sample.extend((Start, Stop, Step))"
   ]
  },
  {
   "cell_type": "code",
   "execution_count": null,
   "id": "fd9eaa49",
   "metadata": {
    "lines_to_next_cell": 2
   },
   "outputs": [],
   "source": [
    "elif \"list\" in Sample[0].lower():\n",
    "    \n",
    "    if \"pos\" in Sample[0].lower():\n",
    "        Samplist = [100, 200]\n",
    "    else:\n",
    "        Distlist = [ 1500.]"
   ]
  },
  {
   "cell_type": "code",
   "execution_count": null,
   "id": "ca559ca8",
   "metadata": {},
   "outputs": [],
   "source": [
    "ReverseDir = False"
   ]
  },
  {
   "cell_type": "code",
   "execution_count": null,
   "id": "af61d38e",
   "metadata": {},
   "outputs": [],
   "source": [
    "\"\"\"\n",
    "Define inversion type  optional additional parameters (e.g., Waveforms )\n",
    "\"\"\"\n",
    "RunType = \"TikhOpt RTO\" # \"TikhOcc\",  \"MAP_ParSpace\", \"MAP_DatSpace\",\"Jack\",\"DoI\", \"RTO\"\"\n",
    "Uncert = True\n",
    "RegFun = \"gcv\" # \"fix\", \"lcc\", \"gcv\", \"mle\"\n",
    "RegVal0 = 1.e-5\n",
    "NTau0 = 1\n",
    "Tau0min = numpy.log10(RegVal0)\n",
    "Tau0max = numpy.log10(RegVal0)\n",
    "Tau0 = numpy.logspace(Tau0min, Tau0max, NTau0)"
   ]
  },
  {
   "cell_type": "code",
   "execution_count": null,
   "id": "59f5ff31",
   "metadata": {},
   "outputs": [],
   "source": [
    "if any(s in RegFun.lower() for s in [\"gcv\", \"upr\", \"ufc\", \"mle\", \"lcc\"]):\n",
    "    RegVal1Min = 0.1\n",
    "    RegVal1Max = 10000.\n",
    "    NTau1 =64\n",
    "    Tau1min = numpy.log10(RegVal1Min)\n",
    "    Tau1max = numpy.log10(RegVal1Max)\n",
    "else:\n",
    "    RegVal1 =20.\n",
    "    NTau1 =1\n",
    "    Tau1min = numpy.log10(RegVal1)\n",
    "    Tau1max = numpy.log10(RegVal1)"
   ]
  },
  {
   "cell_type": "code",
   "execution_count": null,
   "id": "de7f1392",
   "metadata": {},
   "outputs": [],
   "source": [
    "Tau1 = numpy.logspace(Tau1min, Tau1max, NTau1)\n",
    "nreg = NTau0 * NTau1"
   ]
  },
  {
   "cell_type": "code",
   "execution_count": null,
   "id": "8ba7d81b",
   "metadata": {},
   "outputs": [],
   "source": [
    "\"\"\"\n",
    "Model definition\n",
    "\"\"\""
   ]
  },
  {
   "cell_type": "code",
   "execution_count": null,
   "id": "05ed6673",
   "metadata": {},
   "outputs": [],
   "source": [
    "SetPrior = \"set\"\n",
    "ParaTrans = 1"
   ]
  },
  {
   "cell_type": "code",
   "execution_count": null,
   "id": "17fbb3b4",
   "metadata": {
    "lines_to_next_cell": 2
   },
   "outputs": [],
   "source": [
    "Nlyr = 36\n",
    "dzstart = 5.\n",
    "dzend = 10.\n",
    "dz = numpy.logspace(numpy.log10(dzstart), numpy.log10(dzend), Nlyr)\n",
    "z = numpy.append(0.0, numpy.cumsum(dz))"
   ]
  },
  {
   "cell_type": "code",
   "execution_count": null,
   "id": "211d8c9e",
   "metadata": {},
   "outputs": [],
   "source": [
    "mod_act, mod_apr, mod_var, mod_bnd, m_state = inverse.init_1dmod(Nlyr)"
   ]
  },
  {
   "cell_type": "code",
   "execution_count": null,
   "id": "9a63fdef",
   "metadata": {},
   "outputs": [],
   "source": [
    "mod_act[0*Nlyr:1*Nlyr] = 1\n",
    "sizepar = numpy.shape(mod_act)\n",
    "mpara = sizepar[0]"
   ]
  },
  {
   "cell_type": "code",
   "execution_count": null,
   "id": "dd707a67",
   "metadata": {
    "lines_to_next_cell": 2
   },
   "outputs": [],
   "source": [
    "Guess_r = 100.0  # initial guess for resistivity in mod_apr\n",
    "Guess_s = 0.3   # mod_std defines standard deviation of mod_apr\n",
    "mod_apr[0*Nlyr:1*Nlyr] = Guess_r\n",
    "mod_var[0*Nlyr:1*Nlyr] = numpy.power(Guess_s,2)\n",
    "mod_apr[6*Nlyr:7*Nlyr-1] = dz[0:Nlyr - 1]\n",
    "mod_var[6*Nlyr:7*Nlyr-1] = numpy.power(1.,2)"
   ]
  },
  {
   "cell_type": "code",
   "execution_count": null,
   "id": "e6c62a37",
   "metadata": {
    "lines_to_next_cell": 2
   },
   "outputs": [],
   "source": [
    "# mod_bnd = mumpy.array([])\n",
    "max_val = 1.e+30\n",
    "min_val = 1.e-30\n",
    "# max_val = mod_apr[mod_act!=0] + 3*mod_std[mod_act!=0]\n",
    "# mod_bnd[mod_act!=0, 1] = max_val\n",
    "# min_val = mod_apr[mod_act!=0] - 3*mod_std[mod_act!=0]\n",
    "# mod_bnd[mod_act!=0, 0] = min_val\n",
    "mod_bnd[:,0] = min_val\n",
    "mod_bnd[:,1] = max_val"
   ]
  },
  {
   "cell_type": "code",
   "execution_count": null,
   "id": "b2fdb5c5",
   "metadata": {},
   "outputs": [],
   "source": [
    "if OutInfo:\n",
    "    #   print \\\n",
    "    #   (\" Parameter set for inverting: \\n\", mod_act)\n",
    "    print(\" Layer thicknesses: \\n\", dz)\n",
    "    print(\" Layer interface depths: \\n\", z)\n",
    "    print(\" Initial halfspace resistivity of %6.2f Ohm*m\" % (Guess_r))\n",
    "    print(\" Log Standard error of %6.2f \" % (Guess_s))\n",
    "    if not (mod_bnd == None) or (numpy.size(mod_bnd) == 0):\n",
    "        print(\" Upper limits: \\n\", mod_bnd[:, 1])\n",
    "        print(\" Lower limits: \\n\", mod_bnd[:, 0])"
   ]
  },
  {
   "cell_type": "code",
   "execution_count": null,
   "id": "cef09320",
   "metadata": {},
   "outputs": [],
   "source": [
    "\"\"\"\n",
    "Setup Controls for different Algorithms\n",
    "\"\"\"\n",
    "if \"tikhopt\" in  RunType.lower():\n",
    "    \"\"\"\n",
    "    Prepare differential operator base methods for regularization matrices\n",
    "    \"\"\"\n",
    "    D0 = inverse.diffops(dz, der=False, mtype=\"sparse\", otype=\"L0\")\n",
    "    L = [D0 for D in range(7)]\n",
    "    L0 = scipy.sparse.block_diag(L)\n",
    "    Cm0 = L0.T@L0\n",
    "    Cm0 = inverse.extract_cov(Cm0, mod_act)\n",
    "\n",
    "\n",
    "    D1 = inverse.diffops(dz, der=False, mtype=\"sparse\", otype=\"L1\")\n",
    "    L = [D1 for D in range(7)]\n",
    "    L1 = scipy.sparse.block_diag(L)\n",
    "    Cm1 = L1.T@L1\n",
    "    Cm1 = inverse.extract_cov(Cm1, mod_act)\n",
    "\n",
    "    Maxiter = 10\n",
    "    Maxreduce = 5\n",
    "    Rfact = 0.66\n",
    "    LinPars = [Maxreduce, Rfact]\n",
    "\n",
    "\n",
    "    ThreshRMS = [0.9, 1.0e-2, 1.0e-2]\n",
    "    Delta = [1.e-5]\n",
    "    RegShift = 1\n",
    "    Ctrl = dict([\n",
    "        (\"system\", [AEM_system, FwdCall]),  (\"name\", \"\"),\n",
    "        (\"inversion\",\n",
    "         numpy.array([RunType, RegFun, Tau0, Tau1, Maxiter, ThreshRMS, \n",
    "                      LinPars, SetPrior, Delta, RegShift], dtype=object)),\n",
    "        (\"covar\", \n",
    "         numpy.array([L0, Cm0, L1, Cm1], dtype=object)),\n",
    "        (\"transform\",\n",
    "         [DataTrans, ParaTrans]),\n",
    "        (\"uncert\", \n",
    "         Uncert)\n",
    "       ])"
   ]
  },
  {
   "cell_type": "code",
   "execution_count": null,
   "id": "2d2cf4f9",
   "metadata": {
    "lines_to_next_cell": 2
   },
   "outputs": [],
   "source": [
    "if \"map\" in  RunType.lower():\n",
    "\n",
    "    \"\"\"\n",
    "    Prepare explicit covariances for MAP and related methods\n",
    "    \"\"\"\n",
    "\n",
    "    zc = inverse.set_zcenters(dz)\n",
    "    xc = numpy.zeros_like(zc)\n",
    "    yc = numpy.zeros_like(zc)\n",
    "\n",
    "    \"\"\"\n",
    "    This setup is a workaround, correct only for rho-only inversion\n",
    "    \"\"\"\n",
    "    Tau = Tau1\n",
    "    CorrL = 40.\n",
    "    mvar  = mod_var[0*Nlyr:1*Nlyr]\n",
    "    # inverse.extract_mod(mod_var, mod_act)\n",
    "  \n",
    "    if \"par\"in RunType.lower():\n",
    "        InvSpace = \"par\"\n",
    "        Cmi, CmiS = inverse.covar(xc, yc, zc, covtype= [\"exp\", CorrL],\n",
    "                  var=mvar, sparse=False, thresh=0.05, inverse=True)\n",
    "\n",
    "        \n",
    "        Cmi = inverse.full_cov([Cmi])\n",
    "        Cmi = inverse.extract_cov(Cmi, mod_act)\n",
    "        C = scipy.sparse.csr_matrix(Cmi)\n",
    "        \n",
    "  \n",
    "        CmiS = inverse.full_cov([CmiS])\n",
    "        CmiS = inverse.extract_cov(CmiS, mod_act)        \n",
    "        sC = scipy.sparse.csr_matrix(CmiS)\n",
    "\n",
    "        print(numpy.shape(C),numpy.shape(sC))\n",
    "    else:\n",
    "        InvSpace = \"dat\"\n",
    "        Cm, CmS = inverse.covar(xc, yc, zc, covtype= [\"exp\", CorrL],\n",
    "                  var=mvar, sparse=False, thresh=0.05, inverse=False)\n",
    "\n",
    "        Cm = inverse.full_cov([Cm])\n",
    "        Cm = inverse.extract_cov(Cm, mod_act)\n",
    "        C = scipy.sparse.csr_matrix(Cm)\n",
    "        \n",
    "        CmS = inverse.full_cov([CmS])\n",
    "        CmS = inverse.extract_cov(CmS, mod_act)\n",
    "        sC = scipy.sparse.csr_matrix(CmS)\n",
    "\n",
    "        \n",
    "    Maxiter = 10\n",
    "    Maxreduce = 5\n",
    "    Rfact = 0.66\n",
    "    LinPars = [Maxreduce, Rfact]\n",
    "        \n",
    "\n",
    "    ThreshRMS = [0.5, 1.0e-2, 1.0e-2]\n",
    "    Delta = [1.e-5]\n",
    "    TauSeq = [0.5]\n",
    "    RegShift = 1\n",
    "    Ctrl = dict([\n",
    "        (\"system\",\n",
    "         [AEM_system, FwdCall]),\n",
    "        (\"name\", \"\"),\n",
    "        (\"inversion\",\n",
    "         numpy.array([RunType, InvSpace, RegFun, Tau, Maxiter,ThreshRMS,\n",
    "                      LinPars, SetPrior, Delta, RegShift], dtype=object)),\n",
    "        (\"covar\",\n",
    "         numpy.array([C, sC], dtype=object)),\n",
    "        (\"transform\",\n",
    "         [DataTrans, ParaTrans]),\n",
    "        (\"uncert\",\n",
    "         Uncert)\n",
    "       ])"
   ]
  },
  {
   "cell_type": "code",
   "execution_count": null,
   "id": "142520f4",
   "metadata": {},
   "outputs": [],
   "source": [
    "if \"rto\" in RunType.lower():\n",
    "    \"\"\"\n",
    "    Prepre parameters for rto (randomize-then-optimize) algorithm\n",
    "    \"\"\"\n",
    "    NSamples = 100\n",
    "    Percentiles = numpy.array([10., 20., 30., 40., 50., 60., 70., 80., 90.]) # linear\n",
    "    # Percentiles = [2.3, 15.9, 50., 84.1,97.7]                   # 95/68\n",
    "    Ctrl[\"rto\"] =  numpy.array([NSamples, Percentiles], dtype=object)\n",
    "    Ctrl[\"output\"] = [\"ens \"]"
   ]
  },
  {
   "cell_type": "code",
   "execution_count": null,
   "id": "36a6baf6",
   "metadata": {},
   "outputs": [],
   "source": [
    "if OutInfo:\n",
    "    print(Ctrl.keys())"
   ]
  },
  {
   "cell_type": "code",
   "execution_count": null,
   "id": "c84f0f69",
   "metadata": {},
   "outputs": [],
   "source": []
  },
  {
   "cell_type": "code",
   "execution_count": null,
   "id": "3b8e433d",
   "metadata": {
    "lines_to_next_cell": 2
   },
   "outputs": [],
   "source": [
    "OutStrng = \"_RTO_nlyr\"+str(Nlyr)\\\n",
    "            +\"_\"+RunType\\\n",
    "            +\"_\"+RegFun\\\n",
    "            +\"_Prior\"+str(int(Guess_r))\\\n",
    "            +\"_results\"\n",
    "print(\"ID string: input file + %s \" % OutStrng)"
   ]
  },
  {
   "cell_type": "code",
   "execution_count": null,
   "id": "38199c8c",
   "metadata": {},
   "outputs": [],
   "source": [
    "fcount =0\n",
    "for file in dat_files:\n",
    "\n",
    "    start = time.time()\n",
    "\n",
    "    start = time.time()\n",
    "\n",
    "    fcount=fcount+1\n",
    "\n",
    "    name, ext = os.path.splitext(file)\n",
    "    filein = InDatDir+file\n",
    "    print(\"\\n Reading file \" + filein)\n",
    "\n",
    "    Fileout = OutResDir + name + OutStrng\n",
    "\n",
    "    numpy.savez_compressed(file=Fileout.replace(\"_results\",\"_ctrl\"), **Ctrl)\n",
    "\n",
    "    DataObs, Header, _ = aesys.read_aempy(File=filein,\n",
    "                                   System=AEM_system, OutInfo=False)\n",
    "\n",
    "    fl_name = DataObs[0, 0]\n",
    "    site_x = DataObs[:, 1]\n",
    "    site_y = DataObs[:, 2]\n",
    "    site_gps = DataObs[:, 3]\n",
    "    site_alt = DataObs[:, 4]\n",
    "    site_dem = DataObs[:, 5]\n",
    "    dat_obs =  DataObs[:, 6:6+NN[2]]\n",
    "    [nsite,ndata] = numpy.shape(dat_obs)\n",
    "    dat_act = numpy.tile(data_active,(nsite,1))\n",
    "    fl_orig = [site_x[0], site_y[0]]\n",
    "    \n",
    "    if \"read\" in SetPrior.lower():\n",
    "        halfspace =\"halfspace_results\"\n",
    "        file, filext0 = os.path.splitext(file)\n",
    "        prior_file = file+halfspace+filext0\n",
    "        mod_prior, var_prior = inverse.load_prior(prior_file)\n",
    "\n",
    "\n",
    "    start = time.time()\n",
    "    \"\"\"\n",
    "    Loop over sites\n",
    "    \"\"\"\n",
    "    sequence = range(nsite)\n",
    "    if ReverseDir:\n",
    "        site_list = sequence[::-1]\n",
    "    else:\n",
    "        site_list = sequence\n",
    "        \n",
    "        \n",
    "    site_x = site_x - site_x[0]\n",
    "    site_y = site_y - site_y[0]\n",
    "    site_r = numpy.sqrt(numpy.power(site_x, 2.0) + numpy.power(site_y, 2.0))\n",
    "    \n",
    "    site_list = numpy.arange(len(site_x)) \n",
    "                             \n",
    "    if \"rand\" in Sample[0].lower() or \"step\" in Sample[0].lower():\n",
    "        site_list = util.sample_list(site_list, method=Sample)\n",
    "        \n",
    "\n",
    "    elif \"list\" in Sample[0].lower():\n",
    "        \n",
    "        if \"posi\" in Sample[0].lower():\n",
    "            site_list = Samplist\n",
    "        if \"dist\" in Sample[0].lower():\n",
    "            for nid in numpy.arange(len(Distlist)):\n",
    "                nds = (numpy.abs(Distlist[nid] - site_r)).argmin()\n",
    "                site_list.append(nds)\n",
    "   \n",
    "\n",
    "\n",
    "\n",
    "\n",
    "    logsize = (2 + 7*Maxiter)\n",
    "    site_log = numpy.full((len(site_list),logsize), numpy.nan)\n",
    "\n",
    "    for ii in site_list:\n",
    "\n",
    "        print(\"\\n Invert site #\"+str(ii)+\"/\"+str(len(site_list)))\n",
    "        Ctrl[\"name\"] = str(fl_name)+\"/\"+str(ii)\n",
    "        print(\"\\n Data set: \" + str(fl_name))\n",
    "        \"\"\"\n",
    "        Setup model-related parameter dict\n",
    "        \"\"\"\n",
    "\n",
    "        if \"read\" in SetPrior.lower():\n",
    "            mod_apr = mod_prior[ii]\n",
    "            mod_ini = mod_apr.copy()\n",
    "\n",
    "        elif \"upd\" in SetPrior:\n",
    "\n",
    "            if ii == 0:\n",
    "                mod_ini = mod_apr.copy()\n",
    "                model = mod_ini.copy()\n",
    "            else:\n",
    "                mod_ini = model.copy()\n",
    "                model = mod_ini.copy()\n",
    "\n",
    "        elif \"set\" in SetPrior:\n",
    "\n",
    "                mod_ini = mod_apr.copy()\n",
    "                model = mod_ini.copy()\n",
    "\n",
    "        Model = dict([\n",
    "            (\"m_act\", mod_act),\n",
    "            (\"m_apr\", mod_apr),\n",
    "            (\"m_var\", mod_var),\n",
    "            (\"m_bnd\", mod_bnd),\n",
    "            (\"m_ini\", mod_ini)\n",
    "            ])\n",
    "\n",
    "        \"\"\"\n",
    "        Setup data-related parameter dict\n",
    "        \"\"\"\n",
    "\n",
    "        dat_err = numpy.zeros_like(dat_obs)\n",
    "        dat_err[ii, :], _ = inverse.set_errors(dat_obs[ii, :],\n",
    "                                                daterr_add=DatErr_add,\n",
    "                                                daterr_mult=DatErr_mult)\n",
    "\n",
    "        Data = dict([\n",
    "            (\"d_act\", dat_act[ii,:]),\n",
    "            (\"d_obs\", dat_obs[ii,:]),\n",
    "            (\"d_err\", dat_err[ii,:]),\n",
    "            (\"alt\", site_alt[ii])\n",
    "            ])\n",
    "\n",
    "        \"\"\"\n",
    "        Call inversion algorithms\n",
    "        \"\"\"\n",
    "\n",
    "        if \"rto\" in RunType.lower():\n",
    "            results =\\\n",
    "                alg.run_RML(Ctrl=Ctrl, Model=Model, Data=Data,\n",
    "                                  OutInfo=OutInfo)\n",
    "\n",
    "        \"\"\"\n",
    "        Store inversion Results\n",
    "        \"\"\"\n",
    "        if OutInfo:\n",
    "            print(\"Results: \",results.keys())\n",
    "       \n",
    "        M = results[\"model\"]\n",
    "        D = results[\"data\"]\n",
    "        C = results[\"log\"]            \n",
    "\n",
    "        jacd = results[\"jacd\"]\n",
    "        pcov = results[\"cpost\"]\n",
    "\n",
    "        rto_avg = results[\"rto_avg\"]\n",
    "        rto_var = results[\"rto_var\"]\n",
    "        rto_med = results[\"rto_med\"]\n",
    "        rto_mad = results[\"rto_mad\"]\n",
    "        rto_prc = results[\"rto_prc\"]\n",
    "        \n",
    "        if \"ens\" in Ctrl[\"output\"]:\n",
    "           rto_ens = results[\"rto_ens\"]\n",
    "        \n",
    "        if ii==0:\n",
    "            site_num  = numpy.array([ii])\n",
    "            site_nrms = C[2]\n",
    "            site_modl = M[0]\n",
    "            site_merr = M[1]\n",
    "            site_sens = M[2]\n",
    "            site_dobs = D[0].reshape((1,-1))\n",
    "            site_dcal = D[1].reshape((1,-1))\n",
    "            site_derr = D[2].reshape((1,-1))\n",
    "            site_jacd = jacd.reshape((1,numpy.size(jacd)))\n",
    "            site_pcov = pcov.reshape((1,numpy.size(pcov)))\n",
    "            site_rto_avg = rto_avg\n",
    "            site_rto_var = rto_var\n",
    "            site_rto_med = rto_med            \n",
    "            site_rto_mad = rto_mad\n",
    "            site_rto_prc = rto_prc\n",
    "            \n",
    "            if \"ens\" in Ctrl[\"output\"]:\n",
    "                site_rto_ens = rto_ens\n",
    "                \n",
    "                \n",
    "        else:\n",
    "            site_num = numpy.vstack((site_num, ii))\n",
    "            site_nrms = numpy.vstack((site_nrms, C[2]))\n",
    "            site_modl = numpy.vstack((site_modl, M[0]))\n",
    "            site_merr = numpy.vstack((site_merr, M[1]))\n",
    "            site_sens = numpy.vstack((site_sens, M[2]))\n",
    "            site_dobs = numpy.vstack((site_dobs, D[0]))\n",
    "            site_dcal = numpy.vstack((site_dcal, D[1]))\n",
    "            site_derr = numpy.vstack((site_derr, D[2]))               \n",
    "            site_jacd = numpy.vstack((site_jacd, jacd.reshape((1,numpy.size(jacd)))))\n",
    "            site_pcov = numpy.vstack((site_pcov, pcov.reshape((1,numpy.size(pcov)))))\n",
    "            site_rto_avg = numpy.vstack((site_rto_avg, rto_avg))\n",
    "            site_rto_var = numpy.vstack((site_rto_var, rto_var))\n",
    "            site_rto_med = numpy.vstack((site_rto_med, rto_med))  \n",
    "            site_rto_mad = numpy.vstack((site_rto_mad, rto_mad))\n",
    "            site_rto_prc = numpy.vstack((site_rto_prc, rto_prc))\n",
    "            \n",
    "            if \"ens\" in Ctrl[\"output\"]:\n",
    "               site_rto_ens = numpy.vstack((site_rto_ens, rto_ens))\n",
    "\n",
    "\n",
    "    numpy.savez_compressed(\n",
    "        file=Fileout+OutFileFmt,\n",
    "        fl_data=file,\n",
    "        fl_name=fl_name,\n",
    "        fl_orig = fl_orig,\n",
    "        header=titstrng,\n",
    "        site_log =site_log,\n",
    "        mod_ref=mod_apr,\n",
    "        mod_act=mod_act,\n",
    "        dat_act=dat_act,\n",
    "        site_modl=site_modl,\n",
    "        site_sens=site_sens,\n",
    "        site_merr=site_merr,\n",
    "        site_dobs=site_dobs,\n",
    "        site_dcal=site_dcal,\n",
    "        site_derr=site_derr,\n",
    "        site_nrms=site_nrms,\n",
    "        site_num=site_num,\n",
    "        site_y=site_y,\n",
    "        site_x=site_x,\n",
    "        site_gps=site_gps,\n",
    "        site_alt=site_alt,\n",
    "        site_dem=site_dem,            \n",
    "        site_jacd=site_jacd,\n",
    "        site_pcov=site_pcov,\n",
    "        site_rto_avg=site_rto_avg,\n",
    "        site_rto_var=site_rto_var,\n",
    "        site_rto_med=site_rto_med,\n",
    "        site_rto_mad=site_rto_mad,\n",
    "        site_rto_prc=site_rto_prc)\n",
    "           \n",
    "    if \"ens\" in Ctrl[\"output\"]:\n",
    "        util.add_object_npz(filein=Fileout+OutFileFmt,\n",
    "                   xkey = [\"site_rto_ens\"], xobject=[site_rto_ens])\n",
    "\n",
    "    print(\"\\n\\nResults stored to \"+Fileout)\n",
    "    elapsed = (time.time() - start)\n",
    "    print (\" Used %7.4f sec for %6i sites\" % (elapsed, ii+1))\n",
    "    print (\" Average %7.4f sec/site\\n\" % (elapsed/(ii+1)))"
   ]
  },
  {
   "cell_type": "code",
   "execution_count": null,
   "id": "7981a1cc",
   "metadata": {
    "lines_to_next_cell": 2
   },
   "outputs": [],
   "source": [
    "print(\"\\n\\nAll done!\")"
   ]
  }
 ],
 "metadata": {
  "jupytext": {
   "cell_metadata_filter": "-all",
   "executable": "/usr/bin/env python3",
   "formats": "py,ipynb",
   "main_language": "python"
  }
 },
 "nbformat": 4,
 "nbformat_minor": 5
}
