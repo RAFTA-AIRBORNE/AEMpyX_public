{
 "cells": [
  {
   "cell_type": "code",
   "execution_count": null,
   "id": "62f85759",
   "metadata": {
    "lines_to_next_cell": 2
   },
   "outputs": [],
   "source": [
    "!/usr/bin/env python3\n",
    "# -*- coding: utf-8 -*-"
   ]
  },
  {
   "cell_type": "code",
   "execution_count": null,
   "id": "4273d63f",
   "metadata": {},
   "outputs": [],
   "source": [
    "\"\"\"\n",
    "This script realizes the Laterally Correlation Procedure approach\n",
    "of Christensen (2009). \n",
    "\n",
    "References:\n",
    "           \n",
    "    N. B. Christensen & R. J. Tølbøll (2009)\n",
    "    “A lateral model parameter correlation procedure for one-dimensional inverse modelling\"\"\n",
    "    Geophysical Prospecting, 57, 919–929, doi: 10.1111/j.1365-2478.2008.00756.x.\n",
    "  \n",
    " \n",
    "Created on Tue Aug  3 17:03:39 2021\n",
    "\n",
    "vrath 10/23\n",
    "\n",
    "\"\"\""
   ]
  },
  {
   "cell_type": "code",
   "execution_count": null,
   "id": "1c1ced6f",
   "metadata": {
    "lines_to_next_cell": 2
   },
   "outputs": [],
   "source": [
    "import os\n",
    "import sys\n",
    "from sys import exit as error\n",
    "from time import process_time\n",
    "from datetime import datetime"
   ]
  },
  {
   "cell_type": "code",
   "execution_count": null,
   "id": "e86100d1",
   "metadata": {},
   "outputs": [],
   "source": [
    "import numpy\n",
    "import scipy\n",
    "import scipy.interpolate\n",
    "import scipy.spatial\n",
    "import scipy.linalg"
   ]
  },
  {
   "cell_type": "code",
   "execution_count": null,
   "id": "ef9f64ca",
   "metadata": {},
   "outputs": [],
   "source": [
    "import shapely"
   ]
  },
  {
   "cell_type": "code",
   "execution_count": null,
   "id": "d8b2b6d6",
   "metadata": {},
   "outputs": [],
   "source": [
    "AEMPYX_ROOT = os.environ[\"AEMPYX_ROOT\"]\n",
    "mypath = [AEMPYX_ROOT+\"/aempy/modules/\", AEMPYX_ROOT+\"/aempy/scripts/\"]\n",
    "for pth in mypath:\n",
    "    if pth not in sys.path:\n",
    "        sys.path.insert(0,pth)"
   ]
  },
  {
   "cell_type": "code",
   "execution_count": null,
   "id": "ca473f44",
   "metadata": {},
   "outputs": [],
   "source": [
    "from version import versionstrg\n",
    "import util\n",
    "import aesys\n",
    "import viz\n",
    "import inverse"
   ]
  },
  {
   "cell_type": "code",
   "execution_count": null,
   "id": "9f68a8c9",
   "metadata": {},
   "outputs": [],
   "source": [
    "#warnings.simplefilter(action=\"ignore\", category=FutureWarning)\n",
    "cm = 1/2.54\n",
    "OutInfo = True\n",
    "AEMPYX_DATA = os.environ[\"AEMPYX_DATA\"]"
   ]
  },
  {
   "cell_type": "code",
   "execution_count": null,
   "id": "cb0df06b",
   "metadata": {},
   "outputs": [],
   "source": [
    "version, _ = versionstrg()\n",
    "titstrng = util.print_title(version=version, fname=__file__, out=False)\n",
    "print(titstrng+\"\\n\\n\")"
   ]
  },
  {
   "cell_type": "code",
   "execution_count": null,
   "id": "5fa23cbc",
   "metadata": {},
   "outputs": [],
   "source": [
    "now = datetime.now()"
   ]
  },
  {
   "cell_type": "code",
   "execution_count": null,
   "id": "31d870d9",
   "metadata": {
    "lines_to_next_cell": 2
   },
   "outputs": [],
   "source": [
    "\"\"\"\n",
    "System related settings.\n",
    "Data transformation is now allowed with three possible options:\n",
    "DataTrans   = 0           raw data\n",
    "            = 1           natural log of data\n",
    "            = 2           asinh transformation\n",
    "An error model is applied for the raw data, which is\n",
    "mixed additive/multiplicative. in case of data transformation,\n",
    "errors are also transformed.\n",
    "\"\"\"\n",
    "# AEM_system = \"genesis\"\n",
    "AEM_system = \"aem05\"\n",
    "if \"aem05\" in AEM_system.lower():\n",
    "    FwdCall,NN, _, _, Misc, = aesys.get_system_params(System=AEM_system)\n",
    "    nL = NN[0]\n",
    "    ParaTrans = 1\n",
    "    DataTrans = 0\n",
    "    DatErr_add =  50.\n",
    "    DatErr_mult = 0.03\n",
    "    data_active = numpy.ones(NN[2], dtype=\"int8\")\n",
    "    CompDict=Misc[2]"
   ]
  },
  {
   "cell_type": "code",
   "execution_count": null,
   "id": "1dfebd5f",
   "metadata": {},
   "outputs": [],
   "source": [
    "if \"genes\" in AEM_system.lower():\n",
    "    FwdCall, NN, _, _, Misc, = aesys.get_system_params(System=AEM_system)\n",
    "    nL = NN[0]\n",
    "    ParaTrans = 1\n",
    "    DataTrans = 2\n",
    "    DatErr_add = 100.\n",
    "    DatErr_mult = 0.01\n",
    "    data_active = numpy.ones(NN[2], dtype=\"int8\")\n",
    "    data_active[0:11]=0  # only vertical component\n",
    "    # data_active[10:11]=0  # Vertical +             print(numpy.shape(rect))\"good\" hoizontals\"\n",
    "    CompDict =Misc[2]"
   ]
  },
  {
   "cell_type": "code",
   "execution_count": null,
   "id": "1ddf5e4f",
   "metadata": {},
   "outputs": [],
   "source": [
    "\"\"\"\n",
    "input formats is \"npz\"\n",
    "\"\"\"\n",
    "InFilFmt = \".npz\"\n",
    "XYFact = 1. \n",
    "MergeModels = True"
   ]
  },
  {
   "cell_type": "code",
   "execution_count": null,
   "id": "fe30594b",
   "metadata": {
    "lines_to_next_cell": 2
   },
   "outputs": [],
   "source": [
    "TileSize = 2000.\n",
    "TileOverlap = 0.5\n",
    "TileMinSites = 3"
   ]
  },
  {
   "cell_type": "code",
   "execution_count": null,
   "id": "e299a5ce",
   "metadata": {},
   "outputs": [],
   "source": [
    "LayerWise = True\n",
    "CovarThresh = 500.\n",
    "Scale = 0.5*CovarThresh"
   ]
  },
  {
   "cell_type": "code",
   "execution_count": null,
   "id": "7390134b",
   "metadata": {},
   "outputs": [],
   "source": [
    "ReCalc = \"fwd\"   # \"inverse\""
   ]
  },
  {
   "cell_type": "code",
   "execution_count": null,
   "id": "9ee74092",
   "metadata": {},
   "outputs": [],
   "source": []
  },
  {
   "cell_type": "code",
   "execution_count": null,
   "id": "d89c4f5d",
   "metadata": {},
   "outputs": [],
   "source": []
  },
  {
   "cell_type": "code",
   "execution_count": null,
   "id": "988a9d0c",
   "metadata": {
    "lines_to_next_cell": 2
   },
   "outputs": [],
   "source": [
    "InModDir = AEMPYX_ROOT+\"/work/data/merged/results/\"\n",
    "print(\"Data read from dir: %s \" % InModDir)\n",
    "FileList = \"search\" #\"search\"\n",
    "SearchStrng = \"*dec5*mean*results.npz\"\n",
    "OutModDir = InModDir+\"/LCP/\""
   ]
  },
  {
   "cell_type": "code",
   "execution_count": null,
   "id": "244a05eb",
   "metadata": {},
   "outputs": [],
   "source": [
    "if \"set\" in FileList.lower():\n",
    "    mod_files = []"
   ]
  },
  {
   "cell_type": "code",
   "execution_count": null,
   "id": "ab81ab87",
   "metadata": {},
   "outputs": [],
   "source": [
    "if \"read\" in FileList.lower():\n",
    "    ListName=\"\"\n",
    "    print(\"File names read from : \"+ListName)\n",
    "    how = [\"read\", ListName, InModDir]\n",
    "    mod_files = util.get_data_list(how=how,\n",
    "                              out= True, sort=True)\n",
    "\n",
    "    mod_files = numpy.loadtxt(\"A9-7.dat\", dtype=str)"
   ]
  },
  {
   "cell_type": "code",
   "execution_count": null,
   "id": "4c71ba52",
   "metadata": {},
   "outputs": [],
   "source": [
    "if \"search\" in FileList.lower():\n",
    "    print(\"Searchstring is : \"+SearchStrng)\n",
    "    how = [\"search\", SearchStrng, InModDir]\n",
    "    mod_files = util.get_data_list(how=how,fullpath=True,\n",
    "                              out= True, sort=True)"
   ]
  },
  {
   "cell_type": "code",
   "execution_count": null,
   "id": "2d299b83",
   "metadata": {},
   "outputs": [],
   "source": [
    "ns = numpy.size(mod_files)\n",
    "if ns ==0:\n",
    "    error(\"No files set!. Exit.\")"
   ]
  },
  {
   "cell_type": "code",
   "execution_count": null,
   "id": "f3400077",
   "metadata": {},
   "outputs": [],
   "source": []
  },
  {
   "cell_type": "code",
   "execution_count": null,
   "id": "b674927b",
   "metadata": {},
   "outputs": [],
   "source": []
  },
  {
   "cell_type": "code",
   "execution_count": null,
   "id": "c5bc293e",
   "metadata": {},
   "outputs": [],
   "source": [
    "#   workaround!!!!!    \n",
    "corrfile = mod_files[0].replace(\".npz\",\"_merged.npz\")"
   ]
  },
  {
   "cell_type": "code",
   "execution_count": null,
   "id": "5d0cbcf9",
   "metadata": {},
   "outputs": [],
   "source": [
    "if MergeModels:\n",
    "    _ = util.merge_model_sets(infile_list=mod_files,\n",
    "                                   outfile_name=corrfile,\n",
    "                                   dictout= True, out=False)\n",
    "    mod_files = [corrfile]"
   ]
  },
  {
   "cell_type": "code",
   "execution_count": null,
   "id": "3eab4bb9",
   "metadata": {},
   "outputs": [],
   "source": [
    "\"\"\"\n",
    "read  data set\n",
    "\"\"\""
   ]
  },
  {
   "cell_type": "code",
   "execution_count": null,
   "id": "54c1685b",
   "metadata": {},
   "outputs": [],
   "source": [
    "for filein in mod_files:\n",
    "\n",
    "    print(\"\\nNModels read from: %s\" % filein)\n",
    "\n",
    "    models = numpy.load(filein, allow_pickle=True)\n",
    "   \n",
    "\n",
    "    e = models[\"x\"]*XYFact\n",
    "    e_min = numpy.amin(e)\n",
    "    e_max = numpy.amax(e)\n",
    "    n = models[\"y\"]*XYFact\n",
    "    n_min = numpy.amin(n)\n",
    "    n_max = numpy.amax(n)\n",
    "    \n",
    "    d = models[\"d\"]\n",
    "    m = models[\"mod\"]\n",
    "    c = models[\"cov\"]\n",
    "    \n",
    "    \n",
    "    dims= numpy.shape(d)\n",
    "    \n",
    "    \n",
    "                     \n",
    "    m = numpy.reshape(m, (dims[0], dims[1]))\n",
    "    c = numpy.reshape(c, (dims[0], dims[1]*dims[1]))\n",
    "    \n",
    "\n",
    "    if ParaTrans==1:\n",
    "       m = numpy.log10(m)\n",
    "\n",
    "    mod_cor = m.copy()\n",
    "    \n",
    "\n",
    "    \"\"\"\n",
    "    Step 1: calculate the laterally correlated moidle set\n",
    "    setup overlapping tiles\n",
    "    \n",
    "    \"\"\"\n",
    "    dxtiles = TileSize\n",
    "    xtiles = numpy.arange(numpy.floor(e_min), numpy.ceil(e_max), TileOverlap*dxtiles) \n",
    "    nx = len(xtiles)\n",
    "    \n",
    "    dytiles = TileSize\n",
    "    ytiles = numpy.arange(numpy.floor(n_min), numpy.ceil(n_max), TileOverlap*dytiles) \n",
    "    ny = len(ytiles)\n",
    "    \n",
    "    \n",
    "    start = process_time()\n",
    "    total = start\n",
    "    \n",
    "    \n",
    "    itile = -1\n",
    "    ntile = nx*ny\n",
    "       \n",
    "    \n",
    "    for ii in numpy.arange(nx):\n",
    "        for jj in numpy.arange(ny):\n",
    "            itile = itile+1\n",
    "            ll=  [xtiles[ii],ytiles[jj]]\n",
    "            ur = [xtiles[ii]+dxtiles,ytiles[jj]+dytiles]\n",
    "            print(\"\\n\\n Tile\",itile,\"of\", ntile)\n",
    "            print(\"Rect lower left  (m): \"+str(ll[0])+\", \"+str(ll[1]))\n",
    "            print(\"Rect upper right (m_): \"+str(ur[0])+\", \"+str(ur[1]))\n",
    "            \n",
    "            # rect = numpy.array([])\n",
    "            inside = numpy.where((e>ll[0]) & (e<ur[0]) & (n>ll[1]) & (n<ur[1]))\n",
    "         \n",
    "            e_tile = e[inside]\n",
    "            n_tile = n[inside]\n",
    "            d_tile = d[inside[0],:]\n",
    "            m_tile = m[inside[0],:]\n",
    "            c_tile = c[inside[0],:]\n",
    "            \n",
    "            nsit, nlyr = numpy.shape(m_tile)\n",
    "            print(\"Tile\",itile,\"contains\", nsit, \"sites with\", nlyr, \"layers.\")\n",
    "            \n",
    "            \n",
    "            c_tile = numpy.reshape(c_tile, (nsit, nlyr, nlyr))\n",
    "            \n",
    "            points = numpy.stack([ e_tile.ravel(),   n_tile.ravel()], -1)\n",
    "            dists  = scipy.spatial.distance.squareform(\n",
    "                scipy.spatial.distance.pdist(points, metric=\"euclidean\"))\n",
    "            cov_s = numpy.exp(dists/Scale)\n",
    "            \n",
    "                       \n",
    "            if nsit > TileMinSites:\n",
    "                cov_i = c_tile.copy()       \n",
    "                          # for isit  in numpy.arange(nsit):               \n",
    "                #    cov_i[isit,:, :] = scipy.linalg.inv(c_tile[isit,:,:])\n",
    "                if LayerWise:\n",
    "                    for ilyr in numpy.arange(nlyr):\n",
    "                        par_e = m_tile[:, ilyr]\n",
    "                        \n",
    "                        cov_e = numpy.diag(1./cov_i[:, ilyr, ilyr])\n",
    "                        cov_c = numpy.linalg.inv(cov_e + cov_s)\n",
    "                        par_c = cov_c@cov_e@par_e\n",
    "                        \n",
    "                        m_tile[:, ilyr] = par_c\n",
    "\n",
    "                                                \n",
    "                else:\n",
    "                    par_e = m_tile\n",
    "                    cov_e =  numpy.diag(1./numpy.diagonal(cov_i, axis1=1, axis2=2))\n",
    "                    par_c = numpy.linalg.solve(cov_e + cov_s, cov_e@par_e )\n",
    "                    m_tile = par_c\n",
    "                    \n",
    "               \n",
    "            else:\n",
    "                print(\"Not enough sites in tile.\")\n",
    "                \n",
    "            mod_cor[inside[0],:] = m_tile\n",
    "            \n",
    "            \n",
    "            \n",
    "                \n",
    "            \n",
    "    elapsed = process_time()\n",
    "    print(\"\\n\\n\")\n",
    "    print(\"Time used for correlating models:\", elapsed-start,\"s\")\n",
    "    print(\"Time per Tile:\", (elapsed-start)/ntile)\n",
    "    \n",
    "    \n",
    "    dateform=\"%m/%d/%Y, %H:%M:%S\"\n",
    "    header = \"corr model set:\"+\"\".join(\"Date \" + datetime.now().strftime(dateform))\n",
    "    \n",
    "    models_dict = dict(models)\n",
    "    models_dict[\"header\"] = header \n",
    "    models_dict[\"mod_cor\"] = mod_cor\n",
    "\n",
    "    \n",
    "    numpy.savez_compressed(corrfile, **models_dict)\n",
    "\n",
    "\n",
    "                 \n",
    "    \"\"\"\n",
    "    Step 3:\n",
    "    Run either forward models to check data fit or re-run inversion with \n",
    "    correlated models as prior. \n",
    "        \n",
    "    \"\"\"\n",
    "    start  = process_time()    \n",
    "    \n",
    "    \n",
    "    \n",
    "    print(\"\\n\\n\")\n",
    "    print(\"Time used for recalulating models:\", elapsed-start,\"s\")\n",
    "\n",
    "    elapsed = process_time()\n",
    "    \n",
    "    elapsed = process_time()\n",
    "    print(\"\\n\\n\")\n",
    "    print(\"Total time:\", elapsed-total,\"s\")"
   ]
  },
  {
   "cell_type": "code",
   "execution_count": null,
   "id": "bf3cd57d",
   "metadata": {},
   "outputs": [],
   "source": [
    "    "
   ]
  }
 ],
 "metadata": {
  "jupytext": {
   "cell_metadata_filter": "-all",
   "formats": "py,ipynb",
   "main_language": "python"
  }
 },
 "nbformat": 4,
 "nbformat_minor": 5
}
