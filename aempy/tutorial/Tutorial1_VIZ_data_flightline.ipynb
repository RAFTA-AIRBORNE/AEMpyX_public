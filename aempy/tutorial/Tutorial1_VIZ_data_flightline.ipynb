{
 "cells": [
  {
   "cell_type": "code",
   "execution_count": null,
   "id": "c85241f6",
   "metadata": {
    "lines_to_next_cell": 0
   },
   "outputs": [],
   "source": []
  },
  {
   "cell_type": "code",
   "execution_count": null,
   "id": "d2e774c0",
   "metadata": {
    "lines_to_next_cell": 2
   },
   "outputs": [],
   "source": [
    "\"\"\"\n",
    "@author: vrath Feb 2021\n",
    "\"\"\""
   ]
  },
  {
   "cell_type": "code",
   "execution_count": null,
   "id": "fdd22907",
   "metadata": {},
   "outputs": [],
   "source": [
    "import os\n",
    "import sys\n",
    "from sys import exit as error\n",
    "from time import process_time\n",
    "from datetime import datetime\n",
    "import warnings\n",
    "from cycler import cycler"
   ]
  },
  {
   "cell_type": "code",
   "execution_count": null,
   "id": "8ed523fc",
   "metadata": {},
   "outputs": [],
   "source": [
    "import numpy\n",
    "import matplotlib\n",
    "import matplotlib.pyplot"
   ]
  },
  {
   "cell_type": "code",
   "execution_count": null,
   "id": "e427c155",
   "metadata": {},
   "outputs": [],
   "source": []
  },
  {
   "cell_type": "code",
   "execution_count": null,
   "id": "0e0b7ea1",
   "metadata": {},
   "outputs": [],
   "source": [
    "AEMPYX_ROOT = os.environ[\"AEMPYX_ROOT\"]\n",
    "mypath = [AEMPYX_ROOT+\"/aempy/modules/\", AEMPYX_ROOT+\"/aempy/scripts/\"]\n",
    "for pth in mypath:\n",
    "    if pth not in sys.path:\n",
    "        sys.path.insert(0,pth)"
   ]
  },
  {
   "cell_type": "code",
   "execution_count": null,
   "id": "1ee991f7",
   "metadata": {},
   "outputs": [],
   "source": [
    "from version import versionstrg\n",
    "import util\n",
    "import prep\n",
    "import aesys\n",
    "import viz"
   ]
  },
  {
   "cell_type": "code",
   "execution_count": null,
   "id": "3279a0e5",
   "metadata": {},
   "outputs": [],
   "source": [
    "warnings.simplefilter(action=\"ignore\", category=FutureWarning)"
   ]
  },
  {
   "cell_type": "code",
   "execution_count": null,
   "id": "e5729627",
   "metadata": {},
   "outputs": [],
   "source": [
    "AEMPYX_DATA = os.environ[\"AEMPYX_DATA\"]"
   ]
  },
  {
   "cell_type": "code",
   "execution_count": null,
   "id": "43ce6168",
   "metadata": {
    "lines_to_next_cell": 2
   },
   "outputs": [],
   "source": [
    "rng = numpy.random.default_rng()\n",
    "nan = numpy.nan  # float(\"NaN\")\n",
    "version, _ = versionstrg()\n",
    "titstrng = util.print_title(version=version, fname=__file__, out=False)\n",
    "print(titstrng+\"\\n\\n\")\n",
    "\"\"\"\n",
    "Determine graphical parameter.\n",
    "=> print(matplotlib.pyplot.style.available)\n",
    "\"\"\""
   ]
  },
  {
   "cell_type": "code",
   "execution_count": null,
   "id": "386099c6",
   "metadata": {
    "lines_to_next_cell": 2
   },
   "outputs": [],
   "source": [
    "OutInfo = False\n",
    "now = datetime.now()"
   ]
  },
  {
   "cell_type": "code",
   "execution_count": null,
   "id": "9ef27be2",
   "metadata": {
    "lines_to_next_cell": 2
   },
   "outputs": [],
   "source": [
    "\"\"\"\n",
    "System related settings.\n",
    "Data transformation is now allowed with three possible options:\n",
    "DataTrans   = 0           raw data\n",
    "            = 1           natural log of data\n",
    "            = 2           asinh transformation\n",
    "An error model is applied for the raw data, which is\n",
    "mixed additive/multiplicative. in case of data transformation,\n",
    "errors are also transformed.\n",
    "\"\"\"\n",
    "# AEM_system = \"genesis\"\n",
    "AEM_system = \"aem05\"  # \"genesis\"\n",
    "if \"aem05\" in AEM_system.lower():\n",
    "    FwdCall,NN, _, _, _, = aesys.get_system_params(System=AEM_system)\n",
    "    nD = NN[0]\n",
    "    ParaTrans = 1\n",
    "    DataTrans = 0\n",
    "    DatErr_add =  75.\n",
    "    DatErr_mult = 0.05\n",
    "    data_active = numpy.ones(NN[2], dtype=\"int8\")"
   ]
  },
  {
   "cell_type": "code",
   "execution_count": null,
   "id": "4d857606",
   "metadata": {
    "lines_to_next_cell": 2
   },
   "outputs": [],
   "source": [
    "if \"genes\" in AEM_system.lower():\n",
    "    FwdCall, NN, _, _, _, = aesys.get_system_params(System=AEM_system)\n",
    "    nD = NN[0]\n",
    "    ParaTrans = 1\n",
    "    DataTrans = 0\n",
    "    DatErr_add = 100.\n",
    "    DatErr_mult = 0.01\n",
    "    data_active = numpy.ones(NN[2], dtype=\"int8\")\n",
    "    data_active[0:11]=0  # only vertical component\n",
    "    # data_active[10:11]=0  # Vertical + 'good' hoizontals'"
   ]
  },
  {
   "cell_type": "code",
   "execution_count": null,
   "id": "e40d3d60",
   "metadata": {},
   "outputs": [],
   "source": [
    "version, _ = versionstrg()\n",
    "titstrng = util.print_title(version=version, fname=__file__, out=False)\n",
    "print(titstrng+\"\\n\\n\")"
   ]
  },
  {
   "cell_type": "code",
   "execution_count": null,
   "id": "58fa4bce",
   "metadata": {},
   "outputs": [],
   "source": [
    "now = datetime.now()"
   ]
  },
  {
   "cell_type": "code",
   "execution_count": null,
   "id": "8594f777",
   "metadata": {
    "lines_to_next_cell": 2
   },
   "outputs": [],
   "source": [
    "\"\"\"\n",
    "input formats are .npz, .nc4, 'ascii'\n",
    "\"\"\"\n",
    "InStrng = \"\"\n",
    "PlotStrng = \" - data \"+InStrng"
   ]
  },
  {
   "cell_type": "code",
   "execution_count": null,
   "id": "8aea89c3",
   "metadata": {
    "lines_to_next_cell": 2
   },
   "outputs": [],
   "source": [
    "FileList = \"search\"  \n",
    "SearchStrng = \"*nan*.npz\"# \"search\", \"read\""
   ]
  },
  {
   "cell_type": "markdown",
   "id": "3c986ab2",
   "metadata": {},
   "source": [
    "InDatDir =  AEMPYX_ROOT + \"/work/data/raw/\"\n",
    "PlotDir  =  AEMPYX_ROOT + \"/work/data/raw/plots/\"\n",
    "PlotStrng = \" - data raw\""
   ]
  },
  {
   "cell_type": "code",
   "execution_count": null,
   "id": "dcdfead0",
   "metadata": {},
   "outputs": [],
   "source": [
    "InDatDir =  AEMPYX_ROOT + \"/work/data/proc_delete_PLM3s/\"\n",
    "PlotDir  =  AEMPYX_ROOT + \"/work/data/proc_delete_PLM3s/plots/\"\n",
    "PlotStrng = \" - data proc\""
   ]
  },
  {
   "cell_type": "code",
   "execution_count": null,
   "id": "838c86f8",
   "metadata": {},
   "outputs": [],
   "source": []
  },
  {
   "cell_type": "code",
   "execution_count": null,
   "id": "79159ff6",
   "metadata": {},
   "outputs": [],
   "source": [
    "if \"set\" in FileList.lower():\n",
    "    print(\"Data files read from dir:  %s\" % InDatDir)\n",
    "    dat_files = []\n",
    "    f = numpy.load(AEMPYX_DATA+\"/Projects/Compare_systems/BundoranSubsets.npz\")\n",
    "\n",
    "    dat_files = f[\"setC\"][0]\n",
    "    dat_files = [os.path.basename(d) for d in dat_files]\n",
    "else:\n",
    "    # how = [\"search\", SearchStrng, InDatDir]\n",
    "    # how = [\"read\", FileList, InDatDir]\n",
    "    dat_files = util.get_data_list(how=[\"search\", SearchStrng, InDatDir],\n",
    "                              out= True, sort=True)\n",
    "    ns = numpy.size(dat_files)"
   ]
  },
  {
   "cell_type": "code",
   "execution_count": null,
   "id": "bf304161",
   "metadata": {},
   "outputs": [],
   "source": [
    "ns = numpy.size(dat_files)\n",
    "if ns ==0:\n",
    "    error(\"No files set!. Exit.\")"
   ]
  },
  {
   "cell_type": "code",
   "execution_count": null,
   "id": "e6291fc3",
   "metadata": {},
   "outputs": [],
   "source": [
    "print(dat_files)"
   ]
  },
  {
   "cell_type": "code",
   "execution_count": null,
   "id": "9f5aaeaf",
   "metadata": {},
   "outputs": [],
   "source": [
    "if not os.path.isdir(PlotDir):\n",
    "    print(\"File: %s does not exist, but will be created\" % PlotDir)\n",
    "    os.mkdir(PlotDir)"
   ]
  },
  {
   "cell_type": "code",
   "execution_count": null,
   "id": "5ca944b9",
   "metadata": {},
   "outputs": [],
   "source": [
    "FilesOnly = False\n",
    "PlotFmt = [\".pdf\", \".png\", ]\n",
    "PdfCatalog = True\n",
    "PdfCatName = PlotDir+\"Limerick_shale_raw.pdf\""
   ]
  },
  {
   "cell_type": "code",
   "execution_count": null,
   "id": "c27c477e",
   "metadata": {},
   "outputs": [],
   "source": [
    "if \".pdf\" in PlotFmt:\n",
    "    pass\n",
    "else:\n",
    "    error(\" No pdfs generated. No catalog possible!\")\n",
    "    PdfCatalog = False"
   ]
  },
  {
   "cell_type": "code",
   "execution_count": null,
   "id": "8edff649",
   "metadata": {},
   "outputs": [],
   "source": [
    "if \"aem05\" in AEM_system.lower():\n",
    "    IncludePlots = [\"alt\", \"qdata\", \"idata\",]\n",
    "    IncludePlots = [\"qdata\", \"idata\",]\n",
    "    QLimits = []\n",
    "    ILimits = []\n",
    "    PlotSize = [18., 6.]\n",
    "    PLimits = [0., 10.]\n",
    "    HLimits = [30., 90.] #[40., 140.]\n",
    "    LogPlot = False\n",
    "    LogSym = False\n",
    "    LinThresh =10.\n",
    "    if LogPlot == False:\n",
    "        LogSym = False\n",
    "    Logparams=[LogPlot, LogSym, LinThresh]"
   ]
  },
  {
   "cell_type": "code",
   "execution_count": null,
   "id": "4e1cb3b2",
   "metadata": {},
   "outputs": [],
   "source": [
    "if \"genes\" in AEM_system.lower():\n",
    "    IncludePlots = [\"alt\", \"xdata\", \"zdata\",]\n",
    "    IncludePlots = [\"xdata\", \"zdata\",]\n",
    "    PlotSize = [18., 6.]\n",
    "    DataTrans = \"asinh\"\n",
    "    XLimits = [3.5, 12.]\n",
    "    ZLimits = [6., 14.]\n",
    "\n",
    "    LogPlot = False\n",
    "    LogSym = False\n",
    "    LinThresh =100.\n",
    "    if LogPlot == False:\n",
    "        LogSym = False\n",
    "    Logparams=[LogPlot, LogSym, LinThresh]\n",
    "\n",
    "\n",
    "    HLimits = [80., 320.]\n",
    "    PLimits = [0., 25.]"
   ]
  },
  {
   "cell_type": "code",
   "execution_count": null,
   "id": "8d80fd53",
   "metadata": {},
   "outputs": [],
   "source": [
    "PosDegrees = False\n",
    "if PosDegrees:\n",
    "    EPSG=32629\n",
    "PlotThresh =10"
   ]
  },
  {
   "cell_type": "code",
   "execution_count": null,
   "id": "cc2dd718",
   "metadata": {
    "lines_to_next_cell": 2
   },
   "outputs": [],
   "source": [
    "ProfType = \"distance\"\n",
    "if \"dist\" in ProfType.lower():\n",
    "    ProfLabel = \"profile distance (m) \"\n",
    "    ProfScale = 1. # 0.001  # m to km\n",
    "else:\n",
    "    ProfLabel = \"site # (-)\"\n",
    "    ProfScale = 1. # 0.001  # m to km"
   ]
  },
  {
   "cell_type": "code",
   "execution_count": null,
   "id": "4e9b3c07",
   "metadata": {},
   "outputs": [],
   "source": [
    "\"\"\"\n",
    "Determine graphical parameter.\n",
    "=> print(matplotlib.pyplot.style.available)\n",
    "\"\"\""
   ]
  },
  {
   "cell_type": "code",
   "execution_count": null,
   "id": "c7c84553",
   "metadata": {},
   "outputs": [],
   "source": [
    "matplotlib.pyplot.style.use(\"seaborn-v0_8-paper\")\n",
    "matplotlib.rcParams[\"figure.dpi\"] = 400\n",
    "matplotlib.rcParams[\"axes.linewidth\"] = 0.5\n",
    "matplotlib.rcParams[\"savefig.facecolor\"] = \"none\"\n",
    "matplotlib.rcParams[\"savefig.transparent\"] = True\n",
    "matplotlib.rcParams[\"savefig.bbox\"] = \"tight\"\n",
    "Fontsize = 8\n",
    "Labelsize = Fontsize\n",
    "Titlesize = 8\n",
    "Fontsizes = [Fontsize, Labelsize, Titlesize]"
   ]
  },
  {
   "cell_type": "code",
   "execution_count": null,
   "id": "cb75e273",
   "metadata": {},
   "outputs": [],
   "source": [
    "Linewidths= [0.6]\n",
    "Markersize = 4"
   ]
  },
  {
   "cell_type": "code",
   "execution_count": null,
   "id": "3158ffca",
   "metadata": {},
   "outputs": [],
   "source": [
    "ncols = 11\n",
    "Colors = matplotlib.pyplot.cm.jet(numpy.linspace(0,1,ncols))\n",
    "Grey = 0.7\n",
    "Lcycle =Lcycle = (cycler(\"linestyle\", [\"-\", \"--\", \":\", \"-.\"])\n",
    "          * cycler(\"color\", [\"r\", \"g\", \"b\", \"y\"]))"
   ]
  },
  {
   "cell_type": "code",
   "execution_count": null,
   "id": "a1b4237f",
   "metadata": {},
   "outputs": [],
   "source": [
    "\"\"\"\n",
    "For just plotting to files, choose the cairo backend (eps, pdf, ,png, jpg...).\n",
    "If you need to see the plot. directly (plot. window, or jupyter), simatplotliby\n",
    "comment out the following line. In this case matplotlib may run into\n",
    "memory problems after a few hundreds of high-resolution plot..\n",
    "\"\"\"\n",
    "if FilesOnly:\n",
    "    matplotlib.use(\"cairo\")"
   ]
  },
  {
   "cell_type": "code",
   "execution_count": null,
   "id": "9c44d92a",
   "metadata": {},
   "outputs": [],
   "source": [
    "if PdfCatalog:\n",
    "    pdf_list = []"
   ]
  },
  {
   "cell_type": "code",
   "execution_count": null,
   "id": "d6350c92",
   "metadata": {
    "lines_to_next_cell": 2
   },
   "outputs": [],
   "source": [
    "ifl = 0\n",
    "for file in dat_files:\n",
    "\n",
    "    ifl = ifl+1\n",
    "    \n",
    "    name, ext = os.path.splitext(file)\n",
    "    \n",
    "    filein = InDatDir+file\n",
    "    Data, Header, _ = aesys.read_aempy(File=filein, \n",
    "                                   System=AEM_system, OutInfo=False)\n",
    "    sD = numpy.shape(Data)\n",
    "    print(\"flightline \"+name+\"  #\"\n",
    "          +str(ifl)+\" of \"\n",
    "          +str(numpy.size(dat_files)) +\" has shape: \"+str(sD))\n",
    "\n",
    "    if numpy.size(Data)<=nD:\n",
    "        print(\"Not enough data! Not plotted\")\n",
    "        continue\n",
    "\n",
    "    anynan = numpy.argwhere(numpy.isnan(Data))\n",
    "    nnans = numpy.shape(anynan)[0]\n",
    "    for ii in anynan:\n",
    "        Data[ii[0],3:] = numpy.nan\n",
    "\n",
    "    if numpy.shape(Data)[0]-nnans < PlotThresh:\n",
    "        print(\"Not enough data! Not plotted\")\n",
    "        continue\n",
    "\n",
    "\n",
    "    if PdfCatalog:\n",
    "        pdf_list.append(PlotDir+name+\".pdf\")\n",
    "\n",
    "    fline = Data[:, 0]\n",
    "    Data[:, 1] = Data[:, 1] * ProfScale\n",
    "    Data[:, 2] = Data[:, 2] * ProfScale\n",
    "\n",
    "    if \"aem05\" in AEM_system.lower():\n",
    "        viz.plot_flightline_aem05(\n",
    "            PlotName = name,\n",
    "            PlotDir = PlotDir,\n",
    "            PlotFmt=PlotFmt,\n",
    "            IncludePlots=IncludePlots,\n",
    "            PlotSize = PlotSize,\n",
    "            DataObs=Data,\n",
    "            DataCal=[],\n",
    "            QLimits =[],\n",
    "            ILimits =[],\n",
    "            DLimits = [],\n",
    "            HLimits = HLimits,\n",
    "            PLimits = PLimits,\n",
    "            ProfLabel=ProfLabel,\n",
    "            Linecolor=Colors,\n",
    "            Linewidth=Linewidths,\n",
    "            Fontsizes=Fontsizes,\n",
    "            Logparams=Logparams,\n",
    "            PlotStrng=PlotStrng,\n",
    "            PlotPLM = True)\n",
    "    if \"genes\" in AEM_system.lower():\n",
    "        viz.plot_flightline_genesis(\n",
    "            PlotName = name,\n",
    "            PlotDir = PlotDir,\n",
    "            PlotFmt=PlotFmt,\n",
    "            IncludePlots=IncludePlots,\n",
    "            PlotSize = PlotSize,\n",
    "            DataObs=Data,\n",
    "            DataCal=[],\n",
    "            DataTrans = DataTrans,\n",
    "            DLimits = [],\n",
    "            XLimits =XLimits,\n",
    "            ZLimits =ZLimits,\n",
    "            HLimits =[],\n",
    "            ProfLabel=ProfLabel,\n",
    "            Linecolor=Colors,\n",
    "            Linewidth=Linewidths,\n",
    "            Fontsizes=Fontsizes,\n",
    "            Logparams=Logparams,\n",
    "            PlotStrng=PlotStrng)"
   ]
  },
  {
   "cell_type": "code",
   "execution_count": null,
   "id": "1e3b7dab",
   "metadata": {},
   "outputs": [],
   "source": [
    "if PdfCatalog:\n",
    "    viz.make_pdf_catalog(PDFList=pdf_list, FileName=PlotDir+PdfCatName)"
   ]
  }
 ],
 "metadata": {
  "jupytext": {
   "cell_metadata_filter": "-all",
   "executable": "/usr/bin/env python3",
   "formats": "py,ipynb",
   "main_language": "python"
  }
 },
 "nbformat": 4,
 "nbformat_minor": 5
}
