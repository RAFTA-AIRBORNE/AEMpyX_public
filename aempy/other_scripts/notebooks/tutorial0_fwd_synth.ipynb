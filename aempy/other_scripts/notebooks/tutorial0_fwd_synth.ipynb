{
 "cells": [
  {
   "cell_type": "code",
   "execution_count": 24,
   "id": "3e93950d",
   "metadata": {},
   "outputs": [],
   "source": [
    "#!/usr/bin/env python3"
   ]
  },
  {
   "cell_type": "markdown",
   "id": "4d65819d",
   "metadata": {},
   "source": [
    "This script allows you to do forward modelling, with several options on the output. The purpose for including this is multifold: (1) It is useful to see the response for a given model which may be hypothetical, to see what might be inverted for. (2) A series of models for parameter studies is possible. (3) a set of (perturbed) responses can be generated, which in turn may be fed into one of the inversion algorithms. "
   ]
  },
  {
   "cell_type": "code",
   "execution_count": 25,
   "id": "74a0bdac",
   "metadata": {
    "lines_to_next_cell": 2
   },
   "outputs": [],
   "source": [
    "import time\n",
    "import sys\n",
    "from sys import exit as error\n",
    "import os\n",
    "import warnings\n",
    "from time import process_time\n",
    "from datetime import datetime\n",
    "\n",
    "import numpy\n",
    "\n",
    "AEMPYX_ROOT = os.environ[\"AEMPYX_ROOT\"]\n",
    "mypath = [AEMPYX_ROOT+\"/aempy/modules/\", AEMPYX_ROOT+\"/aempy/scripts/\"]\n",
    "\n",
    "for pth in mypath:\n",
    "    if pth not in sys.path:\n",
    "        sys.path.insert(0,pth)\n",
    "\n",
    "from version import versionstrg\n",
    "import util\n",
    "import core1d\n",
    "import inverse\n",
    "import aesys"
   ]
  },
  {
   "cell_type": "code",
   "execution_count": 26,
   "id": "7f0e774d",
   "metadata": {},
   "outputs": [],
   "source": [
    "AEMPYX_DATA = os.environ[\"AEMPYX_DATA\"]"
   ]
  },
  {
   "cell_type": "code",
   "execution_count": 27,
   "id": "cb739165",
   "metadata": {},
   "outputs": [
    {
     "name": "stdout",
     "output_type": "stream",
     "text": [
      "AEMpyX Version 0.99.99\n",
      "Date 05/13/2024, 10:00:06\n",
      "Tutorial0_FWD_synth.py, modified 05/13/2024, 09:59:49\n",
      "Tutorial0_FWD_synth.py\n",
      "\n",
      "\n"
     ]
    }
   ],
   "source": [
    "rng = numpy.random.default_rng()\n",
    "nan = numpy.nan  \n",
    "\n",
    "version, _ = versionstrg()\n",
    "script = \"Tutorial0_FWD_synth.py\"\n",
    "# fname = __file__  # this only works in python, not jupyter notebook\n",
    "titstrng = util.print_title(version=version, fname=script, out=False)\n",
    "print(titstrng+\"\\n\\n\")\n",
    "Header = titstrng"
   ]
  },
  {
   "cell_type": "code",
   "execution_count": 28,
   "id": "16b3db90",
   "metadata": {},
   "outputs": [],
   "source": [
    "OutInfo = False"
   ]
  },
  {
   "cell_type": "code",
   "execution_count": 29,
   "id": "8af5a54f",
   "metadata": {
    "lines_to_next_cell": 2
   },
   "outputs": [],
   "source": [
    "AEMPYX_DATA =  AEMPYX_ROOT\n",
    "OutDir  = AEMPYX_DATA+\"/data/synth/\"\n",
    "if not os.path.isdir(OutDir):\n",
    "    print(\"File: %s does not exist, but will be created\" % OutDir)\n",
    "    os.mkdir(OutDir)"
   ]
  },
  {
   "cell_type": "markdown",
   "id": "220d3c89",
   "metadata": {},
   "source": [
    "The following cell gives values to AEM-system related settings.\n",
    "\n",
    "Data transformation is activated by the variable DataTrans. Currently three possible options are allowed: _DataTrans = 0_: No transformation, i.e., the raw data are used. _DataTrans = 1_: The natural log of data is taken, only allowed for strictly positive values. _DataTrans = 2_: If data scale logarithmically, an asinh transformation (introduced by Scholl, 2000) is applied. It allows negatives, which may occur in TDEM, when IP effects are present.\n",
    "\n",
    "A general additive/multiplicative error model is applied on the raw data before transformation, and errors are also transformed."
   ]
  },
  {
   "cell_type": "code",
   "execution_count": 30,
   "id": "0944dda5",
   "metadata": {},
   "outputs": [
    {
     "name": "stdout",
     "output_type": "stream",
     "text": [
      "AEM system: aem05\n",
      " \n",
      "\n",
      "\n",
      "AEM system is aem05\n",
      "Forward model call: core1d.aemfwd1d_aem05(nlyr, m, alt)\n",
      "Data:[17, 6, 8, 3]\n"
     ]
    }
   ],
   "source": [
    "AEM_system = \"aem05\"\n",
    "# AEM_system = \"genesis\"\n",
    "print(\"AEM system: \" + AEM_system + \"\\n \\n\")\n",
    "\n",
    "if \"aem05\" in AEM_system.lower():\n",
    "    FwdCall,NN, _, _, _, = aesys.get_system_params(System=AEM_system)\n",
    "    ParaTrans = 1\n",
    "    DataTrans = 0\n",
    "    DatErr_add = 50.\n",
    "    DatErr_mult = 0.03\n",
    "    alt = 60.\n",
    "    DataActive = numpy.ones((1,NN[2]))\n",
    "\n",
    "if \"genes\" in AEM_system.lower():\n",
    "    FwdCall, NN, _, _, _, = aesys.get_system_params(System=AEM_system)\n",
    "    ParaTrans = 1\n",
    "    DataTrans=0\n",
    "    DatErr_add = 100.\n",
    "    DatErr_mult = 0.01\n",
    "    alt = 90.\n",
    "    DataActive = numpy.ones((1,NN[2]))\n",
    "\n",
    "nD = NN[0]"
   ]
  },
  {
   "cell_type": "markdown",
   "id": "a534562e",
   "metadata": {},
   "source": [
    "In case an ensemble of model responses is desired, e.g. for future inversions, the resukting output can be controlled here.  "
   ]
  },
  {
   "cell_type": "code",
   "execution_count": 31,
   "id": "3c386018",
   "metadata": {},
   "outputs": [],
   "source": [
    "Nsamples = 1000\n",
    "# NSamples = 1\n",
    "Perturb = True\n",
    "SplitData= True"
   ]
  },
  {
   "cell_type": "markdown",
   "id": "0b5dda75",
   "metadata": {},
   "source": [
    "To initialize loops over different parameters,\n",
    "first a reference model must be set up, with reasonable values for all parameters not within the loop. Default settings is rho only, no IP. Currently, one parameter and altitude can be varied within a loop. \n",
    "The following should be adapted according to the user's needs."
   ]
  },
  {
   "cell_type": "code",
   "execution_count": 32,
   "id": "918441d6",
   "metadata": {},
   "outputs": [],
   "source": [
    "nlyr = 3\n",
    "Model_active, Model_base, model_var, m_bounds, m_state = inverse.init_1dmod(nlyr)"
   ]
  },
  {
   "cell_type": "code",
   "execution_count": 33,
   "id": "a8b039a0",
   "metadata": {},
   "outputs": [],
   "source": [
    "Model_base[0*nlyr:1*nlyr] =[100., 100., 100.]   #rho\n",
    "Model_base[6*nlyr:7*nlyr-1] =[30.,30.]          #layers "
   ]
  },
  {
   "cell_type": "code",
   "execution_count": 34,
   "id": "9e6c60e2",
   "metadata": {},
   "outputs": [],
   "source": [
    "# Adapted for reasonable IP values\n",
    "\n",
    "# Model_base[3*nlyr:4*nlyr] =[0.,  0.5, 0.]      #chargeability\n",
    "# Model_base[4*nlyr:5*nlyr] =[0.,  0.5, 0.]      #exponent\n",
    "# Model_base[5*nlyr:6*nlyr] =[0., 100., 0.]      #frequency"
   ]
  },
  {
   "cell_type": "code",
   "execution_count": 35,
   "id": "9c0c013f",
   "metadata": {},
   "outputs": [],
   "source": [
    "# rho for layer 1 (starting from 0!)\n",
    "FWDBaseName = \"AEM05_Rho1\"\n",
    "VarPar = [ 10., 100.,1000.]\n",
    "VarInd = 0 * nlyr+1"
   ]
  },
  {
   "cell_type": "code",
   "execution_count": 36,
   "id": "237c3e35",
   "metadata": {},
   "outputs": [],
   "source": [
    "\n",
    "# thickness of layer 1 (starting from 0!)\n",
    "# FWDBaseName = \"AEM05_Thk1\"\n",
    "# VarPar = [10., 30., 50.] \n",
    "# VarInd = 6*nlyr+1\n",
    " \n",
    "# chargeability of layer 1 (starting from 0!)\n",
    "# FWDBaseName = \"AEM05_m1\"\n",
    "# VarPar = [0.0001, 0.2, 0.4, 0.6, 0.8] \n",
    "# VarInd = 3*nlyr+1 \n",
    "\n",
    "#Alt = [60., 120.]\n",
    "Alt = [60]"
   ]
  },
  {
   "cell_type": "markdown",
   "id": "bed16516",
   "metadata": {
    "lines_to_next_cell": 2
   },
   "source": [
    "Now generate the response data:"
   ]
  },
  {
   "cell_type": "code",
   "execution_count": 37,
   "id": "48c1674c",
   "metadata": {},
   "outputs": [
    {
     "name": "stdout",
     "output_type": "stream",
     "text": [
      "(6,)\n"
     ]
    }
   ],
   "source": [
    "mod_num = -1\n",
    "for par in numpy.arange(len(VarPar)):\n",
    "\n",
    "        mod_num += 1\n",
    "        \n",
    "        m_i = Model_base.copy()\n",
    "\n",
    "        if VarInd==numpy.size(m_i):\n",
    "            alt = Alt[par]\n",
    "            p_i = numpy.array([mod_num, VarInd, Alt[par], DataTrans, DatErr_add, DatErr_mult])\n",
    "\n",
    "\n",
    "        else:\n",
    "            m_i[VarInd] = VarPar[par]\n",
    "            p_i = numpy.array([mod_num, VarInd, VarPar[par], DataTrans, DatErr_add, DatErr_mult])\n",
    "\n",
    "\n",
    "       \n",
    "\n",
    "        d_state = 0\n",
    "        m_state = 0\n",
    "\n",
    "        m_current, m_state = inverse.transform_parameter(m_vec=m_i, m_trn=ParaTrans, m_state=m_state, mode=\"f\")\n",
    "        d_ref, d_state = inverse.calc_fwdmodel(fwdcall=FwdCall, alt=Alt,\n",
    "                                          m_vec = m_current, m_trn=ParaTrans, m_state=m_state,\n",
    "                                          d_trn=0, d_state=d_state, d_act = DataActive )\n",
    "\n",
    "        if mod_num==0:\n",
    "            Model = m_i\n",
    "            Data = numpy.insert(d_ref,0,[mod_num, -1, alt])\n",
    "            Para = p_i\n",
    "            print(numpy.shape(Para))\n",
    "        else:\n",
    "            Model = numpy.vstack((Model, m_i))\n",
    "            Data =  numpy.vstack((Data, numpy.insert(d_ref,0,[mod_num, -1, alt])))\n",
    "            Para =  numpy.vstack((Para, p_i))\n",
    "        # print(mod_num, numpy.shape(Model))\n",
    "       \n",
    "        for ismp in numpy.arange(Nsamples):\n",
    "            _, data_obs = inverse.set_errors(d_ref, DatErr_add, DatErr_mult, perturb=Perturb)\n",
    "            data_obs =numpy.insert(data_obs,0,[mod_num, ismp, alt])\n",
    "            Data =  numpy.vstack((Data, data_obs))"
   ]
  },
  {
   "cell_type": "code",
   "execution_count": 38,
   "id": "1e3b936e",
   "metadata": {},
   "outputs": [
    {
     "name": "stdout",
     "output_type": "stream",
     "text": [
      "Results written to /home/vrath/AEMpyX_public//data/synth/AEM05_Rho1_model0_1000samples.npz\n",
      "Results written to /home/vrath/AEMpyX_public//data/synth/AEM05_Rho1_model1_1000samples.npz\n",
      "Results written to /home/vrath/AEMpyX_public//data/synth/AEM05_Rho1_model2_1000samples.npz\n"
     ]
    }
   ],
   "source": [
    "if SplitData:\n",
    "    for imod in numpy.arange(mod_num+1):\n",
    "\n",
    "        p_s = Para[imod]\n",
    "        m_s = Model[imod]\n",
    "        d_s = Data[numpy.isin(Data[:,0],imod)]\n",
    "\n",
    "        SplitStrng = \"_model\"+str(imod)+\"_\"+str(Nsamples)+\"samples\"\n",
    "\n",
    "\n",
    "        NPZSplit=OutDir+FWDBaseName+SplitStrng+\".npz\"\n",
    "        print(\"Results written to \"+NPZSplit)\n",
    "        numpy.savez_compressed(file=NPZSplit, model=m_s, data=d_s, para=p_s)\n",
    "else:\n",
    "    print(numpy.shape(Data))\n",
    "    NPZFile = OutDir+FWDBaseName+\".npz\"\n",
    "    print(\"\\n\\nResults written to \"+NPZFile)\n",
    "    numpy.savez_compressed(\n",
    "        file=NPZFile, model=Model, data=Data, para=Para)"
   ]
  }
 ],
 "metadata": {
  "jupytext": {
   "cell_metadata_filter": "-all",
   "encoding": "# -*- coding: utf-8 -*-",
   "executable": "/usr/bin/env python3",
   "formats": "py:light,ipynb"
  },
  "kernelspec": {
   "display_name": "Python 3 (ipykernel)",
   "language": "python",
   "name": "python3"
  },
  "language_info": {
   "codemirror_mode": {
    "name": "ipython",
    "version": 3
   },
   "file_extension": ".py",
   "mimetype": "text/x-python",
   "name": "python",
   "nbconvert_exporter": "python",
   "pygments_lexer": "ipython3",
   "version": "3.11.7"
  }
 },
 "nbformat": 4,
 "nbformat_minor": 5
}
