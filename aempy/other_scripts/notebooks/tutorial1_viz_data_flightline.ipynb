{
 "cells": [
  {
   "cell_type": "code",
   "execution_count": null,
   "id": "c47afcb7",
   "metadata": {
    "lines_to_next_cell": 2
   },
   "outputs": [],
   "source": [
    "#!/usr/bin/env python3"
   ]
  },
  {
   "cell_type": "markdown",
   "id": "406a9cc7",
   "metadata": {
    "lines_to_next_cell": 2
   },
   "source": [
    "This script is used for the visualization of AEM data along a flightline. "
   ]
  },
  {
   "cell_type": "code",
   "execution_count": null,
   "id": "509e736d",
   "metadata": {},
   "outputs": [],
   "source": [
    "import os\n",
    "import sys\n",
    "from sys import exit as error\n",
    "from time import process_time\n",
    "from datetime import datetime\n",
    "import warnings\n",
    "from cycler import cycler\n",
    "\n",
    "import numpy\n",
    "import matplotlib\n",
    "import matplotlib.pyplot\n",
    "\n",
    "AEMPYX_ROOT = os.environ[\"AEMPYX_ROOT\"]\n",
    "mypath = [AEMPYX_ROOT+\"/aempy/modules/\", AEMPYX_ROOT+\"/aempy/scripts/\"]\n",
    "for pth in mypath:\n",
    "    if pth not in sys.path:\n",
    "        sys.path.insert(0,pth)\n",
    "\n",
    "from version import versionstrg\n",
    "import util\n",
    "import prep\n",
    "import aesys\n",
    "import viz"
   ]
  },
  {
   "cell_type": "code",
   "execution_count": null,
   "id": "81176eda",
   "metadata": {
    "lines_to_next_cell": 2
   },
   "outputs": [],
   "source": [
    "version, _ = versionstrg()\n",
    "script = \"Tutorial1_VIZ_data_flightline.py\"\n",
    "# script = __file__  # this only works in python, not jupyter notebook\n",
    "titstrng = util.print_title(version=version, fname=script, out=False)\n",
    "print(titstrng+\"\\n\\n\")\n",
    "Header = titstrng"
   ]
  },
  {
   "cell_type": "code",
   "execution_count": null,
   "id": "3ad248fb",
   "metadata": {
    "lines_to_next_cell": 2
   },
   "outputs": [],
   "source": [
    "OutInfo = False\n",
    "AEMPYX_DATA = os.environ[\"AEMPYX_DATA\"]"
   ]
  },
  {
   "cell_type": "markdown",
   "id": "6554a0cc",
   "metadata": {
    "lines_to_next_cell": 2
   },
   "source": [
    "The following cell gives values to AEM-system related settings.\n",
    "\n",
    "Data transformation is activated by the variable DataTrans. Currently three possible options are allowed: _DataTrans = 0_: No transformation, i.e., the raw data are used. _DataTrans = 1_: The natural log of data is taken, only allowed for strictly positive values. _DataTrans = 2_: If data scale logarithmically, an asinh transformation (introduced by Scholl, 2000) is applied. It allows negatives, which may occur in TDEM, when IP effects are present.\n",
    "\n",
    "A general additive/multiplicative error model is applied on the raw data before transformation, and errors are also transformed.\n"
   ]
  },
  {
   "cell_type": "code",
   "execution_count": null,
   "id": "35590f14",
   "metadata": {
    "lines_to_next_cell": 2
   },
   "outputs": [],
   "source": [
    "# AEM_system = \"genesis\"\n",
    "AEM_system = \"aem05\"  # \"genesis\"\n",
    "if \"aem05\" in AEM_system.lower():\n",
    "    _ ,NN, _, _, _, = aesys.get_system_params(System=AEM_system)\n",
    "    nD = NN[0]\n",
    "    ParaTrans = 1\n",
    "    DataTrans = 0\n",
    "    DatErr_add =  75.\n",
    "    DatErr_mult = 0.05\n",
    "    data_active = numpy.ones(NN[2], dtype=\"int8\")\n",
    "\n",
    "if \"genes\" in AEM_system.lower():\n",
    "    _ , NN, _, _, _, = aesys.get_system_params(System=AEM_system)\n",
    "    nD = NN[0]\n",
    "    ParaTrans = 1\n",
    "    DataTrans = 0\n",
    "    DatErr_add = 100.\n",
    "    DatErr_mult = 0.01\n",
    "    data_active = numpy.ones(NN[2], dtype=\"int8\")\n",
    "    data_active[0:11]=0  # only vertical component\n",
    "    # data_active[10:11]=0  # Vertical + 'good' hoizontals'"
   ]
  },
  {
   "cell_type": "code",
   "execution_count": null,
   "id": "0096f6d8",
   "metadata": {
    "lines_to_next_cell": 2
   },
   "outputs": [],
   "source": [
    "InStrng = \"\"\n",
    "PlotStrng = \" - data \"+InStrng"
   ]
  },
  {
   "cell_type": "code",
   "execution_count": null,
   "id": "e4622c7a",
   "metadata": {},
   "outputs": [],
   "source": [
    "FileList = \"search\"  \n",
    "SearchStrng = \"*FL*.npz\"# \"search\", \"read\"\n",
    "\n",
    "AEMPYX_DATA = AEMPYX_ROOT+\"/data/\"  \n",
    "InDatDir = AEMPYX_DATA+\"/aem05_limerick/raw/\"\n",
    "PlotDir = AEMPYX_DATA+\"/aem05_limerick/raw/plots/\"\n",
    "PlotStrng = \" - data raw\""
   ]
  },
  {
   "cell_type": "code",
   "execution_count": null,
   "id": "e6b1c700",
   "metadata": {},
   "outputs": [],
   "source": [
    "if \"set\" in FileList.lower():\n",
    "    print(\"Data files read from dir:  %s\" % InDatDir)\n",
    "    dat_files = []\n",
    "    \n",
    "else:\n",
    "    # how = [\"search\", SearchStrng, InDatDir]\n",
    "    # how = [\"read\", FileList, InDatDir]\n",
    "    dat_files = util.get_data_list(how=[\"search\", SearchStrng, InDatDir],\n",
    "                              out= True, sort=True)\n",
    "    ns = numpy.size(dat_files)"
   ]
  },
  {
   "cell_type": "code",
   "execution_count": null,
   "id": "c48510ed",
   "metadata": {},
   "outputs": [],
   "source": [
    "ns = numpy.size(dat_files)\n",
    "if ns ==0:\n",
    "    error(\"No files set!. Exit.\")"
   ]
  },
  {
   "cell_type": "code",
   "execution_count": null,
   "id": "98385aaf",
   "metadata": {},
   "outputs": [],
   "source": [
    "if not os.path.isdir(PlotDir):\n",
    "    print(\"File: %s does not exist, but will be created\" % PlotDir)\n",
    "    os.mkdir(PlotDir)"
   ]
  },
  {
   "cell_type": "markdown",
   "id": "dc006a6e",
   "metadata": {},
   "source": [
    "The next block determines the graphical output. if _PDFCatalog_ is set, a catalogue including all generated figures, named _PDFCatName_. This option is only available if \".pdf\" is included in the output file format list (_PlotFmt_)."
   ]
  },
  {
   "cell_type": "code",
   "execution_count": null,
   "id": "cf846a62",
   "metadata": {},
   "outputs": [],
   "source": [
    "FilesOnly = False    # for headless plotting.\n",
    "PlotFmt = [\".pdf\", \".png\", ]\n",
    "PDFCatalog = True\n",
    "PDFCatName = PlotDir+\"Limerick_shale_raw.pdf\""
   ]
  },
  {
   "cell_type": "code",
   "execution_count": null,
   "id": "e9d05ebb",
   "metadata": {},
   "outputs": [],
   "source": [
    "if \".pdf\" in PlotFmt:\n",
    "    pass\n",
    "else:\n",
    "    error(\" No pdf files generated. No catalog possible!\")\n",
    "    PdfCatalog = False"
   ]
  },
  {
   "cell_type": "code",
   "execution_count": null,
   "id": "87f77409",
   "metadata": {},
   "outputs": [],
   "source": [
    "if \"aem05\" in AEM_system.lower():\n",
    "    IncludePlots = [\"alt\", \"qdata\", \"idata\",]\n",
    "    # IncludePlots = [\"qdata\", \"idata\",]\n",
    "    QLimits = []\n",
    "    ILimits = []\n",
    "    PlotSize = [18., 6.]\n",
    "    PLimits = [0., 10.]\n",
    "    HLimits = [30., 90.] #[40., 140.]\n",
    "    LogPlot = False\n",
    "    LogSym = False\n",
    "    LinThresh =10.\n",
    "    if LogPlot == False:\n",
    "        LogSym = False\n",
    "    Logparams=[LogPlot, LogSym, LinThresh]"
   ]
  },
  {
   "cell_type": "code",
   "execution_count": null,
   "id": "75680bc3",
   "metadata": {},
   "outputs": [],
   "source": [
    "if \"genes\" in AEM_system.lower():\n",
    "    IncludePlots = [\"alt\", \"xdata\", \"zdata\",]\n",
    "    # IncludePlots = [\"xdata\", \"zdata\",]\n",
    "    PlotSize = [18., 6.]\n",
    "    DataTrans = \"asinh\"\n",
    "    XLimits = [3.5, 12.]\n",
    "    ZLimits = [6., 14.]\n",
    "\n",
    "    LogPlot = False\n",
    "    LogSym = False\n",
    "    LinThresh =100.\n",
    "    if LogPlot == False:\n",
    "        LogSym = False\n",
    "    Logparams=[LogPlot, LogSym, LinThresh]\n",
    "\n",
    "\n",
    "    HLimits = [80., 320.]\n",
    "    PLimits = [0., 25.]"
   ]
  },
  {
   "cell_type": "code",
   "execution_count": null,
   "id": "4a6a7e71",
   "metadata": {
    "lines_to_next_cell": 2
   },
   "outputs": [],
   "source": [
    "PosDegrees = False\n",
    "if PosDegrees:\n",
    "    EPSG=32629\n",
    "PlotThresh =10\n",
    "\n",
    "ProfType = \"distance\"\n",
    "if \"dist\" in ProfType.lower():\n",
    "    ProfLabel = \"profile distance (m) \"\n",
    "    ProfScale = 1. # 0.001  # m to km\n",
    "else:\n",
    "    ProfLabel = \"site # (-)\"\n",
    "    ProfScale = 1. # 0.001  # m to km"
   ]
  },
  {
   "cell_type": "markdown",
   "id": "94772d91",
   "metadata": {},
   "source": [
    "This block sets graphical parameters related to the \\textit{matplotlib}.\n",
    "package. A list of available plotting styles can be found on matplotlib's \n",
    "website at https://matplotlib.org/stable/users/explain/customizing.htm, or\n",
    "entering the python command \n",
    "_print(matplotlib.pyplot.style.available)} in an appropriate_\n",
    "window. \n"
   ]
  },
  {
   "cell_type": "code",
   "execution_count": null,
   "id": "289e6349",
   "metadata": {},
   "outputs": [],
   "source": [
    "matplotlib.pyplot.style.use(\"seaborn-v0_8-paper\")\n",
    "matplotlib.rcParams[\"figure.dpi\"] = 400\n",
    "matplotlib.rcParams[\"axes.linewidth\"] = 0.5\n",
    "matplotlib.rcParams[\"savefig.facecolor\"] = \"none\"\n",
    "matplotlib.rcParams[\"savefig.transparent\"] = True\n",
    "matplotlib.rcParams[\"savefig.bbox\"] = \"tight\"\n",
    "Fontsize = 8\n",
    "Labelsize = Fontsize\n",
    "Titlesize = 8\n",
    "Fontsizes = [Fontsize, Labelsize, Titlesize]"
   ]
  },
  {
   "cell_type": "code",
   "execution_count": null,
   "id": "0ed24fc2",
   "metadata": {},
   "outputs": [],
   "source": [
    "Linewidths= [0.6]\n",
    "Markersize = 4"
   ]
  },
  {
   "cell_type": "code",
   "execution_count": null,
   "id": "9923e333",
   "metadata": {},
   "outputs": [],
   "source": [
    "ncols = 11\n",
    "Colors = matplotlib.pyplot.cm.jet(numpy.linspace(0,1,ncols))\n",
    "Grey = 0.7\n",
    "Lcycle =Lcycle = (cycler(\"linestyle\", [\"-\", \"--\", \":\", \"-.\"])\n",
    "          * cycler(\"color\", [\"r\", \"g\", \"b\", \"y\"]))"
   ]
  },
  {
   "cell_type": "markdown",
   "id": "07f0d751",
   "metadata": {},
   "source": [
    "For just plotting to files (\"headless plotting\"), choose the \n",
    "cairo backend (eps, pdf, png, jpg...). "
   ]
  },
  {
   "cell_type": "code",
   "execution_count": null,
   "id": "9c95a1d3",
   "metadata": {},
   "outputs": [],
   "source": [
    "if FilesOnly:\n",
    "    matplotlib.use(\"cairo\")"
   ]
  },
  {
   "cell_type": "code",
   "execution_count": null,
   "id": "986cb584",
   "metadata": {},
   "outputs": [],
   "source": [
    "if PDFCatalog:\n",
    "    pdf_list = []"
   ]
  },
  {
   "cell_type": "markdown",
   "id": "a9adf1c6",
   "metadata": {},
   "source": [
    "Depending on the region of interest, the number of plots may be quite large. "
   ]
  },
  {
   "cell_type": "code",
   "execution_count": null,
   "id": "ab162c47",
   "metadata": {
    "lines_to_next_cell": 2
   },
   "outputs": [],
   "source": [
    "ifl = 0\n",
    "for file in dat_files:\n",
    "\n",
    "    ifl = ifl+1\n",
    "    \n",
    "    name, ext = os.path.splitext(file)\n",
    "    \n",
    "    filein = InDatDir+file\n",
    "    Data, Header, _ = aesys.read_aempy(File=filein, \n",
    "                                   System=AEM_system, OutInfo=False)\n",
    "    sD = numpy.shape(Data)\n",
    "    print(\"flightline \"+name+\"  #\"\n",
    "          +str(ifl)+\" of \"\n",
    "          +str(numpy.size(dat_files)) +\" has shape: \"+str(sD))\n",
    "\n",
    "    if numpy.size(Data)<=nD:\n",
    "        print(\"Not enough data! Not plotted\")\n",
    "        continue\n",
    "\n",
    "    anynan = numpy.argwhere(numpy.isnan(Data))\n",
    "    nnans = numpy.shape(anynan)[0]\n",
    "    for ii in anynan:\n",
    "        Data[ii[0],3:] = numpy.nan\n",
    "\n",
    "    if numpy.shape(Data)[0]-nnans < PlotThresh:\n",
    "        print(\"Not enough data! Not plotted\")\n",
    "        continue\n",
    "\n",
    "\n",
    "    if PDFCatalog:\n",
    "        pdf_list.append(PlotDir+name+\".pdf\")\n",
    "\n",
    "    fline = Data[:, 0]\n",
    "    Data[:, 1] = Data[:, 1] * ProfScale\n",
    "    Data[:, 2] = Data[:, 2] * ProfScale\n",
    "\n",
    "    if \"aem05\" in AEM_system.lower():\n",
    "        viz.plot_flightline_aem05(\n",
    "            PlotName = name,\n",
    "            PlotDir = PlotDir,\n",
    "            PlotFmt=PlotFmt,\n",
    "            IncludePlots=IncludePlots,\n",
    "            PlotSize = PlotSize,\n",
    "            DataObs=Data,\n",
    "            DataCal=[],\n",
    "            QLimits =[],\n",
    "            ILimits =[],\n",
    "            DLimits = [],\n",
    "            HLimits = HLimits,\n",
    "            PLimits = PLimits,\n",
    "            ProfLabel=ProfLabel,\n",
    "            Linecolor=Colors,\n",
    "            Linewidth=Linewidths,\n",
    "            Fontsizes=Fontsizes,\n",
    "            Logparams=Logparams,\n",
    "            PlotStrng=PlotStrng,\n",
    "            PlotPLM = True)\n",
    "        \n",
    "    if \"genes\" in AEM_system.lower():\n",
    "        viz.plot_flightline_genesis(\n",
    "            PlotName = name,\n",
    "            PlotDir = PlotDir,\n",
    "            PlotFmt=PlotFmt,\n",
    "            IncludePlots=IncludePlots,\n",
    "            PlotSize = PlotSize,\n",
    "            DataObs=Data,\n",
    "            DataCal=[],\n",
    "            DataTrans = DataTrans,\n",
    "            DLimits = [],\n",
    "            XLimits =XLimits,\n",
    "            ZLimits =ZLimits,\n",
    "            HLimits =[],\n",
    "            ProfLabel=ProfLabel,\n",
    "            Linecolor=Colors,\n",
    "            Linewidth=Linewidths,\n",
    "            Fontsizes=Fontsizes,\n",
    "            Logparams=Logparams,\n",
    "            PlotStrng=PlotStrng)"
   ]
  },
  {
   "cell_type": "code",
   "execution_count": null,
   "id": "70382345",
   "metadata": {},
   "outputs": [],
   "source": [
    "if PDFCatalog:\n",
    "    viz.make_pdf_catalog(PDFList=pdf_list, FileName=PDFCatName)"
   ]
  }
 ],
 "metadata": {
  "jupytext": {
   "cell_metadata_filter": "-all",
   "executable": "/usr/bin/env python3",
   "formats": "py:light,ipynb"
  },
  "kernelspec": {
   "display_name": "Python 3 (Spyder)",
   "language": "python3",
   "name": "python3"
  },
  "language_info": {
   "codemirror_mode": {
    "name": "ipython",
    "version": 3
   },
   "file_extension": ".py",
   "mimetype": "text/x-python",
   "name": "python",
   "nbconvert_exporter": "python",
   "pygments_lexer": "ipython3",
   "version": "3.11.7"
  }
 },
 "nbformat": 4,
 "nbformat_minor": 5
}
