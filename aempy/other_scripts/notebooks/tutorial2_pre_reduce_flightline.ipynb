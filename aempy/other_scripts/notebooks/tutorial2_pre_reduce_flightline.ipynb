{
 "cells": [
  {
   "cell_type": "code",
   "execution_count": null,
   "id": "ca8afce8",
   "metadata": {
    "lines_to_next_cell": 0
   },
   "outputs": [],
   "source": []
  },
  {
   "cell_type": "code",
   "execution_count": null,
   "id": "463b0293",
   "metadata": {},
   "outputs": [],
   "source": [
    "\"\"\"\n",
    "Created on 2020/11/11\n",
    "\n",
    "This script present a work flow for prrocessing data for Inversions with\n",
    "INV.py scripts\n",
    "\n",
    "@author: vrath Oct 2020\n",
    "\"\"\""
   ]
  },
  {
   "cell_type": "code",
   "execution_count": null,
   "id": "b6034427",
   "metadata": {},
   "outputs": [],
   "source": [
    "import os\n",
    "import sys\n",
    "from sys import exit as error\n",
    "from time import process_time\n",
    "from datetime import datetime\n",
    "import warnings"
   ]
  },
  {
   "cell_type": "code",
   "execution_count": null,
   "id": "20f1e166",
   "metadata": {},
   "outputs": [],
   "source": [
    "import numpy"
   ]
  },
  {
   "cell_type": "code",
   "execution_count": null,
   "id": "d01ac030",
   "metadata": {},
   "outputs": [],
   "source": [
    "AEMPYX_ROOT = os.environ[\"AEMPYX_ROOT\"]\n",
    "mypath = [AEMPYX_ROOT+\"/aempy/modules/\", AEMPYX_ROOT+\"/aempy/scripts/\"]\n",
    "for pth in mypath:\n",
    "    if pth not in sys.path:\n",
    "        sys.path.insert(0,pth)"
   ]
  },
  {
   "cell_type": "code",
   "execution_count": null,
   "id": "b52a3050",
   "metadata": {
    "lines_to_next_cell": 2
   },
   "outputs": [],
   "source": [
    "from version import versionstrg\n",
    "import inverse\n",
    "import util\n",
    "import prep\n",
    "import aesys"
   ]
  },
  {
   "cell_type": "code",
   "execution_count": null,
   "id": "f80b1d2f",
   "metadata": {},
   "outputs": [],
   "source": [
    "OutInfo = True\n",
    "AEMPYX_DATA = os.environ[\"AEMPYX_DATA\"]\n",
    "version, _ = versionstrg()\n",
    "titstrng = util.print_title(version=version, fname=inspect.getfile(inspect.currentframe()), out=False)\n",
    "print(titstrng+\"\\n\\n\")"
   ]
  },
  {
   "cell_type": "code",
   "execution_count": null,
   "id": "16f853de",
   "metadata": {},
   "outputs": [],
   "source": [
    "now = datetime.now()"
   ]
  },
  {
   "cell_type": "code",
   "execution_count": null,
   "id": "24a716b7",
   "metadata": {},
   "outputs": [],
   "source": [
    "# AEM_system = \"genesis\"\n",
    "AEM_system = \"aem05\""
   ]
  },
  {
   "cell_type": "code",
   "execution_count": null,
   "id": "60a88034",
   "metadata": {},
   "outputs": [],
   "source": [
    "# \n",
    "Action = \"decimate\"\n",
    "# Action = \"split\"\n",
    "# Action = \"cut\""
   ]
  },
  {
   "cell_type": "code",
   "execution_count": null,
   "id": "6974d34c",
   "metadata": {},
   "outputs": [],
   "source": [
    "if \"dec\" in Action.lower():\n",
    "    # Window = 5\n",
    "    # Method = [\"median\", Window]\n",
    "\n",
    "    Window = 5\n",
    "    Method = [\"mean\", Window]"
   ]
  },
  {
   "cell_type": "code",
   "execution_count": null,
   "id": "ca2f16a6",
   "metadata": {},
   "outputs": [],
   "source": [
    "if \"spl\" in Action.lower():\n",
    "    Step = 5\n",
    "    Method = [Step]"
   ]
  },
  {
   "cell_type": "code",
   "execution_count": null,
   "id": "f2cba38a",
   "metadata": {},
   "outputs": [],
   "source": [
    "if \"cut\" in Action.lower():\n",
    "    Interval = [1000., 2000.]\n",
    "    interval = sorted(Interval)"
   ]
  },
  {
   "cell_type": "code",
   "execution_count": null,
   "id": "1a365d3c",
   "metadata": {},
   "outputs": [],
   "source": []
  },
  {
   "cell_type": "code",
   "execution_count": null,
   "id": "351d6624",
   "metadata": {},
   "outputs": [],
   "source": [
    "\"\"\"\n",
    "input formats are 'npz','nc4','ascii'\n",
    "\"\"\""
   ]
  },
  {
   "cell_type": "code",
   "execution_count": null,
   "id": "b00b650a",
   "metadata": {
    "lines_to_next_cell": 2
   },
   "outputs": [],
   "source": [
    "OutFileFmt = \".npz\"\n",
    "FileList = \"search\"  # \"search\", \"read\""
   ]
  },
  {
   "cell_type": "code",
   "execution_count": null,
   "id": "91d47a6f",
   "metadata": {},
   "outputs": [],
   "source": [
    "InDatDir = AEMPYX_ROOT+\"/work/data/proc/\"\n",
    "OutDatDir = AEMPYX_ROOT+\"/work/data/dec/\""
   ]
  },
  {
   "cell_type": "code",
   "execution_count": null,
   "id": "5accc8c7",
   "metadata": {
    "lines_to_next_cell": 2
   },
   "outputs": [],
   "source": [
    "SearchStrng = \"*_k2.npz\""
   ]
  },
  {
   "cell_type": "code",
   "execution_count": null,
   "id": "90710732",
   "metadata": {
    "lines_to_next_cell": 2
   },
   "outputs": [],
   "source": [
    "print(\"Data read from dir:  %s\" % InDatDir)\n",
    "print(\"Data written to dir: %s\" % OutDatDir)\n",
    "print(\"SearchStrng is %s\\n\" % SearchStrng)"
   ]
  },
  {
   "cell_type": "code",
   "execution_count": null,
   "id": "d6971fba",
   "metadata": {},
   "outputs": [],
   "source": [
    "if not InDatDir.endswith(\"/\"): InDatDir=InDatDir+\"/\"\n",
    "if not OutDatDir.endswith(\"/\"): InDatDir=OutDatDir+\"/\"\n",
    "if not os.path.isdir(OutDatDir):\n",
    "    print(\"File: %s does not exist, but will be created\" % OutDatDir)\n",
    "    os.mkdir(OutDatDir)"
   ]
  },
  {
   "cell_type": "code",
   "execution_count": null,
   "id": "34d8ebf5",
   "metadata": {},
   "outputs": [],
   "source": [
    "if \"set\" in FileList.lower():\n",
    "    print(\"Data files read from dir:  %s\" % InDatDir)\n",
    "    dat_files = []\n",
    "    \n",
    "    \n",
    "    dat_files = [os.path.basename(f) for f in dat_files]  \n",
    "else:\n",
    "    # how = [\"search\", SearchStrng, InDatDir]\n",
    "    # how = [\"read\", FileList, InDatDir]\n",
    "    dat_files = util.get_data_list(how=[\"search\", SearchStrng, InDatDir],\n",
    "                              out= True, sort=True, fullpath=False)\n",
    "ns = numpy.size(dat_files)\n",
    "if ns ==0:\n",
    "    error(\"No files set!. Exit.\")"
   ]
  },
  {
   "cell_type": "code",
   "execution_count": null,
   "id": "7d5265fd",
   "metadata": {},
   "outputs": [],
   "source": []
  },
  {
   "cell_type": "code",
   "execution_count": null,
   "id": "96b7a54a",
   "metadata": {},
   "outputs": [],
   "source": [
    "start = process_time()\n",
    "nsites = 0\n",
    "nfiles = 0\n",
    "for filename in dat_files:\n",
    "    nfiles = nfiles+1\n",
    "    name, ext = os.path.splitext(filename)\n",
    "    filein = InDatDir+filename\n",
    "    print(\"\\n Preprocessing file \" + filein)\n",
    "    Data, Header, _ = aesys.read_aempy(File=filein,\n",
    "                                   System=AEM_system, OutInfo=False)\n",
    "    now = datetime.now()\n",
    "    Header = aesys.grow_header(Header, titstrng)\n",
    "\n",
    "    fline = Data[:, 0]\n",
    "    D = Data[:, :]\n",
    "    sizedat = numpy.shape(D)\n",
    "    nvars = sizedat[1]\n",
    "    last = nvars - 1\n",
    "    print(\"Flightline Data block on input has shape: \", numpy.shape(D))\n",
    "\n",
    "    if \"cut\" in Action:\n",
    "        if len(dat_files)==1:\n",
    "            profile = prep.get_profile(Data[:, 1], Data[:, 1])\n",
    "            interval[0] = numpy.amax([profile[0],interval[0]])\n",
    "            interval[1] = numpy.amin([profile[-1],interval[1]])\n",
    "            intvl = numpy.where(numpy.logical_and((profile>=interval[0]),\n",
    "                                                  (profile<=interval[1])))\n",
    "            Dcut = D[intvl]\n",
    "            print(\"\\n Proc Action: \" + Action)\n",
    "            print(\" interval \", interval)\n",
    "            Header = aesys.grow_header(Header, filename +\", CUT = \"+str(interval))\n",
    "            print(\" data block now has shape: \", numpy.shape(Dcut))\n",
    "            newname = name+\"_cut_\"+str(interval[0])+\"-\"+str(interval[1])\n",
    "            filout = OutDatDir+newname+OutFileFmt\n",
    "            head = Header\n",
    "            aesys.write_aempy(File=filout, Data=Dcut,\n",
    "                            Header=head, OutInfo=False)\n",
    "\n",
    "            print(\"Reduced data  written to File: \" + filout)\n",
    "            print(\"Info:\")\n",
    "            print(head)\n",
    "        else:\n",
    "            error(\" cut option should only be used for single flight line! Exit.\")\n",
    "\n",
    "    if \"dec\" in Action:\n",
    "        if Window > 1:\n",
    "            print(\"\\n Proc Action: \" + Action)\n",
    "            print(\" method: \", Method[:])\n",
    "            Header = aesys.grow_header(Header, \"DECIMATE = \"+str(Method))\n",
    "            D, blkhead = prep.reduce_data(D, Method=Method, System = AEM_system)\n",
    "            print(\" data block now has shape: \", numpy.shape(D))\n",
    "\n",
    "            newname = name+\"_dec\"+str(Window)+\"_\"+Method[0]\n",
    "            filout = OutDatDir+newname+OutFileFmt\n",
    "            head = Header\n",
    "            aesys.write_aempy(File=filout, Data=D,\n",
    "                            Header=head, OutInfo=False)\n",
    "            print(\"Decimated data  written to File: \" + filout)\n",
    "            print(\"Info:\")\n",
    "            print(head)\n",
    "        else:\n",
    "            error(\"Window is 1, no decimation! Exit.\")\n",
    "\n",
    "    if \"spl\" in Action:\n",
    "        # error(\"Splitting not yet implemented! Exit.\")\n",
    "        if Step > 1:\n",
    "            for start in numpy.arange(Step):\n",
    "                Dsplit=D[start:-1:Step]\n",
    "\n",
    "                print(\"\\n Proc Action: \" + Action)\n",
    "                print(\" method: \", Method[:])\n",
    "                Header = aesys.grow_header(Header, \"SPLIT = \" + str(Method)+\" \"+str(start))\n",
    "                print(\" data block now has shape: \", numpy.shape(Dsplit))\n",
    "\n",
    "                newname = name+\"_spl\"+str(Step)+\"-\"+str(start)\n",
    "                filout = OutDatDir+newname+OutFileFmt\n",
    "                head = Header\n",
    "                aesys.write_aempy(File=filout, Data=Dsplit,\n",
    "                                Header=head, OutInfo=False)\n",
    "\n",
    "                print(\"Decimated data  written to File: \" + filout)\n",
    "                print(\"Info:\")\n",
    "                print(head)\n",
    "\n",
    "        else:\n",
    "            error(\"Step is 1, no decimation! Exit.\")"
   ]
  },
  {
   "cell_type": "code",
   "execution_count": null,
   "id": "c7173933",
   "metadata": {},
   "outputs": [],
   "source": [
    "elapsed = process_time() - start\n",
    "print(\" Used %7.4f sec for %8i files\\n\" % (elapsed, nfiles))"
   ]
  },
  {
   "cell_type": "markdown",
   "id": "80bfb1c2",
   "metadata": {},
   "source": []
  }
 ],
 "metadata": {
  "jupytext": {
   "cell_metadata_filter": "-all",
   "executable": "/usr/bin/env python3",
   "formats": "py,ipynb",
   "main_language": "python"
  }
 },
 "nbformat": 4,
 "nbformat_minor": 5
}
