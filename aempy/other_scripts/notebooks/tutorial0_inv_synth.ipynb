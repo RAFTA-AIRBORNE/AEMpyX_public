{
 "cells": [
  {
   "cell_type": "code",
   "execution_count": null,
   "id": "657c34bf",
   "metadata": {
    "lines_to_next_cell": 0
   },
   "outputs": [],
   "source": []
  },
  {
   "cell_type": "code",
   "execution_count": null,
   "id": "6c3cfede",
   "metadata": {},
   "outputs": [],
   "source": [
    "import os\n",
    "import sys\n",
    "from sys import exit as error\n",
    "from datetime import datetime\n",
    "# from time import process_time\n",
    "# from random import randrange\n",
    "import time\n",
    "import warnings\n",
    "# import inspect\n",
    "import copy"
   ]
  },
  {
   "cell_type": "code",
   "execution_count": null,
   "id": "7e006244",
   "metadata": {},
   "outputs": [],
   "source": [
    "import numpy\n",
    "import scipy\n",
    "import scipy.stats"
   ]
  },
  {
   "cell_type": "code",
   "execution_count": null,
   "id": "6c945229",
   "metadata": {},
   "outputs": [],
   "source": [
    "%logstart -o"
   ]
  },
  {
   "cell_type": "code",
   "execution_count": null,
   "id": "4be7a2d3",
   "metadata": {},
   "outputs": [],
   "source": [
    "AEMPYX_ROOT = os.environ[\"AEMPYX_ROOT\"]\n",
    "mypath = [AEMPYX_ROOT+\"/aempy/modules/\", AEMPYX_ROOT+\"/aempy/scripts/\"]\n",
    "for pth in mypath:\n",
    "    if pth not in sys.path:\n",
    "        sys.path.insert(0,pth)"
   ]
  },
  {
   "cell_type": "code",
   "execution_count": null,
   "id": "d252de72",
   "metadata": {},
   "outputs": [],
   "source": [
    "from version import versionstrg"
   ]
  },
  {
   "cell_type": "code",
   "execution_count": null,
   "id": "65b278eb",
   "metadata": {},
   "outputs": [],
   "source": [
    "import aesys\n",
    "import util\n",
    "import inverse\n",
    "import alg"
   ]
  },
  {
   "cell_type": "code",
   "execution_count": null,
   "id": "1d64b150",
   "metadata": {},
   "outputs": [],
   "source": [
    "warnings.simplefilter(action=\"ignore\", category=FutureWarning)"
   ]
  },
  {
   "cell_type": "code",
   "execution_count": null,
   "id": "1b4e9060",
   "metadata": {},
   "outputs": [],
   "source": [
    "AEMPYX_DATA = os.environ[\"AEMPYX_DATA\"]"
   ]
  },
  {
   "cell_type": "code",
   "execution_count": null,
   "id": "1082a537",
   "metadata": {},
   "outputs": [],
   "source": [
    "rng = numpy.random.default_rng()\n",
    "nan = numpy.nan  # float(\"NaN\")\n",
    "version, _ = versionstrg()\n",
    "titstrng = util.print_title(version=version, fname=__file__, out=False)\n",
    "print(titstrng+\"\\n\\n\")"
   ]
  },
  {
   "cell_type": "code",
   "execution_count": null,
   "id": "01f93172",
   "metadata": {
    "lines_to_next_cell": 2
   },
   "outputs": [],
   "source": [
    "OutInfo = False\n",
    "now = datetime.now()"
   ]
  },
  {
   "cell_type": "code",
   "execution_count": null,
   "id": "0f5f7165",
   "metadata": {
    "lines_to_next_cell": 2
   },
   "outputs": [],
   "source": [
    "\"\"\"\n",
    "System related settings.\n",
    "Data transformation is now allowed with three possible options:\n",
    "DataTrans   = 0           raw data\n",
    "            = 1           natural log of data\n",
    "            = 2           asinh transformation\n",
    "An error model is applied for the raw data, which is\n",
    "mixed additive/multiplicative. in case of data transformation,\n",
    "errors are also transformed.\n",
    "\"\"\"\n",
    "# AEM_system = \"genesis\"\n",
    "AEM_system = \"aem05\"  # \"genesis\"\n",
    "if \"aem05\" in AEM_system.lower():\n",
    "    FwdCall,NN, _, _, _, = aesys.get_system_params(System=AEM_system)\n",
    "    nL = NN[0]\n",
    "    ParaTrans = 1\n",
    "    DataTrans = 0\n",
    "    DatErr_add =  50.\n",
    "    DatErr_mult = 0.03\n",
    "    data_active = numpy.ones(NN[2], dtype=\"int8\")"
   ]
  },
  {
   "cell_type": "code",
   "execution_count": null,
   "id": "781dcc58",
   "metadata": {
    "lines_to_next_cell": 2
   },
   "outputs": [],
   "source": [
    "if \"genes\" in AEM_system.lower():\n",
    "    FwdCall, NN, _, _, _, = aesys.get_system_params(System=AEM_system)\n",
    "    nL = NN[0]\n",
    "    ParaTrans = 1\n",
    "    DataTrans = 0\n",
    "    DatErr_add = 100.\n",
    "    DatErr_mult = 0.01\n",
    "    data_active = numpy.ones(NN[2], dtype=\"int8\")\n",
    "    data_active[0:11]=0  # only vertical component\n",
    "    # data_active[10:11]=0  # Vertical + 'good' hoizontals'"
   ]
  },
  {
   "cell_type": "code",
   "execution_count": null,
   "id": "9e3357d7",
   "metadata": {},
   "outputs": [],
   "source": [
    "\"\"\"\n",
    "input format is \".npz\"\n",
    "\"\"\"\n",
    "InDatDir = AEMPYX_DATA + \"/SynthData/data/\"\n",
    "FileList = \"search\"  # \"search\", \"read\"\n",
    "SearchStrng = \"*.npz\"\n",
    "# SearchStrng = \"GEN*3LayerMod*Alt_120*.npz\""
   ]
  },
  {
   "cell_type": "code",
   "execution_count": null,
   "id": "285446b7",
   "metadata": {},
   "outputs": [],
   "source": [
    "if \"set\" in FileList.lower():\n",
    "    print(\"Data files read from dir:  %s\" % InDatDir)\n",
    "    dat_files = []"
   ]
  },
  {
   "cell_type": "code",
   "execution_count": null,
   "id": "11102d2f",
   "metadata": {},
   "outputs": [],
   "source": [
    "else:\n",
    "    # how = [\"search\", SearchStrng, InDatDir]\n",
    "    # how = [\"read\", FileList, InDatDir]\n",
    "    dat_files = util.get_data_list(how=[\"search\", SearchStrng, InDatDir],\n",
    "                              out= True, sort=True)\n",
    "    ns = numpy.size(dat_files)"
   ]
  },
  {
   "cell_type": "code",
   "execution_count": null,
   "id": "c7783243",
   "metadata": {},
   "outputs": [],
   "source": [
    "ns = numpy.size(dat_files)\n",
    "if ns ==0:\n",
    "    error(\"No files set!. Exit.\")"
   ]
  },
  {
   "cell_type": "code",
   "execution_count": null,
   "id": "820a517c",
   "metadata": {
    "lines_to_next_cell": 2
   },
   "outputs": [],
   "source": [
    "\"\"\"\n",
    "Output formats is \".npz\"\n",
    "\"\"\"\n",
    "OutDatDir = AEMPYX_DATA + \"/SynthData/results/\"\n",
    "print(\"Models written to dir: %s \" % OutDatDir)"
   ]
  },
  {
   "cell_type": "code",
   "execution_count": null,
   "id": "3bdfc52e",
   "metadata": {
    "lines_to_next_cell": 2
   },
   "outputs": [],
   "source": [
    "if not os.path.isdir(OutDatDir):\n",
    "    print(\"File: %s does not exist, but will be created\" % OutDatDir)\n",
    "    os.mkdir(OutDatDir)"
   ]
  },
  {
   "cell_type": "code",
   "execution_count": null,
   "id": "36f2f39f",
   "metadata": {},
   "outputs": [],
   "source": [
    "\"\"\"\n",
    "Define inversion type  optional additional parameters (e.g., Waveforms )\n",
    "\"\"\"\n",
    "RunType = \"TikhOpt\" # \"TikhOcc\",  \"MAP_ParSpace\", \"MAP_DatSpace\",\"Jack\",\"DoI\", \"RTO\"\"\n",
    "Uncert = True"
   ]
  },
  {
   "cell_type": "code",
   "execution_count": null,
   "id": "a9c8f0ab",
   "metadata": {},
   "outputs": [],
   "source": [
    "RegFun = \"lcc\" # \"fix\", \"lcc\", \"gcv\", \"mle\"\n",
    "RegVal0 = 1.e-5\n",
    "NTau0 = 1\n",
    "Tau0min = numpy.log10(RegVal0)\n",
    "Tau0max = numpy.log10(RegVal0)\n",
    "Tau0 = numpy.logspace(Tau0min, Tau0max, NTau0)"
   ]
  },
  {
   "cell_type": "code",
   "execution_count": null,
   "id": "d84f4da1",
   "metadata": {},
   "outputs": [],
   "source": [
    "if any(s in RegFun.lower() for s in [\"gcv\", \"upr\", \"ufc\", \"mle\", \"lcc\"]):\n",
    "    RegVal1Min = 0.1\n",
    "    RegVal1Max = 1000.\n",
    "    NTau1 =64\n",
    "    Tau1min = numpy.log10(RegVal1Min)\n",
    "    Tau1max = numpy.log10(RegVal1Max)\n",
    "else:\n",
    "    RegVal1 =20.\n",
    "    NTau1 =1\n",
    "    Tau1min = numpy.log10(RegVal1)\n",
    "    Tau1max = numpy.log10(RegVal1)"
   ]
  },
  {
   "cell_type": "code",
   "execution_count": null,
   "id": "6e1a2c87",
   "metadata": {},
   "outputs": [],
   "source": [
    "Tau1 = numpy.logspace(Tau1min, Tau1max, NTau1)\n",
    "nreg = NTau0 * NTau1"
   ]
  },
  {
   "cell_type": "code",
   "execution_count": null,
   "id": "f4037041",
   "metadata": {},
   "outputs": [],
   "source": [
    "EnsOut = True\n",
    "Percentiles = [10., 20., 30., 40.] # linear\n",
    "# Percentiles = [2.3, 15.9,]                   # 95/68"
   ]
  },
  {
   "cell_type": "code",
   "execution_count": null,
   "id": "ebe93f47",
   "metadata": {},
   "outputs": [],
   "source": [
    "\"\"\"\n",
    "Model definition\n",
    "\"\"\""
   ]
  },
  {
   "cell_type": "code",
   "execution_count": null,
   "id": "0c615ad7",
   "metadata": {},
   "outputs": [],
   "source": [
    "SetPrior = \"set\"\n",
    "ParaTrans = 1"
   ]
  },
  {
   "cell_type": "code",
   "execution_count": null,
   "id": "13c8a605",
   "metadata": {},
   "outputs": [],
   "source": [
    "Nlyr = 33\n",
    "DzStart = 3.\n",
    "DzEnd = 10.\n",
    "dz = numpy.logspace(numpy.log10(DzStart), numpy.log10(DzEnd), Nlyr)\n",
    "z = numpy.append(0.0, numpy.cumsum(dz))"
   ]
  },
  {
   "cell_type": "code",
   "execution_count": null,
   "id": "d019255b",
   "metadata": {},
   "outputs": [],
   "source": [
    "zerolayer = numpy.zeros(Nlyr)"
   ]
  },
  {
   "cell_type": "code",
   "execution_count": null,
   "id": "7426ce29",
   "metadata": {},
   "outputs": [],
   "source": [
    "\"\"\"\n",
    "Background model: default settings is rho only, - IP is nonexistent \n",
    "Neeeds to be adapted for reasonable IP\n",
    "\"\"\" \n",
    "mod_act, mod_apr, mod_var, mod_bnd, m_state = inverse.init_1dmod(Nlyr)"
   ]
  },
  {
   "cell_type": "code",
   "execution_count": null,
   "id": "6dfec3b1",
   "metadata": {},
   "outputs": [],
   "source": [
    "mod_act[0*Nlyr:1*Nlyr] = 1\n",
    "\"\"\"\n",
    "For activating chargeability:\n",
    "\"\"\"\n",
    "# mod_act[2*Nlyr:3*Nlyr] = 1"
   ]
  },
  {
   "cell_type": "code",
   "execution_count": null,
   "id": "0e8eaaa9",
   "metadata": {
    "lines_to_next_cell": 2
   },
   "outputs": [],
   "source": [
    "\"\"\"\n",
    "For activating Thicknesses (few layers only):\n",
    "\"\"\"\n",
    "# mod_act[6*Nlyr:7*Nlyr-1] = 1"
   ]
  },
  {
   "cell_type": "code",
   "execution_count": null,
   "id": "8783c1d1",
   "metadata": {
    "lines_to_next_cell": 2
   },
   "outputs": [],
   "source": [
    "sizepar = numpy.shape(mod_act)\n",
    "mpara = sizepar[0]\n",
    "\"\"\"\n",
    "All activated parameter need reasonable priors\n",
    "\"\"\"\n",
    "Guess_rv = 100.0  # initial guess for resistivity in mod_apr\n",
    "Guess_rs = 0.3    # std defines standard deviation \n",
    "mod_apr[0*Nlyr:1*Nlyr] = Guess_rv\n",
    "mod_var[0*Nlyr:1*Nlyr] = numpy.power(Guess_rs,2)\n",
    "Guess_mv = 0.5    # initial guess for chargeability in mod_apr\n",
    "Guess_ms = 0.05   # std defines standard deviation \n",
    "mod_apr[2*Nlyr:3*Nlyr] = Guess_rv\n",
    "mod_var[2*Nlyr:3*Nlyr] = numpy.power(Guess_rs,2)\n",
    "\"\"\"\n",
    "Thicknesses are kept constant (not activated)\n",
    "\"\"\"\n",
    "mod_apr[6*Nlyr:7*Nlyr-1] = dz[0:Nlyr - 1]\n",
    "mod_var[6*Nlyr:7*Nlyr-1] = numpy.power(1.,2)"
   ]
  },
  {
   "cell_type": "code",
   "execution_count": null,
   "id": "59cef0e5",
   "metadata": {
    "lines_to_next_cell": 2
   },
   "outputs": [],
   "source": [
    "# mod_bnd = numpy.array([])\n",
    "max_val = 1.e+30\n",
    "min_val = 1.e-30\n",
    "# max_val = mod_apr[mod_act!=0] + 3*mod_std[mod_act!=0]\n",
    "# mod_bnd[mod_act!=0, 1] = max_val\n",
    "# min_val = mod_apr[mod_act!=0] - 3*mod_std[mod_act!=0]\n",
    "# mod_bnd[mod_act!=0, 0] = min_val\n",
    "mod_bnd[:,0] = min_val\n",
    "mod_bnd[:,1] = max_val"
   ]
  },
  {
   "cell_type": "code",
   "execution_count": null,
   "id": "34fa7e80",
   "metadata": {},
   "outputs": [],
   "source": [
    "if OutInfo:\n",
    "    #   print \\\n",
    "    #   (\" Parameter set for inverting: \\n\", mod_act)\n",
    "    print(\" Layer thicknesses: \\n\", dz)\n",
    "    print(\" Layer interface depths: \\n\", z)\n",
    "    print(\" Initial halfspace resistivity of %6.2f Ohm*m\" % (Guess_rv))\n",
    "    print(\" Log Standard error of %6.2f \" % (Guess_rs))\n",
    "    if not (mod_bnd == None) or (numpy.size(mod_bnd) == 0):\n",
    "        print(\" Upper limits: \\n\", mod_bnd[:, 1])\n",
    "        print(\" Lower limits: \\n\", mod_bnd[:, 0])"
   ]
  },
  {
   "cell_type": "code",
   "execution_count": null,
   "id": "fa9874eb",
   "metadata": {},
   "outputs": [],
   "source": [
    "\"\"\"\n",
    "Setup Controls for different Algorithms\n",
    "\"\"\"\n",
    "if \"tikhopt\" in  RunType.lower():\n",
    "    \"\"\"\n",
    "    Prepare differential operator base methods for regularization matrices\n",
    "    \"\"\"\n",
    "    D0 = inverse.diffops(dz, der=False, mtype=\"sparse\", otype=\"L0\")\n",
    "    L = [D0 for D in range(7)]\n",
    "    L0 = scipy.sparse.block_diag(L)\n",
    "    Cm0 = L0.T@L0\n",
    "    Cm0 = inverse.extract_cov(Cm0, mod_act)\n",
    "\n",
    "    D1 = inverse.diffops(dz, der=False, mtype=\"sparse\", otype=\"L1\")\n",
    "    L = [D1 for D in range(7)]\n",
    "    L1 = scipy.sparse.block_diag(L)\n",
    "    Cm1 = L1.T@L1\n",
    "    Cm1 = inverse.extract_cov(Cm1, mod_act)\n",
    "\n",
    "    Maxiter = 10\n",
    "    Maxreduce = 5\n",
    "    Rfact = 0.66\n",
    "    LinPars = [Maxreduce, Rfact]\n",
    "\n",
    "\n",
    "    ThreshRMS = [0.9, 1.0e-2, 1.0e-2]\n",
    "    Delta = [1.e-5]\n",
    "    RegShift = 2\n",
    "\n",
    "    Ctrl = dict([\n",
    "        (\"system\", [AEM_system, FwdCall]),\n",
    "        (\"name\", \"\"),\n",
    "        (\"inversion\",\n",
    "         numpy.array([RunType, RegFun, Tau0, Tau1, Maxiter, ThreshRMS, \n",
    "                      LinPars, SetPrior, Delta, RegShift], dtype=object)),\n",
    "        (\"covar\", \n",
    "         numpy.array([L0, Cm0, L1, Cm1], dtype=object)),\n",
    "        (\"transform\",\n",
    "         [DataTrans, ParaTrans]),\n",
    "        (\"uncert\", \n",
    "         Uncert)\n",
    "       ])"
   ]
  },
  {
   "cell_type": "code",
   "execution_count": null,
   "id": "479e77be",
   "metadata": {},
   "outputs": [],
   "source": [
    "if \"occ\" in RunType.lower():\n",
    "    \"\"\"\n",
    "    Prepare differential operator base methods for regularization matrices\n",
    "    \"\"\"\n",
    "    D0 = inverse.diffops(dz, der=False, mtype=\"sparse\", otype=\"L0\")\n",
    "    L = [D0 for D in range(7)]\n",
    "    L0 = scipy.sparse.block_diag(L)\n",
    "    Cm0 = L0.T@L0\n",
    "    Cm0 = inverse.extract_cov(Cm0, mod_act)\n",
    "\n",
    "    D1 = inverse.diffops(dz, der=False, mtype=\"sparse\", otype=\"L1\")\n",
    "    L = [D1 for D in range(7)]\n",
    "    L1 = scipy.sparse.block_diag(L)\n",
    "    Cm1 = L1.T@L1\n",
    "    Cm1 = inverse.extract_cov(Cm1, mod_act)\n",
    "\n",
    "    Maxiter = 10\n",
    "    Maxreduce = 5\n",
    "    Rfact = 0.66\n",
    "    LinPars = [Maxreduce, Rfact]\n",
    "\n",
    "    Maxiter = 10\n",
    "    Maxreduce = 5\n",
    "    Rfact = 0.66\n",
    "    ThreshRMS = [0.5, 1.0e-2, 1.0e-2]\n",
    "    L = L1\n",
    "    TauSeq = [0.5]\n",
    "    Delta = [1.e-5]\n",
    "    Ctrl = dict([\n",
    "        (\"system\", [AEM_system, FwdCall]),\n",
    "        (\"name\", \"\"),\n",
    "        (\"inversion\", \n",
    "         numpy.array([RunType, TauSeq, Tau0, Maxiter,ThreshRMS, \n",
    "                      LinPars, SetPrior, Delta],dtype=object)),\n",
    "        (\"covar\", \n",
    "         numpy.array( [L0, Cm0, L1, Cm1], dtype=object)),\n",
    "        (\"transform\",\n",
    "         [DataTrans, ParaTrans]),\n",
    "        (\"uncert\", \n",
    "         Uncert)\n",
    "       ])"
   ]
  },
  {
   "cell_type": "code",
   "execution_count": null,
   "id": "3bf3d45a",
   "metadata": {},
   "outputs": [],
   "source": [
    "if \"map\" in  RunType.lower():\n",
    "\n",
    "    \"\"\"\n",
    "    Prepare explicit covariances for MAP and related methods\n",
    "    \"\"\"\n",
    "\n",
    "    zc = inverse.set_zcenters(dz)\n",
    "    xc = numpy.zeros_like(zc)\n",
    "    yc = numpy.zeros_like(zc)\n",
    "    CorrL = numpy.array([30.0, 30.0, 30.0])\n",
    "\n",
    "    \"\"\"\n",
    "    This setup is a workaround, correct only for rho-only inversion\n",
    "    \"\"\"\n",
    "\n",
    "    mvar  = mod_var[0*Nlyr:1*Nlyr]\n",
    "    # inverse.extract_mod(mod_var, mod_act)\n",
    "\n",
    "    if \"par\"in RunType.lower():\n",
    "        InvSpace = \"par\"\n",
    "        Cmi, CmiS = inverse.covar(xc, yc, zc, covtype= [\"exp\", CorrL],\n",
    "                  var=mvar, sparse=False, thresh=0.05, inverse=True)\n",
    "        Cmi=inverse.extract_cov(Cmi, mod_act)\n",
    "        Cmi = scipy.sparse.block_diag([Cmi for Cmi in range(7)])\n",
    "        CmiS=inverse.extract_cov(CmiS, mod_act)\n",
    "        CmiS = scipy.sparse.block_diag([CmiS for Cmis in range(7)])\n",
    "        C, sC = Cmi, CmiS\n",
    "    else:\n",
    "        InvSpace = \"dat\"\n",
    "        Cm, CmS = inverse.covar(xc, yc, zc, covtype= [\"exp\", CorrL],\n",
    "                  var=mvar, sparse=False, thresh=0.05, inverse=False)\n",
    "        Cm=inverse.extract_cov(Cm, mod_act)\n",
    "        Cm = scipy.sparse.block_diag([Cm for Ci in range(7)])\n",
    "        CmS=inverse.extract_cov(CmS, mod_act)\n",
    "        CmS = scipy.sparse.block_diag([CmS for CmS in range(7)])\n",
    "        C, sC = Cm, CmS\n",
    "\n",
    "    Maxiter = 10\n",
    "    Maxreduce = 5\n",
    "    Rfact = 0.66\n",
    "    ThreshRMS = [0.5, 1.0e-2, 1.0e-2]\n",
    "    Delta = [1.e-5]\n",
    "    TauSeq = [0.5]\n",
    "    RegShift = 0\n",
    "    Ctrl = dict([\n",
    "        (\"system\", [AEM_system, FwdCall]),\n",
    "        (\"name\", \"\"),\n",
    "        (\"inversion\",\n",
    "         numpy.array([RunType, InvSpace, RegFun, Tau0, Tau1, Maxiter,ThreshRMS,\n",
    "                      LinPars, SetPrior, Delta, RegShift], dtype=object)),\n",
    "        (\"covar\",\n",
    "         numpy.array([C, sC], dtype=object)),\n",
    "        (\"transform\",\n",
    "         [DataTrans, ParaTrans]),\n",
    "        (\"uncert\",\n",
    "         Uncert)\n",
    "       ])"
   ]
  },
  {
   "cell_type": "code",
   "execution_count": null,
   "id": "a3cc2654",
   "metadata": {
    "lines_to_next_cell": 2
   },
   "outputs": [],
   "source": []
  },
  {
   "cell_type": "code",
   "execution_count": null,
   "id": "c0ad2f9e",
   "metadata": {
    "lines_to_next_cell": 2
   },
   "outputs": [],
   "source": [
    "if OutInfo:\n",
    "    print(Ctrl.keys())"
   ]
  },
  {
   "cell_type": "code",
   "execution_count": null,
   "id": "450911bb",
   "metadata": {
    "lines_to_next_cell": 2
   },
   "outputs": [],
   "source": [
    "OutStrng = \"_nlyr\"+str(Nlyr)\\\n",
    "            +\"_\"+RunType\\\n",
    "            +\"_\"+RegFun\\\n",
    "            +\"_Prior\"+str(int(Guess_rv))\\\n",
    "            +\"_Err_a\"+ str(int(DatErr_add))+\"-m\"+str(int(100*DatErr_mult))\\\n",
    "            +\"_results\"\n",
    "print(\"ID string: input file + %s \" % OutStrng)"
   ]
  },
  {
   "cell_type": "code",
   "execution_count": null,
   "id": "4dbbcde1",
   "metadata": {
    "lines_to_next_cell": 2
   },
   "outputs": [],
   "source": [
    "fcount =0\n",
    "for file in dat_files:\n",
    "\n",
    "    start = time.time()\n",
    "\n",
    "    fcount=fcount+1\n",
    "\n",
    "    name, ext = os.path.splitext(file)\n",
    "    filein = InDatDir+file\n",
    "    print(\"\\n Reading file \" + filein)\n",
    "\n",
    "\n",
    "    fileout = (OutDatDir + name + OutStrng).replace(\"_results\", \"_ctrl\")\n",
    "    numpy.savez_compressed(file=fileout, **Ctrl)\n",
    "\n",
    "    tmp = numpy.load(filein, allow_pickle=True)\n",
    "    #  numpy.savez_compressed(\n",
    "    # file=NPZFile, model = Model, data = Data, para = Para)\n",
    "    imod_para = tmp[\"para\"]\n",
    "    imod_data = tmp[\"data\"]\n",
    "    imod_modl = tmp[\"model\"]\n",
    "    # print(numpy.shape(imod_data))\n",
    "\n",
    "    imod_num = imod_data[:,0]\n",
    "    imod_smp = imod_data[:,1]\n",
    "    imod_alt = imod_data[:,2]\n",
    "\n",
    "\n",
    "    [nsample,ndata] = numpy.shape(imod_data)\n",
    "\n",
    "\n",
    "    if \"read\" in SetPrior.lower():\n",
    "        halfspace =\"halfspace_results\"\n",
    "        file, filext0 = os.path.splitext(file)\n",
    "        prior_file = file+halfspace+filext0\n",
    "        mod_prior, mod_var = inverse.load_prior(prior_file)\n",
    "\n",
    "\n",
    "    dat_act = numpy.tile(data_active,(nsample,1))\n",
    "    dat_obs = imod_data[:,3:]\n",
    "    dat_err = numpy.zeros_like(dat_obs)\n",
    "    # print(numpy.shape(dat_obs))\n",
    "\n",
    "    \"\"\"\n",
    "    Loop over samples\n",
    "\n",
    "    \"\"\"\n",
    "    sequence = range(nsample)\n",
    "    samples = sequence\n",
    "\n",
    "\n",
    "    logsize = (2 + 7*Maxiter)\n",
    "    imod_log = numpy.full((len(samples),logsize), numpy.nan)\n",
    "\n",
    "    start = time.time()\n",
    "    for ii in samples:\n",
    "        print(\"\\n Invert sample #\"+str(ii))\n",
    "\n",
    "        \"\"\"\n",
    "        Setup model-related paramter\n",
    "        \"\"\"\n",
    "        if ii==0:\n",
    "            mod_true = imod_modl\n",
    "            dat_true = dat_obs[ii, :]\n",
    "\n",
    "        if \"read\" in SetPrior.lower():\n",
    "            mod_apr = mod_prior[ii]\n",
    "            mod_ini = mod_apr.copy()\n",
    "\n",
    "        elif \"upd\" in SetPrior:\n",
    "\n",
    "            if ii == 0:\n",
    "                mod_ini = mod_apr.copy()\n",
    "                model = mod_ini.copy()\n",
    "            else:\n",
    "                mod_ini = model.copy()\n",
    "                model = mod_ini.copy()\n",
    "\n",
    "        elif \"set\" in SetPrior:\n",
    "\n",
    "                mod_ini = mod_apr.copy()\n",
    "                model = mod_ini.copy()\n",
    "\n",
    "        Model = dict([\n",
    "            (\"m_act\", mod_act),\n",
    "            (\"m_apr\", mod_apr),\n",
    "            (\"m_var\", mod_var),\n",
    "            (\"m_bnd\", mod_bnd),\n",
    "            (\"m_ini\", mod_ini)\n",
    "            ])\n",
    "\n",
    "        \"\"\"\n",
    "        Setup data-related paramter\n",
    "        \"\"\"\n",
    "        dat_err[ii, :], _ = inverse.set_errors(dat_obs[ii, :],\n",
    "                                                daterr_add=DatErr_add,\n",
    "                                                daterr_mult=DatErr_mult)\n",
    "\n",
    "        Data = dict([\n",
    "            (\"d_act\", dat_act[ii,:]),\n",
    "            (\"d_obs\", dat_obs[ii,:]),\n",
    "            (\"d_err\", dat_err[ii,:]),\n",
    "            (\"alt\", imod_alt[ii])\n",
    "            ])\n",
    "\n",
    "        \"\"\"\n",
    "        Call inversion algorithms\n",
    "        \"\"\"\n",
    "        if \"opt\" in RunType.lower():\n",
    "            results =\\\n",
    "                alg.run_tikh_opt(Ctrl=Ctrl, Model=Model, Data=Data,\n",
    "                                  OutInfo=OutInfo)\n",
    "\n",
    "        if \"occ\" in RunType.lower():\n",
    "            results =\\\n",
    "                alg.run_tikh_occ(Ctrl=Ctrl, Model=Model, Data=Data,\n",
    "                                  OutInfo=OutInfo)\n",
    "\n",
    "        if \"map\" in RunType.lower():\n",
    "            results =\\\n",
    "                alg.run_map(Ctrl=Ctrl, Model=Model, Data=Data,\n",
    "\n",
    "                                  OutInfo=OutInfo)\n",
    "        \"\"\"\n",
    "        Store inversion Results\n",
    "        \"\"\"\n",
    "        if OutInfo:\n",
    "            print(\"Results: \",results.keys())\n",
    "\n",
    "\n",
    "        M = results[\"model\"]\n",
    "        D = results[\"data\"]\n",
    "        C = results[\"log\"]\n",
    "\n",
    "        if ii==0:\n",
    "            ens_num  = numpy.array([ii])\n",
    "            ens_nrms = C[2]\n",
    "            ens_modl = M[0]\n",
    "            ens_merr = M[1]\n",
    "            ens_sens = M[2]\n",
    "            ens_dobs = D[0].reshape((1,-1))\n",
    "            ens_dcal = D[1].reshape((1,-1))\n",
    "            ens_derr = D[2].reshape((1,-1))\n",
    " \n",
    "        else:\n",
    "           ens_num = numpy.vstack((ens_num, ii))\n",
    "           ens_nrms = numpy.vstack((ens_nrms, C[2]))\n",
    "           \n",
    "           ens_modl = numpy.vstack((ens_modl, M[0]))\n",
    "           ens_merr = numpy.vstack((ens_merr, M[1]))\n",
    "           ens_sens = numpy.vstack((ens_sens, M[2]))\n",
    "           ens_dobs = numpy.vstack((ens_dobs, D[0]))\n",
    "           ens_dcal = numpy.vstack((ens_dcal, D[1]))\n",
    "           ens_derr = numpy.vstack((ens_derr, D[2]))\n",
    " \n",
    "\n",
    "    m_quants, m_mean, m_stdv, m_skew, m_kurt, m_mode = \\\n",
    "        inverse.calc_stat_ens(ensemble=ens_modl, quantiles=Percentiles, sum_stats=True)\n",
    "    stat_modl = numpy.vstack((m_quants, m_mean, m_stdv, m_skew, m_kurt, m_mode))\n",
    "\n",
    "    d_quants, d_mean, d_stdv, d_skew, d_kurt, d_mode = \\\n",
    "        inverse.calc_stat_ens(ensemble=ens_modl, quantiles=Percentiles, sum_stats=True)\n",
    "    stat_dcal = numpy.vstack((d_quants, d_mean, d_stdv, d_skew, d_kurt, d_mode))\n",
    "\n",
    "    r_quants, r_mean, r_stdv, r_skew, r_kurt, r_mode = \\\n",
    "        inverse.calc_stat_ens(ensemble=ens_nrms, quantiles=Percentiles, sum_stats=True) \n",
    "    stat_nrms= numpy.vstack((r_quants, r_mean, r_stdv, r_skew, r_kurt, r_mode))\n",
    "\n",
    "    mod_alt =  imod_alt[0]\n",
    "    \n",
    "    if EnsOut:\n",
    "        fileout = OutDatDir + name + OutStrng +\".npz\"\n",
    "        numpy.savez_compressed(\n",
    "            file=fileout,\n",
    "            header= titstrng,\n",
    "            aem_system=AEM_system,\n",
    "            mod_true=mod_true, dat_true=dat_true, mod_alt=mod_alt,\n",
    "            mod_ref=mod_apr,\n",
    "            mod_act=mod_act,\n",
    "            dat_act=dat_act,            \n",
    "            ens_modl=ens_modl,\n",
    "            ens_merr=ens_merr,\n",
    "            ens_dobs=ens_dobs,\n",
    "            ens_dcal=ens_dcal,\n",
    "            ens_derr=ens_derr,\n",
    "            ens_nrms=ens_nrms,            \n",
    "            stat_dcal=stat_dcal,\n",
    "            stat_modl=stat_modl,\n",
    "            stat_nrms=stat_nrms)\n",
    "    else:\n",
    "        fileout = OutDatDir + name + OutStrng +\"_stat.npz\"\n",
    "        numpy.savez_compressed(\n",
    "            file=fileout,\n",
    "            header= titstrng,\n",
    "            aem_system=AEM_system,\n",
    "            mod_true=mod_true, dat_true=dat_true, mod_alt=mod_alt,\n",
    "            mod_ref=mod_apr,\n",
    "            mod_act=mod_act,\n",
    "            dat_act=dat_act,            \n",
    "            stat_dcal=stat_dcal,\n",
    "            stat_modl=stat_modl,\n",
    "            stat_nrms=stat_nrms)"
   ]
  },
  {
   "cell_type": "code",
   "execution_count": null,
   "id": "34e1bb01",
   "metadata": {},
   "outputs": [],
   "source": [
    "print(\"\\n\\nResults stored to \"+fileout)\n",
    "elapsed = (time.time() - start)\n",
    "print (\" Used %7.4f sec for %6i samples\" % (elapsed, ii+1))\n",
    "print (\" Average %7.4f sec/imod\\n\" % (elapsed/(ii+1)))"
   ]
  },
  {
   "cell_type": "code",
   "execution_count": null,
   "id": "29975489",
   "metadata": {},
   "outputs": [],
   "source": [
    "print(\"\\n\\nAll done!\")"
   ]
  }
 ],
 "metadata": {
  "jupytext": {
   "cell_metadata_filter": "-all",
   "executable": "/usr/bin/env python3",
   "formats": "py,ipynb",
   "main_language": "python"
  }
 },
 "nbformat": 4,
 "nbformat_minor": 5
}
