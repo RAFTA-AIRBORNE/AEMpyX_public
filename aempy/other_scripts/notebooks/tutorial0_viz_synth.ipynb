{
 "cells": [
  {
   "cell_type": "code",
   "execution_count": null,
   "id": "e1460b15",
   "metadata": {
    "lines_to_next_cell": 0
   },
   "outputs": [],
   "source": []
  },
  {
   "cell_type": "code",
   "execution_count": null,
   "id": "e59aa843",
   "metadata": {},
   "outputs": [],
   "source": [
    "import os\n",
    "import os.path"
   ]
  },
  {
   "cell_type": "code",
   "execution_count": null,
   "id": "65912c7b",
   "metadata": {},
   "outputs": [],
   "source": [
    "import sys\n",
    "from sys import exit as error"
   ]
  },
  {
   "cell_type": "code",
   "execution_count": null,
   "id": "64d374fa",
   "metadata": {},
   "outputs": [],
   "source": [
    "from datetime import datetime\n",
    "import warnings"
   ]
  },
  {
   "cell_type": "code",
   "execution_count": null,
   "id": "f25d9383",
   "metadata": {},
   "outputs": [],
   "source": [
    "import numpy"
   ]
  },
  {
   "cell_type": "code",
   "execution_count": null,
   "id": "55c78063",
   "metadata": {},
   "outputs": [],
   "source": [
    "import matplotlib.collections\n",
    "import matplotlib.patches\n",
    "import matplotlib.colors\n",
    "import matplotlib.pyplot\n",
    "import matplotlib\n",
    "import matplotlib.cm"
   ]
  },
  {
   "cell_type": "code",
   "execution_count": null,
   "id": "4ba1183b",
   "metadata": {},
   "outputs": [],
   "source": [
    "AEMPYX_ROOT = os.environ[\"AEMPYX_ROOT\"]\n",
    "mypath = [AEMPYX_ROOT+\"/aempy/modules/\", AEMPYX_ROOT+\"/aempy/scripts/\"]\n",
    "# mypath = [\"/home/vrath/AEMpyX/aempy/modules/\", \"/home/vrath/AEMpyX/aempy/scripts/\"]\n",
    "for pth in mypath:\n",
    "    if pth not in sys.path:\n",
    "        # sys.path.append(pth)\n",
    "        sys.path.insert(0,pth)"
   ]
  },
  {
   "cell_type": "code",
   "execution_count": null,
   "id": "89f891e0",
   "metadata": {},
   "outputs": [],
   "source": [
    "from version import versionstrg"
   ]
  },
  {
   "cell_type": "code",
   "execution_count": null,
   "id": "6d8e278b",
   "metadata": {
    "lines_to_next_cell": 2
   },
   "outputs": [],
   "source": [
    "import aesys\n",
    "import util\n",
    "import viz\n",
    "import eviz\n",
    "import inverse"
   ]
  },
  {
   "cell_type": "code",
   "execution_count": null,
   "id": "82dccf91",
   "metadata": {},
   "outputs": [],
   "source": [
    "warnings.simplefilter(action=\"ignore\", category=FutureWarning)"
   ]
  },
  {
   "cell_type": "code",
   "execution_count": null,
   "id": "bebd56c3",
   "metadata": {},
   "outputs": [],
   "source": [
    "OutInfo = True\n",
    "AEMPYX_DATA = os.environ[\"AEMPYX_DATA\"]"
   ]
  },
  {
   "cell_type": "code",
   "execution_count": null,
   "id": "e41de4af",
   "metadata": {},
   "outputs": [],
   "source": [
    "rng = numpy.random.default_rng()\n",
    "nan = numpy.nan  # float(\"NaN\")\n",
    "cm = 1/2.54  # centimeters in inches"
   ]
  },
  {
   "cell_type": "code",
   "execution_count": null,
   "id": "26493255",
   "metadata": {
    "lines_to_next_cell": 2
   },
   "outputs": [],
   "source": [
    "version, _ = versionstrg()\n",
    "titstrng = util.print_title(version=version, fname=inspect.getfile(inspect.currentframe()), out=False)\n",
    "print(titstrng+\"\\n\\n\")"
   ]
  },
  {
   "cell_type": "code",
   "execution_count": null,
   "id": "793a020d",
   "metadata": {
    "lines_to_next_cell": 2
   },
   "outputs": [],
   "source": [
    "now = datetime.now()"
   ]
  },
  {
   "cell_type": "code",
   "execution_count": null,
   "id": "d80e20c6",
   "metadata": {},
   "outputs": [],
   "source": [
    "InModDir = AEMPYX_DATA+\"/SynthData/results/\"\n",
    "print(\"Data/models read from dir:  %s\" % InModDir)"
   ]
  },
  {
   "cell_type": "code",
   "execution_count": null,
   "id": "cc225dd5",
   "metadata": {},
   "outputs": [],
   "source": [
    "FileList = \"search\"  # \"search\", \"read\""
   ]
  },
  {
   "cell_type": "code",
   "execution_count": null,
   "id": "4ec492bc",
   "metadata": {
    "lines_to_next_cell": 2
   },
   "outputs": [],
   "source": [
    "if \"search\" in FileList.lower():\n",
    "\n",
    "    SearchStrng = \"*results.npz\"\n",
    "    print(\"Search flightline ID string: %s \" % SearchStrng)\n",
    "    data_files = util.get_filelist(searchstr=[SearchStrng], searchpath=InModDir)\n",
    "    data_files = sorted(data_files)"
   ]
  },
  {
   "cell_type": "code",
   "execution_count": null,
   "id": "834c772c",
   "metadata": {},
   "outputs": [],
   "source": [
    "if \"set\" in FileList.lower():\n",
    "   data_files =[]"
   ]
  },
  {
   "cell_type": "code",
   "execution_count": null,
   "id": "87db65af",
   "metadata": {},
   "outputs": [],
   "source": [
    "PlotDir = AEMPYX_DATA+\"/SynthData/plots/\"\n",
    "print(\"Plots written to dir: %s \" % PlotDir)\n",
    "if not os.path.isdir(PlotDir):\n",
    "    print(\"File: %s does not exist, but will be created\" % PlotDir)\n",
    "    os.mkdir(PlotDir)"
   ]
  },
  {
   "cell_type": "code",
   "execution_count": null,
   "id": "3b25185c",
   "metadata": {},
   "outputs": [],
   "source": [
    "FilesOnly = False"
   ]
  },
  {
   "cell_type": "code",
   "execution_count": null,
   "id": "7188db9e",
   "metadata": {},
   "outputs": [],
   "source": [
    "PlotFormat = [\".pdf\", \".png\"]\n",
    "PDFCatalog = False\n",
    "if \".pdf\" in PlotFormat:\n",
    "    PDFCatName = \"AEM05_EnsemblePLots.pdf\"\n",
    "else:\n",
    "    print(\" No pdfs generated. No catalog possible!\")\n",
    "    PDFCatalog = False"
   ]
  },
  {
   "cell_type": "code",
   "execution_count": null,
   "id": "d08395a1",
   "metadata": {},
   "outputs": [],
   "source": [
    "PlotTrue = True #True"
   ]
  },
  {
   "cell_type": "code",
   "execution_count": null,
   "id": "60beb721",
   "metadata": {},
   "outputs": [],
   "source": [
    "\"\"\"\n",
    "Placement of plots\n",
    "\"\"\"   \n",
    "Horiz = True"
   ]
  },
  {
   "cell_type": "code",
   "execution_count": null,
   "id": "627f3ec4",
   "metadata": {},
   "outputs": [],
   "source": [
    "\"\"\"\n",
    "Parameter for data plot\n",
    "\"\"\""
   ]
  },
  {
   "cell_type": "code",
   "execution_count": null,
   "id": "87b4fe25",
   "metadata": {},
   "outputs": [],
   "source": [
    "AEM_system = \"aem05\"\n",
    "# AEM_system = \"genesis\""
   ]
  },
  {
   "cell_type": "code",
   "execution_count": null,
   "id": "29f22530",
   "metadata": {},
   "outputs": [],
   "source": [
    "FwdCall,NN, _, _, _, = aesys.get_system_params(System=AEM_system)"
   ]
  },
  {
   "cell_type": "code",
   "execution_count": null,
   "id": "efc8ec25",
   "metadata": {
    "lines_to_next_cell": 2
   },
   "outputs": [],
   "source": [
    "if \"aem05\" in AEM_system.lower():\n",
    "\n",
    "    DataLimits = [0., 2500.]    \n",
    "    FreqLimits = []"
   ]
  },
  {
   "cell_type": "code",
   "execution_count": null,
   "id": "d4b76477",
   "metadata": {
    "lines_to_next_cell": 2
   },
   "outputs": [],
   "source": [
    "if \"genes\" in AEM_system.lower():\n",
    "    # asinh trans (if negatives)\n",
    "    DataLimits = []\n",
    "    TimeLimits = []"
   ]
  },
  {
   "cell_type": "code",
   "execution_count": null,
   "id": "cf978d66",
   "metadata": {},
   "outputs": [],
   "source": [
    "\"\"\"\n",
    "Parameter for model plots\n",
    "\"\"\"\n",
    "ModLimits = [3., 3000.]\n",
    "DepthLimits = [0., 100.]"
   ]
  },
  {
   "cell_type": "code",
   "execution_count": null,
   "id": "4b0b0f74",
   "metadata": {},
   "outputs": [],
   "source": [
    "# Percentiles = [10., 20., 30., 40.] # linear\n",
    "Percentiles = [2.3, 15.9 ]                   # 95/68"
   ]
  },
  {
   "cell_type": "code",
   "execution_count": null,
   "id": "36083361",
   "metadata": {},
   "outputs": [],
   "source": []
  },
  {
   "cell_type": "code",
   "execution_count": null,
   "id": "c70b99c2",
   "metadata": {},
   "outputs": [],
   "source": [
    "PlotTitle = \"Aem05: 3-layer Model\"\n",
    "PlotSize = [8., 8.]"
   ]
  },
  {
   "cell_type": "code",
   "execution_count": null,
   "id": "b4a9dba0",
   "metadata": {},
   "outputs": [],
   "source": [
    "\"\"\"\n",
    "Determine graphical parameter.\n",
    "=> print(matplotlib.pyplot.style.available)\n",
    "see:\n",
    "MatplotlibDeprecationWarning: The seaborn styles shipped by Matplotlib \n",
    "are deprecated since 3.6, as they no longer correspond to the styles s\n",
    "hipped by seaborn. However, they will remain available as \n",
    "'seaborn-v0_8-<style>'. Alternatively, directly use the seaborn API instead.\n",
    "\n",
    "\"\"\"\n",
    "matplotlib.pyplot.style.use(\"seaborn-v0_8-paper\") # (\"seaborn-paper\")\n",
    "matplotlib.rcParams[\"figure.dpi\"] = 400\n",
    "matplotlib.rcParams[\"axes.linewidth\"] = 0.5\n",
    "matplotlib.rcParams[\"savefig.facecolor\"] = \"none\"\n",
    "# matplotlib.rcParams[\"text.usetex\"] = True"
   ]
  },
  {
   "cell_type": "code",
   "execution_count": null,
   "id": "ded0bfa5",
   "metadata": {},
   "outputs": [],
   "source": [
    "Fontsize = 8\n",
    "Labelsize = Fontsize\n",
    "Titlesize = 12\n",
    "Fontsizes = [Fontsize, Labelsize, Titlesize]"
   ]
  },
  {
   "cell_type": "code",
   "execution_count": null,
   "id": "6f0265c1",
   "metadata": {},
   "outputs": [],
   "source": [
    "Linewidth = [1., 1., 0.75]\n",
    "Linetypes = [\"-\", \":\", \"--\", \";\"]\n",
    "Linecolors = [\"k\", \"r\", \"g\", \"b\", \"c\", \"m\"]"
   ]
  },
  {
   "cell_type": "code",
   "execution_count": null,
   "id": "58ae7f60",
   "metadata": {
    "lines_to_next_cell": 2
   },
   "outputs": [],
   "source": [
    "Markers = [\"o\"]\n",
    "Markersize = [5]"
   ]
  },
  {
   "cell_type": "code",
   "execution_count": null,
   "id": "0bdc1343",
   "metadata": {},
   "outputs": [],
   "source": [
    "ncols = len(Percentiles)+3"
   ]
  },
  {
   "cell_type": "code",
   "execution_count": null,
   "id": "abe55693",
   "metadata": {},
   "outputs": [],
   "source": [
    "Greys = [0.1, 0.2, 0.3, 0.4, 0.5,.6, 0.7, 0.8, 0.9]"
   ]
  },
  {
   "cell_type": "code",
   "execution_count": null,
   "id": "df6b866e",
   "metadata": {
    "lines_to_next_cell": 2
   },
   "outputs": [],
   "source": [
    "\"\"\"\n",
    "see:\n",
    "https://matplotlib.org/stable/gallery/color/colormap_reference.html\n",
    "\"\"\"\n",
    "cmap = matplotlib.cm.gist_rainbow\n",
    "mycmap = matplotlib.pyplot.get_cmap(cmap)\n",
    "\"\"\"\n",
    "For just plotming to files, choose the cairo backend (eps, pdf, ,png, jpg...).\n",
    "If you need to see the plot directly (plot window, or jupyter), simply\n",
    "comment out the following line. In this case matplotlib may run into\n",
    "memory problems after a few hundreds of high-resolution plot.\n",
    "\"\"\"\n",
    "if FilesOnly:\n",
    "   matplotlib.use(\"cairo\")"
   ]
  },
  {
   "cell_type": "code",
   "execution_count": null,
   "id": "c2c793aa",
   "metadata": {
    "lines_to_next_cell": 2
   },
   "outputs": [],
   "source": [
    "ns = numpy.size(data_files)"
   ]
  },
  {
   "cell_type": "code",
   "execution_count": null,
   "id": "bd04f860",
   "metadata": {
    "lines_to_next_cell": 2
   },
   "outputs": [],
   "source": [
    "pdf_list = []\n",
    "for file in data_files:\n",
    "\n",
    "    filename, filext0 = os.path.splitext(file)\n",
    "    \n",
    "    PlotFile = filename\n",
    "    \n",
    "    results = numpy.load(InModDir+file)\n",
    "\n",
    "    print(\"Data loaded from file \", InModDir+file)\n",
    "    \n",
    "\n",
    "    m_act    = results[\"mod_act\"]\n",
    "    m_ref    = results[\"mod_ref\"]\n",
    "    m_ens    = results[\"ens_modl\"]\n",
    "    \n",
    "    print(\"minimum: \",numpy.amin(m_ens))\n",
    "    print(\"maximum: \",numpy.amax(m_ens))\n",
    "    \n",
    "    nlyr     = inverse.get_nlyr(m_ref)\n",
    "    dz       = m_ref[6*nlyr:7*nlyr-1] \n",
    "    z_ens = inverse.set_znodes(dz)   \n",
    "\n",
    "  \n",
    "    \n",
    "    d_act    = results[\"dat_act\"]\n",
    "    d_ens    = results[\"ens_dcal\"]\n",
    "    m_alt    = results[\"mod_alt\"]\n",
    "    \n",
    "    r_ens    = results[\"stat_nrms\"]\n",
    "    \n",
    "    control = numpy.load((InModDir+file).replace(\"_results\",\"_ctrl\"), allow_pickle=True)\n",
    "    method =  control[\"inversion\"][1]\n",
    "    \n",
    "\n",
    "    nlyr = inverse.get_nlyr(m_ref)\n",
    "\n",
    "    ens_modl = \\\n",
    "        inverse.calc_stat_ens(ensemble=m_ens, quantiles=Percentiles, sum_stats=True)\n",
    "    ens_dcal = \\\n",
    "        inverse.calc_stat_ens(ensemble=d_ens, quantiles=Percentiles, sum_stats=True)    \n",
    "    ens_nrms = \\\n",
    "        inverse.calc_stat_ens(ensemble=r_ens, quantiles=Percentiles, sum_stats=True)    \n",
    " \n",
    "    \n",
    "    if PlotTrue:\n",
    "        m_true = results[\"mod_true\"]\n",
    "        d_true = results[\"dat_true\"]  \n",
    "        print(\"read: \",m_true)\n",
    "        l_true = inverse.get_nlyr(m_true)\n",
    "        z_true = inverse.set_znodes(m_true[6* l_true:7* l_true-1])     \n",
    "        z_true = numpy.append(z_true, 10000.)\n",
    "        \n",
    "        m_true = m_true[0*l_true:1*l_true]\n",
    "        m_true = numpy.append(m_true, m_true[-1])\n",
    "        print(\"calc: \", m_true)\n",
    "        print(\"calc: \", z_true)\n",
    "        \n",
    "        \n",
    "        \n",
    "    nplots = 2\n",
    "    if Horiz: \n",
    "        horz = nplots\n",
    "        vert = 1\n",
    "    else:\n",
    "        horz = 1\n",
    "        vert = nplots\n",
    "        \n",
    "    fig, ax = matplotlib.pyplot.subplots(1,nplots,\n",
    "                                      figsize=(horz*PlotSize[0]*cm, vert*PlotSize[0]*cm),\n",
    "                                      gridspec_kw={\n",
    "                                          \"height_ratios\": [1.],\n",
    "                                          \"width_ratios\": [1., 1.]})\n",
    "    fig.suptitle(PlotTitle+\" (\"+method+\")\", fontsize=Fontsizes[2])\n",
    "\n",
    "    \n",
    "    ax[0] = eviz.plot_model_ensemble(\n",
    "            ThisAxis = ax[0], \n",
    "            PlotType = \"percentiles\", # lines, percentiles. iso\n",
    "            System  = AEM_system,\n",
    "            ModEns = m_ens,\n",
    "            Depth = z_ens,\n",
    "            Percentiles=[2.5, 16.],\n",
    "            Fillcolor=[\"0.8\", \"0.4\"],\n",
    "            Alphas = [0.3 , 0.6],\n",
    "            Labels=[],\n",
    "            Linecolor=Linecolors,\n",
    "            Linetype=Linetypes,\n",
    "            Linewidth=Linewidth,\n",
    "            Markers = [\"v\"],\n",
    "            Markersize =[4],\n",
    "            Fontsizes=Fontsizes,\n",
    "            XLimits=ModLimits,\n",
    "            YLimits= DepthLimits,\n",
    "            Legend=False)\n",
    "    \n",
    "    if PlotTrue:\n",
    "        # print(m_true) \n",
    "        # print(z_true)\n",
    "        ax[0] = eviz.plot_model(\n",
    "                ThisAxis = ax[0], \n",
    "                System  = AEM_system,\n",
    "                Model = m_true,\n",
    "                Depth = z_true,\n",
    "                Labels=[\"true model\"],\n",
    "                Linecolor=[\"k\"],\n",
    "                Linetype=[\"--\"],\n",
    "                Linewidth=[1],\n",
    "                Markers = [\"v\"],\n",
    "                Markersize =[4],\n",
    "                Fontsizes=Fontsizes,\n",
    "                XLimits= ModLimits,\n",
    "                YLimits= DepthLimits,\n",
    "                Legend=True)\n",
    "    \n",
    "    \n",
    "    ax[1] = eviz.plot_data_ensemble(\n",
    "            ThisAxis = ax[1],  \n",
    "            PlotType = \"percentiles\", # lines, percentiles. iso\n",
    "            System  = AEM_system,\n",
    "            DatEns = d_ens,\n",
    "            Percentiles=[2.5, 16.],\n",
    "            Fillcolor=[\"0.8\", \"0.4\"],\n",
    "            Alphas = [0.3 , 0.6],\n",
    "            Labels=[],\n",
    "            Linecolor=Linecolors,\n",
    "            Linetype=Linetypes,\n",
    "            Linewidth=Linewidth,\n",
    "            Markers = [\"\"],\n",
    "            Markersize =[4],\n",
    "            Fontsizes=Fontsizes, \n",
    "            XLimits= FreqLimits,\n",
    "            YLimits= DataLimits,\n",
    "            Legend=False)\n",
    "\n",
    "    if PlotTrue:\n",
    "      \n",
    "        ax[1] = eviz.plot_data(\n",
    "                ThisAxis = ax[1], \n",
    "                System  = AEM_system,\n",
    "                Data = d_true,\n",
    "                Errs = [],\n",
    "                Linecolor=[\"k\",\"r\",\"g\",\"b\"],\n",
    "                Linetype=[\"\"],\n",
    "                Linewidth=Linewidth,\n",
    "                Markers = [\"s\", \"o\"],\n",
    "                Markersize = Markersize,\n",
    "                Fontsizes=Fontsizes, \n",
    "                XLimits= FreqLimits,\n",
    "                YLimits= DataLimits,\n",
    "                Legend=True)\n",
    "    \n",
    "    for F in PlotFormat:\n",
    "        matplotlib.pyplot.savefig(PlotDir+PlotFile+F)\n",
    "        \n",
    "    if PDFCatalog:\n",
    "        pdf_list.append(PlotDir+PlotFile+\".pdf\")"
   ]
  },
  {
   "cell_type": "code",
   "execution_count": null,
   "id": "bafc8109",
   "metadata": {},
   "outputs": [],
   "source": [
    "if PDFCatalog:\n",
    "    viz.make_pdf_catalog(PDFList=pdf_list, FileName=PDFCatName)           "
   ]
  }
 ],
 "metadata": {
  "jupytext": {
   "cell_metadata_filter": "-all",
   "executable": "/usr/bin/env python3",
   "formats": "py,ipynb",
   "main_language": "python"
  }
 },
 "nbformat": 4,
 "nbformat_minor": 5
}
